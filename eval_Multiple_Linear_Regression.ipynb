{
  "nbformat": 4,
  "nbformat_minor": 0,
  "metadata": {
    "kernelspec": {
      "display_name": "Python 3",
      "language": "python",
      "name": "python3"
    },
    "language_info": {
      "codemirror_mode": {
        "name": "ipython",
        "version": 3
      },
      "file_extension": ".py",
      "mimetype": "text/x-python",
      "name": "python",
      "nbconvert_exporter": "python",
      "pygments_lexer": "ipython3",
      "version": "3.7.7"
    },
    "colab": {
      "name": "eval_Multiple Linear Regression.ipynb",
      "provenance": [],
      "collapsed_sections": [],
      "include_colab_link": true
    }
  },
  "cells": [
    {
      "cell_type": "markdown",
      "metadata": {
        "id": "view-in-github",
        "colab_type": "text"
      },
      "source": [
        "<a href=\"https://colab.research.google.com/github/ColdCoffee21/Foundations-of-Data-Science/blob/master/eval_Multiple_Linear_Regression.ipynb\" target=\"_parent\"><img src=\"https://colab.research.google.com/assets/colab-badge.svg\" alt=\"Open In Colab\"/></a>"
      ]
    },
    {
      "cell_type": "markdown",
      "metadata": {
        "id": "CR3zrDYpklgx"
      },
      "source": [
        "## Import all necessary libraries here"
      ]
    },
    {
      "cell_type": "code",
      "metadata": {
        "id": "bqelGC1Eklg2"
      },
      "source": [
        "import numpy as np\n",
        "import pandas as pd\n",
        "from sklearn.linear_model import LinearRegression\n",
        "from sklearn.metrics import mean_squared_error\n",
        "from sklearn.preprocessing import LabelEncoder, OneHotEncoder\n",
        "from sklearn.model_selection import train_test_split\n",
        "import matplotlib as mpl\n",
        "import matplotlib.pyplot as plt\n",
        "%matplotlib inline"
      ],
      "execution_count": null,
      "outputs": []
    },
    {
      "cell_type": "markdown",
      "metadata": {
        "id": "tyefrfP8klhC"
      },
      "source": [
        "## Import given dataset named 'dataset2.csv'\n",
        "https://raw.githubusercontent.com/dhanyahari07/Data_Science/master/dataset2.csv"
      ]
    },
    {
      "cell_type": "code",
      "metadata": {
        "id": "-1SWaJVsklhH",
        "colab": {
          "base_uri": "https://localhost:8080/"
        },
        "outputId": "ab24f0e4-7d3b-4916-c282-5fc0a7027fd5"
      },
      "source": [
        "def read_data():\n",
        "    #Write your code\n",
        "    data = pd.read_csv('https://raw.githubusercontent.com/dhanyahari07/Data_Science/master/dataset2.csv',sep=\",\",header=0)\n",
        "    number_of_rows, number_of_columns = data.shape\n",
        "    return data, number_of_rows, number_of_columns\n",
        "read_data()"
      ],
      "execution_count": null,
      "outputs": [
        {
          "output_type": "execute_result",
          "data": {
            "text/plain": [
              "(    Count  Leverage      Shape    Change           Y\n",
              " 0    92.0       NaN     Circle -3.644812  289.060197\n",
              " 1    15.0      -2.0     Circle -1.424326    0.982643\n",
              " 2    29.0      23.0     Square -3.747134   87.934926\n",
              " 3    59.0      -9.0     Circle  0.544700  109.721169\n",
              " 4    91.0      15.0     Circle  0.000000  268.400000\n",
              " ..    ...       ...        ...       ...         ...\n",
              " 95   11.0      21.0     Square  5.412755   33.605768\n",
              " 96  113.0       7.0     Circle -3.997526  258.306688\n",
              " 97    NaN      38.0     Square -3.867530  423.029298\n",
              " 98   20.0      43.0  Rectangle  1.146885  219.000000\n",
              " 99   19.0       1.0     Circle  0.871632    1.368329\n",
              " \n",
              " [100 rows x 5 columns], 100, 5)"
            ]
          },
          "metadata": {
            "tags": []
          },
          "execution_count": 5
        }
      ]
    },
    {
      "cell_type": "markdown",
      "metadata": {
        "id": "eF33jS3FklhS"
      },
      "source": [
        "## Imputation: Fill missing data using \"median\" strategy"
      ]
    },
    {
      "cell_type": "code",
      "metadata": {
        "id": "HLkq5Hs7klhY",
        "colab": {
          "base_uri": "https://localhost:8080/"
        },
        "outputId": "fb2b64be-e08b-4035-8613-2192f1b0c69d"
      },
      "source": [
        "def impute():\n",
        "    data,n,m = read_data()\n",
        "    # write your code here\n",
        "    number_of_missing_values=(data.isnull().sum()).values.sum()\n",
        "    imputed_data=pd.get_dummies(data,columns=['Shape'])\n",
        "    imputed_data=imputed_data.fillna(data.median())\n",
        "    return imputed_data, number_of_missing_values\n",
        "impute()"
      ],
      "execution_count": null,
      "outputs": [
        {
          "output_type": "execute_result",
          "data": {
            "text/plain": [
              "(    Count  Leverage    Change  ...  Shape_Rectangle  Shape_Square  Shape_Triangle\n",
              " 0    92.0      19.5 -3.644812  ...                0             0               0\n",
              " 1    15.0      -2.0 -1.424326  ...                0             0               0\n",
              " 2    29.0      23.0 -3.747134  ...                0             1               0\n",
              " 3    59.0      -9.0  0.544700  ...                0             0               0\n",
              " 4    91.0      15.0  0.000000  ...                0             0               0\n",
              " ..    ...       ...       ...  ...              ...           ...             ...\n",
              " 95   11.0      21.0  5.412755  ...                0             1               0\n",
              " 96  113.0       7.0 -3.997526  ...                0             0               0\n",
              " 97   79.0      38.0 -3.867530  ...                0             1               0\n",
              " 98   20.0      43.0  1.146885  ...                1             0               0\n",
              " 99   19.0       1.0  0.871632  ...                0             0               0\n",
              " \n",
              " [100 rows x 8 columns], 11)"
            ]
          },
          "metadata": {
            "tags": []
          },
          "execution_count": 21
        }
      ]
    },
    {
      "cell_type": "markdown",
      "metadata": {
        "id": "uIePyAifklhp"
      },
      "source": [
        "## Remove outliers using standard deviation method"
      ]
    },
    {
      "cell_type": "code",
      "metadata": {
        "id": "PJ6cDwxfklhq",
        "colab": {
          "base_uri": "https://localhost:8080/"
        },
        "outputId": "1422c5b7-f52e-41a4-9a43-991653ec6175"
      },
      "source": [
        "def remove_outliers():\n",
        "    imputed_data,_ = impute()\n",
        "    mean_change = imputed_data['Change'].mean()\n",
        "    std_change = imputed_data['Change'].std()\n",
        "    lower = mean_change - 2 * std_change\n",
        "    upper = mean_change + 2 * std_change\n",
        "    cleaned_data = imputed_data[(imputed_data['Change'] > lower) & (imputed_data['Change'] < upper)]\n",
        "    number_of_rows_after_removal = cleaned_data.shape[0]\n",
        "    return cleaned_data, number_of_rows_after_removal\n",
        "remove_outliers()"
      ],
      "execution_count": null,
      "outputs": [
        {
          "output_type": "execute_result",
          "data": {
            "text/plain": [
              "(    Count  Leverage    Change  ...  Shape_Rectangle  Shape_Square  Shape_Triangle\n",
              " 0    92.0      19.5 -3.644812  ...                0             0               0\n",
              " 1    15.0      -2.0 -1.424326  ...                0             0               0\n",
              " 2    29.0      23.0 -3.747134  ...                0             1               0\n",
              " 3    59.0      -9.0  0.544700  ...                0             0               0\n",
              " 4    91.0      15.0  0.000000  ...                0             0               0\n",
              " ..    ...       ...       ...  ...              ...           ...             ...\n",
              " 95   11.0      21.0  5.412755  ...                0             1               0\n",
              " 96  113.0       7.0 -3.997526  ...                0             0               0\n",
              " 97   79.0      38.0 -3.867530  ...                0             1               0\n",
              " 98   20.0      43.0  1.146885  ...                1             0               0\n",
              " 99   19.0       1.0  0.871632  ...                0             0               0\n",
              " \n",
              " [94 rows x 8 columns], 94)"
            ]
          },
          "metadata": {
            "tags": []
          },
          "execution_count": 23
        }
      ]
    },
    {
      "cell_type": "markdown",
      "metadata": {
        "id": "_k95aVl4klh1"
      },
      "source": [
        "## Split dataset into variable components"
      ]
    },
    {
      "cell_type": "code",
      "metadata": {
        "id": "dtVu3CHkklh3",
        "colab": {
          "base_uri": "https://localhost:8080/"
        },
        "outputId": "9e5afd68-ea8c-48f2-d129-af1452e22718"
      },
      "source": [
        "def test_train_split():\n",
        "    data,_ = remove_outliers()\n",
        "    X = data.drop(['Change'], axis=1)\n",
        "    Y = data['Change'].values\n",
        "    # write your code here\n",
        "    return X, Y\n",
        "test_train_split()"
      ],
      "execution_count": null,
      "outputs": [
        {
          "output_type": "execute_result",
          "data": {
            "text/plain": [
              "(    Count  Leverage           Y  ...  Shape_Rectangle  Shape_Square  Shape_Triangle\n",
              " 0    92.0      19.5  289.060197  ...                0             0               0\n",
              " 1    15.0      -2.0    0.982643  ...                0             0               0\n",
              " 2    29.0      23.0   87.934926  ...                0             1               0\n",
              " 3    59.0      -9.0  109.721169  ...                0             0               0\n",
              " 4    91.0      15.0  268.400000  ...                0             0               0\n",
              " ..    ...       ...         ...  ...              ...           ...             ...\n",
              " 95   11.0      21.0   33.605768  ...                0             1               0\n",
              " 96  113.0       7.0  258.306688  ...                0             0               0\n",
              " 97   79.0      38.0  423.029298  ...                0             1               0\n",
              " 98   20.0      43.0  219.000000  ...                1             0               0\n",
              " 99   19.0       1.0    1.368329  ...                0             0               0\n",
              " \n",
              " [94 rows x 7 columns],\n",
              " array([-3.64481238, -1.42432593, -3.74713383,  0.54470027,  0.        ,\n",
              "         0.66731328,  1.21385616, -3.77192835, -1.22386078,  0.6378323 ,\n",
              "         2.20150128,  0.84294723,  2.07693651,  0.19961572, -7.33548924,\n",
              "        -2.95292308, -2.50392926,  1.84909167,  0.24911549,  0.24911549,\n",
              "        -4.57347684,  3.30450632, -4.69548834,  4.86686531, -2.78878227,\n",
              "         0.66793931, -0.30103477,  0.7247108 ,  0.9427831 ,  2.68431922,\n",
              "        -6.19993628, -4.91123787, -0.8758152 ,  6.60756814,  0.29861526,\n",
              "         3.55680723,  0.79825583, -0.63563417, -1.35085241, -0.68839269,\n",
              "         3.43673345, -1.67861027,  0.7852018 , -3.44690366,  0.24911549,\n",
              "         6.36908804,  4.75095978, -4.60225916,  0.        ,  1.89956502,\n",
              "         0.78184567, -0.06932769, -5.60243225,  3.2585134 ,  0.5464674 ,\n",
              "        -0.96221541, -2.55586914, -2.87045128,  2.8349371 , -2.80705487,\n",
              "         4.56796804, -0.95526133,  5.2809552 ,  0.69134871,  0.36667488,\n",
              "        -0.51999007, -0.32679895,  1.2890722 , -2.98117922,  0.24911549,\n",
              "        -6.57016132,  1.55208142,  7.20156735,  5.50034485,  5.24593369,\n",
              "         2.37354931,  2.30176739,  2.75002574,  3.74009857, -4.43229808,\n",
              "        -1.02460974, -4.0619702 , -5.69061346,  0.        ,  0.84849465,\n",
              "        -5.80321018, -0.34734685, -0.87760151,  0.        ,  5.41275502,\n",
              "        -3.99752576, -3.86753032,  1.14688461,  0.87163199]))"
            ]
          },
          "metadata": {
            "tags": []
          },
          "execution_count": 25
        }
      ]
    },
    {
      "cell_type": "markdown",
      "metadata": {
        "id": "jNO1Q12TkliB"
      },
      "source": [
        "## Split the dataset into test and train parts, use 33% for testing"
      ]
    },
    {
      "cell_type": "code",
      "metadata": {
        "id": "1g7K5pjgkliC",
        "colab": {
          "base_uri": "https://localhost:8080/"
        },
        "outputId": "1f09bc8d-fe40-4ca8-952e-8efdc311805f"
      },
      "source": [
        "def X_Y_split():\n",
        "    # write your code here\n",
        "    X,Y = test_train_split()\n",
        "    X_train, X_test, y_train, y_test = train_test_split(X,Y, test_size=0.33,random_state=0)\n",
        "    return X_train, X_test, y_train, y_test\n",
        "X_Y_split()"
      ],
      "execution_count": null,
      "outputs": [
        {
          "output_type": "execute_result",
          "data": {
            "text/plain": [
              "(    Count  Leverage           Y  ...  Shape_Rectangle  Shape_Square  Shape_Triangle\n",
              " 72  118.0       1.0  325.000000  ...                1             0               0\n",
              " 90   16.0       1.0 -148.000000  ...                1             0               0\n",
              " 31   36.0      30.0   33.754251  ...                0             0               0\n",
              " 20  148.0      47.0  147.242173  ...                0             1               0\n",
              " 60    1.0      -1.0   33.868785  ...                0             0               1\n",
              " ..    ...       ...         ...  ...              ...           ...             ...\n",
              " 96  113.0       7.0  258.306688  ...                0             0               0\n",
              " 73   27.0       1.0   27.873716  ...                0             1               0\n",
              " 70  106.0      44.0  213.983471  ...                0             0               0\n",
              " 52    7.0      12.0    4.837178  ...                0             1               0\n",
              " 49  139.0      20.0  280.787171  ...                0             0               1\n",
              " \n",
              " [62 rows x 7 columns],\n",
              "     Count  Leverage           Y  ...  Shape_Rectangle  Shape_Square  Shape_Triangle\n",
              " 2    29.0      23.0   87.934926  ...                0             1               0\n",
              " 35   74.0      14.0  374.000000  ...                1             0               0\n",
              " 62   12.0      16.0   10.661126  ...                0             1               0\n",
              " 17  114.0     -10.0  120.877838  ...                0             1               0\n",
              " 14    6.0      23.0  120.000000  ...                1             0               0\n",
              " 67   54.0      18.0   58.517523  ...                0             1               0\n",
              " 68  104.0      19.0  100.828790  ...                0             0               0\n",
              " 85   83.0      41.0  249.082040  ...                0             0               1\n",
              " 38   70.0      36.0  139.131610  ...                0             0               1\n",
              " 84  103.0      36.0  310.534974  ...                0             0               0\n",
              " 82  108.0      23.0  108.434752  ...                0             1               0\n",
              " 7   145.0      39.0  144.460657  ...                0             0               0\n",
              " 57   51.0      46.0  100.149385  ...                0             0               0\n",
              " 95   11.0      21.0   33.605768  ...                0             1               0\n",
              " 99   19.0       1.0    1.368329  ...                0             0               0\n",
              " 66  127.0       9.0  369.000000  ...                1             0               0\n",
              " 8    93.0      42.0  185.141655  ...                0             0               0\n",
              " 25   74.0      23.0  447.000000  ...                1             0               0\n",
              " 79   51.0     -10.0  135.443099  ...                0             1               0\n",
              " 50   79.0      37.0   13.000000  ...                1             0               0\n",
              " 30   82.0      34.0  246.949584  ...                0             1               0\n",
              " 48  104.0       4.0  284.879951  ...                0             1               0\n",
              " 28   84.0      12.0  250.480114  ...                0             1               0\n",
              " 6   147.0      23.0  109.000000  ...                1             0               0\n",
              " 47    9.0      10.0   93.000000  ...                1             0               0\n",
              " 53  140.0      48.0  421.791667  ...                0             0               0\n",
              " 80    8.0      -7.0    5.186572  ...                0             0               0\n",
              " 88  143.0      -2.0  149.631461  ...                0             0               0\n",
              " 83  100.0      42.0  461.000000  ...                1             0               0\n",
              " 93  103.0       1.0  717.501770  ...                0             0               1\n",
              " 92   80.0      21.0   76.997964  ...                0             0               0\n",
              " 3    59.0      -9.0  109.721169  ...                0             0               0\n",
              " \n",
              " [32 rows x 7 columns],\n",
              " array([-0.32679895,  0.84849465,  0.7247108 ,  0.24911549,  0.5464674 ,\n",
              "        -0.96221541, -4.0619702 ,  0.69134871, -2.80705487, -1.67861027,\n",
              "         0.        , -2.95292308,  1.84909167,  3.43673345, -1.35085241,\n",
              "         0.66731328, -5.80321018,  3.2585134 , -3.64481238,  0.29861526,\n",
              "         0.9427831 ,  0.78184567,  0.84294723,  3.55680723,  4.86686531,\n",
              "        -5.60243225,  2.20150128, -4.91123787,  1.55208142, -2.87045128,\n",
              "         2.37354931, -1.42432593, -0.8758152 , -1.02460974, -7.33548924,\n",
              "        -2.98117922,  0.24911549,  2.68431922,  1.89956502, -3.86753032,\n",
              "         1.14688461,  0.24911549, -4.57347684,  0.        ,  7.20156735,\n",
              "         0.66793931, -0.63563417,  4.75095978, -0.68839269, -0.51999007,\n",
              "         2.8349371 ,  2.07693651, -6.57016132,  0.79825583,  3.30450632,\n",
              "         0.        ,  0.6378323 , -3.99752576,  1.2890722 ,  0.36667488,\n",
              "        -4.60225916,  0.24911549]),\n",
              " array([-3.74713383, -6.19993628, -2.55586914, -2.50392926,  0.19961572,\n",
              "        -0.95526133,  5.2809552 , -4.43229808,  6.60756814,  3.74009857,\n",
              "         2.30176739, -3.77192835, -0.06932769,  5.41275502,  0.87163199,\n",
              "         4.56796804, -1.22386078, -4.69548834,  5.50034485,  6.36908804,\n",
              "        -0.30103477, -3.44690366, -2.78878227,  1.21385616,  0.7852018 ,\n",
              "         0.        ,  5.24593369, -5.69061346,  2.75002574, -0.87760151,\n",
              "        -0.34734685,  0.54470027]))"
            ]
          },
          "metadata": {
            "tags": []
          },
          "execution_count": 30
        }
      ]
    },
    {
      "cell_type": "markdown",
      "metadata": {
        "id": "GgmNoeq9kliN"
      },
      "source": [
        "## Create and train the model"
      ]
    },
    {
      "cell_type": "code",
      "metadata": {
        "id": "7zbgcTCEkliQ",
        "colab": {
          "base_uri": "https://localhost:8080/"
        },
        "outputId": "f4291531-c0ce-4d55-80b4-d9617f4c313c"
      },
      "source": [
        "def fit():\n",
        "    X_train,_,y_train,_ = X_Y_split()\n",
        "    # write your code here\n",
        "    regressor = LinearRegression()\n",
        "    regressor.fit(X_train,y_train)\n",
        "    return regressor\n",
        "fit()"
      ],
      "execution_count": null,
      "outputs": [
        {
          "output_type": "execute_result",
          "data": {
            "text/plain": [
              "LinearRegression(copy_X=True, fit_intercept=True, n_jobs=None, normalize=False)"
            ]
          },
          "metadata": {
            "tags": []
          },
          "execution_count": 31
        }
      ]
    },
    {
      "cell_type": "markdown",
      "metadata": {
        "id": "E5Ke1MaQklib"
      },
      "source": [
        "## Compute the RMSE error value using the predictions on the X_test data"
      ]
    },
    {
      "cell_type": "code",
      "metadata": {
        "id": "k5F_H0otklic",
        "colab": {
          "base_uri": "https://localhost:8080/"
        },
        "outputId": "ec61b858-2ba7-46b4-d90c-82a648cc300d"
      },
      "source": [
        "def error_values():\n",
        "    regressor = fit()\n",
        "    _,X_test,_,y_test = X_Y_split()\n",
        "    # write your code here\n",
        "    y_pred = regressor.predict(X_test)\n",
        "    mse = mean_squared_error(y_test, y_pred)\n",
        "    rmse = round(np.sqrt(mse),3)\n",
        "    return rmse\n",
        "error_values()"
      ],
      "execution_count": null,
      "outputs": [
        {
          "output_type": "execute_result",
          "data": {
            "text/plain": [
              "3.677"
            ]
          },
          "metadata": {
            "tags": []
          },
          "execution_count": 32
        }
      ]
    },
    {
      "cell_type": "code",
      "metadata": {
        "id": "IcvtVEAPklil"
      },
      "source": [
        ""
      ],
      "execution_count": null,
      "outputs": []
    }
  ]
}