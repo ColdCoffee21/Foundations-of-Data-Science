{
  "nbformat": 4,
  "nbformat_minor": 0,
  "metadata": {
    "kernelspec": {
      "display_name": "Python 3",
      "language": "python",
      "name": "python3"
    },
    "language_info": {
      "codemirror_mode": {
        "name": "ipython",
        "version": 3
      },
      "file_extension": ".py",
      "mimetype": "text/x-python",
      "name": "python",
      "nbconvert_exporter": "python",
      "pygments_lexer": "ipython3",
      "version": "3.7.7"
    },
    "colab": {
      "name": "eval_Simple Linear Regression.ipynb",
      "provenance": [],
      "include_colab_link": true
    }
  },
  "cells": [
    {
      "cell_type": "markdown",
      "metadata": {
        "id": "view-in-github",
        "colab_type": "text"
      },
      "source": [
        "<a href=\"https://colab.research.google.com/github/ColdCoffee21/Foundations-of-Data-Science/blob/master/eval_Simple_Linear_Regression.ipynb\" target=\"_parent\"><img src=\"https://colab.research.google.com/assets/colab-badge.svg\" alt=\"Open In Colab\"/></a>"
      ]
    },
    {
      "cell_type": "markdown",
      "metadata": {
        "id": "tePuQX-rlzko"
      },
      "source": [
        "# Import packages"
      ]
    },
    {
      "cell_type": "code",
      "metadata": {
        "id": "sE6jR0q7lzkr"
      },
      "source": [
        "import numpy as np\n",
        "import pandas as pd\n",
        "from sklearn.linear_model import LinearRegression\n",
        "from sklearn.metrics import mean_squared_error\n",
        "import matplotlib as mpl\n",
        "import matplotlib.pyplot as plt\n",
        "%matplotlib inline"
      ],
      "execution_count": null,
      "outputs": []
    },
    {
      "cell_type": "markdown",
      "metadata": {
        "id": "d4WgzEn8lzkz"
      },
      "source": [
        "## Import given dataset named 'dataset1.csv'"
      ]
    },
    {
      "cell_type": "code",
      "metadata": {
        "id": "BiQMK3Kzlzk0"
      },
      "source": [
        "# https://raw.githubusercontent.com/dhanyahari07/Data_Science/master/dataset1.csv"
      ],
      "execution_count": null,
      "outputs": []
    },
    {
      "cell_type": "code",
      "metadata": {
        "id": "go4liQjDlzk7",
        "colab": {
          "base_uri": "https://localhost:8080/"
        },
        "outputId": "2c5ab79b-9fd1-4196-9539-6e2beade4458"
      },
      "source": [
        "def read_data():\n",
        "    # Write your code here\n",
        "    data = pd.read_csv('https://raw.githubusercontent.com/dhanyahari07/Data_Science/master/dataset1.csv',sep=\",\",encoding =\"utf-16\")\n",
        "    number_of_rows= data.shape[0]\n",
        "    number_of_columns = data.shape[1]\n",
        "    return data, number_of_rows, number_of_columns\n",
        "read_data()"
      ],
      "execution_count": null,
      "outputs": [
        {
          "output_type": "execute_result",
          "data": {
            "text/plain": [
              "(      X    Y\n",
              " 0    17   78\n",
              " 1    76  104\n",
              " 2    81  179\n",
              " 3   100  243\n",
              " 4    37   24\n",
              " ..  ...  ...\n",
              " 95   91  131\n",
              " 96   85  160\n",
              " 97    5   -9\n",
              " 98   38   84\n",
              " 99   98  147\n",
              " \n",
              " [100 rows x 2 columns], 100, 2)"
            ]
          },
          "metadata": {
            "tags": []
          },
          "execution_count": 36
        }
      ]
    },
    {
      "cell_type": "markdown",
      "metadata": {
        "id": "Q30__7kElzlA"
      },
      "source": [
        "## Split dataset into variable components"
      ]
    },
    {
      "cell_type": "code",
      "metadata": {
        "id": "zpM43BkslzlB",
        "colab": {
          "base_uri": "https://localhost:8080/"
        },
        "outputId": "5be11d9c-12d3-4d87-f62f-0fd5d5bf8ed7"
      },
      "source": [
        "def X_Y_split():\n",
        "    data,number_of_rows,number_of_columns = read_data()\n",
        "    X = data['X'].values\n",
        "    Y = data['Y'].values\n",
        "    return X, Y\n",
        "X_Y_split()"
      ],
      "execution_count": null,
      "outputs": [
        {
          "output_type": "execute_result",
          "data": {
            "text/plain": [
              "(array([ 17,  76,  81, 100,  37,   3,  59,  76,  25,   9,  32,  34,  66,\n",
              "         70,  86,  70,  43,  19,  26,  31,  34,  21,  66,  61,  30,  13,\n",
              "         45,  24,  30,  56,  24,  17,  17,  91,   5,  90,  65,  26,  71,\n",
              "         12,  26,  22,  62,  73, 100,  34,  68,  67,   3,  92,  43,  54,\n",
              "         78,  74,  80,  65,  75,  30,  22,  31,  74,  74,  48,  96,  51,\n",
              "         11,   1,  75,   1,  38,   1,  26,  99,  53,  15,  90,  39,  81,\n",
              "         10,  83,   3,  69,  50,  94,  33,  70,  49,  30,  84,  17,   4,\n",
              "          3,  82,  56,  85,  91,  85,   5,  38,  98]),\n",
              " array([ 78, 104, 179, 243,  24,  58,  59, 171,  98,  47,  54,  21, 185,\n",
              "        187, 228, 116, 103,  10,  83, 119,  86,  52, 117,  64,  37,  84,\n",
              "         58,  88, 114, 100,  -5,  82,  43, 187,   3, 168, 177,  89, 194,\n",
              "        -11,  -1,  82,  71,  88, 224, 113, 185,  99,  25, 175,  90, 159,\n",
              "        131, 124, 202, 124, 155,  72,  38,  95, 125, 193, 102, 196, 161,\n",
              "         68,  57, 206, -26, 123, -21,  41, 206, 158,  12, 137,  29, 140,\n",
              "          3, 181,  59, 156,  73, 163,  33, 144,  44,  64, 220,  39, -13,\n",
              "         48, 113, 102, 116, 131, 160,  -9,  84, 147]))"
            ]
          },
          "metadata": {
            "tags": []
          },
          "execution_count": 13
        }
      ]
    },
    {
      "cell_type": "markdown",
      "metadata": {
        "id": "3ZIwF4K7lzlG"
      },
      "source": [
        "## Calculate coefficients"
      ]
    },
    {
      "cell_type": "code",
      "metadata": {
        "id": "3X9_ako9lzlG",
        "colab": {
          "base_uri": "https://localhost:8080/"
        },
        "outputId": "cb6ebdcd-786c-4630-89f3-28c94f093636"
      },
      "source": [
        "def coefficients():\n",
        "    X, Y = X_Y_split()\n",
        "    mean_x = np.mean(X)\n",
        "    mean_y = np.mean(Y)\n",
        "    n = len(X)\n",
        "\n",
        "    numer = 0\n",
        "    denom  = 0\n",
        "    for i in range(n):\n",
        "      numer+=(X[i]-mean_x) *(Y[i]-mean_y)\n",
        "      denom+=(X[i]-mean_x) **2 \n",
        "    b1 = numer/denom\n",
        "    b0 = mean_y-(b1 * mean_x)\n",
        "    #write your coe here\n",
        "    # Return coefficients\n",
        "    return round(b1,3), round(b0,3)\n",
        "coefficients()"
      ],
      "execution_count": null,
      "outputs": [
        {
          "output_type": "execute_result",
          "data": {
            "text/plain": [
              "(1.819, 12.509)"
            ]
          },
          "metadata": {
            "tags": []
          },
          "execution_count": 21
        }
      ]
    },
    {
      "cell_type": "markdown",
      "metadata": {
        "id": "KdtH4_DUlzlN"
      },
      "source": [
        "## Plot the values along with the regression line"
      ]
    },
    {
      "cell_type": "code",
      "metadata": {
        "id": "zMVxXmZDlzlO",
        "colab": {
          "base_uri": "https://localhost:8080/",
          "height": 282
        },
        "outputId": "7ab0276b-8fec-40d5-b63a-6418ddcbd178"
      },
      "source": [
        "def plot():\n",
        "    # Write your code here\n",
        "    X, Y = X_Y_split()\n",
        "    b1,b0 = coefficients()\n",
        "    \n",
        "    # Calculating line values x and y\n",
        "    max_x = np.max(X) + 100\n",
        "    min_x = np.min(X) - 100\n",
        "    x = np.linspace(min_x, max_x, 1000) # Returns number spaces evenly w.r.t interval\n",
        "    y = b0 + b1 * x\n",
        "\n",
        "    # Ploting Line\n",
        "    plt.plot(x, y, color='b', label='Regression Line')\n",
        "\n",
        "    # Ploting Scatter Points\n",
        "    plt.scatter(X, Y, c='r', label='Scatter Plot')\n",
        "    plt.xlabel('X')\n",
        "    plt.ylabel('Y',rotation=0)\n",
        "    plt.legend();\n",
        "    plt.show()\n",
        "plot()"
      ],
      "execution_count": null,
      "outputs": [
        {
          "output_type": "display_data",
          "data": {
            "image/png": "[encoded data removed]",
            "text/plain": [
              "<Figure size 432x288 with 1 Axes>"
            ]
          },
          "metadata": {
            "tags": [],
            "needs_background": "light"
          }
        }
      ]
    },
    {
      "cell_type": "markdown",
      "metadata": {
        "id": "pd1WGTy8lzlU"
      },
      "source": [
        "## Compute the RMSE value"
      ]
    },
    {
      "cell_type": "code",
      "metadata": {
        "id": "ds1mIN4QlzlW",
        "colab": {
          "base_uri": "https://localhost:8080/"
        },
        "outputId": "c2a06ccf-68b6-44b4-fa26-dc656884f67b"
      },
      "source": [
        "def rmse():\n",
        "    data,n,m = read_data()\n",
        "    b1, b0 = coefficients()\n",
        "    X, Y = X_Y_split()\n",
        "    y_pred=b0+b1*X\n",
        "    rmse=np.sum(np.square(y_pred-Y))\n",
        "    rmse=np.sqrt((rmse/n))\n",
        "    # Write your code here\n",
        "    return round(rmse,3)\n",
        "rmse()"
      ],
      "execution_count": null,
      "outputs": [
        {
          "output_type": "execute_result",
          "data": {
            "text/plain": [
              "36.342"
            ]
          },
          "metadata": {
            "tags": []
          },
          "execution_count": 28
        }
      ]
    },
    {
      "cell_type": "markdown",
      "metadata": {
        "id": "XYeortJ2lzlc"
      },
      "source": [
        "## Compute the R^2 score"
      ]
    },
    {
      "cell_type": "code",
      "metadata": {
        "id": "dJ1dak93lzld",
        "colab": {
          "base_uri": "https://localhost:8080/"
        },
        "outputId": "d608d6d4-d7f8-4d75-a3f1-f31ecc2ea0fa"
      },
      "source": [
        "def r2():\n",
        "    _,n,_ = read_data()\n",
        "    b1, b0 = coefficients()\n",
        "    X, Y = X_Y_split()\n",
        "    # write your code here\n",
        "    mean_x = np.mean(X)\n",
        "    mean_y = np.mean(Y)\n",
        "    ss_tot = 0\n",
        "    ss_res = 0\n",
        "    for i in range(n):\n",
        "      y_pred = b0 + b1* X[i]\n",
        "      ss_tot += (Y[i]- mean_y) **2\n",
        "      ss_res += (Y[i]- y_pred) **2\n",
        "    r2 = 1 - (ss_res/ss_tot)\n",
        "    return round(r2,3)\n",
        "r2()"
      ],
      "execution_count": null,
      "outputs": [
        {
          "output_type": "execute_result",
          "data": {
            "text/plain": [
              "0.69"
            ]
          },
          "metadata": {
            "tags": []
          },
          "execution_count": 30
        }
      ]
    },
    {
      "cell_type": "markdown",
      "metadata": {
        "id": "cCL-comKlzli"
      },
      "source": [
        "## Compare with values computed using sklearn"
      ]
    },
    {
      "cell_type": "code",
      "metadata": {
        "id": "qCFagms4lzlk",
        "colab": {
          "base_uri": "https://localhost:8080/"
        },
        "outputId": "c04fcc0b-f128-4ecf-e2a1-fbe821de6429"
      },
      "source": [
        "def compare_rmse():\n",
        "    _,n,_ = read_data()\n",
        "    X, Y = X_Y_split()\n",
        "    old_rmse = rmse()\n",
        "    old_r2 = r2()\n",
        "\n",
        "    # Write your code here\n",
        "    X = X.reshape((n,1))\n",
        "    reg = LinearRegression()\n",
        "    reg = reg.fit(X,Y)\n",
        "    Y_pred = reg.predict(X)\n",
        "    mse = mean_squared_error(Y,Y_pred)\n",
        "    s_rmse = np.sqrt(mse)\n",
        "    s_r2 = reg.score(X,Y)\n",
        "    return round(abs(old_rmse-s_rmse),3), round(abs(old_r2-s_r2),3)\n",
        "compare_rmse()"
      ],
      "execution_count": null,
      "outputs": [
        {
          "output_type": "execute_result",
          "data": {
            "text/plain": [
              "(0.0, 0.0)"
            ]
          },
          "metadata": {
            "tags": []
          },
          "execution_count": 34
        }
      ]
    },
    {
      "cell_type": "code",
      "metadata": {
        "id": "ZRnn5vhtlzlp"
      },
      "source": [
        ""
      ],
      "execution_count": null,
      "outputs": []
    }
  ]
}