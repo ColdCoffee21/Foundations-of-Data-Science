{
  "nbformat": 4,
  "nbformat_minor": 0,
  "metadata": {
    "kernelspec": {
      "display_name": "Python 3",
      "language": "python",
      "name": "python3"
    },
    "language_info": {
      "codemirror_mode": {
        "name": "ipython",
        "version": 3
      },
      "file_extension": ".py",
      "mimetype": "text/x-python",
      "name": "python",
      "nbconvert_exporter": "python",
      "pygments_lexer": "ipython3",
      "version": "3.8.5"
    },
    "colab": {
      "name": "Assign_Machine learning.ipynb",
      "provenance": [],
      "include_colab_link": true
    }
  },
  "cells": [
    {
      "cell_type": "markdown",
      "metadata": {
        "id": "view-in-github",
        "colab_type": "text"
      },
      "source": [
        "<a href=\"https://colab.research.google.com/github/ColdCoffee21/Foundations-of-Data-Science/blob/master/Assign_Machine_learning.ipynb\" target=\"_parent\"><img src=\"https://colab.research.google.com/assets/colab-badge.svg\" alt=\"Open In Colab\"/></a>"
      ]
    },
    {
      "cell_type": "code",
      "metadata": {
        "id": "_IK4Me-RAu-Q"
      },
      "source": [
        "import pandas as pd\n",
        "import numpy as np\n",
        "from scipy.stats import mode\n",
        "from sklearn.linear_model import LinearRegression\n",
        "from sklearn.metrics import mean_squared_error\n",
        "from sklearn.preprocessing import LabelEncoder, OneHotEncoder\n",
        "from sklearn.model_selection import train_test_split\n",
        "import seaborn as sns\n",
        "from matplotlib import pyplot as plt"
      ],
      "execution_count": null,
      "outputs": []
    },
    {
      "cell_type": "code",
      "metadata": {
        "colab": {
          "base_uri": "https://localhost:8080/"
        },
        "id": "XjprHlbhJE4w",
        "outputId": "25d18dc5-ae3a-407d-b5e8-17ed97b99396"
      },
      "source": [
        "from google.colab import drive\n",
        "drive.mount('/content/drive')"
      ],
      "execution_count": null,
      "outputs": [
        {
          "output_type": "stream",
          "text": [
            "Mounted at /content/drive\n"
          ],
          "name": "stdout"
        }
      ]
    },
    {
      "cell_type": "code",
      "metadata": {
        "id": "GZ9iE_KsAu-T"
      },
      "source": [
        "d = pd.read_csv('/content/drive/My Drive/Data Science/train.csv')"
      ],
      "execution_count": null,
      "outputs": []
    },
    {
      "cell_type": "code",
      "metadata": {
        "id": "OrXAzr-NAu-T"
      },
      "source": [
        "a=d.copy()\n"
      ],
      "execution_count": null,
      "outputs": []
    },
    {
      "cell_type": "code",
      "metadata": {
        "id": "uCiuK7dWAu-T"
      },
      "source": [
        "a['charges_2 (%)']=a['charges_2 (%)'].fillna(a.groupby(['Product_Category','Grade'])['charges_2 (%)'].transform('mean'))"
      ],
      "execution_count": null,
      "outputs": []
    },
    {
      "cell_type": "code",
      "metadata": {
        "id": "1ueiMYHJAu-T"
      },
      "source": [
        "a['charges_1']=a['charges_1'].fillna(a.groupby(['Product_Category','Grade'])['charges_1'].transform('mean'))"
      ],
      "execution_count": null,
      "outputs": []
    },
    {
      "cell_type": "code",
      "metadata": {
        "id": "3tQjnasdAu-T"
      },
      "source": [
        "a['Discount_avail']=a['Discount_avail'].fillna(0)\n",
        "a['Minimum_price'] = a['Minimum_price'].fillna(a['Minimum_price'].mean())\n",
        "a['Maximum_price'] = a['Maximum_price'].fillna(a['Maximum_price'].mean())\n",
        "a['Selling_Price'] = a['Selling_Price'].fillna(a['Selling_Price'].mean())"
      ],
      "execution_count": null,
      "outputs": []
    },
    {
      "cell_type": "code",
      "metadata": {
        "colab": {
          "base_uri": "https://localhost:8080/",
          "height": 79
        },
        "id": "rCqbgmLzAu-U",
        "outputId": "f19d3b61-067e-4630-ed78-7ce3e9428a8d"
      },
      "source": [
        "common= a.pivot_table(values='Stall_no', columns=['Product_Category'],aggfunc=(lambda x:mode(x)[0]) )\n",
        "common"
      ],
      "execution_count": null,
      "outputs": [
        {
          "output_type": "execute_result",
          "data": {
            "text/html": [
              "<div>\n",
              "<style scoped>\n",
              "    .dataframe tbody tr th:only-of-type {\n",
              "        vertical-align: middle;\n",
              "    }\n",
              "\n",
              "    .dataframe tbody tr th {\n",
              "        vertical-align: top;\n",
              "    }\n",
              "\n",
              "    .dataframe thead th {\n",
              "        text-align: right;\n",
              "    }\n",
              "</style>\n",
              "<table border=\"1\" class=\"dataframe\">\n",
              "  <thead>\n",
              "    <tr style=\"text-align: right;\">\n",
              "      <th>Product_Category</th>\n",
              "      <th>Child_care</th>\n",
              "      <th>Cosmetics</th>\n",
              "      <th>Educational</th>\n",
              "      <th>Fashion</th>\n",
              "      <th>Home_decor</th>\n",
              "      <th>Hospitality</th>\n",
              "      <th>Organic</th>\n",
              "      <th>Pet_care</th>\n",
              "      <th>Repair</th>\n",
              "      <th>Technology</th>\n",
              "    </tr>\n",
              "  </thead>\n",
              "  <tbody>\n",
              "    <tr>\n",
              "      <th>Stall_no</th>\n",
              "      <td>50.0</td>\n",
              "      <td>24.0</td>\n",
              "      <td>9.0</td>\n",
              "      <td>12.0</td>\n",
              "      <td>48.0</td>\n",
              "      <td>32.0</td>\n",
              "      <td>11.0</td>\n",
              "      <td>37.0</td>\n",
              "      <td>20.0</td>\n",
              "      <td>2.0</td>\n",
              "    </tr>\n",
              "  </tbody>\n",
              "</table>\n",
              "</div>"
            ],
            "text/plain": [
              "Product_Category  Child_care  Cosmetics  ...  Repair  Technology\n",
              "Stall_no                50.0       24.0  ...    20.0         2.0\n",
              "\n",
              "[1 rows x 10 columns]"
            ]
          },
          "metadata": {
            "tags": []
          },
          "execution_count": 10
        }
      ]
    },
    {
      "cell_type": "code",
      "metadata": {
        "id": "3FFsRhKnAu-Z"
      },
      "source": [
        "temp= a['Stall_no'].isnull()\n",
        "a.loc[temp,'Stall_no'] = a.loc[temp,'Product_Category'].apply(lambda x: common[x])"
      ],
      "execution_count": null,
      "outputs": []
    },
    {
      "cell_type": "code",
      "metadata": {
        "colab": {
          "base_uri": "https://localhost:8080/"
        },
        "id": "zmmdSQw3Au-Z",
        "outputId": "e93698b2-13d0-4daf-bd90-39afe3d7aca8"
      },
      "source": [
        "a.isnull().sum()"
      ],
      "execution_count": null,
      "outputs": [
        {
          "output_type": "execute_result",
          "data": {
            "text/plain": [
              "Product_id            0\n",
              "Stall_no              0\n",
              "instock_date          0\n",
              "Market_Category       0\n",
              "Customer_name       159\n",
              "Loyalty_customer      0\n",
              "Product_Category      0\n",
              "Grade                 0\n",
              "Demand                0\n",
              "Discount_avail        0\n",
              "charges_1             0\n",
              "charges_2 (%)         0\n",
              "Minimum_price         0\n",
              "Maximum_price         0\n",
              "Selling_Price         0\n",
              "dtype: int64"
            ]
          },
          "metadata": {
            "tags": []
          },
          "execution_count": 12
        }
      ]
    },
    {
      "cell_type": "code",
      "metadata": {
        "id": "HL3KptsvAu-a"
      },
      "source": [
        "data_train=a.copy()"
      ],
      "execution_count": null,
      "outputs": []
    },
    {
      "cell_type": "code",
      "metadata": {
        "colab": {
          "base_uri": "https://localhost:8080/",
          "height": 481
        },
        "id": "MC6NHTGSAu-a",
        "outputId": "cf21a1ad-d5dc-4458-fa2a-696f78c18716"
      },
      "source": [
        "labelencoder=LabelEncoder()\n",
        "data_train[['Loyalty_customer']] = labelencoder.fit_transform(data_train[['Loyalty_customer']])\n",
        "data_train[['Product_Category']]=labelencoder.fit_transform(data_train[['Product_Category']])\n",
        "data_train"
      ],
      "execution_count": null,
      "outputs": [
        {
          "output_type": "stream",
          "text": [
            "/usr/local/lib/python3.6/dist-packages/sklearn/preprocessing/_label.py:251: DataConversionWarning: A column-vector y was passed when a 1d array was expected. Please change the shape of y to (n_samples, ), for example using ravel().\n",
            "  y = column_or_1d(y, warn=True)\n"
          ],
          "name": "stderr"
        },
        {
          "output_type": "execute_result",
          "data": {
            "text/html": [
              "<div>\n",
              "<style scoped>\n",
              "    .dataframe tbody tr th:only-of-type {\n",
              "        vertical-align: middle;\n",
              "    }\n",
              "\n",
              "    .dataframe tbody tr th {\n",
              "        vertical-align: top;\n",
              "    }\n",
              "\n",
              "    .dataframe thead th {\n",
              "        text-align: right;\n",
              "    }\n",
              "</style>\n",
              "<table border=\"1\" class=\"dataframe\">\n",
              "  <thead>\n",
              "    <tr style=\"text-align: right;\">\n",
              "      <th></th>\n",
              "      <th>Product_id</th>\n",
              "      <th>Stall_no</th>\n",
              "      <th>instock_date</th>\n",
              "      <th>Market_Category</th>\n",
              "      <th>Customer_name</th>\n",
              "      <th>Loyalty_customer</th>\n",
              "      <th>Product_Category</th>\n",
              "      <th>Grade</th>\n",
              "      <th>Demand</th>\n",
              "      <th>Discount_avail</th>\n",
              "      <th>charges_1</th>\n",
              "      <th>charges_2 (%)</th>\n",
              "      <th>Minimum_price</th>\n",
              "      <th>Maximum_price</th>\n",
              "      <th>Selling_Price</th>\n",
              "    </tr>\n",
              "  </thead>\n",
              "  <tbody>\n",
              "    <tr>\n",
              "      <th>0</th>\n",
              "      <td>BRAE2NF6JA5GUEXG</td>\n",
              "      <td>37.0</td>\n",
              "      <td>36:12.0</td>\n",
              "      <td>2</td>\n",
              "      <td>Lillyann</td>\n",
              "      <td>1</td>\n",
              "      <td>3</td>\n",
              "      <td>1</td>\n",
              "      <td>68</td>\n",
              "      <td>0.0</td>\n",
              "      <td>376.0</td>\n",
              "      <td>11.0</td>\n",
              "      <td>2983.0</td>\n",
              "      <td>4713.0</td>\n",
              "      <td>4185.947700</td>\n",
              "    </tr>\n",
              "    <tr>\n",
              "      <th>1</th>\n",
              "      <td>TUNE8SFB6RJN2HSD</td>\n",
              "      <td>38.0</td>\n",
              "      <td>19:13.0</td>\n",
              "      <td>24</td>\n",
              "      <td>Klynn</td>\n",
              "      <td>1</td>\n",
              "      <td>3</td>\n",
              "      <td>0</td>\n",
              "      <td>51</td>\n",
              "      <td>0.0</td>\n",
              "      <td>397.0</td>\n",
              "      <td>12.0</td>\n",
              "      <td>7495.0</td>\n",
              "      <td>10352.0</td>\n",
              "      <td>9271.490256</td>\n",
              "    </tr>\n",
              "    <tr>\n",
              "      <th>2</th>\n",
              "      <td>BRAEAR7WZPQGPBZU</td>\n",
              "      <td>9.0</td>\n",
              "      <td>25:22.0</td>\n",
              "      <td>447</td>\n",
              "      <td>Ridge</td>\n",
              "      <td>1</td>\n",
              "      <td>0</td>\n",
              "      <td>0</td>\n",
              "      <td>10</td>\n",
              "      <td>0.0</td>\n",
              "      <td>250.0</td>\n",
              "      <td>9.0</td>\n",
              "      <td>5752.0</td>\n",
              "      <td>7309.0</td>\n",
              "      <td>6785.701362</td>\n",
              "    </tr>\n",
              "    <tr>\n",
              "      <th>3</th>\n",
              "      <td>JWSEBUKYQPMBZ3RK</td>\n",
              "      <td>7.0</td>\n",
              "      <td>58:53.0</td>\n",
              "      <td>63</td>\n",
              "      <td>Dustyn</td>\n",
              "      <td>1</td>\n",
              "      <td>8</td>\n",
              "      <td>1</td>\n",
              "      <td>35</td>\n",
              "      <td>1.0</td>\n",
              "      <td>211.0</td>\n",
              "      <td>4.0</td>\n",
              "      <td>2430.0</td>\n",
              "      <td>9261.0</td>\n",
              "      <td>906.553935</td>\n",
              "    </tr>\n",
              "    <tr>\n",
              "      <th>4</th>\n",
              "      <td>SHOE6QGAYFFMBWG6</td>\n",
              "      <td>4.0</td>\n",
              "      <td>29:06.0</td>\n",
              "      <td>23</td>\n",
              "      <td>Koby</td>\n",
              "      <td>1</td>\n",
              "      <td>2</td>\n",
              "      <td>1</td>\n",
              "      <td>67</td>\n",
              "      <td>0.0</td>\n",
              "      <td>104.0</td>\n",
              "      <td>15.0</td>\n",
              "      <td>3596.0</td>\n",
              "      <td>5921.0</td>\n",
              "      <td>4820.943600</td>\n",
              "    </tr>\n",
              "    <tr>\n",
              "      <th>...</th>\n",
              "      <td>...</td>\n",
              "      <td>...</td>\n",
              "      <td>...</td>\n",
              "      <td>...</td>\n",
              "      <td>...</td>\n",
              "      <td>...</td>\n",
              "      <td>...</td>\n",
              "      <td>...</td>\n",
              "      <td>...</td>\n",
              "      <td>...</td>\n",
              "      <td>...</td>\n",
              "      <td>...</td>\n",
              "      <td>...</td>\n",
              "      <td>...</td>\n",
              "      <td>...</td>\n",
              "    </tr>\n",
              "    <tr>\n",
              "      <th>4363</th>\n",
              "      <td>SWSEBHCP5YSCUU2S</td>\n",
              "      <td>13.0</td>\n",
              "      <td>09:55.0</td>\n",
              "      <td>358</td>\n",
              "      <td>Adelaide</td>\n",
              "      <td>0</td>\n",
              "      <td>8</td>\n",
              "      <td>3</td>\n",
              "      <td>50</td>\n",
              "      <td>0.0</td>\n",
              "      <td>266.0</td>\n",
              "      <td>3.0</td>\n",
              "      <td>3205.0</td>\n",
              "      <td>14174.0</td>\n",
              "      <td>8900.778096</td>\n",
              "    </tr>\n",
              "    <tr>\n",
              "      <th>4364</th>\n",
              "      <td>MUGE8DAUYGPWG9AE</td>\n",
              "      <td>17.0</td>\n",
              "      <td>21:09.0</td>\n",
              "      <td>358</td>\n",
              "      <td>Roxanna</td>\n",
              "      <td>1</td>\n",
              "      <td>2</td>\n",
              "      <td>3</td>\n",
              "      <td>7</td>\n",
              "      <td>0.0</td>\n",
              "      <td>144.0</td>\n",
              "      <td>9.0</td>\n",
              "      <td>487.0</td>\n",
              "      <td>855.0</td>\n",
              "      <td>4538.353940</td>\n",
              "    </tr>\n",
              "    <tr>\n",
              "      <th>4365</th>\n",
              "      <td>SHOEF9G8Z4ZXF6WE</td>\n",
              "      <td>21.0</td>\n",
              "      <td>09:26.0</td>\n",
              "      <td>55</td>\n",
              "      <td>Theodore</td>\n",
              "      <td>1</td>\n",
              "      <td>0</td>\n",
              "      <td>0</td>\n",
              "      <td>35</td>\n",
              "      <td>0.0</td>\n",
              "      <td>269.0</td>\n",
              "      <td>5.0</td>\n",
              "      <td>3564.0</td>\n",
              "      <td>4920.0</td>\n",
              "      <td>4501.837200</td>\n",
              "    </tr>\n",
              "    <tr>\n",
              "      <th>4366</th>\n",
              "      <td>PBXEB9ZQ7HHCFXYG</td>\n",
              "      <td>36.0</td>\n",
              "      <td>29:21.0</td>\n",
              "      <td>358</td>\n",
              "      <td>Galen</td>\n",
              "      <td>0</td>\n",
              "      <td>8</td>\n",
              "      <td>3</td>\n",
              "      <td>29</td>\n",
              "      <td>0.0</td>\n",
              "      <td>283.0</td>\n",
              "      <td>3.0</td>\n",
              "      <td>5303.0</td>\n",
              "      <td>14614.0</td>\n",
              "      <td>10218.878780</td>\n",
              "    </tr>\n",
              "    <tr>\n",
              "      <th>4367</th>\n",
              "      <td>CAGE53FSAFWZRHFF</td>\n",
              "      <td>11.0</td>\n",
              "      <td>45:35.0</td>\n",
              "      <td>58</td>\n",
              "      <td>Cutler</td>\n",
              "      <td>1</td>\n",
              "      <td>9</td>\n",
              "      <td>0</td>\n",
              "      <td>94</td>\n",
              "      <td>0.0</td>\n",
              "      <td>614.0</td>\n",
              "      <td>7.0</td>\n",
              "      <td>3975.0</td>\n",
              "      <td>5383.0</td>\n",
              "      <td>5220.013568</td>\n",
              "    </tr>\n",
              "  </tbody>\n",
              "</table>\n",
              "<p>4368 rows × 15 columns</p>\n",
              "</div>"
            ],
            "text/plain": [
              "            Product_id  Stall_no  ... Maximum_price  Selling_Price\n",
              "0     BRAE2NF6JA5GUEXG      37.0  ...        4713.0    4185.947700\n",
              "1     TUNE8SFB6RJN2HSD      38.0  ...       10352.0    9271.490256\n",
              "2     BRAEAR7WZPQGPBZU       9.0  ...        7309.0    6785.701362\n",
              "3     JWSEBUKYQPMBZ3RK       7.0  ...        9261.0     906.553935\n",
              "4     SHOE6QGAYFFMBWG6       4.0  ...        5921.0    4820.943600\n",
              "...                ...       ...  ...           ...            ...\n",
              "4363  SWSEBHCP5YSCUU2S      13.0  ...       14174.0    8900.778096\n",
              "4364  MUGE8DAUYGPWG9AE      17.0  ...         855.0    4538.353940\n",
              "4365  SHOEF9G8Z4ZXF6WE      21.0  ...        4920.0    4501.837200\n",
              "4366  PBXEB9ZQ7HHCFXYG      36.0  ...       14614.0   10218.878780\n",
              "4367  CAGE53FSAFWZRHFF      11.0  ...        5383.0    5220.013568\n",
              "\n",
              "[4368 rows x 15 columns]"
            ]
          },
          "metadata": {
            "tags": []
          },
          "execution_count": 14
        }
      ]
    },
    {
      "cell_type": "code",
      "metadata": {
        "colab": {
          "base_uri": "https://localhost:8080/",
          "height": 35
        },
        "id": "PY6-_payAu-a",
        "outputId": "6ed355bb-70ae-48b4-c0b3-4d350effb07c"
      },
      "source": [
        "'''dt2=data_train.copy()\n",
        "for i in range(0,len(data_train)):\n",
        "    \n",
        "    if(data_train['Selling_Price'][i]<0):\n",
        "        data_train['Selling_Price'][i]=0'''"
      ],
      "execution_count": null,
      "outputs": [
        {
          "output_type": "execute_result",
          "data": {
            "application/vnd.google.colaboratory.intrinsic+json": {
              "type": "string"
            },
            "text/plain": [
              "\"dt2=data_train.copy()\\nfor i in range(0,len(data_train)):\\n    \\n    if(data_train['Selling_Price'][i]<0):\\n        data_train['Selling_Price'][i]=0\""
            ]
          },
          "metadata": {
            "tags": []
          },
          "execution_count": 15
        }
      ]
    },
    {
      "cell_type": "code",
      "metadata": {
        "colab": {
          "base_uri": "https://localhost:8080/",
          "height": 35
        },
        "id": "w838aiT4Au-b",
        "outputId": "985a244c-aa5f-4a47-955a-08a99aa1b8f0"
      },
      "source": [
        "#na=data[data['Minimum_price'].isnull()]\n",
        "#nna=data[data['Minimum_price'].isnull()==False]\n",
        "'''X=nna.drop(['Product_id','instock_date','Customer_name','Minimum_price','Maximum_price','Selling_Price'],axis=1)\n",
        "Y=nna[['Minimum_price']].values\n",
        "X_test=na.drop(['Product_id','instock_date','Customer_name','Minimum_price','Maximum_price','Selling_Price'],axis=1)'''\n",
        "'''reg2 = LinearRegression()\n",
        "reg2.fit(X,Y)'''\n",
        "\n",
        "'''na['Minimum_price'] = reg2.predict(X_test)'''\n",
        "'''na.isnull().sum()'''\n",
        "'''data=na.append(nna)'''\n",
        "'''data.isnull().sum()'''\n",
        "'''nna=data[data['Maximum_price'].isnull()==False]\n",
        "na=data[data['Maximum_price'].isnull()]'''"
      ],
      "execution_count": null,
      "outputs": [
        {
          "output_type": "execute_result",
          "data": {
            "application/vnd.google.colaboratory.intrinsic+json": {
              "type": "string"
            },
            "text/plain": [
              "\"nna=data[data['Maximum_price'].isnull()==False]\\nna=data[data['Maximum_price'].isnull()]\""
            ]
          },
          "metadata": {
            "tags": []
          },
          "execution_count": 16
        }
      ]
    },
    {
      "cell_type": "code",
      "metadata": {
        "colab": {
          "base_uri": "https://localhost:8080/",
          "height": 35
        },
        "id": "dClbr5hJAu-b",
        "outputId": "a6f4692c-6400-4398-da99-f6a282ad13cf"
      },
      "source": [
        "#\n",
        "'''X=nna.drop(['Product_id','instock_date','Customer_name','Maximum_price','Selling_Price'],axis=1)\n",
        "Y=nna[['Maximum_price']].values\n",
        "X_test=na.drop(['Product_id','instock_date','Customer_name','Maximum_price','Selling_Price'],axis=1)'''\n",
        "\n",
        "'''reg2.fit(X,Y)\n",
        "na['Maximum_price'] = reg2.predict(X_test)'''\n",
        "\n",
        "'''data=na.append(nna)'''\n",
        "\n",
        "'''data.isnull().sum()'''\n",
        "\n",
        "'''data['Selling_Price']=data['Selling_Price'].fillna((data['Minimum_price']+data['Maximum_price'])/2)'''"
      ],
      "execution_count": null,
      "outputs": [
        {
          "output_type": "execute_result",
          "data": {
            "application/vnd.google.colaboratory.intrinsic+json": {
              "type": "string"
            },
            "text/plain": [
              "\"data['Selling_Price']=data['Selling_Price'].fillna((data['Minimum_price']+data['Maximum_price'])/2)\""
            ]
          },
          "metadata": {
            "tags": []
          },
          "execution_count": 17
        }
      ]
    },
    {
      "cell_type": "code",
      "metadata": {
        "colab": {
          "base_uri": "https://localhost:8080/"
        },
        "id": "BnUSkRapAu-c",
        "outputId": "64c85c82-3895-4478-9e2a-1f5cb095d766"
      },
      "source": [
        "data_train.isnull().sum()"
      ],
      "execution_count": null,
      "outputs": [
        {
          "output_type": "execute_result",
          "data": {
            "text/plain": [
              "Product_id            0\n",
              "Stall_no              0\n",
              "instock_date          0\n",
              "Market_Category       0\n",
              "Customer_name       159\n",
              "Loyalty_customer      0\n",
              "Product_Category      0\n",
              "Grade                 0\n",
              "Demand                0\n",
              "Discount_avail        0\n",
              "charges_1             0\n",
              "charges_2 (%)         0\n",
              "Minimum_price         0\n",
              "Maximum_price         0\n",
              "Selling_Price         0\n",
              "dtype: int64"
            ]
          },
          "metadata": {
            "tags": []
          },
          "execution_count": 18
        }
      ]
    },
    {
      "cell_type": "code",
      "metadata": {
        "id": "do4x_EA3Au-d"
      },
      "source": [
        "X=data_train.drop(['Product_id','instock_date','Customer_name','Selling_Price'],axis=1)\n",
        "Y=data_train[['Selling_Price']].values\n",
        "X_train, X_test, y_train, y_test = train_test_split(X,Y, test_size=0.33,random_state=0)\n",
        "reg2 = LinearRegression()\n",
        "reg2.fit(X_train,y_train)\n",
        "y_pred = reg2.predict(X_test)\n",
        "mse = mean_squared_error(y_test, y_pred)\n",
        "rmse = round(np.sqrt(mse),3)"
      ],
      "execution_count": null,
      "outputs": []
    },
    {
      "cell_type": "code",
      "metadata": {
        "colab": {
          "base_uri": "https://localhost:8080/"
        },
        "id": "Cv7Fzu2AAu-d",
        "outputId": "6b7b3e0d-0055-43db-d0e6-92c2d99f108e"
      },
      "source": [
        "from sklearn.metrics import r2_score\n",
        "print(\"R2-score: %.2f\" % r2_score(y_test,y_pred) )"
      ],
      "execution_count": null,
      "outputs": [
        {
          "output_type": "stream",
          "text": [
            "R2-score: 0.90\n"
          ],
          "name": "stdout"
        }
      ]
    },
    {
      "cell_type": "code",
      "metadata": {
        "colab": {
          "base_uri": "https://localhost:8080/"
        },
        "id": "PmmGRzo9Au-d",
        "outputId": "19a74600-bd53-4e04-ebee-3be93cdebd88"
      },
      "source": [
        "rmse"
      ],
      "execution_count": null,
      "outputs": [
        {
          "output_type": "execute_result",
          "data": {
            "text/plain": [
              "980.802"
            ]
          },
          "metadata": {
            "tags": []
          },
          "execution_count": 21
        }
      ]
    },
    {
      "cell_type": "code",
      "metadata": {
        "id": "FclQe2htAu-e"
      },
      "source": [
        ""
      ],
      "execution_count": null,
      "outputs": []
    },
    {
      "cell_type": "code",
      "metadata": {
        "id": "nzdIByuFAu-e"
      },
      "source": [
        "test=pd.read_csv('/content/drive/My Drive/Data Science/test_upload.csv')\n",
        "sample=pd.read_csv('/content/drive/My Drive/Data Science/sample_submission.csv')"
      ],
      "execution_count": null,
      "outputs": []
    },
    {
      "cell_type": "code",
      "metadata": {
        "id": "5pZfMxbCAu-e"
      },
      "source": [
        "test['charges_1']=test['charges_1'].fillna(test.groupby(['Product_Category','Grade'])['charges_1'].transform('mean'))\n",
        "test['charges_2 (%)']=test['charges_2 (%)'].fillna(test.groupby(['Product_Category','Grade'])['charges_2 (%)'].transform('mean'))\n",
        "test['Discount_avail']=test['Discount_avail'].fillna(0)\n",
        "test['Minimum_price'] = test['Minimum_price'].fillna(test['Minimum_price'].mean())\n",
        "test['Maximum_price'] = test['Maximum_price'].fillna(test['Maximum_price'].mean())\n"
      ],
      "execution_count": null,
      "outputs": []
    },
    {
      "cell_type": "code",
      "metadata": {
        "colab": {
          "base_uri": "https://localhost:8080/",
          "height": 79
        },
        "id": "dW-x8voKAu-e",
        "outputId": "f6f52c40-8e55-4674-ad1b-f9c802dfe930"
      },
      "source": [
        "common= test.pivot_table(values='Stall_no', columns=['Product_Category'],aggfunc=(lambda x:mode(x)[0]) )\n",
        "common"
      ],
      "execution_count": null,
      "outputs": [
        {
          "output_type": "execute_result",
          "data": {
            "text/html": [
              "<div>\n",
              "<style scoped>\n",
              "    .dataframe tbody tr th:only-of-type {\n",
              "        vertical-align: middle;\n",
              "    }\n",
              "\n",
              "    .dataframe tbody tr th {\n",
              "        vertical-align: top;\n",
              "    }\n",
              "\n",
              "    .dataframe thead th {\n",
              "        text-align: right;\n",
              "    }\n",
              "</style>\n",
              "<table border=\"1\" class=\"dataframe\">\n",
              "  <thead>\n",
              "    <tr style=\"text-align: right;\">\n",
              "      <th>Product_Category</th>\n",
              "      <th>Child_care</th>\n",
              "      <th>Cosmetics</th>\n",
              "      <th>Educational</th>\n",
              "      <th>Fashion</th>\n",
              "      <th>Home_decor</th>\n",
              "      <th>Hospitality</th>\n",
              "      <th>Organic</th>\n",
              "      <th>Pet_care</th>\n",
              "      <th>Repair</th>\n",
              "      <th>Technology</th>\n",
              "    </tr>\n",
              "  </thead>\n",
              "  <tbody>\n",
              "    <tr>\n",
              "      <th>Stall_no</th>\n",
              "      <td>30.0</td>\n",
              "      <td>25.0</td>\n",
              "      <td>18.0</td>\n",
              "      <td>1.0</td>\n",
              "      <td>32.0</td>\n",
              "      <td>20.0</td>\n",
              "      <td>15.0</td>\n",
              "      <td>26.0</td>\n",
              "      <td>34.0</td>\n",
              "      <td>23.0</td>\n",
              "    </tr>\n",
              "  </tbody>\n",
              "</table>\n",
              "</div>"
            ],
            "text/plain": [
              "Product_Category  Child_care  Cosmetics  ...  Repair  Technology\n",
              "Stall_no                30.0       25.0  ...    34.0        23.0\n",
              "\n",
              "[1 rows x 10 columns]"
            ]
          },
          "metadata": {
            "tags": []
          },
          "execution_count": 26
        }
      ]
    },
    {
      "cell_type": "code",
      "metadata": {
        "id": "j5A7DU1VAu-f"
      },
      "source": [
        "temp= test['Stall_no'].isnull()\n",
        "test.loc[temp,'Stall_no'] = test.loc[temp,'Product_Category'].apply(lambda x: common[x])"
      ],
      "execution_count": null,
      "outputs": []
    },
    {
      "cell_type": "code",
      "metadata": {
        "colab": {
          "base_uri": "https://localhost:8080/",
          "height": 481
        },
        "id": "F-U04tZfAu-f",
        "outputId": "2c88c556-53eb-4a47-aae0-052c6e1f890f"
      },
      "source": [
        "data=test.copy()\n",
        "labelencoder=LabelEncoder()\n",
        "data[['Loyalty_customer']] = labelencoder.fit_transform(data[['Loyalty_customer']])\n",
        "data[['Product_Category']]=labelencoder.fit_transform(data[['Product_Category']])\n",
        "data"
      ],
      "execution_count": null,
      "outputs": [
        {
          "output_type": "stream",
          "text": [
            "/usr/local/lib/python3.6/dist-packages/sklearn/preprocessing/_label.py:251: DataConversionWarning: A column-vector y was passed when a 1d array was expected. Please change the shape of y to (n_samples, ), for example using ravel().\n",
            "  y = column_or_1d(y, warn=True)\n"
          ],
          "name": "stderr"
        },
        {
          "output_type": "execute_result",
          "data": {
            "text/html": [
              "<div>\n",
              "<style scoped>\n",
              "    .dataframe tbody tr th:only-of-type {\n",
              "        vertical-align: middle;\n",
              "    }\n",
              "\n",
              "    .dataframe tbody tr th {\n",
              "        vertical-align: top;\n",
              "    }\n",
              "\n",
              "    .dataframe thead th {\n",
              "        text-align: right;\n",
              "    }\n",
              "</style>\n",
              "<table border=\"1\" class=\"dataframe\">\n",
              "  <thead>\n",
              "    <tr style=\"text-align: right;\">\n",
              "      <th></th>\n",
              "      <th>Product_id</th>\n",
              "      <th>Stall_no</th>\n",
              "      <th>instock_date</th>\n",
              "      <th>Market_Category</th>\n",
              "      <th>Customer_name</th>\n",
              "      <th>Loyalty_customer</th>\n",
              "      <th>Product_Category</th>\n",
              "      <th>Grade</th>\n",
              "      <th>Demand</th>\n",
              "      <th>Discount_avail</th>\n",
              "      <th>charges_1</th>\n",
              "      <th>charges_2 (%)</th>\n",
              "      <th>Minimum_price</th>\n",
              "      <th>Maximum_price</th>\n",
              "    </tr>\n",
              "  </thead>\n",
              "  <tbody>\n",
              "    <tr>\n",
              "      <th>0</th>\n",
              "      <td>BLAE6DPHRB25VEHK</td>\n",
              "      <td>10.0</td>\n",
              "      <td>08:04.0</td>\n",
              "      <td>358</td>\n",
              "      <td>Addalyn</td>\n",
              "      <td>1</td>\n",
              "      <td>1</td>\n",
              "      <td>3</td>\n",
              "      <td>64</td>\n",
              "      <td>0.0</td>\n",
              "      <td>270.000000</td>\n",
              "      <td>17.0</td>\n",
              "      <td>8335.0</td>\n",
              "      <td>13617.0</td>\n",
              "    </tr>\n",
              "    <tr>\n",
              "      <th>1</th>\n",
              "      <td>RTRDYYTZVSFZQXWF</td>\n",
              "      <td>49.0</td>\n",
              "      <td>38:43.0</td>\n",
              "      <td>115</td>\n",
              "      <td>Crimson</td>\n",
              "      <td>0</td>\n",
              "      <td>5</td>\n",
              "      <td>0</td>\n",
              "      <td>8</td>\n",
              "      <td>0.0</td>\n",
              "      <td>248.000000</td>\n",
              "      <td>12.0</td>\n",
              "      <td>1429.0</td>\n",
              "      <td>2178.0</td>\n",
              "    </tr>\n",
              "    <tr>\n",
              "      <th>2</th>\n",
              "      <td>PBXEAP3SGKSH89XC</td>\n",
              "      <td>43.0</td>\n",
              "      <td>37:01.0</td>\n",
              "      <td>220</td>\n",
              "      <td>Eesha</td>\n",
              "      <td>1</td>\n",
              "      <td>4</td>\n",
              "      <td>0</td>\n",
              "      <td>49</td>\n",
              "      <td>0.0</td>\n",
              "      <td>233.000000</td>\n",
              "      <td>14.0</td>\n",
              "      <td>3755.0</td>\n",
              "      <td>5429.0</td>\n",
              "    </tr>\n",
              "    <tr>\n",
              "      <th>3</th>\n",
              "      <td>TOPDQAUYZKH2GDTM</td>\n",
              "      <td>5.0</td>\n",
              "      <td>48:23.0</td>\n",
              "      <td>14</td>\n",
              "      <td>Annistyn</td>\n",
              "      <td>1</td>\n",
              "      <td>7</td>\n",
              "      <td>0</td>\n",
              "      <td>51</td>\n",
              "      <td>0.0</td>\n",
              "      <td>155.000000</td>\n",
              "      <td>7.0</td>\n",
              "      <td>3339.0</td>\n",
              "      <td>4327.0</td>\n",
              "    </tr>\n",
              "    <tr>\n",
              "      <th>4</th>\n",
              "      <td>PCSE76X4QXVW9KG9</td>\n",
              "      <td>49.0</td>\n",
              "      <td>46:52.0</td>\n",
              "      <td>24</td>\n",
              "      <td>Jameria</td>\n",
              "      <td>1</td>\n",
              "      <td>4</td>\n",
              "      <td>0</td>\n",
              "      <td>56</td>\n",
              "      <td>1.0</td>\n",
              "      <td>275.000000</td>\n",
              "      <td>17.0</td>\n",
              "      <td>6442.0</td>\n",
              "      <td>8919.0</td>\n",
              "    </tr>\n",
              "    <tr>\n",
              "      <th>...</th>\n",
              "      <td>...</td>\n",
              "      <td>...</td>\n",
              "      <td>...</td>\n",
              "      <td>...</td>\n",
              "      <td>...</td>\n",
              "      <td>...</td>\n",
              "      <td>...</td>\n",
              "      <td>...</td>\n",
              "      <td>...</td>\n",
              "      <td>...</td>\n",
              "      <td>...</td>\n",
              "      <td>...</td>\n",
              "      <td>...</td>\n",
              "      <td>...</td>\n",
              "    </tr>\n",
              "    <tr>\n",
              "      <th>1995</th>\n",
              "      <td>INKECA5VFTCGF77E</td>\n",
              "      <td>37.0</td>\n",
              "      <td>48:45.0</td>\n",
              "      <td>363</td>\n",
              "      <td>Hoyt</td>\n",
              "      <td>0</td>\n",
              "      <td>6</td>\n",
              "      <td>3</td>\n",
              "      <td>27</td>\n",
              "      <td>0.0</td>\n",
              "      <td>132.000000</td>\n",
              "      <td>7.0</td>\n",
              "      <td>457.0</td>\n",
              "      <td>1356.0</td>\n",
              "    </tr>\n",
              "    <tr>\n",
              "      <th>1996</th>\n",
              "      <td>ACCEHHR5ESZAXDPA</td>\n",
              "      <td>1.0</td>\n",
              "      <td>06:35.0</td>\n",
              "      <td>451</td>\n",
              "      <td>Skai</td>\n",
              "      <td>1</td>\n",
              "      <td>5</td>\n",
              "      <td>0</td>\n",
              "      <td>15</td>\n",
              "      <td>0.0</td>\n",
              "      <td>326.000000</td>\n",
              "      <td>14.0</td>\n",
              "      <td>5454.0</td>\n",
              "      <td>6767.0</td>\n",
              "    </tr>\n",
              "    <tr>\n",
              "      <th>1997</th>\n",
              "      <td>SHOEBGDMKUF33QYC</td>\n",
              "      <td>36.0</td>\n",
              "      <td>25:02.0</td>\n",
              "      <td>65</td>\n",
              "      <td>Kaliah</td>\n",
              "      <td>0</td>\n",
              "      <td>5</td>\n",
              "      <td>2</td>\n",
              "      <td>15</td>\n",
              "      <td>0.0</td>\n",
              "      <td>218.000000</td>\n",
              "      <td>8.0</td>\n",
              "      <td>689.0</td>\n",
              "      <td>2488.0</td>\n",
              "    </tr>\n",
              "    <tr>\n",
              "      <th>1998</th>\n",
              "      <td>DUPEGNY4RYYXGJH6</td>\n",
              "      <td>29.0</td>\n",
              "      <td>19:42.0</td>\n",
              "      <td>63</td>\n",
              "      <td>Livia</td>\n",
              "      <td>0</td>\n",
              "      <td>1</td>\n",
              "      <td>1</td>\n",
              "      <td>6</td>\n",
              "      <td>1.0</td>\n",
              "      <td>244.636364</td>\n",
              "      <td>15.0</td>\n",
              "      <td>3882.0</td>\n",
              "      <td>9759.0</td>\n",
              "    </tr>\n",
              "    <tr>\n",
              "      <th>1999</th>\n",
              "      <td>SWTEDMX4BW4KYHZS</td>\n",
              "      <td>14.0</td>\n",
              "      <td>10:20.0</td>\n",
              "      <td>450</td>\n",
              "      <td>Nova</td>\n",
              "      <td>0</td>\n",
              "      <td>6</td>\n",
              "      <td>0</td>\n",
              "      <td>92</td>\n",
              "      <td>1.0</td>\n",
              "      <td>114.000000</td>\n",
              "      <td>6.0</td>\n",
              "      <td>2976.0</td>\n",
              "      <td>4145.0</td>\n",
              "    </tr>\n",
              "  </tbody>\n",
              "</table>\n",
              "<p>2000 rows × 14 columns</p>\n",
              "</div>"
            ],
            "text/plain": [
              "            Product_id  Stall_no  ... Minimum_price  Maximum_price\n",
              "0     BLAE6DPHRB25VEHK      10.0  ...        8335.0        13617.0\n",
              "1     RTRDYYTZVSFZQXWF      49.0  ...        1429.0         2178.0\n",
              "2     PBXEAP3SGKSH89XC      43.0  ...        3755.0         5429.0\n",
              "3     TOPDQAUYZKH2GDTM       5.0  ...        3339.0         4327.0\n",
              "4     PCSE76X4QXVW9KG9      49.0  ...        6442.0         8919.0\n",
              "...                ...       ...  ...           ...            ...\n",
              "1995  INKECA5VFTCGF77E      37.0  ...         457.0         1356.0\n",
              "1996  ACCEHHR5ESZAXDPA       1.0  ...        5454.0         6767.0\n",
              "1997  SHOEBGDMKUF33QYC      36.0  ...         689.0         2488.0\n",
              "1998  DUPEGNY4RYYXGJH6      29.0  ...        3882.0         9759.0\n",
              "1999  SWTEDMX4BW4KYHZS      14.0  ...        2976.0         4145.0\n",
              "\n",
              "[2000 rows x 14 columns]"
            ]
          },
          "metadata": {
            "tags": []
          },
          "execution_count": 245
        }
      ]
    },
    {
      "cell_type": "code",
      "metadata": {
        "colab": {
          "base_uri": "https://localhost:8080/"
        },
        "id": "rpNd4qplAu-f",
        "outputId": "590ad2a8-c0be-4db2-c765-2586c46d98ae"
      },
      "source": [
        "data.isnull().sum()"
      ],
      "execution_count": null,
      "outputs": [
        {
          "output_type": "execute_result",
          "data": {
            "text/plain": [
              "Product_id           0\n",
              "Stall_no             0\n",
              "instock_date         0\n",
              "Market_Category      0\n",
              "Customer_name       52\n",
              "Loyalty_customer     0\n",
              "Product_Category     0\n",
              "Grade                0\n",
              "Demand               0\n",
              "Discount_avail       0\n",
              "charges_1            0\n",
              "charges_2 (%)        0\n",
              "Minimum_price        0\n",
              "Maximum_price        0\n",
              "dtype: int64"
            ]
          },
          "metadata": {
            "tags": []
          },
          "execution_count": 203
        }
      ]
    },
    {
      "cell_type": "code",
      "metadata": {
        "id": "jh9CJ3foAu-g"
      },
      "source": [
        "X_train=data_train.drop(['Product_id','instock_date','Customer_name','Selling_Price'],axis=1)\n",
        "Y_train=data_train[['Selling_Price']].values\n",
        "X_test=data.drop(['Product_id','instock_date','Customer_name'],axis=1)\n",
        "\n",
        "#X_train[['Market_Category']] = scaler.fit_transform(X_train[['Market_Category']]) \n",
        "#X_train[['charges_1']]= scaler.fit_transform(X_train[['charges_1']]) \n",
        "#X_train[['charges_2 (%)']]= scaler.fit_transform(X_train[['charges_2 (%)']]) \n",
        "#X_train[['Minimum_price']]= scaler.fit_transform(X_train[['Minimum_price']]) \n",
        "#X_train[['Maximum_price']]= scaler.fit_transform(X_train[['Maximum_price']]) \n",
        "\n",
        "#X_test[['Market_Category']] = scaler.fit_transform(X_test[['Market_Category']]) \n",
        "#X_test[['charges_1']]= scaler.fit_transform(X_test[['charges_1']]) \n",
        "#X_test[['charges_2 (%)']]= scaler.fit_transform(X_test[['charges_2 (%)']]) \n",
        "#X_test[['Minimum_price']]= scaler.fit_transform(X_test[['Minimum_price']]) \n",
        "#X_test[['Maximum_price']]= scaler.fit_transform(X_test[['Maximum_price']]) \n",
        "\n",
        "reg2 = LinearRegression()\n",
        "#reg2=Lasso()\n",
        "reg2.fit(X_train,Y_train)\n",
        "data['Selling_Price'] = reg2.predict(X_test)"
      ],
      "execution_count": null,
      "outputs": []
    },
    {
      "cell_type": "code",
      "metadata": {
        "id": "8y5S4yevkVdU"
      },
      "source": [
        "from sklearn.linear_model import LinearRegression, Ridge, Lasso\n",
        "from sklearn.ensemble import RandomForestRegressor"
      ],
      "execution_count": null,
      "outputs": []
    },
    {
      "cell_type": "code",
      "metadata": {
        "id": "IdGJbBfQAu-g"
      },
      "source": [
        "sample_sub=data[['Product_id','Selling_Price']]"
      ],
      "execution_count": null,
      "outputs": []
    },
    {
      "cell_type": "markdown",
      "metadata": {
        "id": "dfYJUcwWAu-g"
      },
      "source": [
        "## \n"
      ]
    },
    {
      "cell_type": "code",
      "metadata": {
        "colab": {
          "base_uri": "https://localhost:8080/",
          "height": 411
        },
        "id": "zaJSC7aBAu-g",
        "outputId": "20e84ae2-c913-4368-ee82-3b479f6417e1"
      },
      "source": [
        "sample_sub"
      ],
      "execution_count": null,
      "outputs": [
        {
          "output_type": "execute_result",
          "data": {
            "text/html": [
              "<div>\n",
              "<style scoped>\n",
              "    .dataframe tbody tr th:only-of-type {\n",
              "        vertical-align: middle;\n",
              "    }\n",
              "\n",
              "    .dataframe tbody tr th {\n",
              "        vertical-align: top;\n",
              "    }\n",
              "\n",
              "    .dataframe thead th {\n",
              "        text-align: right;\n",
              "    }\n",
              "</style>\n",
              "<table border=\"1\" class=\"dataframe\">\n",
              "  <thead>\n",
              "    <tr style=\"text-align: right;\">\n",
              "      <th></th>\n",
              "      <th>Product_id</th>\n",
              "      <th>Selling_Price</th>\n",
              "    </tr>\n",
              "  </thead>\n",
              "  <tbody>\n",
              "    <tr>\n",
              "      <th>0</th>\n",
              "      <td>BLAE6DPHRB25VEHK</td>\n",
              "      <td>10644.455805</td>\n",
              "    </tr>\n",
              "    <tr>\n",
              "      <th>1</th>\n",
              "      <td>RTRDYYTZVSFZQXWF</td>\n",
              "      <td>1923.258679</td>\n",
              "    </tr>\n",
              "    <tr>\n",
              "      <th>2</th>\n",
              "      <td>PBXEAP3SGKSH89XC</td>\n",
              "      <td>4823.820757</td>\n",
              "    </tr>\n",
              "    <tr>\n",
              "      <th>3</th>\n",
              "      <td>TOPDQAUYZKH2GDTM</td>\n",
              "      <td>4138.692060</td>\n",
              "    </tr>\n",
              "    <tr>\n",
              "      <th>4</th>\n",
              "      <td>PCSE76X4QXVW9KG9</td>\n",
              "      <td>4664.069629</td>\n",
              "    </tr>\n",
              "    <tr>\n",
              "      <th>...</th>\n",
              "      <td>...</td>\n",
              "      <td>...</td>\n",
              "    </tr>\n",
              "    <tr>\n",
              "      <th>1995</th>\n",
              "      <td>INKECA5VFTCGF77E</td>\n",
              "      <td>1314.472879</td>\n",
              "    </tr>\n",
              "    <tr>\n",
              "      <th>1996</th>\n",
              "      <td>ACCEHHR5ESZAXDPA</td>\n",
              "      <td>6834.908326</td>\n",
              "    </tr>\n",
              "    <tr>\n",
              "      <th>1997</th>\n",
              "      <td>SHOEBGDMKUF33QYC</td>\n",
              "      <td>2181.888946</td>\n",
              "    </tr>\n",
              "    <tr>\n",
              "      <th>1998</th>\n",
              "      <td>DUPEGNY4RYYXGJH6</td>\n",
              "      <td>4231.858275</td>\n",
              "    </tr>\n",
              "    <tr>\n",
              "      <th>1999</th>\n",
              "      <td>SWTEDMX4BW4KYHZS</td>\n",
              "      <td>506.935692</td>\n",
              "    </tr>\n",
              "  </tbody>\n",
              "</table>\n",
              "<p>2000 rows × 2 columns</p>\n",
              "</div>"
            ],
            "text/plain": [
              "            Product_id  Selling_Price\n",
              "0     BLAE6DPHRB25VEHK   10644.455805\n",
              "1     RTRDYYTZVSFZQXWF    1923.258679\n",
              "2     PBXEAP3SGKSH89XC    4823.820757\n",
              "3     TOPDQAUYZKH2GDTM    4138.692060\n",
              "4     PCSE76X4QXVW9KG9    4664.069629\n",
              "...                ...            ...\n",
              "1995  INKECA5VFTCGF77E    1314.472879\n",
              "1996  ACCEHHR5ESZAXDPA    6834.908326\n",
              "1997  SHOEBGDMKUF33QYC    2181.888946\n",
              "1998  DUPEGNY4RYYXGJH6    4231.858275\n",
              "1999  SWTEDMX4BW4KYHZS     506.935692\n",
              "\n",
              "[2000 rows x 2 columns]"
            ]
          },
          "metadata": {
            "tags": []
          },
          "execution_count": 235
        }
      ]
    },
    {
      "cell_type": "code",
      "metadata": {
        "colab": {
          "base_uri": "https://localhost:8080/",
          "height": 411
        },
        "id": "CRlVEKYEAu-h",
        "outputId": "b2b50d97-b67b-433d-e13f-4bb12005a196"
      },
      "source": [
        "sample\n"
      ],
      "execution_count": null,
      "outputs": [
        {
          "output_type": "execute_result",
          "data": {
            "text/html": [
              "<div>\n",
              "<style scoped>\n",
              "    .dataframe tbody tr th:only-of-type {\n",
              "        vertical-align: middle;\n",
              "    }\n",
              "\n",
              "    .dataframe tbody tr th {\n",
              "        vertical-align: top;\n",
              "    }\n",
              "\n",
              "    .dataframe thead th {\n",
              "        text-align: right;\n",
              "    }\n",
              "</style>\n",
              "<table border=\"1\" class=\"dataframe\">\n",
              "  <thead>\n",
              "    <tr style=\"text-align: right;\">\n",
              "      <th></th>\n",
              "      <th>Product_id</th>\n",
              "      <th>Selling_Price</th>\n",
              "    </tr>\n",
              "  </thead>\n",
              "  <tbody>\n",
              "    <tr>\n",
              "      <th>0</th>\n",
              "      <td>BLAE6DPHRB25VEHK</td>\n",
              "      <td>0</td>\n",
              "    </tr>\n",
              "    <tr>\n",
              "      <th>1</th>\n",
              "      <td>RTRDYYTZVSFZQXWF</td>\n",
              "      <td>0</td>\n",
              "    </tr>\n",
              "    <tr>\n",
              "      <th>2</th>\n",
              "      <td>PBXEAP3SGKSH89XC</td>\n",
              "      <td>0</td>\n",
              "    </tr>\n",
              "    <tr>\n",
              "      <th>3</th>\n",
              "      <td>TOPDQAUYZKH2GDTM</td>\n",
              "      <td>0</td>\n",
              "    </tr>\n",
              "    <tr>\n",
              "      <th>4</th>\n",
              "      <td>PCSE76X4QXVW9KG9</td>\n",
              "      <td>0</td>\n",
              "    </tr>\n",
              "    <tr>\n",
              "      <th>...</th>\n",
              "      <td>...</td>\n",
              "      <td>...</td>\n",
              "    </tr>\n",
              "    <tr>\n",
              "      <th>1982</th>\n",
              "      <td>INKECA5VFTCGF77E</td>\n",
              "      <td>0</td>\n",
              "    </tr>\n",
              "    <tr>\n",
              "      <th>1983</th>\n",
              "      <td>ACCEHHR5ESZAXDPA</td>\n",
              "      <td>0</td>\n",
              "    </tr>\n",
              "    <tr>\n",
              "      <th>1984</th>\n",
              "      <td>SHOEBGDMKUF33QYC</td>\n",
              "      <td>0</td>\n",
              "    </tr>\n",
              "    <tr>\n",
              "      <th>1985</th>\n",
              "      <td>DUPEGNY4RYYXGJH6</td>\n",
              "      <td>0</td>\n",
              "    </tr>\n",
              "    <tr>\n",
              "      <th>1986</th>\n",
              "      <td>SWTEDMX4BW4KYHZS</td>\n",
              "      <td>0</td>\n",
              "    </tr>\n",
              "  </tbody>\n",
              "</table>\n",
              "<p>1987 rows × 2 columns</p>\n",
              "</div>"
            ],
            "text/plain": [
              "            Product_id  Selling_Price\n",
              "0     BLAE6DPHRB25VEHK              0\n",
              "1     RTRDYYTZVSFZQXWF              0\n",
              "2     PBXEAP3SGKSH89XC              0\n",
              "3     TOPDQAUYZKH2GDTM              0\n",
              "4     PCSE76X4QXVW9KG9              0\n",
              "...                ...            ...\n",
              "1982  INKECA5VFTCGF77E              0\n",
              "1983  ACCEHHR5ESZAXDPA              0\n",
              "1984  SHOEBGDMKUF33QYC              0\n",
              "1985  DUPEGNY4RYYXGJH6              0\n",
              "1986  SWTEDMX4BW4KYHZS              0\n",
              "\n",
              "[1987 rows x 2 columns]"
            ]
          },
          "metadata": {
            "tags": []
          },
          "execution_count": 33
        }
      ]
    },
    {
      "cell_type": "code",
      "metadata": {
        "id": "ugn2RvtrAu-h"
      },
      "source": [
        "l=sample_sub.merge(sample,left_on=sample_sub['Product_id'],right_on=sample['Product_id'])"
      ],
      "execution_count": null,
      "outputs": []
    },
    {
      "cell_type": "code",
      "metadata": {
        "colab": {
          "base_uri": "https://localhost:8080/",
          "height": 411
        },
        "id": "RpDsCHpyAu-i",
        "outputId": "f5704f4e-f77f-456a-8e2d-c8e4e6d132c6"
      },
      "source": [
        "l"
      ],
      "execution_count": null,
      "outputs": [
        {
          "output_type": "execute_result",
          "data": {
            "text/html": [
              "<div>\n",
              "<style scoped>\n",
              "    .dataframe tbody tr th:only-of-type {\n",
              "        vertical-align: middle;\n",
              "    }\n",
              "\n",
              "    .dataframe tbody tr th {\n",
              "        vertical-align: top;\n",
              "    }\n",
              "\n",
              "    .dataframe thead th {\n",
              "        text-align: right;\n",
              "    }\n",
              "</style>\n",
              "<table border=\"1\" class=\"dataframe\">\n",
              "  <thead>\n",
              "    <tr style=\"text-align: right;\">\n",
              "      <th></th>\n",
              "      <th>key_0</th>\n",
              "      <th>Product_id_x</th>\n",
              "      <th>Selling_Price_x</th>\n",
              "      <th>Product_id_y</th>\n",
              "      <th>Selling_Price_y</th>\n",
              "    </tr>\n",
              "  </thead>\n",
              "  <tbody>\n",
              "    <tr>\n",
              "      <th>0</th>\n",
              "      <td>BLAE6DPHRB25VEHK</td>\n",
              "      <td>BLAE6DPHRB25VEHK</td>\n",
              "      <td>10492.332211</td>\n",
              "      <td>BLAE6DPHRB25VEHK</td>\n",
              "      <td>0</td>\n",
              "    </tr>\n",
              "    <tr>\n",
              "      <th>1</th>\n",
              "      <td>RTRDYYTZVSFZQXWF</td>\n",
              "      <td>RTRDYYTZVSFZQXWF</td>\n",
              "      <td>2372.772531</td>\n",
              "      <td>RTRDYYTZVSFZQXWF</td>\n",
              "      <td>0</td>\n",
              "    </tr>\n",
              "    <tr>\n",
              "      <th>2</th>\n",
              "      <td>PBXEAP3SGKSH89XC</td>\n",
              "      <td>PBXEAP3SGKSH89XC</td>\n",
              "      <td>4765.845956</td>\n",
              "      <td>PBXEAP3SGKSH89XC</td>\n",
              "      <td>0</td>\n",
              "    </tr>\n",
              "    <tr>\n",
              "      <th>3</th>\n",
              "      <td>TOPDQAUYZKH2GDTM</td>\n",
              "      <td>TOPDQAUYZKH2GDTM</td>\n",
              "      <td>4047.833746</td>\n",
              "      <td>TOPDQAUYZKH2GDTM</td>\n",
              "      <td>0</td>\n",
              "    </tr>\n",
              "    <tr>\n",
              "      <th>4</th>\n",
              "      <td>PCSE76X4QXVW9KG9</td>\n",
              "      <td>PCSE76X4QXVW9KG9</td>\n",
              "      <td>3148.925780</td>\n",
              "      <td>PCSE76X4QXVW9KG9</td>\n",
              "      <td>0</td>\n",
              "    </tr>\n",
              "    <tr>\n",
              "      <th>...</th>\n",
              "      <td>...</td>\n",
              "      <td>...</td>\n",
              "      <td>...</td>\n",
              "      <td>...</td>\n",
              "      <td>...</td>\n",
              "    </tr>\n",
              "    <tr>\n",
              "      <th>1982</th>\n",
              "      <td>INKECA5VFTCGF77E</td>\n",
              "      <td>INKECA5VFTCGF77E</td>\n",
              "      <td>1568.019461</td>\n",
              "      <td>INKECA5VFTCGF77E</td>\n",
              "      <td>0</td>\n",
              "    </tr>\n",
              "    <tr>\n",
              "      <th>1983</th>\n",
              "      <td>ACCEHHR5ESZAXDPA</td>\n",
              "      <td>ACCEHHR5ESZAXDPA</td>\n",
              "      <td>6235.474190</td>\n",
              "      <td>ACCEHHR5ESZAXDPA</td>\n",
              "      <td>0</td>\n",
              "    </tr>\n",
              "    <tr>\n",
              "      <th>1984</th>\n",
              "      <td>SHOEBGDMKUF33QYC</td>\n",
              "      <td>SHOEBGDMKUF33QYC</td>\n",
              "      <td>2203.358252</td>\n",
              "      <td>SHOEBGDMKUF33QYC</td>\n",
              "      <td>0</td>\n",
              "    </tr>\n",
              "    <tr>\n",
              "      <th>1985</th>\n",
              "      <td>DUPEGNY4RYYXGJH6</td>\n",
              "      <td>DUPEGNY4RYYXGJH6</td>\n",
              "      <td>2426.769182</td>\n",
              "      <td>DUPEGNY4RYYXGJH6</td>\n",
              "      <td>0</td>\n",
              "    </tr>\n",
              "    <tr>\n",
              "      <th>1986</th>\n",
              "      <td>SWTEDMX4BW4KYHZS</td>\n",
              "      <td>SWTEDMX4BW4KYHZS</td>\n",
              "      <td>-530.459137</td>\n",
              "      <td>SWTEDMX4BW4KYHZS</td>\n",
              "      <td>0</td>\n",
              "    </tr>\n",
              "  </tbody>\n",
              "</table>\n",
              "<p>1987 rows × 5 columns</p>\n",
              "</div>"
            ],
            "text/plain": [
              "                 key_0      Product_id_x  ...      Product_id_y Selling_Price_y\n",
              "0     BLAE6DPHRB25VEHK  BLAE6DPHRB25VEHK  ...  BLAE6DPHRB25VEHK               0\n",
              "1     RTRDYYTZVSFZQXWF  RTRDYYTZVSFZQXWF  ...  RTRDYYTZVSFZQXWF               0\n",
              "2     PBXEAP3SGKSH89XC  PBXEAP3SGKSH89XC  ...  PBXEAP3SGKSH89XC               0\n",
              "3     TOPDQAUYZKH2GDTM  TOPDQAUYZKH2GDTM  ...  TOPDQAUYZKH2GDTM               0\n",
              "4     PCSE76X4QXVW9KG9  PCSE76X4QXVW9KG9  ...  PCSE76X4QXVW9KG9               0\n",
              "...                ...               ...  ...               ...             ...\n",
              "1982  INKECA5VFTCGF77E  INKECA5VFTCGF77E  ...  INKECA5VFTCGF77E               0\n",
              "1983  ACCEHHR5ESZAXDPA  ACCEHHR5ESZAXDPA  ...  ACCEHHR5ESZAXDPA               0\n",
              "1984  SHOEBGDMKUF33QYC  SHOEBGDMKUF33QYC  ...  SHOEBGDMKUF33QYC               0\n",
              "1985  DUPEGNY4RYYXGJH6  DUPEGNY4RYYXGJH6  ...  DUPEGNY4RYYXGJH6               0\n",
              "1986  SWTEDMX4BW4KYHZS  SWTEDMX4BW4KYHZS  ...  SWTEDMX4BW4KYHZS               0\n",
              "\n",
              "[1987 rows x 5 columns]"
            ]
          },
          "metadata": {
            "tags": []
          },
          "execution_count": 249
        }
      ]
    },
    {
      "cell_type": "code",
      "metadata": {
        "id": "FwQaYdlvAu-i"
      },
      "source": [
        "final=l[['Product_id_x','Selling_Price_x']]"
      ],
      "execution_count": null,
      "outputs": []
    },
    {
      "cell_type": "code",
      "metadata": {
        "id": "26C2LJMQAu-i"
      },
      "source": [
        "final.columns=sample.columns"
      ],
      "execution_count": null,
      "outputs": []
    },
    {
      "cell_type": "code",
      "metadata": {
        "id": "lCEROO8XAu-i"
      },
      "source": [
        "final.reset_index(drop=True, inplace=True)"
      ],
      "execution_count": null,
      "outputs": []
    },
    {
      "cell_type": "code",
      "metadata": {
        "colab": {
          "base_uri": "https://localhost:8080/",
          "height": 411
        },
        "id": "tW9Jk2mfAu-i",
        "outputId": "fba6827a-0c8d-4e1d-b9ea-7225fd3f29a8"
      },
      "source": [
        "final"
      ],
      "execution_count": null,
      "outputs": [
        {
          "output_type": "execute_result",
          "data": {
            "text/html": [
              "<div>\n",
              "<style scoped>\n",
              "    .dataframe tbody tr th:only-of-type {\n",
              "        vertical-align: middle;\n",
              "    }\n",
              "\n",
              "    .dataframe tbody tr th {\n",
              "        vertical-align: top;\n",
              "    }\n",
              "\n",
              "    .dataframe thead th {\n",
              "        text-align: right;\n",
              "    }\n",
              "</style>\n",
              "<table border=\"1\" class=\"dataframe\">\n",
              "  <thead>\n",
              "    <tr style=\"text-align: right;\">\n",
              "      <th></th>\n",
              "      <th>Product_id</th>\n",
              "      <th>Selling_Price</th>\n",
              "    </tr>\n",
              "  </thead>\n",
              "  <tbody>\n",
              "    <tr>\n",
              "      <th>0</th>\n",
              "      <td>BLAE6DPHRB25VEHK</td>\n",
              "      <td>10492.332211</td>\n",
              "    </tr>\n",
              "    <tr>\n",
              "      <th>1</th>\n",
              "      <td>RTRDYYTZVSFZQXWF</td>\n",
              "      <td>2372.772531</td>\n",
              "    </tr>\n",
              "    <tr>\n",
              "      <th>2</th>\n",
              "      <td>PBXEAP3SGKSH89XC</td>\n",
              "      <td>4765.845956</td>\n",
              "    </tr>\n",
              "    <tr>\n",
              "      <th>3</th>\n",
              "      <td>TOPDQAUYZKH2GDTM</td>\n",
              "      <td>4047.833746</td>\n",
              "    </tr>\n",
              "    <tr>\n",
              "      <th>4</th>\n",
              "      <td>PCSE76X4QXVW9KG9</td>\n",
              "      <td>3148.925780</td>\n",
              "    </tr>\n",
              "    <tr>\n",
              "      <th>...</th>\n",
              "      <td>...</td>\n",
              "      <td>...</td>\n",
              "    </tr>\n",
              "    <tr>\n",
              "      <th>1982</th>\n",
              "      <td>INKECA5VFTCGF77E</td>\n",
              "      <td>1568.019461</td>\n",
              "    </tr>\n",
              "    <tr>\n",
              "      <th>1983</th>\n",
              "      <td>ACCEHHR5ESZAXDPA</td>\n",
              "      <td>6235.474190</td>\n",
              "    </tr>\n",
              "    <tr>\n",
              "      <th>1984</th>\n",
              "      <td>SHOEBGDMKUF33QYC</td>\n",
              "      <td>2203.358252</td>\n",
              "    </tr>\n",
              "    <tr>\n",
              "      <th>1985</th>\n",
              "      <td>DUPEGNY4RYYXGJH6</td>\n",
              "      <td>2426.769182</td>\n",
              "    </tr>\n",
              "    <tr>\n",
              "      <th>1986</th>\n",
              "      <td>SWTEDMX4BW4KYHZS</td>\n",
              "      <td>-530.459137</td>\n",
              "    </tr>\n",
              "  </tbody>\n",
              "</table>\n",
              "<p>1987 rows × 2 columns</p>\n",
              "</div>"
            ],
            "text/plain": [
              "            Product_id  Selling_Price\n",
              "0     BLAE6DPHRB25VEHK   10492.332211\n",
              "1     RTRDYYTZVSFZQXWF    2372.772531\n",
              "2     PBXEAP3SGKSH89XC    4765.845956\n",
              "3     TOPDQAUYZKH2GDTM    4047.833746\n",
              "4     PCSE76X4QXVW9KG9    3148.925780\n",
              "...                ...            ...\n",
              "1982  INKECA5VFTCGF77E    1568.019461\n",
              "1983  ACCEHHR5ESZAXDPA    6235.474190\n",
              "1984  SHOEBGDMKUF33QYC    2203.358252\n",
              "1985  DUPEGNY4RYYXGJH6    2426.769182\n",
              "1986  SWTEDMX4BW4KYHZS    -530.459137\n",
              "\n",
              "[1987 rows x 2 columns]"
            ]
          },
          "metadata": {
            "tags": []
          },
          "execution_count": 253
        }
      ]
    },
    {
      "cell_type": "code",
      "metadata": {
        "id": "QB0J1nk_Au-j"
      },
      "source": [
        ""
      ],
      "execution_count": null,
      "outputs": []
    },
    {
      "cell_type": "code",
      "metadata": {
        "colab": {
          "base_uri": "https://localhost:8080/"
        },
        "id": "3UCvxCOkAu-j",
        "outputId": "5dd5290f-06a1-4db3-827d-77f935aacefa"
      },
      "source": [
        "for i in range(0,len(final)):\n",
        "    \n",
        "    if(final['Selling_Price'][i]<0):\n",
        "        final['Selling_Price'][i]=0"
      ],
      "execution_count": null,
      "outputs": [
        {
          "output_type": "stream",
          "text": [
            "/usr/local/lib/python3.6/dist-packages/ipykernel_launcher.py:4: SettingWithCopyWarning: \n",
            "A value is trying to be set on a copy of a slice from a DataFrame\n",
            "\n",
            "See the caveats in the documentation: https://pandas.pydata.org/pandas-docs/stable/user_guide/indexing.html#returning-a-view-versus-a-copy\n",
            "  after removing the cwd from sys.path.\n",
            "/usr/local/lib/python3.6/dist-packages/IPython/core/interactiveshell.py:2882: SettingWithCopyWarning: \n",
            "A value is trying to be set on a copy of a slice from a DataFrame\n",
            "\n",
            "See the caveats in the documentation: https://pandas.pydata.org/pandas-docs/stable/user_guide/indexing.html#returning-a-view-versus-a-copy\n",
            "  exec(code_obj, self.user_global_ns, self.user_ns)\n"
          ],
          "name": "stderr"
        }
      ]
    },
    {
      "cell_type": "code",
      "metadata": {
        "colab": {
          "base_uri": "https://localhost:8080/",
          "height": 411
        },
        "id": "QdZxLduTAu-k",
        "outputId": "f116d0b1-a193-47b0-976c-9de09dd26b1c"
      },
      "source": [
        "final"
      ],
      "execution_count": null,
      "outputs": [
        {
          "output_type": "execute_result",
          "data": {
            "text/html": [
              "<div>\n",
              "<style scoped>\n",
              "    .dataframe tbody tr th:only-of-type {\n",
              "        vertical-align: middle;\n",
              "    }\n",
              "\n",
              "    .dataframe tbody tr th {\n",
              "        vertical-align: top;\n",
              "    }\n",
              "\n",
              "    .dataframe thead th {\n",
              "        text-align: right;\n",
              "    }\n",
              "</style>\n",
              "<table border=\"1\" class=\"dataframe\">\n",
              "  <thead>\n",
              "    <tr style=\"text-align: right;\">\n",
              "      <th></th>\n",
              "      <th>Product_id</th>\n",
              "      <th>Selling_Price</th>\n",
              "    </tr>\n",
              "  </thead>\n",
              "  <tbody>\n",
              "    <tr>\n",
              "      <th>0</th>\n",
              "      <td>BLAE6DPHRB25VEHK</td>\n",
              "      <td>10644.455805</td>\n",
              "    </tr>\n",
              "    <tr>\n",
              "      <th>1</th>\n",
              "      <td>RTRDYYTZVSFZQXWF</td>\n",
              "      <td>1923.258679</td>\n",
              "    </tr>\n",
              "    <tr>\n",
              "      <th>2</th>\n",
              "      <td>PBXEAP3SGKSH89XC</td>\n",
              "      <td>4823.820757</td>\n",
              "    </tr>\n",
              "    <tr>\n",
              "      <th>3</th>\n",
              "      <td>TOPDQAUYZKH2GDTM</td>\n",
              "      <td>4138.692060</td>\n",
              "    </tr>\n",
              "    <tr>\n",
              "      <th>4</th>\n",
              "      <td>PCSE76X4QXVW9KG9</td>\n",
              "      <td>4664.069629</td>\n",
              "    </tr>\n",
              "    <tr>\n",
              "      <th>...</th>\n",
              "      <td>...</td>\n",
              "      <td>...</td>\n",
              "    </tr>\n",
              "    <tr>\n",
              "      <th>1982</th>\n",
              "      <td>INKECA5VFTCGF77E</td>\n",
              "      <td>1314.472879</td>\n",
              "    </tr>\n",
              "    <tr>\n",
              "      <th>1983</th>\n",
              "      <td>ACCEHHR5ESZAXDPA</td>\n",
              "      <td>6834.908326</td>\n",
              "    </tr>\n",
              "    <tr>\n",
              "      <th>1984</th>\n",
              "      <td>SHOEBGDMKUF33QYC</td>\n",
              "      <td>2181.888946</td>\n",
              "    </tr>\n",
              "    <tr>\n",
              "      <th>1985</th>\n",
              "      <td>DUPEGNY4RYYXGJH6</td>\n",
              "      <td>4231.858275</td>\n",
              "    </tr>\n",
              "    <tr>\n",
              "      <th>1986</th>\n",
              "      <td>SWTEDMX4BW4KYHZS</td>\n",
              "      <td>506.935692</td>\n",
              "    </tr>\n",
              "  </tbody>\n",
              "</table>\n",
              "<p>1987 rows × 2 columns</p>\n",
              "</div>"
            ],
            "text/plain": [
              "            Product_id  Selling_Price\n",
              "0     BLAE6DPHRB25VEHK   10644.455805\n",
              "1     RTRDYYTZVSFZQXWF    1923.258679\n",
              "2     PBXEAP3SGKSH89XC    4823.820757\n",
              "3     TOPDQAUYZKH2GDTM    4138.692060\n",
              "4     PCSE76X4QXVW9KG9    4664.069629\n",
              "...                ...            ...\n",
              "1982  INKECA5VFTCGF77E    1314.472879\n",
              "1983  ACCEHHR5ESZAXDPA    6834.908326\n",
              "1984  SHOEBGDMKUF33QYC    2181.888946\n",
              "1985  DUPEGNY4RYYXGJH6    4231.858275\n",
              "1986  SWTEDMX4BW4KYHZS     506.935692\n",
              "\n",
              "[1987 rows x 2 columns]"
            ]
          },
          "metadata": {
            "tags": []
          },
          "execution_count": 242
        }
      ]
    },
    {
      "cell_type": "code",
      "metadata": {
        "id": "LdL4TJwoAu-k"
      },
      "source": [
        "final.to_csv('submission1.csv')"
      ],
      "execution_count": null,
      "outputs": []
    },
    {
      "cell_type": "code",
      "metadata": {
        "colab": {
          "base_uri": "https://localhost:8080/",
          "height": 411
        },
        "id": "80mvs1xxAu-k",
        "outputId": "86a56ce5-b8af-45b8-b2ab-570d0b0c4e95"
      },
      "source": [
        "sample"
      ],
      "execution_count": null,
      "outputs": [
        {
          "output_type": "execute_result",
          "data": {
            "text/html": [
              "<div>\n",
              "<style scoped>\n",
              "    .dataframe tbody tr th:only-of-type {\n",
              "        vertical-align: middle;\n",
              "    }\n",
              "\n",
              "    .dataframe tbody tr th {\n",
              "        vertical-align: top;\n",
              "    }\n",
              "\n",
              "    .dataframe thead th {\n",
              "        text-align: right;\n",
              "    }\n",
              "</style>\n",
              "<table border=\"1\" class=\"dataframe\">\n",
              "  <thead>\n",
              "    <tr style=\"text-align: right;\">\n",
              "      <th></th>\n",
              "      <th>Product_id</th>\n",
              "      <th>Selling_Price</th>\n",
              "    </tr>\n",
              "  </thead>\n",
              "  <tbody>\n",
              "    <tr>\n",
              "      <th>0</th>\n",
              "      <td>BLAE6DPHRB25VEHK</td>\n",
              "      <td>0</td>\n",
              "    </tr>\n",
              "    <tr>\n",
              "      <th>1</th>\n",
              "      <td>RTRDYYTZVSFZQXWF</td>\n",
              "      <td>0</td>\n",
              "    </tr>\n",
              "    <tr>\n",
              "      <th>2</th>\n",
              "      <td>PBXEAP3SGKSH89XC</td>\n",
              "      <td>0</td>\n",
              "    </tr>\n",
              "    <tr>\n",
              "      <th>3</th>\n",
              "      <td>TOPDQAUYZKH2GDTM</td>\n",
              "      <td>0</td>\n",
              "    </tr>\n",
              "    <tr>\n",
              "      <th>4</th>\n",
              "      <td>PCSE76X4QXVW9KG9</td>\n",
              "      <td>0</td>\n",
              "    </tr>\n",
              "    <tr>\n",
              "      <th>...</th>\n",
              "      <td>...</td>\n",
              "      <td>...</td>\n",
              "    </tr>\n",
              "    <tr>\n",
              "      <th>1982</th>\n",
              "      <td>INKECA5VFTCGF77E</td>\n",
              "      <td>0</td>\n",
              "    </tr>\n",
              "    <tr>\n",
              "      <th>1983</th>\n",
              "      <td>ACCEHHR5ESZAXDPA</td>\n",
              "      <td>0</td>\n",
              "    </tr>\n",
              "    <tr>\n",
              "      <th>1984</th>\n",
              "      <td>SHOEBGDMKUF33QYC</td>\n",
              "      <td>0</td>\n",
              "    </tr>\n",
              "    <tr>\n",
              "      <th>1985</th>\n",
              "      <td>DUPEGNY4RYYXGJH6</td>\n",
              "      <td>0</td>\n",
              "    </tr>\n",
              "    <tr>\n",
              "      <th>1986</th>\n",
              "      <td>SWTEDMX4BW4KYHZS</td>\n",
              "      <td>0</td>\n",
              "    </tr>\n",
              "  </tbody>\n",
              "</table>\n",
              "<p>1987 rows × 2 columns</p>\n",
              "</div>"
            ],
            "text/plain": [
              "            Product_id  Selling_Price\n",
              "0     BLAE6DPHRB25VEHK              0\n",
              "1     RTRDYYTZVSFZQXWF              0\n",
              "2     PBXEAP3SGKSH89XC              0\n",
              "3     TOPDQAUYZKH2GDTM              0\n",
              "4     PCSE76X4QXVW9KG9              0\n",
              "...                ...            ...\n",
              "1982  INKECA5VFTCGF77E              0\n",
              "1983  ACCEHHR5ESZAXDPA              0\n",
              "1984  SHOEBGDMKUF33QYC              0\n",
              "1985  DUPEGNY4RYYXGJH6              0\n",
              "1986  SWTEDMX4BW4KYHZS              0\n",
              "\n",
              "[1987 rows x 2 columns]"
            ]
          },
          "metadata": {
            "tags": []
          },
          "execution_count": 43
        }
      ]
    },
    {
      "cell_type": "code",
      "metadata": {
        "colab": {
          "base_uri": "https://localhost:8080/"
        },
        "id": "ZTcERyFRAu-l",
        "outputId": "1eac8622-8aa8-4ed4-a01f-3ef5918f5c9e"
      },
      "source": [
        "data_train[data_train['Selling_Price']<0].size"
      ],
      "execution_count": null,
      "outputs": [
        {
          "output_type": "execute_result",
          "data": {
            "text/plain": [
              "150"
            ]
          },
          "metadata": {
            "tags": []
          },
          "execution_count": 44
        }
      ]
    },
    {
      "cell_type": "code",
      "metadata": {
        "colab": {
          "base_uri": "https://localhost:8080/"
        },
        "id": "nyie7lm_Au-l",
        "outputId": "92d9600f-c89e-4eef-a48d-543aa97ebd26"
      },
      "source": [
        "final[final['Selling_Price']<0].size"
      ],
      "execution_count": null,
      "outputs": [
        {
          "output_type": "execute_result",
          "data": {
            "text/plain": [
              "0"
            ]
          },
          "metadata": {
            "tags": []
          },
          "execution_count": 45
        }
      ]
    },
    {
      "cell_type": "markdown",
      "metadata": {
        "id": "Jim41nUqN1q6"
      },
      "source": [
        "#Scaling"
      ]
    },
    {
      "cell_type": "code",
      "metadata": {
        "id": "w7QAqz06N3IP"
      },
      "source": [
        "from sklearn.preprocessing import StandardScaler"
      ],
      "execution_count": null,
      "outputs": []
    },
    {
      "cell_type": "code",
      "metadata": {
        "id": "7KWMeMBhN5nX"
      },
      "source": [
        "from sklearn.preprocessing import MinMaxScaler"
      ],
      "execution_count": null,
      "outputs": []
    },
    {
      "cell_type": "code",
      "metadata": {
        "id": "7gSLlhcdPhjH"
      },
      "source": [
        "X=data_train.drop(['Product_id','instock_date','Customer_name','Selling_Price'],axis=1)\n",
        "Y=data_train[['Selling_Price']].values"
      ],
      "execution_count": null,
      "outputs": []
    },
    {
      "cell_type": "code",
      "metadata": {
        "colab": {
          "base_uri": "https://localhost:8080/",
          "height": 411
        },
        "id": "B56w4mV6Pqd_",
        "outputId": "5188370d-32af-45d3-e715-c11940c84e8c"
      },
      "source": [
        "X"
      ],
      "execution_count": null,
      "outputs": [
        {
          "output_type": "execute_result",
          "data": {
            "text/html": [
              "<div>\n",
              "<style scoped>\n",
              "    .dataframe tbody tr th:only-of-type {\n",
              "        vertical-align: middle;\n",
              "    }\n",
              "\n",
              "    .dataframe tbody tr th {\n",
              "        vertical-align: top;\n",
              "    }\n",
              "\n",
              "    .dataframe thead th {\n",
              "        text-align: right;\n",
              "    }\n",
              "</style>\n",
              "<table border=\"1\" class=\"dataframe\">\n",
              "  <thead>\n",
              "    <tr style=\"text-align: right;\">\n",
              "      <th></th>\n",
              "      <th>Stall_no</th>\n",
              "      <th>Market_Category</th>\n",
              "      <th>Loyalty_customer</th>\n",
              "      <th>Product_Category</th>\n",
              "      <th>Grade</th>\n",
              "      <th>Demand</th>\n",
              "      <th>Discount_avail</th>\n",
              "      <th>charges_1</th>\n",
              "      <th>charges_2 (%)</th>\n",
              "      <th>Minimum_price</th>\n",
              "      <th>Maximum_price</th>\n",
              "    </tr>\n",
              "  </thead>\n",
              "  <tbody>\n",
              "    <tr>\n",
              "      <th>0</th>\n",
              "      <td>37.0</td>\n",
              "      <td>2</td>\n",
              "      <td>1</td>\n",
              "      <td>3</td>\n",
              "      <td>1</td>\n",
              "      <td>68</td>\n",
              "      <td>0.0</td>\n",
              "      <td>376.0</td>\n",
              "      <td>11.0</td>\n",
              "      <td>2983.0</td>\n",
              "      <td>4713.0</td>\n",
              "    </tr>\n",
              "    <tr>\n",
              "      <th>1</th>\n",
              "      <td>38.0</td>\n",
              "      <td>24</td>\n",
              "      <td>1</td>\n",
              "      <td>3</td>\n",
              "      <td>0</td>\n",
              "      <td>51</td>\n",
              "      <td>0.0</td>\n",
              "      <td>397.0</td>\n",
              "      <td>12.0</td>\n",
              "      <td>7495.0</td>\n",
              "      <td>10352.0</td>\n",
              "    </tr>\n",
              "    <tr>\n",
              "      <th>2</th>\n",
              "      <td>9.0</td>\n",
              "      <td>447</td>\n",
              "      <td>1</td>\n",
              "      <td>0</td>\n",
              "      <td>0</td>\n",
              "      <td>10</td>\n",
              "      <td>0.0</td>\n",
              "      <td>250.0</td>\n",
              "      <td>9.0</td>\n",
              "      <td>5752.0</td>\n",
              "      <td>7309.0</td>\n",
              "    </tr>\n",
              "    <tr>\n",
              "      <th>3</th>\n",
              "      <td>7.0</td>\n",
              "      <td>63</td>\n",
              "      <td>1</td>\n",
              "      <td>8</td>\n",
              "      <td>1</td>\n",
              "      <td>35</td>\n",
              "      <td>1.0</td>\n",
              "      <td>211.0</td>\n",
              "      <td>4.0</td>\n",
              "      <td>2430.0</td>\n",
              "      <td>9261.0</td>\n",
              "    </tr>\n",
              "    <tr>\n",
              "      <th>4</th>\n",
              "      <td>4.0</td>\n",
              "      <td>23</td>\n",
              "      <td>1</td>\n",
              "      <td>2</td>\n",
              "      <td>1</td>\n",
              "      <td>67</td>\n",
              "      <td>0.0</td>\n",
              "      <td>104.0</td>\n",
              "      <td>15.0</td>\n",
              "      <td>3596.0</td>\n",
              "      <td>5921.0</td>\n",
              "    </tr>\n",
              "    <tr>\n",
              "      <th>...</th>\n",
              "      <td>...</td>\n",
              "      <td>...</td>\n",
              "      <td>...</td>\n",
              "      <td>...</td>\n",
              "      <td>...</td>\n",
              "      <td>...</td>\n",
              "      <td>...</td>\n",
              "      <td>...</td>\n",
              "      <td>...</td>\n",
              "      <td>...</td>\n",
              "      <td>...</td>\n",
              "    </tr>\n",
              "    <tr>\n",
              "      <th>4363</th>\n",
              "      <td>13.0</td>\n",
              "      <td>358</td>\n",
              "      <td>0</td>\n",
              "      <td>8</td>\n",
              "      <td>3</td>\n",
              "      <td>50</td>\n",
              "      <td>0.0</td>\n",
              "      <td>266.0</td>\n",
              "      <td>3.0</td>\n",
              "      <td>3205.0</td>\n",
              "      <td>14174.0</td>\n",
              "    </tr>\n",
              "    <tr>\n",
              "      <th>4364</th>\n",
              "      <td>17.0</td>\n",
              "      <td>358</td>\n",
              "      <td>1</td>\n",
              "      <td>2</td>\n",
              "      <td>3</td>\n",
              "      <td>7</td>\n",
              "      <td>0.0</td>\n",
              "      <td>144.0</td>\n",
              "      <td>9.0</td>\n",
              "      <td>487.0</td>\n",
              "      <td>855.0</td>\n",
              "    </tr>\n",
              "    <tr>\n",
              "      <th>4365</th>\n",
              "      <td>21.0</td>\n",
              "      <td>55</td>\n",
              "      <td>1</td>\n",
              "      <td>0</td>\n",
              "      <td>0</td>\n",
              "      <td>35</td>\n",
              "      <td>0.0</td>\n",
              "      <td>269.0</td>\n",
              "      <td>5.0</td>\n",
              "      <td>3564.0</td>\n",
              "      <td>4920.0</td>\n",
              "    </tr>\n",
              "    <tr>\n",
              "      <th>4366</th>\n",
              "      <td>36.0</td>\n",
              "      <td>358</td>\n",
              "      <td>0</td>\n",
              "      <td>8</td>\n",
              "      <td>3</td>\n",
              "      <td>29</td>\n",
              "      <td>0.0</td>\n",
              "      <td>283.0</td>\n",
              "      <td>3.0</td>\n",
              "      <td>5303.0</td>\n",
              "      <td>14614.0</td>\n",
              "    </tr>\n",
              "    <tr>\n",
              "      <th>4367</th>\n",
              "      <td>11.0</td>\n",
              "      <td>58</td>\n",
              "      <td>1</td>\n",
              "      <td>9</td>\n",
              "      <td>0</td>\n",
              "      <td>94</td>\n",
              "      <td>0.0</td>\n",
              "      <td>614.0</td>\n",
              "      <td>7.0</td>\n",
              "      <td>3975.0</td>\n",
              "      <td>5383.0</td>\n",
              "    </tr>\n",
              "  </tbody>\n",
              "</table>\n",
              "<p>4368 rows × 11 columns</p>\n",
              "</div>"
            ],
            "text/plain": [
              "      Stall_no  Market_Category  ...  Minimum_price  Maximum_price\n",
              "0         37.0                2  ...         2983.0         4713.0\n",
              "1         38.0               24  ...         7495.0        10352.0\n",
              "2          9.0              447  ...         5752.0         7309.0\n",
              "3          7.0               63  ...         2430.0         9261.0\n",
              "4          4.0               23  ...         3596.0         5921.0\n",
              "...        ...              ...  ...            ...            ...\n",
              "4363      13.0              358  ...         3205.0        14174.0\n",
              "4364      17.0              358  ...          487.0          855.0\n",
              "4365      21.0               55  ...         3564.0         4920.0\n",
              "4366      36.0              358  ...         5303.0        14614.0\n",
              "4367      11.0               58  ...         3975.0         5383.0\n",
              "\n",
              "[4368 rows x 11 columns]"
            ]
          },
          "metadata": {
            "tags": []
          },
          "execution_count": 86
        }
      ]
    },
    {
      "cell_type": "code",
      "metadata": {
        "colab": {
          "base_uri": "https://localhost:8080/"
        },
        "id": "Q1rsR8efQGyC",
        "outputId": "a800351c-71ae-4bd9-8604-4c8827ebe813"
      },
      "source": [
        "X[\"charges_2 (%)\"].max()"
      ],
      "execution_count": null,
      "outputs": [
        {
          "output_type": "execute_result",
          "data": {
            "text/plain": [
              "17.0"
            ]
          },
          "metadata": {
            "tags": []
          },
          "execution_count": 66
        }
      ]
    },
    {
      "cell_type": "code",
      "metadata": {
        "colab": {
          "base_uri": "https://localhost:8080/",
          "height": 411
        },
        "id": "Zp4zEwXmN8l2",
        "outputId": "34e9b05f-45cc-450c-8db4-691e748f485a"
      },
      "source": [
        "#scaler = MinMaxScaler()\n",
        "scaler = StandardScaler()\n",
        "# transform data\n",
        "X[['Market_Category']] = scaler.fit_transform(data_train[['Market_Category']]) \n",
        "X[['charges_1']]= scaler.fit_transform(data_train[['charges_1']]) \n",
        "#idk about these\n",
        "#X[['charges_2 (%)']]= scaler.fit_transform(data_train[['charges_2 (%)']]) \n",
        "#X[['Minimum_price']]= scaler.fit_transform(data_train[['Minimum_price']]) \n",
        "#X[['Maximum_price']]= scaler.fit_transform(data_train[['Maximum_price']]) \n",
        "X"
      ],
      "execution_count": null,
      "outputs": [
        {
          "output_type": "execute_result",
          "data": {
            "text/html": [
              "<div>\n",
              "<style scoped>\n",
              "    .dataframe tbody tr th:only-of-type {\n",
              "        vertical-align: middle;\n",
              "    }\n",
              "\n",
              "    .dataframe tbody tr th {\n",
              "        vertical-align: top;\n",
              "    }\n",
              "\n",
              "    .dataframe thead th {\n",
              "        text-align: right;\n",
              "    }\n",
              "</style>\n",
              "<table border=\"1\" class=\"dataframe\">\n",
              "  <thead>\n",
              "    <tr style=\"text-align: right;\">\n",
              "      <th></th>\n",
              "      <th>Stall_no</th>\n",
              "      <th>Market_Category</th>\n",
              "      <th>Loyalty_customer</th>\n",
              "      <th>Product_Category</th>\n",
              "      <th>Grade</th>\n",
              "      <th>Demand</th>\n",
              "      <th>Discount_avail</th>\n",
              "      <th>charges_1</th>\n",
              "      <th>charges_2 (%)</th>\n",
              "      <th>Minimum_price</th>\n",
              "      <th>Maximum_price</th>\n",
              "    </tr>\n",
              "  </thead>\n",
              "  <tbody>\n",
              "    <tr>\n",
              "      <th>0</th>\n",
              "      <td>37.0</td>\n",
              "      <td>-1.147961</td>\n",
              "      <td>1</td>\n",
              "      <td>3</td>\n",
              "      <td>1</td>\n",
              "      <td>68</td>\n",
              "      <td>0.0</td>\n",
              "      <td>0.902934</td>\n",
              "      <td>11.0</td>\n",
              "      <td>2983.0</td>\n",
              "      <td>4713.0</td>\n",
              "    </tr>\n",
              "    <tr>\n",
              "      <th>1</th>\n",
              "      <td>38.0</td>\n",
              "      <td>-1.018508</td>\n",
              "      <td>1</td>\n",
              "      <td>3</td>\n",
              "      <td>0</td>\n",
              "      <td>51</td>\n",
              "      <td>0.0</td>\n",
              "      <td>1.071782</td>\n",
              "      <td>12.0</td>\n",
              "      <td>7495.0</td>\n",
              "      <td>10352.0</td>\n",
              "    </tr>\n",
              "    <tr>\n",
              "      <th>2</th>\n",
              "      <td>9.0</td>\n",
              "      <td>1.470525</td>\n",
              "      <td>1</td>\n",
              "      <td>0</td>\n",
              "      <td>0</td>\n",
              "      <td>10</td>\n",
              "      <td>0.0</td>\n",
              "      <td>-0.110150</td>\n",
              "      <td>9.0</td>\n",
              "      <td>5752.0</td>\n",
              "      <td>7309.0</td>\n",
              "    </tr>\n",
              "    <tr>\n",
              "      <th>3</th>\n",
              "      <td>7.0</td>\n",
              "      <td>-0.789023</td>\n",
              "      <td>1</td>\n",
              "      <td>8</td>\n",
              "      <td>1</td>\n",
              "      <td>35</td>\n",
              "      <td>1.0</td>\n",
              "      <td>-0.423724</td>\n",
              "      <td>4.0</td>\n",
              "      <td>2430.0</td>\n",
              "      <td>9261.0</td>\n",
              "    </tr>\n",
              "    <tr>\n",
              "      <th>4</th>\n",
              "      <td>4.0</td>\n",
              "      <td>-1.024392</td>\n",
              "      <td>1</td>\n",
              "      <td>2</td>\n",
              "      <td>1</td>\n",
              "      <td>67</td>\n",
              "      <td>0.0</td>\n",
              "      <td>-1.284042</td>\n",
              "      <td>15.0</td>\n",
              "      <td>3596.0</td>\n",
              "      <td>5921.0</td>\n",
              "    </tr>\n",
              "    <tr>\n",
              "      <th>...</th>\n",
              "      <td>...</td>\n",
              "      <td>...</td>\n",
              "      <td>...</td>\n",
              "      <td>...</td>\n",
              "      <td>...</td>\n",
              "      <td>...</td>\n",
              "      <td>...</td>\n",
              "      <td>...</td>\n",
              "      <td>...</td>\n",
              "      <td>...</td>\n",
              "      <td>...</td>\n",
              "    </tr>\n",
              "    <tr>\n",
              "      <th>4363</th>\n",
              "      <td>13.0</td>\n",
              "      <td>0.946828</td>\n",
              "      <td>0</td>\n",
              "      <td>8</td>\n",
              "      <td>3</td>\n",
              "      <td>50</td>\n",
              "      <td>0.0</td>\n",
              "      <td>0.018495</td>\n",
              "      <td>3.0</td>\n",
              "      <td>3205.0</td>\n",
              "      <td>14174.0</td>\n",
              "    </tr>\n",
              "    <tr>\n",
              "      <th>4364</th>\n",
              "      <td>17.0</td>\n",
              "      <td>0.946828</td>\n",
              "      <td>1</td>\n",
              "      <td>2</td>\n",
              "      <td>3</td>\n",
              "      <td>7</td>\n",
              "      <td>0.0</td>\n",
              "      <td>-0.962428</td>\n",
              "      <td>9.0</td>\n",
              "      <td>487.0</td>\n",
              "      <td>855.0</td>\n",
              "    </tr>\n",
              "    <tr>\n",
              "      <th>4365</th>\n",
              "      <td>21.0</td>\n",
              "      <td>-0.836097</td>\n",
              "      <td>1</td>\n",
              "      <td>0</td>\n",
              "      <td>0</td>\n",
              "      <td>35</td>\n",
              "      <td>0.0</td>\n",
              "      <td>0.042616</td>\n",
              "      <td>5.0</td>\n",
              "      <td>3564.0</td>\n",
              "      <td>4920.0</td>\n",
              "    </tr>\n",
              "    <tr>\n",
              "      <th>4366</th>\n",
              "      <td>36.0</td>\n",
              "      <td>0.946828</td>\n",
              "      <td>0</td>\n",
              "      <td>8</td>\n",
              "      <td>3</td>\n",
              "      <td>29</td>\n",
              "      <td>0.0</td>\n",
              "      <td>0.155181</td>\n",
              "      <td>3.0</td>\n",
              "      <td>5303.0</td>\n",
              "      <td>14614.0</td>\n",
              "    </tr>\n",
              "    <tr>\n",
              "      <th>4367</th>\n",
              "      <td>11.0</td>\n",
              "      <td>-0.818444</td>\n",
              "      <td>1</td>\n",
              "      <td>9</td>\n",
              "      <td>0</td>\n",
              "      <td>94</td>\n",
              "      <td>0.0</td>\n",
              "      <td>2.816539</td>\n",
              "      <td>7.0</td>\n",
              "      <td>3975.0</td>\n",
              "      <td>5383.0</td>\n",
              "    </tr>\n",
              "  </tbody>\n",
              "</table>\n",
              "<p>4368 rows × 11 columns</p>\n",
              "</div>"
            ],
            "text/plain": [
              "      Stall_no  Market_Category  ...  Minimum_price  Maximum_price\n",
              "0         37.0        -1.147961  ...         2983.0         4713.0\n",
              "1         38.0        -1.018508  ...         7495.0        10352.0\n",
              "2          9.0         1.470525  ...         5752.0         7309.0\n",
              "3          7.0        -0.789023  ...         2430.0         9261.0\n",
              "4          4.0        -1.024392  ...         3596.0         5921.0\n",
              "...        ...              ...  ...            ...            ...\n",
              "4363      13.0         0.946828  ...         3205.0        14174.0\n",
              "4364      17.0         0.946828  ...          487.0          855.0\n",
              "4365      21.0        -0.836097  ...         3564.0         4920.0\n",
              "4366      36.0         0.946828  ...         5303.0        14614.0\n",
              "4367      11.0        -0.818444  ...         3975.0         5383.0\n",
              "\n",
              "[4368 rows x 11 columns]"
            ]
          },
          "metadata": {
            "tags": []
          },
          "execution_count": 87
        }
      ]
    },
    {
      "cell_type": "code",
      "metadata": {
        "colab": {
          "base_uri": "https://localhost:8080/"
        },
        "id": "6Xjoy6rSOx-l",
        "outputId": "d95ebfd5-c910-469e-d5bf-78803d381d15"
      },
      "source": [
        "X_train, X_test, y_train, y_test = train_test_split(X,Y, test_size=0.33,random_state=0)\n",
        "reg3 = LinearRegression()\n",
        "reg3.fit(X_train,y_train)\n",
        "y_pred = reg3.predict(X_test)\n",
        "mse = mean_squared_error(y_test, y_pred)\n",
        "rmse = round(np.sqrt(mse),3)\n",
        "print(rmse)\n",
        "#980.802"
      ],
      "execution_count": null,
      "outputs": [
        {
          "output_type": "stream",
          "text": [
            "980.802\n"
          ],
          "name": "stdout"
        }
      ]
    },
    {
      "cell_type": "code",
      "metadata": {
        "colab": {
          "base_uri": "https://localhost:8080/"
        },
        "id": "WlrVrgVhOyFG",
        "outputId": "da12f1fb-d43e-4f94-bd90-891b7c794426"
      },
      "source": [
        "print(\"R2-score: %.2f\" % r2_score(y_test,y_pred) )"
      ],
      "execution_count": null,
      "outputs": [
        {
          "output_type": "stream",
          "text": [
            "R2-score: 0.90\n"
          ],
          "name": "stdout"
        }
      ]
    },
    {
      "cell_type": "code",
      "metadata": {
        "colab": {
          "base_uri": "https://localhost:8080/"
        },
        "id": "e_hFWK5BOyL_",
        "outputId": "66ee72f3-47e7-4032-ba10-7232ff1fa054"
      },
      "source": [
        "X_train, X_test, y_train, y_test = train_test_split(X,Y, test_size=0.34,random_state=0)\n",
        "reg3 = LinearRegression()\n",
        "reg3.fit(X_train,y_train)\n",
        "y_pred = reg3.predict(X_test)\n",
        "mse = mean_squared_error(y_test, y_pred)\n",
        "rmse = round(np.sqrt(mse),3)\n",
        "print(rmse)"
      ],
      "execution_count": null,
      "outputs": [
        {
          "output_type": "stream",
          "text": [
            "972.721\n"
          ],
          "name": "stdout"
        }
      ]
    },
    {
      "cell_type": "code",
      "metadata": {
        "colab": {
          "base_uri": "https://localhost:8080/",
          "height": 411
        },
        "id": "lByLnnOmYE0j",
        "outputId": "06660521-66cb-481c-8442-3a76db323495"
      },
      "source": [
        "X_test"
      ],
      "execution_count": null,
      "outputs": [
        {
          "output_type": "execute_result",
          "data": {
            "text/html": [
              "<div>\n",
              "<style scoped>\n",
              "    .dataframe tbody tr th:only-of-type {\n",
              "        vertical-align: middle;\n",
              "    }\n",
              "\n",
              "    .dataframe tbody tr th {\n",
              "        vertical-align: top;\n",
              "    }\n",
              "\n",
              "    .dataframe thead th {\n",
              "        text-align: right;\n",
              "    }\n",
              "</style>\n",
              "<table border=\"1\" class=\"dataframe\">\n",
              "  <thead>\n",
              "    <tr style=\"text-align: right;\">\n",
              "      <th></th>\n",
              "      <th>Stall_no</th>\n",
              "      <th>Market_Category</th>\n",
              "      <th>Loyalty_customer</th>\n",
              "      <th>Product_Category</th>\n",
              "      <th>Grade</th>\n",
              "      <th>Demand</th>\n",
              "      <th>Discount_avail</th>\n",
              "      <th>charges_1</th>\n",
              "      <th>charges_2 (%)</th>\n",
              "      <th>Minimum_price</th>\n",
              "      <th>Maximum_price</th>\n",
              "    </tr>\n",
              "  </thead>\n",
              "  <tbody>\n",
              "    <tr>\n",
              "      <th>4242</th>\n",
              "      <td>43.0</td>\n",
              "      <td>358</td>\n",
              "      <td>1</td>\n",
              "      <td>3</td>\n",
              "      <td>3</td>\n",
              "      <td>54</td>\n",
              "      <td>0.0</td>\n",
              "      <td>350.0</td>\n",
              "      <td>13.0</td>\n",
              "      <td>5325.0</td>\n",
              "      <td>17200.0</td>\n",
              "    </tr>\n",
              "    <tr>\n",
              "      <th>1127</th>\n",
              "      <td>43.0</td>\n",
              "      <td>65</td>\n",
              "      <td>1</td>\n",
              "      <td>1</td>\n",
              "      <td>0</td>\n",
              "      <td>26</td>\n",
              "      <td>0.0</td>\n",
              "      <td>271.0</td>\n",
              "      <td>15.0</td>\n",
              "      <td>3359.0</td>\n",
              "      <td>4821.0</td>\n",
              "    </tr>\n",
              "    <tr>\n",
              "      <th>3608</th>\n",
              "      <td>27.0</td>\n",
              "      <td>188</td>\n",
              "      <td>1</td>\n",
              "      <td>1</td>\n",
              "      <td>0</td>\n",
              "      <td>27</td>\n",
              "      <td>1.0</td>\n",
              "      <td>216.0</td>\n",
              "      <td>13.0</td>\n",
              "      <td>2890.0</td>\n",
              "      <td>3957.0</td>\n",
              "    </tr>\n",
              "    <tr>\n",
              "      <th>2565</th>\n",
              "      <td>44.0</td>\n",
              "      <td>204</td>\n",
              "      <td>1</td>\n",
              "      <td>0</td>\n",
              "      <td>0</td>\n",
              "      <td>5</td>\n",
              "      <td>0.0</td>\n",
              "      <td>322.0</td>\n",
              "      <td>14.0</td>\n",
              "      <td>3589.0</td>\n",
              "      <td>9931.0</td>\n",
              "    </tr>\n",
              "    <tr>\n",
              "      <th>1824</th>\n",
              "      <td>46.0</td>\n",
              "      <td>3</td>\n",
              "      <td>1</td>\n",
              "      <td>7</td>\n",
              "      <td>0</td>\n",
              "      <td>93</td>\n",
              "      <td>0.0</td>\n",
              "      <td>100.0</td>\n",
              "      <td>8.0</td>\n",
              "      <td>2233.0</td>\n",
              "      <td>3930.0</td>\n",
              "    </tr>\n",
              "    <tr>\n",
              "      <th>...</th>\n",
              "      <td>...</td>\n",
              "      <td>...</td>\n",
              "      <td>...</td>\n",
              "      <td>...</td>\n",
              "      <td>...</td>\n",
              "      <td>...</td>\n",
              "      <td>...</td>\n",
              "      <td>...</td>\n",
              "      <td>...</td>\n",
              "      <td>...</td>\n",
              "      <td>...</td>\n",
              "    </tr>\n",
              "    <tr>\n",
              "      <th>2590</th>\n",
              "      <td>46.0</td>\n",
              "      <td>14</td>\n",
              "      <td>1</td>\n",
              "      <td>3</td>\n",
              "      <td>0</td>\n",
              "      <td>50</td>\n",
              "      <td>0.0</td>\n",
              "      <td>380.0</td>\n",
              "      <td>17.0</td>\n",
              "      <td>4126.0</td>\n",
              "      <td>6020.0</td>\n",
              "    </tr>\n",
              "    <tr>\n",
              "      <th>589</th>\n",
              "      <td>47.0</td>\n",
              "      <td>467</td>\n",
              "      <td>1</td>\n",
              "      <td>2</td>\n",
              "      <td>0</td>\n",
              "      <td>36</td>\n",
              "      <td>0.0</td>\n",
              "      <td>126.0</td>\n",
              "      <td>14.0</td>\n",
              "      <td>7117.0</td>\n",
              "      <td>9990.0</td>\n",
              "    </tr>\n",
              "    <tr>\n",
              "      <th>4235</th>\n",
              "      <td>9.0</td>\n",
              "      <td>24</td>\n",
              "      <td>0</td>\n",
              "      <td>2</td>\n",
              "      <td>0</td>\n",
              "      <td>25</td>\n",
              "      <td>0.0</td>\n",
              "      <td>154.0</td>\n",
              "      <td>6.0</td>\n",
              "      <td>4313.0</td>\n",
              "      <td>5494.0</td>\n",
              "    </tr>\n",
              "    <tr>\n",
              "      <th>2183</th>\n",
              "      <td>5.0</td>\n",
              "      <td>165</td>\n",
              "      <td>0</td>\n",
              "      <td>4</td>\n",
              "      <td>0</td>\n",
              "      <td>55</td>\n",
              "      <td>0.0</td>\n",
              "      <td>290.0</td>\n",
              "      <td>14.0</td>\n",
              "      <td>2625.0</td>\n",
              "      <td>3883.0</td>\n",
              "    </tr>\n",
              "    <tr>\n",
              "      <th>2902</th>\n",
              "      <td>25.0</td>\n",
              "      <td>205</td>\n",
              "      <td>0</td>\n",
              "      <td>2</td>\n",
              "      <td>0</td>\n",
              "      <td>5</td>\n",
              "      <td>0.0</td>\n",
              "      <td>156.0</td>\n",
              "      <td>8.0</td>\n",
              "      <td>2164.0</td>\n",
              "      <td>3479.0</td>\n",
              "    </tr>\n",
              "  </tbody>\n",
              "</table>\n",
              "<p>1486 rows × 11 columns</p>\n",
              "</div>"
            ],
            "text/plain": [
              "      Stall_no  Market_Category  ...  Minimum_price  Maximum_price\n",
              "4242      43.0              358  ...         5325.0        17200.0\n",
              "1127      43.0               65  ...         3359.0         4821.0\n",
              "3608      27.0              188  ...         2890.0         3957.0\n",
              "2565      44.0              204  ...         3589.0         9931.0\n",
              "1824      46.0                3  ...         2233.0         3930.0\n",
              "...        ...              ...  ...            ...            ...\n",
              "2590      46.0               14  ...         4126.0         6020.0\n",
              "589       47.0              467  ...         7117.0         9990.0\n",
              "4235       9.0               24  ...         4313.0         5494.0\n",
              "2183       5.0              165  ...         2625.0         3883.0\n",
              "2902      25.0              205  ...         2164.0         3479.0\n",
              "\n",
              "[1486 rows x 11 columns]"
            ]
          },
          "metadata": {
            "tags": []
          },
          "execution_count": 106
        }
      ]
    },
    {
      "cell_type": "code",
      "metadata": {
        "colab": {
          "base_uri": "https://localhost:8080/",
          "height": 411
        },
        "id": "V28Po0PxYHC2",
        "outputId": "714f236a-24a9-46c2-e525-de923ba91e0e"
      },
      "source": [
        "X_test2"
      ],
      "execution_count": null,
      "outputs": [
        {
          "output_type": "execute_result",
          "data": {
            "text/html": [
              "<div>\n",
              "<style scoped>\n",
              "    .dataframe tbody tr th:only-of-type {\n",
              "        vertical-align: middle;\n",
              "    }\n",
              "\n",
              "    .dataframe tbody tr th {\n",
              "        vertical-align: top;\n",
              "    }\n",
              "\n",
              "    .dataframe thead th {\n",
              "        text-align: right;\n",
              "    }\n",
              "</style>\n",
              "<table border=\"1\" class=\"dataframe\">\n",
              "  <thead>\n",
              "    <tr style=\"text-align: right;\">\n",
              "      <th></th>\n",
              "      <th>Stall_no</th>\n",
              "      <th>Market_Category</th>\n",
              "      <th>Loyalty_customer</th>\n",
              "      <th>Product_Category</th>\n",
              "      <th>Grade</th>\n",
              "      <th>Demand</th>\n",
              "      <th>Discount_avail</th>\n",
              "      <th>charges_1</th>\n",
              "      <th>charges_2 (%)</th>\n",
              "      <th>Minimum_price</th>\n",
              "      <th>Maximum_price</th>\n",
              "      <th>Selling_Price</th>\n",
              "    </tr>\n",
              "  </thead>\n",
              "  <tbody>\n",
              "    <tr>\n",
              "      <th>0</th>\n",
              "      <td>10.0</td>\n",
              "      <td>358</td>\n",
              "      <td>1</td>\n",
              "      <td>1</td>\n",
              "      <td>3</td>\n",
              "      <td>64</td>\n",
              "      <td>0.0</td>\n",
              "      <td>270.000000</td>\n",
              "      <td>17.0</td>\n",
              "      <td>8335.0</td>\n",
              "      <td>13617.0</td>\n",
              "      <td>10389.670435</td>\n",
              "    </tr>\n",
              "    <tr>\n",
              "      <th>1</th>\n",
              "      <td>49.0</td>\n",
              "      <td>115</td>\n",
              "      <td>0</td>\n",
              "      <td>5</td>\n",
              "      <td>0</td>\n",
              "      <td>8</td>\n",
              "      <td>0.0</td>\n",
              "      <td>248.000000</td>\n",
              "      <td>12.0</td>\n",
              "      <td>1429.0</td>\n",
              "      <td>2178.0</td>\n",
              "      <td>2393.381113</td>\n",
              "    </tr>\n",
              "    <tr>\n",
              "      <th>2</th>\n",
              "      <td>43.0</td>\n",
              "      <td>220</td>\n",
              "      <td>1</td>\n",
              "      <td>4</td>\n",
              "      <td>0</td>\n",
              "      <td>49</td>\n",
              "      <td>0.0</td>\n",
              "      <td>233.000000</td>\n",
              "      <td>14.0</td>\n",
              "      <td>3755.0</td>\n",
              "      <td>5429.0</td>\n",
              "      <td>4776.652628</td>\n",
              "    </tr>\n",
              "    <tr>\n",
              "      <th>3</th>\n",
              "      <td>5.0</td>\n",
              "      <td>14</td>\n",
              "      <td>1</td>\n",
              "      <td>7</td>\n",
              "      <td>0</td>\n",
              "      <td>51</td>\n",
              "      <td>0.0</td>\n",
              "      <td>155.000000</td>\n",
              "      <td>7.0</td>\n",
              "      <td>3339.0</td>\n",
              "      <td>4327.0</td>\n",
              "      <td>4045.812847</td>\n",
              "    </tr>\n",
              "    <tr>\n",
              "      <th>4</th>\n",
              "      <td>49.0</td>\n",
              "      <td>24</td>\n",
              "      <td>1</td>\n",
              "      <td>4</td>\n",
              "      <td>0</td>\n",
              "      <td>56</td>\n",
              "      <td>1.0</td>\n",
              "      <td>275.000000</td>\n",
              "      <td>17.0</td>\n",
              "      <td>6442.0</td>\n",
              "      <td>8919.0</td>\n",
              "      <td>3060.536590</td>\n",
              "    </tr>\n",
              "    <tr>\n",
              "      <th>...</th>\n",
              "      <td>...</td>\n",
              "      <td>...</td>\n",
              "      <td>...</td>\n",
              "      <td>...</td>\n",
              "      <td>...</td>\n",
              "      <td>...</td>\n",
              "      <td>...</td>\n",
              "      <td>...</td>\n",
              "      <td>...</td>\n",
              "      <td>...</td>\n",
              "      <td>...</td>\n",
              "      <td>...</td>\n",
              "    </tr>\n",
              "    <tr>\n",
              "      <th>1995</th>\n",
              "      <td>37.0</td>\n",
              "      <td>363</td>\n",
              "      <td>0</td>\n",
              "      <td>6</td>\n",
              "      <td>3</td>\n",
              "      <td>27</td>\n",
              "      <td>0.0</td>\n",
              "      <td>132.000000</td>\n",
              "      <td>7.0</td>\n",
              "      <td>457.0</td>\n",
              "      <td>1356.0</td>\n",
              "      <td>1552.189443</td>\n",
              "    </tr>\n",
              "    <tr>\n",
              "      <th>1996</th>\n",
              "      <td>1.0</td>\n",
              "      <td>451</td>\n",
              "      <td>1</td>\n",
              "      <td>5</td>\n",
              "      <td>0</td>\n",
              "      <td>15</td>\n",
              "      <td>0.0</td>\n",
              "      <td>326.000000</td>\n",
              "      <td>14.0</td>\n",
              "      <td>5454.0</td>\n",
              "      <td>6767.0</td>\n",
              "      <td>6202.162716</td>\n",
              "    </tr>\n",
              "    <tr>\n",
              "      <th>1997</th>\n",
              "      <td>36.0</td>\n",
              "      <td>65</td>\n",
              "      <td>0</td>\n",
              "      <td>5</td>\n",
              "      <td>2</td>\n",
              "      <td>15</td>\n",
              "      <td>0.0</td>\n",
              "      <td>218.000000</td>\n",
              "      <td>8.0</td>\n",
              "      <td>689.0</td>\n",
              "      <td>2488.0</td>\n",
              "      <td>2204.731869</td>\n",
              "    </tr>\n",
              "    <tr>\n",
              "      <th>1998</th>\n",
              "      <td>29.0</td>\n",
              "      <td>63</td>\n",
              "      <td>0</td>\n",
              "      <td>1</td>\n",
              "      <td>1</td>\n",
              "      <td>6</td>\n",
              "      <td>1.0</td>\n",
              "      <td>244.636364</td>\n",
              "      <td>15.0</td>\n",
              "      <td>3882.0</td>\n",
              "      <td>9759.0</td>\n",
              "      <td>2350.487122</td>\n",
              "    </tr>\n",
              "    <tr>\n",
              "      <th>1999</th>\n",
              "      <td>14.0</td>\n",
              "      <td>450</td>\n",
              "      <td>0</td>\n",
              "      <td>6</td>\n",
              "      <td>0</td>\n",
              "      <td>92</td>\n",
              "      <td>1.0</td>\n",
              "      <td>114.000000</td>\n",
              "      <td>6.0</td>\n",
              "      <td>2976.0</td>\n",
              "      <td>4145.0</td>\n",
              "      <td>-579.921883</td>\n",
              "    </tr>\n",
              "  </tbody>\n",
              "</table>\n",
              "<p>2000 rows × 12 columns</p>\n",
              "</div>"
            ],
            "text/plain": [
              "      Stall_no  Market_Category  ...  Maximum_price  Selling_Price\n",
              "0         10.0              358  ...        13617.0   10389.670435\n",
              "1         49.0              115  ...         2178.0    2393.381113\n",
              "2         43.0              220  ...         5429.0    4776.652628\n",
              "3          5.0               14  ...         4327.0    4045.812847\n",
              "4         49.0               24  ...         8919.0    3060.536590\n",
              "...        ...              ...  ...            ...            ...\n",
              "1995      37.0              363  ...         1356.0    1552.189443\n",
              "1996       1.0              451  ...         6767.0    6202.162716\n",
              "1997      36.0               65  ...         2488.0    2204.731869\n",
              "1998      29.0               63  ...         9759.0    2350.487122\n",
              "1999      14.0              450  ...         4145.0    -579.921883\n",
              "\n",
              "[2000 rows x 12 columns]"
            ]
          },
          "metadata": {
            "tags": []
          },
          "execution_count": 119
        }
      ]
    },
    {
      "cell_type": "code",
      "metadata": {
        "id": "ymhC4fvVXxy6"
      },
      "source": [
        "X_train=data_train.drop(['Product_id','instock_date','Customer_name','Selling_Price'],axis=1)\n",
        "Y_train=data_train[['Selling_Price']].values\n",
        "X_test=data.drop(['Product_id','instock_date','Customer_name'],axis=1)\n",
        "reg2 = LinearRegression()\n",
        "reg2.fit(X_train,Y_train)\n",
        "data['Selling_Price'] = reg2.predict(X_test)"
      ],
      "execution_count": null,
      "outputs": []
    },
    {
      "cell_type": "code",
      "metadata": {
        "id": "UqhGw0UlOySI"
      },
      "source": [
        "X_test2=data.drop(['Product_id','instock_date','Customer_name','Selling_Price'],axis=1)\n",
        "data['Selling_Price'] = reg3.predict(X_test2)\n",
        "sample_sub=data[['Product_id','Selling_Price']]\n",
        "l=sample_sub.merge(sample,left_on=sample_sub['Product_id'],right_on=sample['Product_id'])\n",
        "final=l[['Product_id_x','Selling_Price_x']]\n",
        "final.columns=sample.columns\n",
        "final.reset_index(drop=True, inplace=True)"
      ],
      "execution_count": null,
      "outputs": []
    },
    {
      "cell_type": "code",
      "metadata": {
        "colab": {
          "base_uri": "https://localhost:8080/"
        },
        "id": "GEQNI6syWyBd",
        "outputId": "21b1249b-8bfd-4d7b-e975-b6dd8a5371c5"
      },
      "source": [
        "for i in range(0,len(final)):\n",
        "    if(final['Selling_Price'][i]<0):\n",
        "        final['Selling_Price'][i]=0\n",
        "print(final)"
      ],
      "execution_count": null,
      "outputs": [
        {
          "output_type": "stream",
          "text": [
            "            Product_id  Selling_Price\n",
            "0     BLAE6DPHRB25VEHK   10491.377474\n",
            "1     RTRDYYTZVSFZQXWF    2371.510761\n",
            "2     PBXEAP3SGKSH89XC    4760.670491\n",
            "3     TOPDQAUYZKH2GDTM    4042.250295\n",
            "4     PCSE76X4QXVW9KG9    3135.969770\n",
            "...                ...            ...\n",
            "1982  INKECA5VFTCGF77E    1569.577352\n",
            "1983  ACCEHHR5ESZAXDPA    6230.886087\n",
            "1984  SHOEBGDMKUF33QYC    2203.970124\n",
            "1985  DUPEGNY4RYYXGJH6    2419.173841\n",
            "1986  SWTEDMX4BW4KYHZS     250.000000\n",
            "\n",
            "[1987 rows x 2 columns]\n"
          ],
          "name": "stdout"
        },
        {
          "output_type": "stream",
          "text": [
            "/usr/local/lib/python3.6/dist-packages/ipykernel_launcher.py:3: SettingWithCopyWarning: \n",
            "A value is trying to be set on a copy of a slice from a DataFrame\n",
            "\n",
            "See the caveats in the documentation: https://pandas.pydata.org/pandas-docs/stable/user_guide/indexing.html#returning-a-view-versus-a-copy\n",
            "  This is separate from the ipykernel package so we can avoid doing imports until\n",
            "/usr/local/lib/python3.6/dist-packages/IPython/core/interactiveshell.py:2882: SettingWithCopyWarning: \n",
            "A value is trying to be set on a copy of a slice from a DataFrame\n",
            "\n",
            "See the caveats in the documentation: https://pandas.pydata.org/pandas-docs/stable/user_guide/indexing.html#returning-a-view-versus-a-copy\n",
            "  exec(code_obj, self.user_global_ns, self.user_ns)\n"
          ],
          "name": "stderr"
        }
      ]
    },
    {
      "cell_type": "markdown",
      "metadata": {
        "id": "d30jxEzWNy1I"
      },
      "source": [
        "#Submission Code"
      ]
    },
    {
      "cell_type": "code",
      "metadata": {
        "id": "eapCBQmLND2O"
      },
      "source": [
        "final.to_csv(\"my_submission.csv\", index=False, header=True)"
      ],
      "execution_count": null,
      "outputs": []
    },
    {
      "cell_type": "code",
      "metadata": {
        "colab": {
          "base_uri": "https://localhost:8080/",
          "height": 17
        },
        "id": "Cmgy56DjNHCk",
        "outputId": "35a050d7-bb54-4082-c031-91d47c2f439e"
      },
      "source": [
        "files.download('my_submission.csv')"
      ],
      "execution_count": null,
      "outputs": [
        {
          "output_type": "display_data",
          "data": {
            "application/javascript": [
              "\n",
              "    async function download(id, filename, size) {\n",
              "      if (!google.colab.kernel.accessAllowed) {\n",
              "        return;\n",
              "      }\n",
              "      const div = document.createElement('div');\n",
              "      const label = document.createElement('label');\n",
              "      label.textContent = `Downloading \"${filename}\": `;\n",
              "      div.appendChild(label);\n",
              "      const progress = document.createElement('progress');\n",
              "      progress.max = size;\n",
              "      div.appendChild(progress);\n",
              "      document.body.appendChild(div);\n",
              "\n",
              "      const buffers = [];\n",
              "      let downloaded = 0;\n",
              "\n",
              "      const channel = await google.colab.kernel.comms.open(id);\n",
              "      // Send a message to notify the kernel that we're ready.\n",
              "      channel.send({})\n",
              "\n",
              "      for await (const message of channel.messages) {\n",
              "        // Send a message to notify the kernel that we're ready.\n",
              "        channel.send({})\n",
              "        if (message.buffers) {\n",
              "          for (const buffer of message.buffers) {\n",
              "            buffers.push(buffer);\n",
              "            downloaded += buffer.byteLength;\n",
              "            progress.value = downloaded;\n",
              "          }\n",
              "        }\n",
              "      }\n",
              "      const blob = new Blob(buffers, {type: 'application/binary'});\n",
              "      const a = document.createElement('a');\n",
              "      a.href = window.URL.createObjectURL(blob);\n",
              "      a.download = filename;\n",
              "      div.appendChild(a);\n",
              "      a.click();\n",
              "      div.remove();\n",
              "    }\n",
              "  "
            ],
            "text/plain": [
              "<IPython.core.display.Javascript object>"
            ]
          },
          "metadata": {
            "tags": []
          }
        },
        {
          "output_type": "display_data",
          "data": {
            "application/javascript": [
              "download(\"download_87bed7bf-8d3e-4b97-946c-0da074f290a4\", \"my_submission.csv\", 68633)"
            ],
            "text/plain": [
              "<IPython.core.display.Javascript object>"
            ]
          },
          "metadata": {
            "tags": []
          }
        }
      ]
    },
    {
      "cell_type": "code",
      "metadata": {
        "colab": {
          "base_uri": "https://localhost:8080/"
        },
        "id": "MdBxSbaGAu-m",
        "outputId": "aa59ddd2-1868-4d21-fabe-6dbd59acec05"
      },
      "source": [
        "!pip install kaggle"
      ],
      "execution_count": null,
      "outputs": [
        {
          "output_type": "stream",
          "text": [
            "Requirement already satisfied: kaggle in /usr/local/lib/python3.6/dist-packages (1.5.9)\n",
            "Requirement already satisfied: tqdm in /usr/local/lib/python3.6/dist-packages (from kaggle) (4.41.1)\n",
            "Requirement already satisfied: python-slugify in /usr/local/lib/python3.6/dist-packages (from kaggle) (4.0.1)\n",
            "Requirement already satisfied: requests in /usr/local/lib/python3.6/dist-packages (from kaggle) (2.23.0)\n",
            "Requirement already satisfied: urllib3 in /usr/local/lib/python3.6/dist-packages (from kaggle) (1.24.3)\n",
            "Requirement already satisfied: six>=1.10 in /usr/local/lib/python3.6/dist-packages (from kaggle) (1.15.0)\n",
            "Requirement already satisfied: certifi in /usr/local/lib/python3.6/dist-packages (from kaggle) (2020.6.20)\n",
            "Requirement already satisfied: slugify in /usr/local/lib/python3.6/dist-packages (from kaggle) (0.0.1)\n",
            "Requirement already satisfied: python-dateutil in /usr/local/lib/python3.6/dist-packages (from kaggle) (2.8.1)\n",
            "Requirement already satisfied: text-unidecode>=1.3 in /usr/local/lib/python3.6/dist-packages (from python-slugify->kaggle) (1.3)\n",
            "Requirement already satisfied: chardet<4,>=3.0.2 in /usr/local/lib/python3.6/dist-packages (from requests->kaggle) (3.0.4)\n",
            "Requirement already satisfied: idna<3,>=2.5 in /usr/local/lib/python3.6/dist-packages (from requests->kaggle) (2.10)\n"
          ],
          "name": "stdout"
        }
      ]
    },
    {
      "cell_type": "code",
      "metadata": {
        "colab": {
          "base_uri": "https://localhost:8080/"
        },
        "id": "qqIYgORqKcM5",
        "outputId": "4e3a8ee0-5ebd-49db-c16f-08d9e301d0e2"
      },
      "source": [
        "# submit the file to kaggle\n",
        "!kaggle competitions submit datascience-ml -f my_submission.csv -m \"Submitted my file through the Google Colab! 10\""
      ],
      "execution_count": null,
      "outputs": [
        {
          "output_type": "stream",
          "text": [
            "Warning: Your Kaggle API key is readable by other users on this system! To fix this, you can run 'chmod 600 /root/.kaggle/kaggle.json'\n",
            "Warning: Looks like you're using an outdated API Version, please consider updating (server 1.5.9 / client 1.5.4)\n",
            "100% 67.2k/67.2k [00:08<00:00, 7.87kB/s]\n",
            "Successfully submitted to DataScience_ML"
          ],
          "name": "stdout"
        }
      ]
    },
    {
      "cell_type": "code",
      "metadata": {
        "colab": {
          "resources": {
            "http://localhost:8080/nbextensions/google.colab/files.js": {
              "data": "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",
              "ok": true,
              "headers": [
                [
                  "content-type",
                  "application/javascript"
                ]
              ],
              "status": 200,
              "status_text": ""
            }
          },
          "base_uri": "https://localhost:8080/",
          "height": 88
        },
        "id": "mBOtHaspL0PG",
        "outputId": "b01655e7-3c3c-43de-ac4b-17a618d2dcaa"
      },
      "source": [
        "from google.colab import files\n",
        "files.upload()"
      ],
      "execution_count": null,
      "outputs": [
        {
          "output_type": "display_data",
          "data": {
            "text/html": [
              "\n",
              "     <input type=\"file\" id=\"files-59e98c2e-e2d7-428a-bf36-cfeb1134805b\" name=\"files[]\" multiple disabled\n",
              "        style=\"border:none\" />\n",
              "     <output id=\"result-59e98c2e-e2d7-428a-bf36-cfeb1134805b\">\n",
              "      Upload widget is only available when the cell has been executed in the\n",
              "      current browser session. Please rerun this cell to enable.\n",
              "      </output>\n",
              "      <script src=\"/nbextensions/google.colab/files.js\"></script> "
            ],
            "text/plain": [
              "<IPython.core.display.HTML object>"
            ]
          },
          "metadata": {
            "tags": []
          }
        },
        {
          "output_type": "stream",
          "text": [
            "Saving kaggle.json to kaggle.json\n"
          ],
          "name": "stdout"
        },
        {
          "output_type": "execute_result",
          "data": {
            "text/plain": [
              "{'kaggle.json': b'{\"username\":\"dheerajvarghese\",\"key\":\"f69518f98fc3fe73030d18ef716dff7c\"}'}"
            ]
          },
          "metadata": {
            "tags": []
          },
          "execution_count": 49
        }
      ]
    },
    {
      "cell_type": "code",
      "metadata": {
        "id": "ih4tCvkXMNF9"
      },
      "source": [
        "!mkdir -p ~/.kaggle\n",
        "!cp kaggle.json ~/.kaggle/"
      ],
      "execution_count": null,
      "outputs": []
    },
    {
      "cell_type": "code",
      "metadata": {
        "id": "uC_y5iWZMRfN"
      },
      "source": [
        ""
      ],
      "execution_count": null,
      "outputs": []
    }
  ]
}