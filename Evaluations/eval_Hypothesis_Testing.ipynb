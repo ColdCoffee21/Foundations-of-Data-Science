{
  "nbformat": 4,
  "nbformat_minor": 0,
  "metadata": {
    "colab": {
      "name": "eval_Hypothesis_Testing.ipynb",
      "provenance": [],
      "include_colab_link": true
    },
    "kernelspec": {
      "display_name": "Python 3",
      "language": "python",
      "name": "python3"
    },
    "language_info": {
      "codemirror_mode": {
        "name": "ipython",
        "version": 3
      },
      "file_extension": ".py",
      "mimetype": "text/x-python",
      "name": "python",
      "nbconvert_exporter": "python",
      "pygments_lexer": "ipython3",
      "version": "3.7.7"
    }
  },
  "cells": [
    {
      "cell_type": "markdown",
      "metadata": {
        "id": "view-in-github",
        "colab_type": "text"
      },
      "source": [
        "<a href=\"https://colab.research.google.com/github/ColdCoffee21/Foundations-of-Data-Science/blob/master/eval_Hypothesis_Testing.ipynb\" target=\"_parent\"><img src=\"https://colab.research.google.com/assets/colab-badge.svg\" alt=\"Open In Colab\"/></a>"
      ]
    },
    {
      "cell_type": "markdown",
      "metadata": {
        "id": "BNZqga1I6REh"
      },
      "source": [
        "## Import *all* necessary libraries here"
      ]
    },
    {
      "cell_type": "code",
      "metadata": {
        "id": "rZZ_BU9i6REi"
      },
      "source": [
        "import numpy as np\n",
        "import scipy.stats as st"
      ],
      "execution_count": null,
      "outputs": []
    },
    {
      "cell_type": "markdown",
      "metadata": {
        "id": "zceRT5nW6REn"
      },
      "source": [
        "## Question 1 : Warming and Ice Melt \n",
        "The average depth of the Hudson Bay is 305 feet. Climatologists were interested in seeing if warming and ice melt were affecting the water level. Fifty-five measurements over a period of randomly selected weeks yielded a\n",
        "sample mean of 306.2 feet. The population variance is known to be 3.6. Can it be concluded at the 0.05 level of significance that the average depth has increased? Is there evidence of what caused this to happen?\n"
      ]
    },
    {
      "cell_type": "code",
      "metadata": {
        "id": "HGVIXgN86REn"
      },
      "source": [
        "def q1():\n",
        "    #List your hypothesis in the comment below\n",
        "    # H0: mu = 305 ; Ha: mu > 305 \n",
        "    \n",
        "    #Initial variable here\n",
        "    \n",
        "    n = 55\n",
        "    xbar = 306.2\n",
        "    mu = 305\n",
        "    sigma = np.sqrt(3.6)\n",
        "    alpha = 0.05\n",
        "    \n",
        "    #Fill in your code here\n",
        "    z = round((xbar-mu)/(sigma/np.sqrt(n)),2)\n",
        "    z_critical = round(abs(st.norm.ppf(alpha)),2)\n",
        "    \n",
        "    if(z<z_critical): #Add your condition check\n",
        "        rejection = False \n",
        "    else:\n",
        "        rejection = True\n",
        "    #Reject null hypothesis\n",
        "    return rejection, z, z_critical"
      ],
      "execution_count": null,
      "outputs": []
    },
    {
      "cell_type": "code",
      "metadata": {
        "id": "0rO3z1w0gIv2",
        "colab": {
          "base_uri": "https://localhost:8080/"
        },
        "outputId": "e352e6af-14d8-4386-a69e-9ea9a01faf63"
      },
      "source": [
        "q1()"
      ],
      "execution_count": null,
      "outputs": [
        {
          "output_type": "execute_result",
          "data": {
            "text/plain": [
              "(True, 4.69, 1.64)"
            ]
          },
          "metadata": {
            "tags": []
          },
          "execution_count": 5
        }
      ]
    },
    {
      "cell_type": "markdown",
      "metadata": {
        "id": "Xs6SVjgP6REr"
      },
      "source": [
        "## Question 2 : Stopping Distances \n",
        "A study found that the average stopping distance of a school bus traveling 50 miles per hour was 264 feet. A group of automotive engineers decided to conduct a study of its school buses and found that for 20 randomly selected buses, the average stopping distance of buses traveling 50 miles per hour was 262.3 feet. The standard deviation of the population was 3 feet. Test the claim that the average stopping distance of the company’s buses is actually\n",
        "less than 264 feet. Find the P-value. On the basis of the P-value, should the null hypothesis be rejected\n",
        "at α = 0.01? Assume that the variable is normally distributed.\n"
      ]
    },
    {
      "cell_type": "code",
      "metadata": {
        "id": "z6xyFkRM6REs"
      },
      "source": [
        "def q2():\n",
        "    #List your hypothesis in the comment below\n",
        "    # H0: mu=264 ; Ha: mu<264\n",
        "    \n",
        "    #Initial variable here\n",
        "    n = 20\n",
        "    xbar = 262.3\n",
        "    mu = 264\n",
        "    sigma = 3\n",
        "    alpha = 0.01\n",
        "    \n",
        "    #Fill in your code here\n",
        "    z = round((xbar-mu)/(sigma/np.sqrt(n)),2)\n",
        "    p = round(st.norm.cdf(z),2)\n",
        "    \n",
        "    if(p > alpha): #Add your condition check\n",
        "        rejection = False \n",
        "    else:\n",
        "        rejection = True\n",
        "    #Reject null hypothesis\n",
        "    return rejection, z, p"
      ],
      "execution_count": null,
      "outputs": []
    },
    {
      "cell_type": "code",
      "metadata": {
        "id": "uiFLUyPOgIwS",
        "colab": {
          "base_uri": "https://localhost:8080/"
        },
        "outputId": "46a55a8a-8c3e-4526-dc82-dae23fb6495e"
      },
      "source": [
        "q2()"
      ],
      "execution_count": null,
      "outputs": [
        {
          "output_type": "execute_result",
          "data": {
            "text/plain": [
              "(True, -2.53, 0.01)"
            ]
          },
          "metadata": {
            "tags": []
          },
          "execution_count": 7
        }
      ]
    },
    {
      "cell_type": "markdown",
      "metadata": {
        "id": "fM76ezFL6REx"
      },
      "source": [
        "## Question 3 : Television Viewing by Teens\n",
        "Teens are reported to watch the fewest total hours of television per week of all the demographic groups. The average television viewing for teens on Sunday from 1:00 to 7:00 p.m. is 58 minutes. A random sample of local teens disclosed the following times (given as the list viz 'data') for Sunday afternoon television viewing. At α = 0.01, can it be concluded that the average is greater than the national viewing time? (Note: Change all times to minutes.)"
      ]
    },
    {
      "cell_type": "code",
      "metadata": {
        "id": "mH61pODf6REx"
      },
      "source": [
        "data = [\"2:30\", \"1:00\", \"1:30\", \"2:00\", \"2:15\", \"2:30\", \"1:30\", \"1:50\", \"3:20\", \"2:10\"]"
      ],
      "execution_count": null,
      "outputs": []
    },
    {
      "cell_type": "code",
      "metadata": {
        "id": "NW8IAQJA6RE1"
      },
      "source": [
        "def q3():\n",
        "    #List your hypothesis in the comment below\n",
        "    # H0: mu=58; Ha: mu >58\n",
        "    data = [\"2:30\", \"1:00\", \"1:30\", \"2:00\", \"2:15\", \"2:30\", \"1:30\", \"1:50\", \"3:20\", \"2:10\"]\n",
        "    data_conv = [float(i[0])*60 +float(i[-2:]) for i in data]\n",
        "    #Initial variables here\n",
        "       \n",
        "    n = len(data)\n",
        "    xbar = np.mean(data_conv)\n",
        "    mu = 58\n",
        "    \n",
        "    mean = np.mean(data_conv)\n",
        "    variance = np.var(data_conv) \n",
        "    sigma = np.std(data_conv,ddof=1)\n",
        "    \n",
        "    #sigma = np.std(data_conv) \n",
        "    alpha = 0.01\n",
        "    degrees_of_freedom = len(data)-1\n",
        "    \n",
        "    #Fill in your code here\n",
        "    t = round((xbar-mu)/(sigma/np.sqrt(n)),2)\n",
        "    t_critical = abs(round(st.t.ppf(alpha, degrees_of_freedom),2))\n",
        "   \n",
        "    if(t<t_critical): #Add your condition check\n",
        "        rejection = False \n",
        "    else:\n",
        "        rejection = True\n",
        "    #reject null hypothesis\n",
        "    return rejection, t, t_critical"
      ],
      "execution_count": null,
      "outputs": []
    },
    {
      "cell_type": "code",
      "metadata": {
        "id": "WlIp_1RvgIwy",
        "colab": {
          "base_uri": "https://localhost:8080/"
        },
        "outputId": "bd657ff4-0e9a-44c2-df10-8b450946fbc6"
      },
      "source": [
        "q3()"
      ],
      "execution_count": null,
      "outputs": [
        {
          "output_type": "execute_result",
          "data": {
            "text/plain": [
              "(True, 5.27, 2.82)"
            ]
          },
          "metadata": {
            "tags": []
          },
          "execution_count": 33
        }
      ]
    },
    {
      "cell_type": "markdown",
      "metadata": {
        "id": "PjPXGd9g6RE4"
      },
      "source": [
        "## Question 4 : Doctor Visits \n",
        "A report by the Gallup Poll stated that on average a woman visits her physician 5.8 times a year. A researcher randomly selects 20 women and obtained these data (list viz 'data' given below). At α = 0.05, can it be concluded that the average is still 5.8 visits per year? Use the P-value method."
      ]
    },
    {
      "cell_type": "code",
      "metadata": {
        "id": "g8zf02K86RE5"
      },
      "source": [
        "data = [3, 8, 2, 0, 1, 5, 3, 6, 7, 4, 2, 2, 4, 3, 6, 4, 6, 1,9,1]"
      ],
      "execution_count": null,
      "outputs": []
    },
    {
      "cell_type": "code",
      "metadata": {
        "id": "JXGrttNr6RE9"
      },
      "source": [
        "def q4():\n",
        "    #List your hypothesis in the comment below\n",
        "    # H0 = 5.8 ; Ha != 5.8\n",
        "\n",
        "    #Initial variables here\n",
        "    data = [3, 8, 2, 0, 1, 5, 3, 6, 7, 4, 2, 2, 4, 3, 6, 4, 6, 1,9,1]\n",
        "\n",
        "    n =len(data)\n",
        "    xbar = np.mean(data)\n",
        "    mu = 5.8\n",
        "\n",
        "    mean = xbar\n",
        "    variance = np.var(data)\n",
        "    sigma = np.std(data,ddof=1)\n",
        "\n",
        "    alpha = 0.05\n",
        "\n",
        "    #Fill in your code here\n",
        "    t = round((xbar-mu)/(sigma/np.sqrt(n)),2)\n",
        "    p = round(st.t.cdf(abs(t),19),2)\n",
        "\n",
        "    if(2*p > alpha): #Add your condition check\n",
        "        rejection = False \n",
        "    else:\n",
        "        rejection = True\n",
        "\n",
        "    return rejection, t, p"
      ],
      "execution_count": null,
      "outputs": []
    },
    {
      "cell_type": "code",
      "metadata": {
        "id": "auQnFcnggIxR",
        "colab": {
          "base_uri": "https://localhost:8080/"
        },
        "outputId": "6926b9df-5637-4567-c066-d5aef35302af"
      },
      "source": [
        "q4()"
      ],
      "execution_count": null,
      "outputs": [
        {
          "output_type": "execute_result",
          "data": {
            "text/plain": [
              "(False, -3.46, 1.0)"
            ]
          },
          "metadata": {
            "tags": []
          },
          "execution_count": 41
        }
      ]
    },
    {
      "cell_type": "markdown",
      "metadata": {
        "id": "fdMKqbCz6RFB"
      },
      "source": [
        "## Question 5 : Age of Psychologists \n",
        "Test the claim that the standard deviation of the ages of psychologists in Pennsylvania is 8.6 at α = 0.05. A random sample of 12 psychologists had a standard deviation of 9.3."
      ]
    },
    {
      "cell_type": "code",
      "metadata": {
        "id": "YoOXiYdu6RFB"
      },
      "source": [
        "def q5():\n",
        "    #List your hypothesis in the comment below\n",
        "    # H0: sigma=8.6 ; Ha: sigma!=8.6\n",
        "\n",
        "    #Initial variables here\n",
        "    n = 12\n",
        "    degrees_of_freedom = 11\n",
        "    s = 9.3\n",
        "    sigma = 8.6\n",
        "    alpha = .05\n",
        "\n",
        "    #Fill in your code here\n",
        "    chi_square = round((n-1)*(s*s)/(sigma*sigma),2)\n",
        "    chi_square_critical_right = round(st.chi2.ppf(alpha/2,degrees_of_freedom),2)\n",
        "    chi_square_critical_left = round(st.chi2.ppf(1-(alpha/2),degrees_of_freedom),2)\n",
        "\n",
        "    if(chi_square<chi_square_critical_left or chi_square>chi_square_critical_right): #Add your condition check\n",
        "        rejection = False \n",
        "    else:\n",
        "        rejection = True\n",
        "\n",
        "    return rejection, chi_square, chi_square_critical_right,chi_square_critical_left"
      ],
      "execution_count": null,
      "outputs": []
    },
    {
      "cell_type": "code",
      "metadata": {
        "id": "J6XXiCqfgIxm",
        "colab": {
          "base_uri": "https://localhost:8080/"
        },
        "outputId": "c04c4c98-5a61-4d7b-b779-5e547fa5aa26"
      },
      "source": [
        "q5()"
      ],
      "execution_count": null,
      "outputs": [
        {
          "output_type": "execute_result",
          "data": {
            "text/plain": [
              "(False, 12.86, 3.82, 21.92)"
            ]
          },
          "metadata": {
            "tags": []
          },
          "execution_count": 53
        }
      ]
    },
    {
      "cell_type": "markdown",
      "metadata": {
        "id": "VaRUw1DY6RFG"
      },
      "source": [
        "## Question 6 : Transferring Phone Calls\n",
        "The manager of a large company claims that the standard deviation of the time (in minutes) that it takes a telephone call to be transferred to the correct office in her company is 1.2 minutes or less. A random sample of 15 calls is selected, and the calls are timed. The standard deviation of the sample is 1.8 minutes. At α = 0.01, test the claim that the standard deviation is less than or equal to 1.2 minutes. Use the P-value method.\n"
      ]
    },
    {
      "cell_type": "code",
      "metadata": {
        "id": "5FvPlJFogIxx"
      },
      "source": [
        "def q6():\n",
        "    #List your hypothesis in the comment below\n",
        "    # H0 :sd=1.2minutes  ; Ha: sd<1.2minutes\n",
        "\n",
        "    #Initial variables here\n",
        "    n = 15\n",
        "    degrees_of_freedom = 14\n",
        "    s = 1.8\n",
        "    sigma = 1.2\n",
        "    alpha = .01\n",
        "\n",
        "    #Fill in your code here\n",
        "    chi_square = round(((n-1)*(s**2))/sigma**2,2)\n",
        "    p = round(st.chi2.cdf(chi_square, degrees_of_freedom),2)\n",
        "\n",
        "    if( p > alpha): #Add your condition check\n",
        "        rejection = False \n",
        "    else:\n",
        "        rejection = True\n",
        "\n",
        "    return rejection, chi_square, p"
      ],
      "execution_count": null,
      "outputs": []
    },
    {
      "cell_type": "code",
      "metadata": {
        "id": "IR91sQYegIx4",
        "colab": {
          "base_uri": "https://localhost:8080/"
        },
        "outputId": "19110598-fece-497c-a136-125a9f5e0cec"
      },
      "source": [
        "q6()"
      ],
      "execution_count": null,
      "outputs": [
        {
          "output_type": "execute_result",
          "data": {
            "text/plain": [
              "(False, 31.5, 1.0)"
            ]
          },
          "metadata": {
            "tags": []
          },
          "execution_count": 37
        }
      ]
    },
    {
      "cell_type": "code",
      "metadata": {
        "id": "HVPNddXUgIyB"
      },
      "source": [
        ""
      ],
      "execution_count": null,
      "outputs": []
    }
  ]
}