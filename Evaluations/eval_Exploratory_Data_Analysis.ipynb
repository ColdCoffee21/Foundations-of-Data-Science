{
  "nbformat": 4,
  "nbformat_minor": 0,
  "metadata": {
    "colab": {
      "name": "eval -Exploratory Data Analysis.ipynb",
      "provenance": [],
      "collapsed_sections": [],
      "include_colab_link": true
    },
    "kernelspec": {
      "display_name": "Python 3",
      "language": "python",
      "name": "python3"
    },
    "language_info": {
      "codemirror_mode": {
        "name": "ipython",
        "version": 3
      },
      "file_extension": ".py",
      "mimetype": "text/x-python",
      "name": "python",
      "nbconvert_exporter": "python",
      "pygments_lexer": "ipython3",
      "version": "3.7.7"
    }
  },
  "cells": [
    {
      "cell_type": "markdown",
      "metadata": {
        "id": "view-in-github",
        "colab_type": "text"
      },
      "source": [
        "<a href=\"https://colab.research.google.com/github/ColdCoffee21/Foundations-of-Data-Science/blob/master/eval_Exploratory_Data_Analysis.ipynb\" target=\"_parent\"><img src=\"https://colab.research.google.com/assets/colab-badge.svg\" alt=\"Open In Colab\"/></a>"
      ]
    },
    {
      "cell_type": "markdown",
      "metadata": {
        "id": "AhpweuhzcMpP"
      },
      "source": [
        "# 0. Import data"
      ]
    },
    {
      "cell_type": "code",
      "metadata": {
        "id": "QRCHDjJxRnB4"
      },
      "source": [
        "import pandas as pd"
      ],
      "execution_count": null,
      "outputs": []
    },
    {
      "cell_type": "code",
      "metadata": {
        "id": "HunJ2a3zRtxq",
        "colab": {
          "base_uri": "https://localhost:8080/",
          "height": 353
        },
        "outputId": "136c5960-cd0c-4dce-c8e0-98b0d292bc6f"
      },
      "source": [
        "insurance = pd.read_csv('https://raw.githubusercontent.com/dhanyahari07/Data_Science/master/insurance.csv')\n",
        "\n",
        "insurance.head(10)"
      ],
      "execution_count": null,
      "outputs": [
        {
          "output_type": "execute_result",
          "data": {
            "text/html": [
              "<div>\n",
              "<style scoped>\n",
              "    .dataframe tbody tr th:only-of-type {\n",
              "        vertical-align: middle;\n",
              "    }\n",
              "\n",
              "    .dataframe tbody tr th {\n",
              "        vertical-align: top;\n",
              "    }\n",
              "\n",
              "    .dataframe thead th {\n",
              "        text-align: right;\n",
              "    }\n",
              "</style>\n",
              "<table border=\"1\" class=\"dataframe\">\n",
              "  <thead>\n",
              "    <tr style=\"text-align: right;\">\n",
              "      <th></th>\n",
              "      <th>age</th>\n",
              "      <th>sex</th>\n",
              "      <th>bmi</th>\n",
              "      <th>children</th>\n",
              "      <th>smoker</th>\n",
              "      <th>region</th>\n",
              "      <th>charges</th>\n",
              "    </tr>\n",
              "  </thead>\n",
              "  <tbody>\n",
              "    <tr>\n",
              "      <th>0</th>\n",
              "      <td>19</td>\n",
              "      <td>female</td>\n",
              "      <td>27.900</td>\n",
              "      <td>0</td>\n",
              "      <td>yes</td>\n",
              "      <td>southwest</td>\n",
              "      <td>16884.92400</td>\n",
              "    </tr>\n",
              "    <tr>\n",
              "      <th>1</th>\n",
              "      <td>18</td>\n",
              "      <td>male</td>\n",
              "      <td>33.770</td>\n",
              "      <td>1</td>\n",
              "      <td>no</td>\n",
              "      <td>southeast</td>\n",
              "      <td>1725.55230</td>\n",
              "    </tr>\n",
              "    <tr>\n",
              "      <th>2</th>\n",
              "      <td>28</td>\n",
              "      <td>male</td>\n",
              "      <td>33.000</td>\n",
              "      <td>3</td>\n",
              "      <td>no</td>\n",
              "      <td>southeast</td>\n",
              "      <td>4449.46200</td>\n",
              "    </tr>\n",
              "    <tr>\n",
              "      <th>3</th>\n",
              "      <td>33</td>\n",
              "      <td>male</td>\n",
              "      <td>22.705</td>\n",
              "      <td>0</td>\n",
              "      <td>no</td>\n",
              "      <td>northwest</td>\n",
              "      <td>21984.47061</td>\n",
              "    </tr>\n",
              "    <tr>\n",
              "      <th>4</th>\n",
              "      <td>32</td>\n",
              "      <td>male</td>\n",
              "      <td>28.880</td>\n",
              "      <td>0</td>\n",
              "      <td>no</td>\n",
              "      <td>northwest</td>\n",
              "      <td>3866.85520</td>\n",
              "    </tr>\n",
              "    <tr>\n",
              "      <th>5</th>\n",
              "      <td>31</td>\n",
              "      <td>female</td>\n",
              "      <td>25.740</td>\n",
              "      <td>0</td>\n",
              "      <td>no</td>\n",
              "      <td>southeast</td>\n",
              "      <td>3756.62160</td>\n",
              "    </tr>\n",
              "    <tr>\n",
              "      <th>6</th>\n",
              "      <td>46</td>\n",
              "      <td>female</td>\n",
              "      <td>33.440</td>\n",
              "      <td>1</td>\n",
              "      <td>no</td>\n",
              "      <td>southeast</td>\n",
              "      <td>8240.58960</td>\n",
              "    </tr>\n",
              "    <tr>\n",
              "      <th>7</th>\n",
              "      <td>37</td>\n",
              "      <td>female</td>\n",
              "      <td>27.740</td>\n",
              "      <td>3</td>\n",
              "      <td>no</td>\n",
              "      <td>northwest</td>\n",
              "      <td>7281.50560</td>\n",
              "    </tr>\n",
              "    <tr>\n",
              "      <th>8</th>\n",
              "      <td>37</td>\n",
              "      <td>male</td>\n",
              "      <td>29.830</td>\n",
              "      <td>2</td>\n",
              "      <td>no</td>\n",
              "      <td>northeast</td>\n",
              "      <td>6406.41070</td>\n",
              "    </tr>\n",
              "    <tr>\n",
              "      <th>9</th>\n",
              "      <td>60</td>\n",
              "      <td>female</td>\n",
              "      <td>25.840</td>\n",
              "      <td>0</td>\n",
              "      <td>no</td>\n",
              "      <td>northwest</td>\n",
              "      <td>28923.13692</td>\n",
              "    </tr>\n",
              "  </tbody>\n",
              "</table>\n",
              "</div>"
            ],
            "text/plain": [
              "   age     sex     bmi  children smoker     region      charges\n",
              "0   19  female  27.900         0    yes  southwest  16884.92400\n",
              "1   18    male  33.770         1     no  southeast   1725.55230\n",
              "2   28    male  33.000         3     no  southeast   4449.46200\n",
              "3   33    male  22.705         0     no  northwest  21984.47061\n",
              "4   32    male  28.880         0     no  northwest   3866.85520\n",
              "5   31  female  25.740         0     no  southeast   3756.62160\n",
              "6   46  female  33.440         1     no  southeast   8240.58960\n",
              "7   37  female  27.740         3     no  northwest   7281.50560\n",
              "8   37    male  29.830         2     no  northeast   6406.41070\n",
              "9   60  female  25.840         0     no  northwest  28923.13692"
            ]
          },
          "metadata": {
            "tags": []
          },
          "execution_count": 36
        }
      ]
    },
    {
      "cell_type": "markdown",
      "metadata": {
        "id": "33W2dX4zTDde"
      },
      "source": [
        "# 1.The largest amount paid by the insurance company last year to any beneficiary . 2 Decimal Place"
      ]
    },
    {
      "cell_type": "code",
      "metadata": {
        "id": "F-q8RFloSAQ_",
        "colab": {
          "base_uri": "https://localhost:8080/",
          "height": 34
        },
        "outputId": "f9fdba01-ea21-472c-ad0c-c7cb0fb353d3"
      },
      "source": [
        "def max_charge():\n",
        "    return round(insurance.charges.max(),2)\n",
        "max_charge()"
      ],
      "execution_count": null,
      "outputs": [
        {
          "output_type": "execute_result",
          "data": {
            "text/plain": [
              "63770.43"
            ]
          },
          "metadata": {
            "tags": []
          },
          "execution_count": 57
        }
      ]
    },
    {
      "cell_type": "markdown",
      "metadata": {
        "id": "gei-QhM8TFxn"
      },
      "source": [
        "# 2. A table similar to insurance, but with only the rows for smokers, and without the smoker column."
      ]
    },
    {
      "cell_type": "code",
      "metadata": {
        "id": "H3qReVdBSMU5"
      },
      "source": [
        "def new_table():\n",
        "  new_ins=insurance[insurance['smoker']=='yes']\n",
        "  new_ins.drop(columns=['smoker'],inplace=True)\n",
        "  return new_ins"
      ],
      "execution_count": null,
      "outputs": []
    },
    {
      "cell_type": "code",
      "metadata": {
        "id": "Kcts9rHESlvm",
        "colab": {
          "base_uri": "https://localhost:8080/",
          "height": 494
        },
        "outputId": "1911cdbb-3e41-4da7-ea6f-87d6cd3b1275"
      },
      "source": [
        "new_table()"
      ],
      "execution_count": null,
      "outputs": [
        {
          "output_type": "stream",
          "text": [
            "/usr/local/lib/python3.6/dist-packages/pandas/core/frame.py:4169: SettingWithCopyWarning: \n",
            "A value is trying to be set on a copy of a slice from a DataFrame\n",
            "\n",
            "See the caveats in the documentation: https://pandas.pydata.org/pandas-docs/stable/user_guide/indexing.html#returning-a-view-versus-a-copy\n",
            "  errors=errors,\n"
          ],
          "name": "stderr"
        },
        {
          "output_type": "execute_result",
          "data": {
            "text/html": [
              "<div>\n",
              "<style scoped>\n",
              "    .dataframe tbody tr th:only-of-type {\n",
              "        vertical-align: middle;\n",
              "    }\n",
              "\n",
              "    .dataframe tbody tr th {\n",
              "        vertical-align: top;\n",
              "    }\n",
              "\n",
              "    .dataframe thead th {\n",
              "        text-align: right;\n",
              "    }\n",
              "</style>\n",
              "<table border=\"1\" class=\"dataframe\">\n",
              "  <thead>\n",
              "    <tr style=\"text-align: right;\">\n",
              "      <th></th>\n",
              "      <th>age</th>\n",
              "      <th>sex</th>\n",
              "      <th>bmi</th>\n",
              "      <th>children</th>\n",
              "      <th>region</th>\n",
              "      <th>charges</th>\n",
              "    </tr>\n",
              "  </thead>\n",
              "  <tbody>\n",
              "    <tr>\n",
              "      <th>0</th>\n",
              "      <td>19</td>\n",
              "      <td>female</td>\n",
              "      <td>27.900</td>\n",
              "      <td>0</td>\n",
              "      <td>southwest</td>\n",
              "      <td>16884.92400</td>\n",
              "    </tr>\n",
              "    <tr>\n",
              "      <th>11</th>\n",
              "      <td>62</td>\n",
              "      <td>female</td>\n",
              "      <td>26.290</td>\n",
              "      <td>0</td>\n",
              "      <td>southeast</td>\n",
              "      <td>27808.72510</td>\n",
              "    </tr>\n",
              "    <tr>\n",
              "      <th>14</th>\n",
              "      <td>27</td>\n",
              "      <td>male</td>\n",
              "      <td>42.130</td>\n",
              "      <td>0</td>\n",
              "      <td>southeast</td>\n",
              "      <td>39611.75770</td>\n",
              "    </tr>\n",
              "    <tr>\n",
              "      <th>19</th>\n",
              "      <td>30</td>\n",
              "      <td>male</td>\n",
              "      <td>35.300</td>\n",
              "      <td>0</td>\n",
              "      <td>southwest</td>\n",
              "      <td>36837.46700</td>\n",
              "    </tr>\n",
              "    <tr>\n",
              "      <th>23</th>\n",
              "      <td>34</td>\n",
              "      <td>female</td>\n",
              "      <td>31.920</td>\n",
              "      <td>1</td>\n",
              "      <td>northeast</td>\n",
              "      <td>37701.87680</td>\n",
              "    </tr>\n",
              "    <tr>\n",
              "      <th>...</th>\n",
              "      <td>...</td>\n",
              "      <td>...</td>\n",
              "      <td>...</td>\n",
              "      <td>...</td>\n",
              "      <td>...</td>\n",
              "      <td>...</td>\n",
              "    </tr>\n",
              "    <tr>\n",
              "      <th>1313</th>\n",
              "      <td>19</td>\n",
              "      <td>female</td>\n",
              "      <td>34.700</td>\n",
              "      <td>2</td>\n",
              "      <td>southwest</td>\n",
              "      <td>36397.57600</td>\n",
              "    </tr>\n",
              "    <tr>\n",
              "      <th>1314</th>\n",
              "      <td>30</td>\n",
              "      <td>female</td>\n",
              "      <td>23.655</td>\n",
              "      <td>3</td>\n",
              "      <td>northwest</td>\n",
              "      <td>18765.87545</td>\n",
              "    </tr>\n",
              "    <tr>\n",
              "      <th>1321</th>\n",
              "      <td>62</td>\n",
              "      <td>male</td>\n",
              "      <td>26.695</td>\n",
              "      <td>0</td>\n",
              "      <td>northeast</td>\n",
              "      <td>28101.33305</td>\n",
              "    </tr>\n",
              "    <tr>\n",
              "      <th>1323</th>\n",
              "      <td>42</td>\n",
              "      <td>female</td>\n",
              "      <td>40.370</td>\n",
              "      <td>2</td>\n",
              "      <td>southeast</td>\n",
              "      <td>43896.37630</td>\n",
              "    </tr>\n",
              "    <tr>\n",
              "      <th>1337</th>\n",
              "      <td>61</td>\n",
              "      <td>female</td>\n",
              "      <td>29.070</td>\n",
              "      <td>0</td>\n",
              "      <td>northwest</td>\n",
              "      <td>29141.36030</td>\n",
              "    </tr>\n",
              "  </tbody>\n",
              "</table>\n",
              "<p>274 rows × 6 columns</p>\n",
              "</div>"
            ],
            "text/plain": [
              "      age     sex     bmi  children     region      charges\n",
              "0      19  female  27.900         0  southwest  16884.92400\n",
              "11     62  female  26.290         0  southeast  27808.72510\n",
              "14     27    male  42.130         0  southeast  39611.75770\n",
              "19     30    male  35.300         0  southwest  36837.46700\n",
              "23     34  female  31.920         1  northeast  37701.87680\n",
              "...   ...     ...     ...       ...        ...          ...\n",
              "1313   19  female  34.700         2  southwest  36397.57600\n",
              "1314   30  female  23.655         3  northwest  18765.87545\n",
              "1321   62    male  26.695         0  northeast  28101.33305\n",
              "1323   42  female  40.370         2  southeast  43896.37630\n",
              "1337   61  female  29.070         0  northwest  29141.36030\n",
              "\n",
              "[274 rows x 6 columns]"
            ]
          },
          "metadata": {
            "tags": []
          },
          "execution_count": 59
        }
      ]
    },
    {
      "cell_type": "markdown",
      "metadata": {
        "id": "OsDZ5mafTgKC"
      },
      "source": [
        "# 3. Add column named predicted_paid that shows the amount we predict to pay to that beneficiary this year, if we predict that their cost this year will be the cost last year increased by 5% to insurance. round to 2 decimal places and enter"
      ]
    },
    {
      "cell_type": "code",
      "metadata": {
        "id": "CKH5oFuZS2EF"
      },
      "source": [
        "def predcicted():\n",
        "    insurance['predicted_paid']=round(insurance['charges']+((5/100)*insurance['charges']),2)\n",
        "    return insurance"
      ],
      "execution_count": null,
      "outputs": []
    },
    {
      "cell_type": "code",
      "metadata": {
        "id": "aHmBSDN6TwWC",
        "colab": {
          "base_uri": "https://localhost:8080/",
          "height": 411
        },
        "outputId": "07be5db9-9286-4cbf-ffbf-20a57c60e337"
      },
      "source": [
        "predcicted()"
      ],
      "execution_count": null,
      "outputs": [
        {
          "output_type": "execute_result",
          "data": {
            "text/html": [
              "<div>\n",
              "<style scoped>\n",
              "    .dataframe tbody tr th:only-of-type {\n",
              "        vertical-align: middle;\n",
              "    }\n",
              "\n",
              "    .dataframe tbody tr th {\n",
              "        vertical-align: top;\n",
              "    }\n",
              "\n",
              "    .dataframe thead th {\n",
              "        text-align: right;\n",
              "    }\n",
              "</style>\n",
              "<table border=\"1\" class=\"dataframe\">\n",
              "  <thead>\n",
              "    <tr style=\"text-align: right;\">\n",
              "      <th></th>\n",
              "      <th>age</th>\n",
              "      <th>sex</th>\n",
              "      <th>bmi</th>\n",
              "      <th>children</th>\n",
              "      <th>smoker</th>\n",
              "      <th>region</th>\n",
              "      <th>charges</th>\n",
              "      <th>predicted_paid</th>\n",
              "    </tr>\n",
              "  </thead>\n",
              "  <tbody>\n",
              "    <tr>\n",
              "      <th>0</th>\n",
              "      <td>19</td>\n",
              "      <td>female</td>\n",
              "      <td>27.900</td>\n",
              "      <td>0</td>\n",
              "      <td>yes</td>\n",
              "      <td>southwest</td>\n",
              "      <td>16884.92400</td>\n",
              "      <td>17729.17</td>\n",
              "    </tr>\n",
              "    <tr>\n",
              "      <th>1</th>\n",
              "      <td>18</td>\n",
              "      <td>male</td>\n",
              "      <td>33.770</td>\n",
              "      <td>1</td>\n",
              "      <td>no</td>\n",
              "      <td>southeast</td>\n",
              "      <td>1725.55230</td>\n",
              "      <td>1811.83</td>\n",
              "    </tr>\n",
              "    <tr>\n",
              "      <th>2</th>\n",
              "      <td>28</td>\n",
              "      <td>male</td>\n",
              "      <td>33.000</td>\n",
              "      <td>3</td>\n",
              "      <td>no</td>\n",
              "      <td>southeast</td>\n",
              "      <td>4449.46200</td>\n",
              "      <td>4671.94</td>\n",
              "    </tr>\n",
              "    <tr>\n",
              "      <th>3</th>\n",
              "      <td>33</td>\n",
              "      <td>male</td>\n",
              "      <td>22.705</td>\n",
              "      <td>0</td>\n",
              "      <td>no</td>\n",
              "      <td>northwest</td>\n",
              "      <td>21984.47061</td>\n",
              "      <td>23083.69</td>\n",
              "    </tr>\n",
              "    <tr>\n",
              "      <th>4</th>\n",
              "      <td>32</td>\n",
              "      <td>male</td>\n",
              "      <td>28.880</td>\n",
              "      <td>0</td>\n",
              "      <td>no</td>\n",
              "      <td>northwest</td>\n",
              "      <td>3866.85520</td>\n",
              "      <td>4060.20</td>\n",
              "    </tr>\n",
              "    <tr>\n",
              "      <th>...</th>\n",
              "      <td>...</td>\n",
              "      <td>...</td>\n",
              "      <td>...</td>\n",
              "      <td>...</td>\n",
              "      <td>...</td>\n",
              "      <td>...</td>\n",
              "      <td>...</td>\n",
              "      <td>...</td>\n",
              "    </tr>\n",
              "    <tr>\n",
              "      <th>1333</th>\n",
              "      <td>50</td>\n",
              "      <td>male</td>\n",
              "      <td>30.970</td>\n",
              "      <td>3</td>\n",
              "      <td>no</td>\n",
              "      <td>northwest</td>\n",
              "      <td>10600.54830</td>\n",
              "      <td>11130.58</td>\n",
              "    </tr>\n",
              "    <tr>\n",
              "      <th>1334</th>\n",
              "      <td>18</td>\n",
              "      <td>female</td>\n",
              "      <td>31.920</td>\n",
              "      <td>0</td>\n",
              "      <td>no</td>\n",
              "      <td>northeast</td>\n",
              "      <td>2205.98080</td>\n",
              "      <td>2316.28</td>\n",
              "    </tr>\n",
              "    <tr>\n",
              "      <th>1335</th>\n",
              "      <td>18</td>\n",
              "      <td>female</td>\n",
              "      <td>36.850</td>\n",
              "      <td>0</td>\n",
              "      <td>no</td>\n",
              "      <td>southeast</td>\n",
              "      <td>1629.83350</td>\n",
              "      <td>1711.33</td>\n",
              "    </tr>\n",
              "    <tr>\n",
              "      <th>1336</th>\n",
              "      <td>21</td>\n",
              "      <td>female</td>\n",
              "      <td>25.800</td>\n",
              "      <td>0</td>\n",
              "      <td>no</td>\n",
              "      <td>southwest</td>\n",
              "      <td>2007.94500</td>\n",
              "      <td>2108.34</td>\n",
              "    </tr>\n",
              "    <tr>\n",
              "      <th>1337</th>\n",
              "      <td>61</td>\n",
              "      <td>female</td>\n",
              "      <td>29.070</td>\n",
              "      <td>0</td>\n",
              "      <td>yes</td>\n",
              "      <td>northwest</td>\n",
              "      <td>29141.36030</td>\n",
              "      <td>30598.43</td>\n",
              "    </tr>\n",
              "  </tbody>\n",
              "</table>\n",
              "<p>1338 rows × 8 columns</p>\n",
              "</div>"
            ],
            "text/plain": [
              "      age     sex     bmi  ...     region      charges predicted_paid\n",
              "0      19  female  27.900  ...  southwest  16884.92400       17729.17\n",
              "1      18    male  33.770  ...  southeast   1725.55230        1811.83\n",
              "2      28    male  33.000  ...  southeast   4449.46200        4671.94\n",
              "3      33    male  22.705  ...  northwest  21984.47061       23083.69\n",
              "4      32    male  28.880  ...  northwest   3866.85520        4060.20\n",
              "...   ...     ...     ...  ...        ...          ...            ...\n",
              "1333   50    male  30.970  ...  northwest  10600.54830       11130.58\n",
              "1334   18  female  31.920  ...  northeast   2205.98080        2316.28\n",
              "1335   18  female  36.850  ...  southeast   1629.83350        1711.33\n",
              "1336   21  female  25.800  ...  southwest   2007.94500        2108.34\n",
              "1337   61  female  29.070  ...  northwest  29141.36030       30598.43\n",
              "\n",
              "[1338 rows x 8 columns]"
            ]
          },
          "metadata": {
            "tags": []
          },
          "execution_count": 61
        }
      ]
    },
    {
      "cell_type": "markdown",
      "metadata": {
        "id": "GRGJDWQ8URzU"
      },
      "source": [
        "# 4.  A table containing one row per region, listing for each region the total amount of charges paid by the insurance company last year to all beneficiaries in that region. round 1 decimal places\n"
      ]
    },
    {
      "cell_type": "code",
      "metadata": {
        "id": "q7-k5iziUJHo"
      },
      "source": [
        "def row_region():\n",
        "    reg=insurance.groupby('region').sum()\n",
        "    reg['charges']=reg['charges'].round(1)\n",
        "    reg.reset_index(inplace=True)\n",
        "    reg=reg[['region','charges']]\n",
        "\n",
        "    return reg"
      ],
      "execution_count": null,
      "outputs": []
    },
    {
      "cell_type": "code",
      "metadata": {
        "id": "oYpWi3UoU1w3",
        "colab": {
          "base_uri": "https://localhost:8080/",
          "height": 170
        },
        "outputId": "dd116979-49ed-45c7-942c-7bfd687424f1"
      },
      "source": [
        "row_region()"
      ],
      "execution_count": null,
      "outputs": [
        {
          "output_type": "execute_result",
          "data": {
            "text/html": [
              "<div>\n",
              "<style scoped>\n",
              "    .dataframe tbody tr th:only-of-type {\n",
              "        vertical-align: middle;\n",
              "    }\n",
              "\n",
              "    .dataframe tbody tr th {\n",
              "        vertical-align: top;\n",
              "    }\n",
              "\n",
              "    .dataframe thead th {\n",
              "        text-align: right;\n",
              "    }\n",
              "</style>\n",
              "<table border=\"1\" class=\"dataframe\">\n",
              "  <thead>\n",
              "    <tr style=\"text-align: right;\">\n",
              "      <th></th>\n",
              "      <th>region</th>\n",
              "      <th>charges</th>\n",
              "    </tr>\n",
              "  </thead>\n",
              "  <tbody>\n",
              "    <tr>\n",
              "      <th>0</th>\n",
              "      <td>northeast</td>\n",
              "      <td>4343668.6</td>\n",
              "    </tr>\n",
              "    <tr>\n",
              "      <th>1</th>\n",
              "      <td>northwest</td>\n",
              "      <td>4035712.0</td>\n",
              "    </tr>\n",
              "    <tr>\n",
              "      <th>2</th>\n",
              "      <td>southeast</td>\n",
              "      <td>5363689.8</td>\n",
              "    </tr>\n",
              "    <tr>\n",
              "      <th>3</th>\n",
              "      <td>southwest</td>\n",
              "      <td>4012754.6</td>\n",
              "    </tr>\n",
              "  </tbody>\n",
              "</table>\n",
              "</div>"
            ],
            "text/plain": [
              "      region    charges\n",
              "0  northeast  4343668.6\n",
              "1  northwest  4035712.0\n",
              "2  southeast  5363689.8\n",
              "3  southwest  4012754.6"
            ]
          },
          "metadata": {
            "tags": []
          },
          "execution_count": 46
        }
      ]
    },
    {
      "cell_type": "markdown",
      "metadata": {
        "id": "AdMO-BJIVkIx"
      },
      "source": [
        "# 5. The name of the region with the smallest number of beneficiaries."
      ]
    },
    {
      "cell_type": "code",
      "metadata": {
        "id": "Ku9jRwkeVWY1"
      },
      "source": [
        "def smallest():\n",
        "  r=insurance.groupby('region').count()\n",
        "  r=r.sort_values('age')\n",
        "  r=r.index[0]\n",
        "  return r"
      ],
      "execution_count": null,
      "outputs": []
    },
    {
      "cell_type": "code",
      "metadata": {
        "id": "2sfYBj5ZVvR8",
        "colab": {
          "base_uri": "https://localhost:8080/",
          "height": 35
        },
        "outputId": "03292981-93e2-40d3-e1bf-5281deabe07b"
      },
      "source": [
        "smallest()"
      ],
      "execution_count": null,
      "outputs": [
        {
          "output_type": "execute_result",
          "data": {
            "application/vnd.google.colaboratory.intrinsic+json": {
              "type": "string"
            },
            "text/plain": [
              "'northeast'"
            ]
          },
          "metadata": {
            "tags": []
          },
          "execution_count": 48
        }
      ]
    },
    {
      "cell_type": "markdown",
      "metadata": {
        "id": "UtDgmq0gXK6y"
      },
      "source": [
        "# 6. Write a function that takes an age as a parameter, and returns the average BMI of all beneficiaries of that age. Round to 2 decimal points"
      ]
    },
    {
      "cell_type": "code",
      "metadata": {
        "id": "hlVKa_IMXEwt"
      },
      "source": [
        "def avg_bmi(age):\n",
        "  # Write your code here\n",
        "  return round(insurance.loc[insurance.age==age,['bmi']].mean(),2)\n"
      ],
      "execution_count": null,
      "outputs": []
    },
    {
      "cell_type": "code",
      "metadata": {
        "id": "b6M2PsWCXm-b",
        "colab": {
          "base_uri": "https://localhost:8080/",
          "height": 50
        },
        "outputId": "638526c0-412c-4955-b075-7376f8227c05"
      },
      "source": [
        "avg_bmi(18)"
      ],
      "execution_count": null,
      "outputs": [
        {
          "output_type": "execute_result",
          "data": {
            "text/plain": [
              "bmi    31.33\n",
              "dtype: float64"
            ]
          },
          "metadata": {
            "tags": []
          },
          "execution_count": 43
        }
      ]
    },
    {
      "cell_type": "code",
      "metadata": {
        "id": "uRyQV3iCX4zp",
        "colab": {
          "base_uri": "https://localhost:8080/",
          "height": 50
        },
        "outputId": "825272c4-682e-411a-d18e-dc01a270419e"
      },
      "source": [
        "avg_bmi(61)"
      ],
      "execution_count": null,
      "outputs": [
        {
          "output_type": "execute_result",
          "data": {
            "text/plain": [
              "bmi    32.55\n",
              "dtype: float64"
            ]
          },
          "metadata": {
            "tags": []
          },
          "execution_count": 44
        }
      ]
    },
    {
      "cell_type": "markdown",
      "metadata": {
        "id": "OLjq6nqvnz0C"
      },
      "source": [
        "# 7. The number of times the charges increased by more than $10,000.00 from one person to next in order"
      ]
    },
    {
      "cell_type": "code",
      "metadata": {
        "id": "kGMmLa7DXrYC",
        "colab": {
          "base_uri": "https://localhost:8080/",
          "height": 34
        },
        "outputId": "5d1c7639-1941-4b67-b74f-8be86c3261b8"
      },
      "source": [
        "def charge_increased():\n",
        "    sum=0\n",
        "    c=len(insurance)\n",
        "    for i in range(0,c-1):\n",
        "      if(insurance['charges'][i+1]>(insurance['charges'][i]+10000.00)):\n",
        "        sum=sum+1\n",
        "    return sum\n",
        "charge_increased()"
      ],
      "execution_count": null,
      "outputs": [
        {
          "output_type": "execute_result",
          "data": {
            "text/plain": [
              "281"
            ]
          },
          "metadata": {
            "tags": []
          },
          "execution_count": 50
        }
      ]
    },
    {
      "cell_type": "markdown",
      "metadata": {
        "id": "TCfFIpzwqVqb"
      },
      "source": [
        "# 8. Whether or not the charges has ever been $2000.00 or less (your code should evaluate to True or False)."
      ]
    },
    {
      "cell_type": "code",
      "metadata": {
        "id": "_RDAvWVHqKxs",
        "colab": {
          "base_uri": "https://localhost:8080/",
          "height": 34
        },
        "outputId": "2897d474-125e-471f-991b-8fa2a4b3e4f3"
      },
      "source": [
        "def charge_less():\n",
        "    two=insurance['charges'].min() <=2000\n",
        "    return two\n",
        "charge_less()"
      ],
      "execution_count": null,
      "outputs": [
        {
          "output_type": "execute_result",
          "data": {
            "text/plain": [
              "True"
            ]
          },
          "metadata": {
            "tags": []
          },
          "execution_count": 49
        }
      ]
    },
    {
      "cell_type": "markdown",
      "metadata": {
        "id": "Pp3A5e8Dq2wk"
      },
      "source": [
        "# 9. The probability of choosing a charge greater than $2500.00, if I pick one of the charge uniformly at random . 2 decimal place"
      ]
    },
    {
      "cell_type": "code",
      "metadata": {
        "id": "Bc7zSIdZqjkM",
        "colab": {
          "base_uri": "https://localhost:8080/",
          "height": 34
        },
        "outputId": "4d0e0237-551a-4629-f0f3-4f8ede719000"
      },
      "source": [
        "def prob_greater():\n",
        "  s = insurance['charges']>2500\n",
        "  return round(s.sum()/len(s),2)\n",
        "prob_greater()"
      ],
      "execution_count": null,
      "outputs": [
        {
          "output_type": "execute_result",
          "data": {
            "text/plain": [
              "0.89"
            ]
          },
          "metadata": {
            "tags": []
          },
          "execution_count": 52
        }
      ]
    },
    {
      "cell_type": "markdown",
      "metadata": {
        "id": "4rGgXIiaVckb"
      },
      "source": [
        "# Import data"
      ]
    },
    {
      "cell_type": "code",
      "metadata": {
        "id": "gK5pk_p1rC6o"
      },
      "source": [
        "import pandas as pd\n",
        "trip=pd.read_csv('https://raw.githubusercontent.com/data-8/materials-x18/master/lec/x18/1/trip.csv')"
      ],
      "execution_count": null,
      "outputs": []
    },
    {
      "cell_type": "code",
      "metadata": {
        "id": "GOMb-IzQWRMa",
        "colab": {
          "base_uri": "https://localhost:8080/",
          "height": 201
        },
        "outputId": "bf2b2865-797d-4cfe-e0f4-4911a3144bb7"
      },
      "source": [
        "trip.head()"
      ],
      "execution_count": null,
      "outputs": [
        {
          "output_type": "execute_result",
          "data": {
            "text/html": [
              "<div>\n",
              "<style scoped>\n",
              "    .dataframe tbody tr th:only-of-type {\n",
              "        vertical-align: middle;\n",
              "    }\n",
              "\n",
              "    .dataframe tbody tr th {\n",
              "        vertical-align: top;\n",
              "    }\n",
              "\n",
              "    .dataframe thead th {\n",
              "        text-align: right;\n",
              "    }\n",
              "</style>\n",
              "<table border=\"1\" class=\"dataframe\">\n",
              "  <thead>\n",
              "    <tr style=\"text-align: right;\">\n",
              "      <th></th>\n",
              "      <th>Trip ID</th>\n",
              "      <th>Duration</th>\n",
              "      <th>Start Date</th>\n",
              "      <th>Start Station</th>\n",
              "      <th>Start Terminal</th>\n",
              "      <th>End Date</th>\n",
              "      <th>End Station</th>\n",
              "      <th>End Terminal</th>\n",
              "      <th>Bike #</th>\n",
              "      <th>Subscriber Type</th>\n",
              "      <th>Zip Code</th>\n",
              "    </tr>\n",
              "  </thead>\n",
              "  <tbody>\n",
              "    <tr>\n",
              "      <th>0</th>\n",
              "      <td>913460</td>\n",
              "      <td>765</td>\n",
              "      <td>8/31/2015 23:26</td>\n",
              "      <td>Harry Bridges Plaza (Ferry Building)</td>\n",
              "      <td>50</td>\n",
              "      <td>8/31/2015 23:39</td>\n",
              "      <td>San Francisco Caltrain (Townsend at 4th)</td>\n",
              "      <td>70</td>\n",
              "      <td>288</td>\n",
              "      <td>Subscriber</td>\n",
              "      <td>2139</td>\n",
              "    </tr>\n",
              "    <tr>\n",
              "      <th>1</th>\n",
              "      <td>913459</td>\n",
              "      <td>1036</td>\n",
              "      <td>8/31/2015 23:11</td>\n",
              "      <td>San Antonio Shopping Center</td>\n",
              "      <td>31</td>\n",
              "      <td>8/31/2015 23:28</td>\n",
              "      <td>Mountain View City Hall</td>\n",
              "      <td>27</td>\n",
              "      <td>35</td>\n",
              "      <td>Subscriber</td>\n",
              "      <td>95032</td>\n",
              "    </tr>\n",
              "    <tr>\n",
              "      <th>2</th>\n",
              "      <td>913455</td>\n",
              "      <td>307</td>\n",
              "      <td>8/31/2015 23:13</td>\n",
              "      <td>Post at Kearny</td>\n",
              "      <td>47</td>\n",
              "      <td>8/31/2015 23:18</td>\n",
              "      <td>2nd at South Park</td>\n",
              "      <td>64</td>\n",
              "      <td>468</td>\n",
              "      <td>Subscriber</td>\n",
              "      <td>94107</td>\n",
              "    </tr>\n",
              "    <tr>\n",
              "      <th>3</th>\n",
              "      <td>913454</td>\n",
              "      <td>409</td>\n",
              "      <td>8/31/2015 23:10</td>\n",
              "      <td>San Jose City Hall</td>\n",
              "      <td>10</td>\n",
              "      <td>8/31/2015 23:17</td>\n",
              "      <td>San Salvador at 1st</td>\n",
              "      <td>8</td>\n",
              "      <td>68</td>\n",
              "      <td>Subscriber</td>\n",
              "      <td>95113</td>\n",
              "    </tr>\n",
              "    <tr>\n",
              "      <th>4</th>\n",
              "      <td>913453</td>\n",
              "      <td>789</td>\n",
              "      <td>8/31/2015 23:09</td>\n",
              "      <td>Embarcadero at Folsom</td>\n",
              "      <td>51</td>\n",
              "      <td>8/31/2015 23:22</td>\n",
              "      <td>Embarcadero at Sansome</td>\n",
              "      <td>60</td>\n",
              "      <td>487</td>\n",
              "      <td>Customer</td>\n",
              "      <td>9069</td>\n",
              "    </tr>\n",
              "  </tbody>\n",
              "</table>\n",
              "</div>"
            ],
            "text/plain": [
              "   Trip ID  Duration       Start Date  ... Bike #  Subscriber Type Zip Code\n",
              "0   913460       765  8/31/2015 23:26  ...    288       Subscriber     2139\n",
              "1   913459      1036  8/31/2015 23:11  ...     35       Subscriber    95032\n",
              "2   913455       307  8/31/2015 23:13  ...    468       Subscriber    94107\n",
              "3   913454       409  8/31/2015 23:10  ...     68       Subscriber    95113\n",
              "4   913453       789  8/31/2015 23:09  ...    487         Customer     9069\n",
              "\n",
              "[5 rows x 11 columns]"
            ]
          },
          "metadata": {
            "tags": []
          },
          "execution_count": 13
        }
      ]
    },
    {
      "cell_type": "markdown",
      "metadata": {
        "id": "W_QHGo9lcMp7"
      },
      "source": [
        "# 10. Trip dataset Average duration of rentals that lasted more than two minutes. 2 decimal point"
      ]
    },
    {
      "cell_type": "code",
      "metadata": {
        "id": "x8-IlnxWW71F",
        "colab": {
          "base_uri": "https://localhost:8080/",
          "height": 34
        },
        "outputId": "1ebce1ff-1183-49c4-a3a0-c7081bad0013"
      },
      "source": [
        "def avg_duration():\n",
        "    return round(trip[trip['Duration']>120]['Duration'].mean(),2)\n",
        "avg_duration()"
      ],
      "execution_count": null,
      "outputs": [
        {
          "output_type": "execute_result",
          "data": {
            "text/plain": [
              "1054.17"
            ]
          },
          "metadata": {
            "tags": []
          },
          "execution_count": 35
        }
      ]
    },
    {
      "cell_type": "markdown",
      "metadata": {
        "id": "zCSCYMrDXe59"
      },
      "source": [
        "# 11. Name the stations where most rentals ended"
      ]
    },
    {
      "cell_type": "code",
      "metadata": {
        "id": "bnARMlc6WlXd",
        "colab": {
          "base_uri": "https://localhost:8080/",
          "height": 35
        },
        "outputId": "de06fb8f-2769-42f3-d4e5-7b1b9ac3deb1"
      },
      "source": [
        "def rent_end():\n",
        "    return trip.groupby('End Station').count().sort_values('Trip ID',ascending=False).index[0]\n",
        "\n",
        "rent_end()"
      ],
      "execution_count": null,
      "outputs": [
        {
          "output_type": "execute_result",
          "data": {
            "application/vnd.google.colaboratory.intrinsic+json": {
              "type": "string"
            },
            "text/plain": [
              "'San Francisco Caltrain (Townsend at 4th)'"
            ]
          },
          "metadata": {
            "tags": []
          },
          "execution_count": 53
        }
      ]
    },
    {
      "cell_type": "markdown",
      "metadata": {
        "id": "xltRBAMMY439"
      },
      "source": [
        "# 12. The number of stations for which the average duration ending at that station was atleat 300 seconds"
      ]
    },
    {
      "cell_type": "code",
      "metadata": {
        "id": "m6mCO2UsX27E",
        "colab": {
          "base_uri": "https://localhost:8080/",
          "height": 34
        },
        "outputId": "85a53ac1-5014-4d4d-f19b-c9e6ed33f642"
      },
      "source": [
        "def avg_value():\n",
        "    s=trip.groupby('End Station').mean()['Duration']>=300\n",
        "    return s.sum()\n",
        "avg_value()\n"
      ],
      "execution_count": null,
      "outputs": [
        {
          "output_type": "execute_result",
          "data": {
            "text/plain": [
              "70"
            ]
          },
          "metadata": {
            "tags": []
          },
          "execution_count": 54
        }
      ]
    },
    {
      "cell_type": "markdown",
      "metadata": {
        "id": "MSGU0gQzceru"
      },
      "source": [
        "# 13. The most popular subsciber type where the start terminal and end terminal is the same"
      ]
    },
    {
      "cell_type": "code",
      "metadata": {
        "id": "frkdK-mYZrn3",
        "colab": {
          "base_uri": "https://localhost:8080/",
          "height": 35
        },
        "outputId": "8f0910c0-a123-426e-9da2-ae87d006a61a"
      },
      "source": [
        "def sub_type():\n",
        "    return trip.loc[trip['Start Station']==trip['End Station']].groupby('Subscriber Type').count().sort_values(by='Trip ID',ascending = False).index[0]\n",
        "sub_type()"
      ],
      "execution_count": null,
      "outputs": [
        {
          "output_type": "execute_result",
          "data": {
            "application/vnd.google.colaboratory.intrinsic+json": {
              "type": "string"
            },
            "text/plain": [
              "'Customer'"
            ]
          },
          "metadata": {
            "tags": []
          },
          "execution_count": 56
        }
      ]
    },
    {
      "cell_type": "markdown",
      "metadata": {
        "id": "PPoIzFf8dChf"
      },
      "source": [
        "# 14. What is the average duration of the most popular bike#. 2 decimal point"
      ]
    },
    {
      "cell_type": "code",
      "metadata": {
        "id": "yzf0ur4TafoZ",
        "colab": {
          "base_uri": "https://localhost:8080/",
          "height": 34
        },
        "outputId": "f9580401-daca-4ce3-b816-401b4c354906"
      },
      "source": [
        "def avg_duration1():\n",
        "     return round((trip[trip['Bike #']==trip['Bike #'].mode().values[0]]['Duration']).mean(),2)\n",
        "avg_duration1()"
      ],
      "execution_count": null,
      "outputs": [
        {
          "output_type": "execute_result",
          "data": {
            "text/plain": [
              "898.14"
            ]
          },
          "metadata": {
            "tags": []
          },
          "execution_count": 70
        }
      ]
    },
    {
      "cell_type": "markdown",
      "metadata": {
        "id": "OfrRSuf9fHzA"
      },
      "source": [
        "# 15. What is the probability that the start station and end station are the same, 2 decimal points"
      ]
    },
    {
      "cell_type": "code",
      "metadata": {
        "id": "hVhPCVEefYeN",
        "colab": {
          "base_uri": "https://localhost:8080/",
          "height": 34
        },
        "outputId": "4dd10388-3247-4157-c040-81f9d0866da1"
      },
      "source": [
        "def prob_equal():\n",
        "    df=trip[trip['Start Station']==trip['End Station']]\n",
        "    return round(len(df)/len(trip),2)# Write your code here\n",
        "prob_equal()"
      ],
      "execution_count": null,
      "outputs": [
        {
          "output_type": "execute_result",
          "data": {
            "text/plain": [
              "0.03"
            ]
          },
          "metadata": {
            "tags": []
          },
          "execution_count": 55
        }
      ]
    },
    {
      "cell_type": "markdown",
      "metadata": {
        "id": "dJpf2Garw6mM"
      },
      "source": [
        "# 16. Least common subsciber with Startimg station as Mountain View City Hall\t"
      ]
    },
    {
      "cell_type": "code",
      "metadata": {
        "id": "ZWhMMN60f2ee",
        "colab": {
          "base_uri": "https://localhost:8080/",
          "height": 35
        },
        "outputId": "1f516539-6a3e-4c4f-83ba-d64683a2f7e2"
      },
      "source": [
        "def least_common():\n",
        "    return trip.loc[trip['Start Station']=='Mountain View City Hall'].groupby('Subscriber Type').count().sort_values(by='Trip ID').index[0]# Write your code here\n",
        "least_common()"
      ],
      "execution_count": null,
      "outputs": [
        {
          "output_type": "execute_result",
          "data": {
            "application/vnd.google.colaboratory.intrinsic+json": {
              "type": "string"
            },
            "text/plain": [
              "'Customer'"
            ]
          },
          "metadata": {
            "tags": []
          },
          "execution_count": 77
        }
      ]
    },
    {
      "cell_type": "markdown",
      "metadata": {
        "id": "OdMUeENK0v0C"
      },
      "source": [
        "# 17. What proportion of users have most common Subsciber types. 2 decimal places\n"
      ]
    },
    {
      "cell_type": "code",
      "metadata": {
        "id": "_HiDrWClxWI2",
        "colab": {
          "base_uri": "https://localhost:8080/",
          "height": 34
        },
        "outputId": "66308736-36b0-4ff1-ea96-af94b007a3f8"
      },
      "source": [
        "def proportion_subscriber():\n",
        "    return round(len(trip[trip['Subscriber Type']== trip['Subscriber Type'].mode().values[0]]) / len(trip),2) # Write your code here\n",
        "proportion_subscriber()"
      ],
      "execution_count": null,
      "outputs": [
        {
          "output_type": "execute_result",
          "data": {
            "text/plain": [
              "0.88"
            ]
          },
          "metadata": {
            "tags": []
          },
          "execution_count": 76
        }
      ]
    },
    {
      "cell_type": "markdown",
      "metadata": {
        "id": "OjrXgyYRQeXQ"
      },
      "source": [
        "# Create dataframe"
      ]
    },
    {
      "cell_type": "code",
      "metadata": {
        "id": "j66hmobD1op9"
      },
      "source": [
        "a ={'time':['hr=01,rush=no','hr=13,rush=no','hr=08,rush=yes','hr=18,rush=yes'] ,'dt':['May 1','May 3','May 29','May 3'], 'spd':[70,59,37,30]}\n",
        "b={'date':['Jan 1','May 1','Jun 13','May 3'],'day':['Mon','Wed','Sat','Thu']}\n"
      ],
      "execution_count": null,
      "outputs": []
    },
    {
      "cell_type": "code",
      "metadata": {
        "id": "cM8fZTIaLZgk",
        "colab": {
          "base_uri": "https://localhost:8080/",
          "height": 170
        },
        "outputId": "5a3dde26-c0b5-4430-9fb4-bb29fd2fd658"
      },
      "source": [
        "# create a dataframe rush from dictionary a and date from dictionary b\n",
        "rush = pd.DataFrame(a)\n",
        "date = pd.DataFrame(b)\n",
        "rush[['time','rush']] = rush['time'].str.split(',',expand=True)\n",
        "rush"
      ],
      "execution_count": null,
      "outputs": [
        {
          "output_type": "execute_result",
          "data": {
            "text/html": [
              "<div>\n",
              "<style scoped>\n",
              "    .dataframe tbody tr th:only-of-type {\n",
              "        vertical-align: middle;\n",
              "    }\n",
              "\n",
              "    .dataframe tbody tr th {\n",
              "        vertical-align: top;\n",
              "    }\n",
              "\n",
              "    .dataframe thead th {\n",
              "        text-align: right;\n",
              "    }\n",
              "</style>\n",
              "<table border=\"1\" class=\"dataframe\">\n",
              "  <thead>\n",
              "    <tr style=\"text-align: right;\">\n",
              "      <th></th>\n",
              "      <th>time</th>\n",
              "      <th>dt</th>\n",
              "      <th>spd</th>\n",
              "      <th>date</th>\n",
              "      <th>day</th>\n",
              "      <th>rush</th>\n",
              "    </tr>\n",
              "  </thead>\n",
              "  <tbody>\n",
              "    <tr>\n",
              "      <th>0</th>\n",
              "      <td>hr=01</td>\n",
              "      <td>May 1</td>\n",
              "      <td>70</td>\n",
              "      <td>Jan 1</td>\n",
              "      <td>Mon</td>\n",
              "      <td>rush=no</td>\n",
              "    </tr>\n",
              "    <tr>\n",
              "      <th>1</th>\n",
              "      <td>hr=13</td>\n",
              "      <td>May 3</td>\n",
              "      <td>59</td>\n",
              "      <td>May 1</td>\n",
              "      <td>Wed</td>\n",
              "      <td>rush=no</td>\n",
              "    </tr>\n",
              "    <tr>\n",
              "      <th>2</th>\n",
              "      <td>hr=08</td>\n",
              "      <td>May 29</td>\n",
              "      <td>37</td>\n",
              "      <td>Jun 13</td>\n",
              "      <td>Sat</td>\n",
              "      <td>rush=yes</td>\n",
              "    </tr>\n",
              "    <tr>\n",
              "      <th>3</th>\n",
              "      <td>hr=18</td>\n",
              "      <td>May 3</td>\n",
              "      <td>30</td>\n",
              "      <td>May 3</td>\n",
              "      <td>Thu</td>\n",
              "      <td>rush=yes</td>\n",
              "    </tr>\n",
              "  </tbody>\n",
              "</table>\n",
              "</div>"
            ],
            "text/plain": [
              "    time      dt  spd    date  day      rush\n",
              "0  hr=01   May 1   70   Jan 1  Mon   rush=no\n",
              "1  hr=13   May 3   59   May 1  Wed   rush=no\n",
              "2  hr=08  May 29   37  Jun 13  Sat  rush=yes\n",
              "3  hr=18   May 3   30   May 3  Thu  rush=yes"
            ]
          },
          "metadata": {
            "tags": []
          },
          "execution_count": 93
        }
      ]
    },
    {
      "cell_type": "markdown",
      "metadata": {
        "id": "99Sne95RMeRO"
      },
      "source": [
        "# 18. Calculate the average speed during rush hour.1 decimal point"
      ]
    },
    {
      "cell_type": "code",
      "metadata": {
        "id": "2oxM14UaMa8x",
        "colab": {
          "base_uri": "https://localhost:8080/",
          "height": 34
        },
        "outputId": "2c8bef49-c439-4a5e-e0c7-17cd64026c90"
      },
      "source": [
        "def avg_speed():\n",
        "  f=rush.groupby('rush')['spd'].mean()\n",
        "  return f['rush=yes']\n",
        "avg_speed()"
      ],
      "execution_count": null,
      "outputs": [
        {
          "output_type": "execute_result",
          "data": {
            "text/plain": [
              "33.5"
            ]
          },
          "metadata": {
            "tags": []
          },
          "execution_count": 90
        }
      ]
    },
    {
      "cell_type": "markdown",
      "metadata": {
        "id": "btfkNphcMsAr"
      },
      "source": [
        "# 19. Create a table t with one row per recording in rush. Each row should contain the day of week, speed, hour of day as a two-character string, and whether the recording occurred during rush hour (either “yes” or “no”)"
      ]
    },
    {
      "cell_type": "code",
      "metadata": {
        "id": "dr79bNWAMjMs",
        "colab": {
          "base_uri": "https://localhost:8080/",
          "height": 170
        },
        "outputId": "7e8e401d-fb7d-4e3d-bd86-43a49c27f1fc"
      },
      "source": [
        "def create_df():\n",
        "  # Write your code here\n",
        "  data=rush.merge(date, left_on='date', right_on='date')\n",
        "  data=data.drop(['date','date'], axis=1)\n",
        "  data['time']=data['time'].str[-2:]\n",
        "  data['rush']=data['rush'].str[-2:] \n",
        "  return data\n",
        "create_df()"
      ],
      "execution_count": null,
      "outputs": [
        {
          "output_type": "execute_result",
          "data": {
            "text/html": [
              "<div>\n",
              "<style scoped>\n",
              "    .dataframe tbody tr th:only-of-type {\n",
              "        vertical-align: middle;\n",
              "    }\n",
              "\n",
              "    .dataframe tbody tr th {\n",
              "        vertical-align: top;\n",
              "    }\n",
              "\n",
              "    .dataframe thead th {\n",
              "        text-align: right;\n",
              "    }\n",
              "</style>\n",
              "<table border=\"1\" class=\"dataframe\">\n",
              "  <thead>\n",
              "    <tr style=\"text-align: right;\">\n",
              "      <th></th>\n",
              "      <th>time</th>\n",
              "      <th>dt</th>\n",
              "      <th>spd</th>\n",
              "      <th>day_x</th>\n",
              "      <th>rush</th>\n",
              "      <th>day_y</th>\n",
              "    </tr>\n",
              "  </thead>\n",
              "  <tbody>\n",
              "    <tr>\n",
              "      <th>0</th>\n",
              "      <td>01</td>\n",
              "      <td>May 1</td>\n",
              "      <td>70</td>\n",
              "      <td>Mon</td>\n",
              "      <td>no</td>\n",
              "      <td>Mon</td>\n",
              "    </tr>\n",
              "    <tr>\n",
              "      <th>1</th>\n",
              "      <td>13</td>\n",
              "      <td>May 3</td>\n",
              "      <td>59</td>\n",
              "      <td>Wed</td>\n",
              "      <td>no</td>\n",
              "      <td>Wed</td>\n",
              "    </tr>\n",
              "    <tr>\n",
              "      <th>2</th>\n",
              "      <td>08</td>\n",
              "      <td>May 29</td>\n",
              "      <td>37</td>\n",
              "      <td>Sat</td>\n",
              "      <td>es</td>\n",
              "      <td>Sat</td>\n",
              "    </tr>\n",
              "    <tr>\n",
              "      <th>3</th>\n",
              "      <td>18</td>\n",
              "      <td>May 3</td>\n",
              "      <td>30</td>\n",
              "      <td>Thu</td>\n",
              "      <td>es</td>\n",
              "      <td>Thu</td>\n",
              "    </tr>\n",
              "  </tbody>\n",
              "</table>\n",
              "</div>"
            ],
            "text/plain": [
              "  time      dt  spd day_x rush day_y\n",
              "0   01   May 1   70   Mon   no   Mon\n",
              "1   13   May 3   59   Wed   no   Wed\n",
              "2   08  May 29   37   Sat   es   Sat\n",
              "3   18   May 3   30   Thu   es   Thu"
            ]
          },
          "metadata": {
            "tags": []
          },
          "execution_count": 94
        }
      ]
    },
    {
      "cell_type": "markdown",
      "metadata": {
        "id": "Ux_3JaExNpfa"
      },
      "source": [
        "# 20. Use the result of above question as input. Find the minimum speed in a cluster sample with two clusters: take a sample of two unique values in day, then find the minimum speed across all recordings on those days of the week"
      ]
    },
    {
      "cell_type": "code",
      "metadata": {
        "id": "ZpYOKOuoM4Qq",
        "colab": {
          "base_uri": "https://localhost:8080/",
          "height": 34
        },
        "outputId": "9a5a4b37-2ebe-4a6e-e14a-f4f16c61757e"
      },
      "source": [
        "def min_speed():\n",
        "  # Write your code here\n",
        "  new_df=create_df()\n",
        "  new_df= new_df.loc[new_df['day_x']=='Thu']\n",
        "  return  min(new_df['spd'])# Write your code here\n",
        "min_speed()"
      ],
      "execution_count": null,
      "outputs": [
        {
          "output_type": "execute_result",
          "data": {
            "text/plain": [
              "30"
            ]
          },
          "metadata": {
            "tags": []
          },
          "execution_count": 98
        }
      ]
    },
    {
      "cell_type": "code",
      "metadata": {
        "id": "Zob02LfqwTlH"
      },
      "source": [
        ""
      ],
      "execution_count": null,
      "outputs": []
    }
  ]
}