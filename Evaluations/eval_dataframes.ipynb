{
  "nbformat": 4,
  "nbformat_minor": 0,
  "metadata": {
    "colab": {
      "name": "eval -dataframes.ipynb",
      "provenance": [],
      "collapsed_sections": [],
      "include_colab_link": true
    },
    "kernelspec": {
      "display_name": "Python 3",
      "language": "python",
      "name": "python3"
    },
    "language_info": {
      "codemirror_mode": {
        "name": "ipython",
        "version": 3
      },
      "file_extension": ".py",
      "mimetype": "text/x-python",
      "name": "python",
      "nbconvert_exporter": "python",
      "pygments_lexer": "ipython3",
      "version": "3.7.7"
    }
  },
  "cells": [
    {
      "cell_type": "markdown",
      "metadata": {
        "id": "view-in-github",
        "colab_type": "text"
      },
      "source": [
        "<a href=\"https://colab.research.google.com/github/ColdCoffee21/Foundations-of-Data-Science/blob/master/eval_dataframes.ipynb\" target=\"_parent\"><img src=\"https://colab.research.google.com/assets/colab-badge.svg\" alt=\"Open In Colab\"/></a>"
      ]
    },
    {
      "cell_type": "markdown",
      "metadata": {
        "id": "GzNrT35Ha7m2"
      },
      "source": [
        "# EVALUATION - 2 "
      ]
    },
    {
      "cell_type": "markdown",
      "metadata": {
        "id": "_8rI0BMA7W2g"
      },
      "source": [
        "Telecom Churn Datasets\n",
        "\n",
        "Each row represents a customer; each column contains customer’s attributes. The datasets have the following attributes or features:\n",
        "\n",
        "State: string\n",
        "Account length: integer\n",
        "Area code: integer\n",
        "International plan: string\n",
        "Voice mail plan: string\n",
        "Number vmail messages: integer\n",
        "Total day minutes: double\n",
        "Total day calls: integer\n",
        "Total day charge: double\n",
        "Total eve minutes: double\n",
        "Total eve calls: integer\n",
        "Total eve charge: double\n",
        "Total night minutes: double\n",
        "Total night calls: integer\n",
        "Total night charge: double\n",
        "Total intl minutes: double\n",
        "Total intl calls: integer\n",
        "Total intl charge: double\n",
        "Customer service calls: integer\n",
        "Churn: string ( 0-loyal users, 1- churned users)"
      ]
    },
    {
      "cell_type": "code",
      "metadata": {
        "id": "VKq2cKzh0MqB"
      },
      "source": [
        "import pandas as pd\n",
        "import numpy as np"
      ],
      "execution_count": null,
      "outputs": []
    },
    {
      "cell_type": "code",
      "metadata": {
        "id": "l2YevV5I0PZ9"
      },
      "source": [
        "df=pd.read_csv('https://raw.githubusercontent.com/Yorko/mlcourse.ai/master/data/telecom_churn.csv')"
      ],
      "execution_count": null,
      "outputs": []
    },
    {
      "cell_type": "code",
      "metadata": {
        "id": "x0ROCLUI0Uc0",
        "colab": {
          "base_uri": "https://localhost:8080/",
          "height": 234
        },
        "outputId": "fc23bead-ce53-4195-be91-2c3f1d9373d3"
      },
      "source": [
        "df.head(5)"
      ],
      "execution_count": null,
      "outputs": [
        {
          "output_type": "execute_result",
          "data": {
            "text/html": [
              "<div>\n",
              "<style scoped>\n",
              "    .dataframe tbody tr th:only-of-type {\n",
              "        vertical-align: middle;\n",
              "    }\n",
              "\n",
              "    .dataframe tbody tr th {\n",
              "        vertical-align: top;\n",
              "    }\n",
              "\n",
              "    .dataframe thead th {\n",
              "        text-align: right;\n",
              "    }\n",
              "</style>\n",
              "<table border=\"1\" class=\"dataframe\">\n",
              "  <thead>\n",
              "    <tr style=\"text-align: right;\">\n",
              "      <th></th>\n",
              "      <th>State</th>\n",
              "      <th>Account length</th>\n",
              "      <th>Area code</th>\n",
              "      <th>International plan</th>\n",
              "      <th>Voice mail plan</th>\n",
              "      <th>Number vmail messages</th>\n",
              "      <th>Total day minutes</th>\n",
              "      <th>Total day calls</th>\n",
              "      <th>Total day charge</th>\n",
              "      <th>Total eve minutes</th>\n",
              "      <th>Total eve calls</th>\n",
              "      <th>Total eve charge</th>\n",
              "      <th>Total night minutes</th>\n",
              "      <th>Total night calls</th>\n",
              "      <th>Total night charge</th>\n",
              "      <th>Total intl minutes</th>\n",
              "      <th>Total intl calls</th>\n",
              "      <th>Total intl charge</th>\n",
              "      <th>Customer service calls</th>\n",
              "      <th>Churn</th>\n",
              "    </tr>\n",
              "  </thead>\n",
              "  <tbody>\n",
              "    <tr>\n",
              "      <th>0</th>\n",
              "      <td>KS</td>\n",
              "      <td>128</td>\n",
              "      <td>415</td>\n",
              "      <td>No</td>\n",
              "      <td>Yes</td>\n",
              "      <td>25</td>\n",
              "      <td>265.1</td>\n",
              "      <td>110</td>\n",
              "      <td>45.07</td>\n",
              "      <td>197.4</td>\n",
              "      <td>99</td>\n",
              "      <td>16.78</td>\n",
              "      <td>244.7</td>\n",
              "      <td>91</td>\n",
              "      <td>11.01</td>\n",
              "      <td>10.0</td>\n",
              "      <td>3</td>\n",
              "      <td>2.70</td>\n",
              "      <td>1</td>\n",
              "      <td>False</td>\n",
              "    </tr>\n",
              "    <tr>\n",
              "      <th>1</th>\n",
              "      <td>OH</td>\n",
              "      <td>107</td>\n",
              "      <td>415</td>\n",
              "      <td>No</td>\n",
              "      <td>Yes</td>\n",
              "      <td>26</td>\n",
              "      <td>161.6</td>\n",
              "      <td>123</td>\n",
              "      <td>27.47</td>\n",
              "      <td>195.5</td>\n",
              "      <td>103</td>\n",
              "      <td>16.62</td>\n",
              "      <td>254.4</td>\n",
              "      <td>103</td>\n",
              "      <td>11.45</td>\n",
              "      <td>13.7</td>\n",
              "      <td>3</td>\n",
              "      <td>3.70</td>\n",
              "      <td>1</td>\n",
              "      <td>False</td>\n",
              "    </tr>\n",
              "    <tr>\n",
              "      <th>2</th>\n",
              "      <td>NJ</td>\n",
              "      <td>137</td>\n",
              "      <td>415</td>\n",
              "      <td>No</td>\n",
              "      <td>No</td>\n",
              "      <td>0</td>\n",
              "      <td>243.4</td>\n",
              "      <td>114</td>\n",
              "      <td>41.38</td>\n",
              "      <td>121.2</td>\n",
              "      <td>110</td>\n",
              "      <td>10.30</td>\n",
              "      <td>162.6</td>\n",
              "      <td>104</td>\n",
              "      <td>7.32</td>\n",
              "      <td>12.2</td>\n",
              "      <td>5</td>\n",
              "      <td>3.29</td>\n",
              "      <td>0</td>\n",
              "      <td>False</td>\n",
              "    </tr>\n",
              "    <tr>\n",
              "      <th>3</th>\n",
              "      <td>OH</td>\n",
              "      <td>84</td>\n",
              "      <td>408</td>\n",
              "      <td>Yes</td>\n",
              "      <td>No</td>\n",
              "      <td>0</td>\n",
              "      <td>299.4</td>\n",
              "      <td>71</td>\n",
              "      <td>50.90</td>\n",
              "      <td>61.9</td>\n",
              "      <td>88</td>\n",
              "      <td>5.26</td>\n",
              "      <td>196.9</td>\n",
              "      <td>89</td>\n",
              "      <td>8.86</td>\n",
              "      <td>6.6</td>\n",
              "      <td>7</td>\n",
              "      <td>1.78</td>\n",
              "      <td>2</td>\n",
              "      <td>False</td>\n",
              "    </tr>\n",
              "    <tr>\n",
              "      <th>4</th>\n",
              "      <td>OK</td>\n",
              "      <td>75</td>\n",
              "      <td>415</td>\n",
              "      <td>Yes</td>\n",
              "      <td>No</td>\n",
              "      <td>0</td>\n",
              "      <td>166.7</td>\n",
              "      <td>113</td>\n",
              "      <td>28.34</td>\n",
              "      <td>148.3</td>\n",
              "      <td>122</td>\n",
              "      <td>12.61</td>\n",
              "      <td>186.9</td>\n",
              "      <td>121</td>\n",
              "      <td>8.41</td>\n",
              "      <td>10.1</td>\n",
              "      <td>3</td>\n",
              "      <td>2.73</td>\n",
              "      <td>3</td>\n",
              "      <td>False</td>\n",
              "    </tr>\n",
              "  </tbody>\n",
              "</table>\n",
              "</div>"
            ],
            "text/plain": [
              "  State  Account length  ...  Customer service calls  Churn\n",
              "0    KS             128  ...                       1  False\n",
              "1    OH             107  ...                       1  False\n",
              "2    NJ             137  ...                       0  False\n",
              "3    OH              84  ...                       2  False\n",
              "4    OK              75  ...                       3  False\n",
              "\n",
              "[5 rows x 20 columns]"
            ]
          },
          "metadata": {
            "tags": []
          },
          "execution_count": 3
        }
      ]
    },
    {
      "cell_type": "markdown",
      "metadata": {
        "id": "UMXbpRNn4_wM"
      },
      "source": [
        "# 1. how many records are there where the state name starts with W"
      ]
    },
    {
      "cell_type": "code",
      "metadata": {
        "id": "rukTXtUi4s50",
        "colab": {
          "base_uri": "https://localhost:8080/",
          "height": 34
        },
        "outputId": "9c77f767-5b1f-45be-edf8-181bd2ca26bf"
      },
      "source": [
        "def state_name():\n",
        "    # write your code here\n",
        "    return df.loc[df['State'].str.startswith('W')].shape[0] # write your code here\n",
        "\n",
        "state_name()\n"
      ],
      "execution_count": null,
      "outputs": [
        {
          "output_type": "execute_result",
          "data": {
            "text/plain": [
              "327"
            ]
          },
          "metadata": {
            "tags": []
          },
          "execution_count": 12
        }
      ]
    },
    {
      "cell_type": "markdown",
      "metadata": {
        "id": "aDx0uzKk5th-"
      },
      "source": [
        "# 2. Print the average total day minutes for all churn categories"
      ]
    },
    {
      "cell_type": "code",
      "metadata": {
        "id": "5p5-_kez5X2w",
        "colab": {
          "base_uri": "https://localhost:8080/",
          "height": 83
        },
        "outputId": "1c1f6338-0375-44d6-d180-9a7a896a9833"
      },
      "source": [
        "def category_total_minute():\n",
        "    # write your code here\n",
        "    return df.groupby('Churn')['Total day minutes'].mean() # write your code here\n",
        "    \n",
        "category_total_minute()\n",
        "\n"
      ],
      "execution_count": null,
      "outputs": [
        {
          "output_type": "execute_result",
          "data": {
            "text/plain": [
              "Churn\n",
              "False    175.175754\n",
              "True     206.914079\n",
              "Name: Total day minutes, dtype: float64"
            ]
          },
          "metadata": {
            "tags": []
          },
          "execution_count": 18
        }
      ]
    },
    {
      "cell_type": "markdown",
      "metadata": {
        "id": "4E8fpgb86e85"
      },
      "source": [
        "# 3. The percentage of voice mail plan for churn=0 users"
      ]
    },
    {
      "cell_type": "code",
      "metadata": {
        "id": "HFMfO1es5xTm",
        "colab": {
          "base_uri": "https://localhost:8080/",
          "height": 67
        },
        "outputId": "3fe2171b-66dd-4e1c-db1e-b358cbdde806"
      },
      "source": [
        "def perc_voice_mail():\n",
        "    # write your code here\n",
        "    return df.loc[df['Churn']==False,'Voice mail plan'].value_counts()/df.loc[df['Churn']==False,'Voice mail plan'].value_counts().sum()*100 # write your code here\n",
        "perc_voice_mail()"
      ],
      "execution_count": null,
      "outputs": [
        {
          "output_type": "execute_result",
          "data": {
            "text/plain": [
              "No     70.45614\n",
              "Yes    29.54386\n",
              "Name: Voice mail plan, dtype: float64"
            ]
          },
          "metadata": {
            "tags": []
          },
          "execution_count": 55
        }
      ]
    },
    {
      "cell_type": "markdown",
      "metadata": {
        "id": "XT-vDoeEa7nH"
      },
      "source": [
        "# 4. convert the international plan column to boolean - No - false and yes - True and display the datatype of that column"
      ]
    },
    {
      "cell_type": "code",
      "metadata": {
        "id": "fWjYv0lda7nH",
        "colab": {
          "base_uri": "https://localhost:8080/",
          "height": 34
        },
        "outputId": "57de255c-74f5-4d3c-f819-abbb8015d0df"
      },
      "source": [
        "def convert_bool():\n",
        "    # write your code here\n",
        "    df['International plan'].replace({'No': False, 'Yes':True},inplace=True)\n",
        "    return df['International plan'].dtype # write your code here\n",
        "convert_bool()\n"
      ],
      "execution_count": null,
      "outputs": [
        {
          "output_type": "execute_result",
          "data": {
            "text/plain": [
              "dtype('bool')"
            ]
          },
          "metadata": {
            "tags": []
          },
          "execution_count": 56
        }
      ]
    },
    {
      "cell_type": "markdown",
      "metadata": {
        "id": "R3uBHFZ36q7D"
      },
      "source": [
        "# 5. Average number of day, evening, and night calls by area code, area code on row and day, evening and night averages on column"
      ]
    },
    {
      "cell_type": "code",
      "metadata": {
        "id": "XPWFRxnM6U4D",
        "colab": {
          "base_uri": "https://localhost:8080/",
          "height": 170
        },
        "outputId": "b5388d18-9332-4508-a766-8cf969abd768"
      },
      "source": [
        "def avg_stat():\n",
        "    # write your code here\n",
        "    g=df.groupby('Area code')[['Total day calls','Total eve calls','Total night calls']].mean()\n",
        "    return g # write your code here\n",
        "avg_stat()\n",
        "\n"
      ],
      "execution_count": null,
      "outputs": [
        {
          "output_type": "execute_result",
          "data": {
            "text/html": [
              "<div>\n",
              "<style scoped>\n",
              "    .dataframe tbody tr th:only-of-type {\n",
              "        vertical-align: middle;\n",
              "    }\n",
              "\n",
              "    .dataframe tbody tr th {\n",
              "        vertical-align: top;\n",
              "    }\n",
              "\n",
              "    .dataframe thead th {\n",
              "        text-align: right;\n",
              "    }\n",
              "</style>\n",
              "<table border=\"1\" class=\"dataframe\">\n",
              "  <thead>\n",
              "    <tr style=\"text-align: right;\">\n",
              "      <th></th>\n",
              "      <th>Total day calls</th>\n",
              "      <th>Total eve calls</th>\n",
              "      <th>Total night calls</th>\n",
              "    </tr>\n",
              "    <tr>\n",
              "      <th>Area code</th>\n",
              "      <th></th>\n",
              "      <th></th>\n",
              "      <th></th>\n",
              "    </tr>\n",
              "  </thead>\n",
              "  <tbody>\n",
              "    <tr>\n",
              "      <th>408</th>\n",
              "      <td>100.496420</td>\n",
              "      <td>99.788783</td>\n",
              "      <td>99.039379</td>\n",
              "    </tr>\n",
              "    <tr>\n",
              "      <th>415</th>\n",
              "      <td>100.576435</td>\n",
              "      <td>100.503927</td>\n",
              "      <td>100.398187</td>\n",
              "    </tr>\n",
              "    <tr>\n",
              "      <th>510</th>\n",
              "      <td>100.097619</td>\n",
              "      <td>99.671429</td>\n",
              "      <td>100.601190</td>\n",
              "    </tr>\n",
              "  </tbody>\n",
              "</table>\n",
              "</div>"
            ],
            "text/plain": [
              "           Total day calls  Total eve calls  Total night calls\n",
              "Area code                                                     \n",
              "408             100.496420        99.788783          99.039379\n",
              "415             100.576435       100.503927         100.398187\n",
              "510             100.097619        99.671429         100.601190"
            ]
          },
          "metadata": {
            "tags": []
          },
          "execution_count": 59
        }
      ]
    },
    {
      "cell_type": "markdown",
      "metadata": {
        "id": "ko53Sw8Ta7nL"
      },
      "source": [
        "# 6. display summary table for  churn wise international plan"
      ]
    },
    {
      "cell_type": "code",
      "metadata": {
        "id": "d6fE7Ny9a7nM",
        "colab": {
          "base_uri": "https://localhost:8080/",
          "height": 116
        },
        "outputId": "842eff1e-f3cf-42c8-d06e-e57ad84d6658"
      },
      "source": [
        "def churn_international():\n",
        "    # write your code here\n",
        "    g =df.groupby('Churn')\n",
        "    return g['International plan'].value_counts() # write your code here\n",
        "churn_international()"
      ],
      "execution_count": null,
      "outputs": [
        {
          "output_type": "execute_result",
          "data": {
            "text/plain": [
              "Churn  International plan\n",
              "False  False                 2664\n",
              "       True                   186\n",
              "True   False                  346\n",
              "       True                   137\n",
              "Name: International plan, dtype: int64"
            ]
          },
          "metadata": {
            "tags": []
          },
          "execution_count": 60
        }
      ]
    },
    {
      "cell_type": "markdown",
      "metadata": {
        "id": "Few7ThGja7nN"
      },
      "source": [
        "# 7. Add an extra column called num_label which will be filled based on the total night calls with a margin of 1,25,50,75,100,200 and map to these labels 'Very Low','Low' ,'Medium','High','Very High'"
      ]
    },
    {
      "cell_type": "code",
      "metadata": {
        "id": "rdSfTwuLa7nO",
        "colab": {
          "base_uri": "https://localhost:8080/",
          "height": 173
        },
        "outputId": "a0fd86b4-de25-4a9f-f268-b500d867f409"
      },
      "source": [
        "def change(x):\n",
        "    if(x>1 and x<25):\n",
        "      return 'Very Low'\n",
        "    elif(x>25 and x<20):\n",
        "      return 'Low'\n",
        "    elif(x>50 and x<75):\n",
        "      return 'Medium'\n",
        "    elif(x>75 and x<100):\n",
        "      return 'High'\n",
        "    elif(x>100 and x<200):\n",
        "      return 'Very High'\n",
        "\n",
        "def add_col():\n",
        "    # write your code here\n",
        "    df['num_label'] = df['Total night calls'].apply(lambda x: change(x))\n",
        "    return df.head(3)# write your code here\n",
        "add_col()"
      ],
      "execution_count": null,
      "outputs": [
        {
          "output_type": "execute_result",
          "data": {
            "text/html": [
              "<div>\n",
              "<style scoped>\n",
              "    .dataframe tbody tr th:only-of-type {\n",
              "        vertical-align: middle;\n",
              "    }\n",
              "\n",
              "    .dataframe tbody tr th {\n",
              "        vertical-align: top;\n",
              "    }\n",
              "\n",
              "    .dataframe thead th {\n",
              "        text-align: right;\n",
              "    }\n",
              "</style>\n",
              "<table border=\"1\" class=\"dataframe\">\n",
              "  <thead>\n",
              "    <tr style=\"text-align: right;\">\n",
              "      <th></th>\n",
              "      <th>State</th>\n",
              "      <th>Account length</th>\n",
              "      <th>Area code</th>\n",
              "      <th>International plan</th>\n",
              "      <th>Voice mail plan</th>\n",
              "      <th>Number vmail messages</th>\n",
              "      <th>Total day minutes</th>\n",
              "      <th>Total day calls</th>\n",
              "      <th>Total day charge</th>\n",
              "      <th>Total eve minutes</th>\n",
              "      <th>Total eve calls</th>\n",
              "      <th>Total eve charge</th>\n",
              "      <th>Total night minutes</th>\n",
              "      <th>Total night calls</th>\n",
              "      <th>Total night charge</th>\n",
              "      <th>Total intl minutes</th>\n",
              "      <th>Total intl calls</th>\n",
              "      <th>Total intl charge</th>\n",
              "      <th>Customer service calls</th>\n",
              "      <th>Churn</th>\n",
              "      <th>num_label</th>\n",
              "    </tr>\n",
              "  </thead>\n",
              "  <tbody>\n",
              "    <tr>\n",
              "      <th>0</th>\n",
              "      <td>KS</td>\n",
              "      <td>128</td>\n",
              "      <td>415</td>\n",
              "      <td>False</td>\n",
              "      <td>Yes</td>\n",
              "      <td>25</td>\n",
              "      <td>265.1</td>\n",
              "      <td>110</td>\n",
              "      <td>45.07</td>\n",
              "      <td>197.4</td>\n",
              "      <td>99</td>\n",
              "      <td>16.78</td>\n",
              "      <td>244.7</td>\n",
              "      <td>91</td>\n",
              "      <td>11.01</td>\n",
              "      <td>10.0</td>\n",
              "      <td>3</td>\n",
              "      <td>2.70</td>\n",
              "      <td>1</td>\n",
              "      <td>False</td>\n",
              "      <td>High</td>\n",
              "    </tr>\n",
              "    <tr>\n",
              "      <th>1</th>\n",
              "      <td>OH</td>\n",
              "      <td>107</td>\n",
              "      <td>415</td>\n",
              "      <td>False</td>\n",
              "      <td>Yes</td>\n",
              "      <td>26</td>\n",
              "      <td>161.6</td>\n",
              "      <td>123</td>\n",
              "      <td>27.47</td>\n",
              "      <td>195.5</td>\n",
              "      <td>103</td>\n",
              "      <td>16.62</td>\n",
              "      <td>254.4</td>\n",
              "      <td>103</td>\n",
              "      <td>11.45</td>\n",
              "      <td>13.7</td>\n",
              "      <td>3</td>\n",
              "      <td>3.70</td>\n",
              "      <td>1</td>\n",
              "      <td>False</td>\n",
              "      <td>Very High</td>\n",
              "    </tr>\n",
              "    <tr>\n",
              "      <th>2</th>\n",
              "      <td>NJ</td>\n",
              "      <td>137</td>\n",
              "      <td>415</td>\n",
              "      <td>False</td>\n",
              "      <td>No</td>\n",
              "      <td>0</td>\n",
              "      <td>243.4</td>\n",
              "      <td>114</td>\n",
              "      <td>41.38</td>\n",
              "      <td>121.2</td>\n",
              "      <td>110</td>\n",
              "      <td>10.30</td>\n",
              "      <td>162.6</td>\n",
              "      <td>104</td>\n",
              "      <td>7.32</td>\n",
              "      <td>12.2</td>\n",
              "      <td>5</td>\n",
              "      <td>3.29</td>\n",
              "      <td>0</td>\n",
              "      <td>False</td>\n",
              "      <td>Very High</td>\n",
              "    </tr>\n",
              "  </tbody>\n",
              "</table>\n",
              "</div>"
            ],
            "text/plain": [
              "  State  Account length  Area code  ...  Customer service calls  Churn  num_label\n",
              "0    KS             128        415  ...                       1  False       High\n",
              "1    OH             107        415  ...                       1  False  Very High\n",
              "2    NJ             137        415  ...                       0  False  Very High\n",
              "\n",
              "[3 rows x 21 columns]"
            ]
          },
          "metadata": {
            "tags": []
          },
          "execution_count": 83
        }
      ]
    },
    {
      "cell_type": "markdown",
      "metadata": {
        "id": "sSDAndOba7nQ"
      },
      "source": [
        "# 8. find the sum of total charge for day, evening and night by area code"
      ]
    },
    {
      "cell_type": "code",
      "metadata": {
        "id": "ZGmdmPpSa7nQ",
        "colab": {
          "base_uri": "https://localhost:8080/",
          "height": 170
        },
        "outputId": "44340874-0c47-4488-b542-7d4cf53794d3"
      },
      "source": [
        "def sum_total():\n",
        "    # write your code here\n",
        "    g=df.groupby('Area code')[['Total day charge','Total eve charge','Total night charge']].sum()\n",
        "    return g # write your code here\n",
        "sum_total()\n"
      ],
      "execution_count": null,
      "outputs": [
        {
          "output_type": "execute_result",
          "data": {
            "text/html": [
              "<div>\n",
              "<style scoped>\n",
              "    .dataframe tbody tr th:only-of-type {\n",
              "        vertical-align: middle;\n",
              "    }\n",
              "\n",
              "    .dataframe tbody tr th {\n",
              "        vertical-align: top;\n",
              "    }\n",
              "\n",
              "    .dataframe thead th {\n",
              "        text-align: right;\n",
              "    }\n",
              "</style>\n",
              "<table border=\"1\" class=\"dataframe\">\n",
              "  <thead>\n",
              "    <tr style=\"text-align: right;\">\n",
              "      <th></th>\n",
              "      <th>Total day charge</th>\n",
              "      <th>Total eve charge</th>\n",
              "      <th>Total night charge</th>\n",
              "    </tr>\n",
              "    <tr>\n",
              "      <th>Area code</th>\n",
              "      <th></th>\n",
              "      <th></th>\n",
              "      <th></th>\n",
              "    </tr>\n",
              "  </thead>\n",
              "  <tbody>\n",
              "    <tr>\n",
              "      <th>408</th>\n",
              "      <td>25240.79</td>\n",
              "      <td>14337.60</td>\n",
              "      <td>7512.49</td>\n",
              "    </tr>\n",
              "    <tr>\n",
              "      <th>415</th>\n",
              "      <td>51092.06</td>\n",
              "      <td>28226.97</td>\n",
              "      <td>15046.92</td>\n",
              "    </tr>\n",
              "    <tr>\n",
              "      <th>510</th>\n",
              "      <td>25531.32</td>\n",
              "      <td>14374.87</td>\n",
              "      <td>7568.66</td>\n",
              "    </tr>\n",
              "  </tbody>\n",
              "</table>\n",
              "</div>"
            ],
            "text/plain": [
              "           Total day charge  Total eve charge  Total night charge\n",
              "Area code                                                        \n",
              "408                25240.79          14337.60             7512.49\n",
              "415                51092.06          28226.97            15046.92\n",
              "510                25531.32          14374.87             7568.66"
            ]
          },
          "metadata": {
            "tags": []
          },
          "execution_count": 64
        }
      ]
    },
    {
      "cell_type": "markdown",
      "metadata": {
        "id": "O1WxkelJa7nS"
      },
      "source": [
        "# 9. How many customers are there who made day calls below average and day charge was above average.\n",
        "# store this customer details in another dataframe"
      ]
    },
    {
      "cell_type": "code",
      "metadata": {
        "scrolled": true,
        "id": "mX5ESVe2a7nS",
        "colab": {
          "base_uri": "https://localhost:8080/",
          "height": 444
        },
        "outputId": "64b9146e-57b9-4b11-a5e1-083f33a140d8"
      },
      "source": [
        "def select_custom():\n",
        "    # write your code here\n",
        "    m =df['Total day calls'].mean()\n",
        "    ch = df['Total day charge'].mean()\n",
        "    df2 = df.loc[(df['Total day calls']< m) & (df['Total day charge']>ch)]\n",
        "    return df2 # write your code here)\n",
        "select_custom()\n"
      ],
      "execution_count": null,
      "outputs": [
        {
          "output_type": "execute_result",
          "data": {
            "text/html": [
              "<div>\n",
              "<style scoped>\n",
              "    .dataframe tbody tr th:only-of-type {\n",
              "        vertical-align: middle;\n",
              "    }\n",
              "\n",
              "    .dataframe tbody tr th {\n",
              "        vertical-align: top;\n",
              "    }\n",
              "\n",
              "    .dataframe thead th {\n",
              "        text-align: right;\n",
              "    }\n",
              "</style>\n",
              "<table border=\"1\" class=\"dataframe\">\n",
              "  <thead>\n",
              "    <tr style=\"text-align: right;\">\n",
              "      <th></th>\n",
              "      <th>State</th>\n",
              "      <th>Account length</th>\n",
              "      <th>Area code</th>\n",
              "      <th>International plan</th>\n",
              "      <th>Voice mail plan</th>\n",
              "      <th>Number vmail messages</th>\n",
              "      <th>Total day minutes</th>\n",
              "      <th>Total day calls</th>\n",
              "      <th>Total day charge</th>\n",
              "      <th>Total eve minutes</th>\n",
              "      <th>Total eve calls</th>\n",
              "      <th>Total eve charge</th>\n",
              "      <th>Total night minutes</th>\n",
              "      <th>Total night calls</th>\n",
              "      <th>Total night charge</th>\n",
              "      <th>Total intl minutes</th>\n",
              "      <th>Total intl calls</th>\n",
              "      <th>Total intl charge</th>\n",
              "      <th>Customer service calls</th>\n",
              "      <th>Churn</th>\n",
              "    </tr>\n",
              "  </thead>\n",
              "  <tbody>\n",
              "    <tr>\n",
              "      <th>3</th>\n",
              "      <td>OH</td>\n",
              "      <td>84</td>\n",
              "      <td>408</td>\n",
              "      <td>True</td>\n",
              "      <td>No</td>\n",
              "      <td>0</td>\n",
              "      <td>299.4</td>\n",
              "      <td>71</td>\n",
              "      <td>50.90</td>\n",
              "      <td>61.9</td>\n",
              "      <td>88</td>\n",
              "      <td>5.26</td>\n",
              "      <td>196.9</td>\n",
              "      <td>89</td>\n",
              "      <td>8.86</td>\n",
              "      <td>6.6</td>\n",
              "      <td>7</td>\n",
              "      <td>1.78</td>\n",
              "      <td>2</td>\n",
              "      <td>False</td>\n",
              "    </tr>\n",
              "    <tr>\n",
              "      <th>5</th>\n",
              "      <td>AL</td>\n",
              "      <td>118</td>\n",
              "      <td>510</td>\n",
              "      <td>True</td>\n",
              "      <td>No</td>\n",
              "      <td>0</td>\n",
              "      <td>223.4</td>\n",
              "      <td>98</td>\n",
              "      <td>37.98</td>\n",
              "      <td>220.6</td>\n",
              "      <td>101</td>\n",
              "      <td>18.75</td>\n",
              "      <td>203.9</td>\n",
              "      <td>118</td>\n",
              "      <td>9.18</td>\n",
              "      <td>6.3</td>\n",
              "      <td>6</td>\n",
              "      <td>1.70</td>\n",
              "      <td>0</td>\n",
              "      <td>False</td>\n",
              "    </tr>\n",
              "    <tr>\n",
              "      <th>6</th>\n",
              "      <td>MA</td>\n",
              "      <td>121</td>\n",
              "      <td>510</td>\n",
              "      <td>False</td>\n",
              "      <td>Yes</td>\n",
              "      <td>24</td>\n",
              "      <td>218.2</td>\n",
              "      <td>88</td>\n",
              "      <td>37.09</td>\n",
              "      <td>348.5</td>\n",
              "      <td>108</td>\n",
              "      <td>29.62</td>\n",
              "      <td>212.6</td>\n",
              "      <td>118</td>\n",
              "      <td>9.57</td>\n",
              "      <td>7.5</td>\n",
              "      <td>7</td>\n",
              "      <td>2.03</td>\n",
              "      <td>3</td>\n",
              "      <td>False</td>\n",
              "    </tr>\n",
              "    <tr>\n",
              "      <th>8</th>\n",
              "      <td>LA</td>\n",
              "      <td>117</td>\n",
              "      <td>408</td>\n",
              "      <td>False</td>\n",
              "      <td>No</td>\n",
              "      <td>0</td>\n",
              "      <td>184.5</td>\n",
              "      <td>97</td>\n",
              "      <td>31.37</td>\n",
              "      <td>351.6</td>\n",
              "      <td>80</td>\n",
              "      <td>29.89</td>\n",
              "      <td>215.8</td>\n",
              "      <td>90</td>\n",
              "      <td>9.71</td>\n",
              "      <td>8.7</td>\n",
              "      <td>4</td>\n",
              "      <td>2.35</td>\n",
              "      <td>1</td>\n",
              "      <td>False</td>\n",
              "    </tr>\n",
              "    <tr>\n",
              "      <th>9</th>\n",
              "      <td>WV</td>\n",
              "      <td>141</td>\n",
              "      <td>415</td>\n",
              "      <td>True</td>\n",
              "      <td>Yes</td>\n",
              "      <td>37</td>\n",
              "      <td>258.6</td>\n",
              "      <td>84</td>\n",
              "      <td>43.96</td>\n",
              "      <td>222.0</td>\n",
              "      <td>111</td>\n",
              "      <td>18.87</td>\n",
              "      <td>326.4</td>\n",
              "      <td>97</td>\n",
              "      <td>14.69</td>\n",
              "      <td>11.2</td>\n",
              "      <td>5</td>\n",
              "      <td>3.02</td>\n",
              "      <td>0</td>\n",
              "      <td>False</td>\n",
              "    </tr>\n",
              "    <tr>\n",
              "      <th>...</th>\n",
              "      <td>...</td>\n",
              "      <td>...</td>\n",
              "      <td>...</td>\n",
              "      <td>...</td>\n",
              "      <td>...</td>\n",
              "      <td>...</td>\n",
              "      <td>...</td>\n",
              "      <td>...</td>\n",
              "      <td>...</td>\n",
              "      <td>...</td>\n",
              "      <td>...</td>\n",
              "      <td>...</td>\n",
              "      <td>...</td>\n",
              "      <td>...</td>\n",
              "      <td>...</td>\n",
              "      <td>...</td>\n",
              "      <td>...</td>\n",
              "      <td>...</td>\n",
              "      <td>...</td>\n",
              "      <td>...</td>\n",
              "    </tr>\n",
              "    <tr>\n",
              "      <th>3308</th>\n",
              "      <td>IA</td>\n",
              "      <td>45</td>\n",
              "      <td>415</td>\n",
              "      <td>False</td>\n",
              "      <td>No</td>\n",
              "      <td>0</td>\n",
              "      <td>211.3</td>\n",
              "      <td>87</td>\n",
              "      <td>35.92</td>\n",
              "      <td>165.7</td>\n",
              "      <td>97</td>\n",
              "      <td>14.08</td>\n",
              "      <td>265.9</td>\n",
              "      <td>72</td>\n",
              "      <td>11.97</td>\n",
              "      <td>13.3</td>\n",
              "      <td>6</td>\n",
              "      <td>3.59</td>\n",
              "      <td>1</td>\n",
              "      <td>False</td>\n",
              "    </tr>\n",
              "    <tr>\n",
              "      <th>3310</th>\n",
              "      <td>NY</td>\n",
              "      <td>94</td>\n",
              "      <td>415</td>\n",
              "      <td>False</td>\n",
              "      <td>No</td>\n",
              "      <td>0</td>\n",
              "      <td>190.4</td>\n",
              "      <td>91</td>\n",
              "      <td>32.37</td>\n",
              "      <td>92.0</td>\n",
              "      <td>107</td>\n",
              "      <td>7.82</td>\n",
              "      <td>224.8</td>\n",
              "      <td>108</td>\n",
              "      <td>10.12</td>\n",
              "      <td>13.6</td>\n",
              "      <td>17</td>\n",
              "      <td>3.67</td>\n",
              "      <td>2</td>\n",
              "      <td>False</td>\n",
              "    </tr>\n",
              "    <tr>\n",
              "      <th>3317</th>\n",
              "      <td>SD</td>\n",
              "      <td>163</td>\n",
              "      <td>415</td>\n",
              "      <td>True</td>\n",
              "      <td>No</td>\n",
              "      <td>0</td>\n",
              "      <td>197.2</td>\n",
              "      <td>90</td>\n",
              "      <td>33.52</td>\n",
              "      <td>188.5</td>\n",
              "      <td>113</td>\n",
              "      <td>16.02</td>\n",
              "      <td>211.1</td>\n",
              "      <td>94</td>\n",
              "      <td>9.50</td>\n",
              "      <td>7.8</td>\n",
              "      <td>8</td>\n",
              "      <td>2.11</td>\n",
              "      <td>1</td>\n",
              "      <td>False</td>\n",
              "    </tr>\n",
              "    <tr>\n",
              "      <th>3325</th>\n",
              "      <td>OH</td>\n",
              "      <td>78</td>\n",
              "      <td>408</td>\n",
              "      <td>False</td>\n",
              "      <td>No</td>\n",
              "      <td>0</td>\n",
              "      <td>193.4</td>\n",
              "      <td>99</td>\n",
              "      <td>32.88</td>\n",
              "      <td>116.9</td>\n",
              "      <td>88</td>\n",
              "      <td>9.94</td>\n",
              "      <td>243.3</td>\n",
              "      <td>109</td>\n",
              "      <td>10.95</td>\n",
              "      <td>9.3</td>\n",
              "      <td>4</td>\n",
              "      <td>2.51</td>\n",
              "      <td>2</td>\n",
              "      <td>False</td>\n",
              "    </tr>\n",
              "    <tr>\n",
              "      <th>3329</th>\n",
              "      <td>WV</td>\n",
              "      <td>68</td>\n",
              "      <td>415</td>\n",
              "      <td>False</td>\n",
              "      <td>No</td>\n",
              "      <td>0</td>\n",
              "      <td>231.1</td>\n",
              "      <td>57</td>\n",
              "      <td>39.29</td>\n",
              "      <td>153.4</td>\n",
              "      <td>55</td>\n",
              "      <td>13.04</td>\n",
              "      <td>191.3</td>\n",
              "      <td>123</td>\n",
              "      <td>8.61</td>\n",
              "      <td>9.6</td>\n",
              "      <td>4</td>\n",
              "      <td>2.59</td>\n",
              "      <td>3</td>\n",
              "      <td>False</td>\n",
              "    </tr>\n",
              "  </tbody>\n",
              "</table>\n",
              "<p>811 rows × 20 columns</p>\n",
              "</div>"
            ],
            "text/plain": [
              "     State  Account length  ...  Customer service calls  Churn\n",
              "3       OH              84  ...                       2  False\n",
              "5       AL             118  ...                       0  False\n",
              "6       MA             121  ...                       3  False\n",
              "8       LA             117  ...                       1  False\n",
              "9       WV             141  ...                       0  False\n",
              "...    ...             ...  ...                     ...    ...\n",
              "3308    IA              45  ...                       1  False\n",
              "3310    NY              94  ...                       2  False\n",
              "3317    SD             163  ...                       1  False\n",
              "3325    OH              78  ...                       2  False\n",
              "3329    WV              68  ...                       3  False\n",
              "\n",
              "[811 rows x 20 columns]"
            ]
          },
          "metadata": {
            "tags": []
          },
          "execution_count": 69
        }
      ]
    },
    {
      "cell_type": "markdown",
      "metadata": {
        "id": "q2hDAaMua7nU"
      },
      "source": [
        "# 10. take the dataframe created by Q19 and compute the total minutes and convert the total minutes to hour and display 5 values"
      ]
    },
    {
      "cell_type": "code",
      "metadata": {
        "id": "WvLP7-gta7nU",
        "colab": {
          "base_uri": "https://localhost:8080/",
          "height": 116
        },
        "outputId": "1a608a19-1443-43f5-ddd3-b1da815281e7"
      },
      "source": [
        "def total_min():\n",
        "    # write your code here\n",
        "    df2 = select_custom()\n",
        "    tot_min = (df2['Total day minutes'] + df2['Total eve minutes'] + df2['Total night minutes'])/60\n",
        "    return tot_min.head(5)# write your code here\n",
        "total_min()\n"
      ],
      "execution_count": null,
      "outputs": [
        {
          "output_type": "execute_result",
          "data": {
            "text/plain": [
              "3     9.303333\n",
              "5    10.798333\n",
              "6    12.988333\n",
              "8    12.531667\n",
              "9    13.450000\n",
              "dtype: float64"
            ]
          },
          "metadata": {
            "tags": []
          },
          "execution_count": 76
        }
      ]
    },
    {
      "cell_type": "code",
      "metadata": {
        "id": "eNlOD_gBmgVG"
      },
      "source": [
        ""
      ],
      "execution_count": null,
      "outputs": []
    }
  ]
}