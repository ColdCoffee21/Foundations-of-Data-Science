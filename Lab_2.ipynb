{
  "nbformat": 4,
  "nbformat_minor": 0,
  "metadata": {
    "colab": {
      "name": "Lab_2.ipynb",
      "provenance": [],
      "collapsed_sections": [
        "rVcmGH1EDcK_"
      ],
      "authorship_tag": "ABX9TyMq4JU5GyTD25jPF1CfGcdO",
      "include_colab_link": true
    },
    "kernelspec": {
      "name": "python3",
      "display_name": "Python 3"
    }
  },
  "cells": [
    {
      "cell_type": "markdown",
      "metadata": {
        "id": "view-in-github",
        "colab_type": "text"
      },
      "source": [
        "<a href=\"https://colab.research.google.com/github/ColdCoffee21/Foundations-of-Data-Science/blob/master/Lab_2.ipynb\" target=\"_parent\"><img src=\"https://colab.research.google.com/assets/colab-badge.svg\" alt=\"Open In Colab\"/></a>"
      ]
    },
    {
      "cell_type": "code",
      "metadata": {
        "id": "xx7D5B0uXym-"
      },
      "source": [
        "data = pd.read_csv('/content/drive/My Drive/Data Science/uk-500.csv')"
      ],
      "execution_count": null,
      "outputs": []
    },
    {
      "cell_type": "markdown",
      "metadata": {
        "id": "6bDqmqzfESuS"
      },
      "source": [
        "###Dataframe indexing"
      ]
    },
    {
      "cell_type": "code",
      "metadata": {
        "id": "IdJ3GrXoEpvP",
        "colab": {
          "base_uri": "https://localhost:8080/",
          "height": 216
        },
        "outputId": "f100aee5-5265-4fca-cc48-3755296eb994"
      },
      "source": [
        "data.iloc[0]"
      ],
      "execution_count": null,
      "outputs": [
        {
          "output_type": "execute_result",
          "data": {
            "text/plain": [
              "first_name                                   Aleshia\n",
              "last_name                                 Tomkiewicz\n",
              "company_name                 Alan D Rosenburg Cpa Pc\n",
              "address                                 14 Taylor St\n",
              "city                               St. Stephens Ward\n",
              "county                                          Kent\n",
              "postal                                       CT2 7PP\n",
              "phone1                                  01835-703597\n",
              "phone2                                  01944-369967\n",
              "email                        atomkiewicz@hotmail.com\n",
              "web             http://www.alandrosenburgcpapc.co.uk\n",
              "Name: 0, dtype: object"
            ]
          },
          "metadata": {
            "tags": []
          },
          "execution_count": 5
        }
      ]
    },
    {
      "cell_type": "code",
      "metadata": {
        "id": "uFqFDtIDExI3",
        "colab": {
          "base_uri": "https://localhost:8080/",
          "height": 216
        },
        "outputId": "5e772267-885e-40af-c458-0d6e3e926556"
      },
      "source": [
        "data.iloc[1]"
      ],
      "execution_count": null,
      "outputs": [
        {
          "output_type": "execute_result",
          "data": {
            "text/plain": [
              "first_name                                   Evan\n",
              "last_name                               Zigomalas\n",
              "company_name                   Cap Gemini America\n",
              "address                               5 Binney St\n",
              "city                                   Abbey Ward\n",
              "county                            Buckinghamshire\n",
              "postal                                   HP11 2AX\n",
              "phone1                               01937-864715\n",
              "phone2                               01714-737668\n",
              "email                    evan.zigomalas@gmail.com\n",
              "web             http://www.capgeminiamerica.co.uk\n",
              "Name: 1, dtype: object"
            ]
          },
          "metadata": {
            "tags": []
          },
          "execution_count": 6
        }
      ]
    },
    {
      "cell_type": "code",
      "metadata": {
        "id": "kOLO5MdDE1yT",
        "colab": {
          "base_uri": "https://localhost:8080/",
          "height": 216
        },
        "outputId": "87a9c87f-69e8-4d59-dad5-33337b1747f1"
      },
      "source": [
        "data.iloc[-1]"
      ],
      "execution_count": null,
      "outputs": [
        {
          "output_type": "execute_result",
          "data": {
            "text/plain": [
              "first_name                                               Mi\n",
              "last_name                                            Richan\n",
              "company_name                 Nelson Wright Haworth Golf Crs\n",
              "address                                     6 Norwood Grove\n",
              "city                                      Tanworth-in-Arden\n",
              "county                                         Warwickshire\n",
              "postal                                              B94 5RZ\n",
              "phone1                                         01451-785624\n",
              "phone2                                         01202-738406\n",
              "email                                        mi@hotmail.com\n",
              "web             http://www.nelsonwrighthaworthgolfcrs.co.uk\n",
              "Name: 499, dtype: object"
            ]
          },
          "metadata": {
            "tags": []
          },
          "execution_count": 7
        }
      ]
    },
    {
      "cell_type": "code",
      "metadata": {
        "id": "y77dSPKnFE3h",
        "colab": {
          "base_uri": "https://localhost:8080/",
          "height": 216
        },
        "outputId": "7262195c-c04d-4e11-9800-94950693c2ba"
      },
      "source": [
        "#selecting columns\n",
        "data.iloc[:,0]"
      ],
      "execution_count": null,
      "outputs": [
        {
          "output_type": "execute_result",
          "data": {
            "text/plain": [
              "0        Aleshia\n",
              "1           Evan\n",
              "2         France\n",
              "3        Ulysses\n",
              "4         Tyisha\n",
              "         ...    \n",
              "495        Avery\n",
              "496         Reid\n",
              "497    Charlette\n",
              "498    Celestina\n",
              "499           Mi\n",
              "Name: first_name, Length: 500, dtype: object"
            ]
          },
          "metadata": {
            "tags": []
          },
          "execution_count": 8
        }
      ]
    },
    {
      "cell_type": "code",
      "metadata": {
        "id": "5tWWIyrCFl7h",
        "colab": {
          "base_uri": "https://localhost:8080/",
          "height": 216
        },
        "outputId": "b4420053-bf50-44f9-bc94-6bb5b590d142"
      },
      "source": [
        "data.iloc[:,1]"
      ],
      "execution_count": null,
      "outputs": [
        {
          "output_type": "execute_result",
          "data": {
            "text/plain": [
              "0      Tomkiewicz\n",
              "1       Zigomalas\n",
              "2         Andrade\n",
              "3       Mcwalters\n",
              "4          Veness\n",
              "          ...    \n",
              "495          Veit\n",
              "496       Euresti\n",
              "497      Brenning\n",
              "498         Keeny\n",
              "499        Richan\n",
              "Name: last_name, Length: 500, dtype: object"
            ]
          },
          "metadata": {
            "tags": []
          },
          "execution_count": 9
        }
      ]
    },
    {
      "cell_type": "code",
      "metadata": {
        "id": "LM4hRXOCFseS",
        "colab": {
          "base_uri": "https://localhost:8080/",
          "height": 216
        },
        "outputId": "6435b6f8-20c3-467c-f8c8-ec6f0c29b462"
      },
      "source": [
        "data.iloc[:,-1]"
      ],
      "execution_count": null,
      "outputs": [
        {
          "output_type": "execute_result",
          "data": {
            "text/plain": [
              "0             http://www.alandrosenburgcpapc.co.uk\n",
              "1                http://www.capgeminiamerica.co.uk\n",
              "2                 http://www.elliottjohnwesq.co.uk\n",
              "3                     http://www.mcmahanbenl.co.uk\n",
              "4                   http://www.champagneroom.co.uk\n",
              "                          ...                     \n",
              "495      http://www.plazagourmetdelicatessen.co.uk\n",
              "496             http://www.fitzgeraldedwardj.co.uk\n",
              "497               http://www.fureyassociates.co.uk\n",
              "498         http://www.bfgfederalcreditunion.co.uk\n",
              "499    http://www.nelsonwrighthaworthgolfcrs.co.uk\n",
              "Name: web, Length: 500, dtype: object"
            ]
          },
          "metadata": {
            "tags": []
          },
          "execution_count": 10
        }
      ]
    },
    {
      "cell_type": "code",
      "metadata": {
        "id": "wdU1d6XnFu72",
        "colab": {
          "base_uri": "https://localhost:8080/",
          "height": 283
        },
        "outputId": "bd2bad01-a1d5-4f57-f190-e65d2db00e25"
      },
      "source": [
        "#first upto n rows select\n",
        "data.iloc[0:5] #0,1,2,3,4"
      ],
      "execution_count": null,
      "outputs": [
        {
          "output_type": "execute_result",
          "data": {
            "text/html": [
              "<div>\n",
              "<style scoped>\n",
              "    .dataframe tbody tr th:only-of-type {\n",
              "        vertical-align: middle;\n",
              "    }\n",
              "\n",
              "    .dataframe tbody tr th {\n",
              "        vertical-align: top;\n",
              "    }\n",
              "\n",
              "    .dataframe thead th {\n",
              "        text-align: right;\n",
              "    }\n",
              "</style>\n",
              "<table border=\"1\" class=\"dataframe\">\n",
              "  <thead>\n",
              "    <tr style=\"text-align: right;\">\n",
              "      <th></th>\n",
              "      <th>first_name</th>\n",
              "      <th>last_name</th>\n",
              "      <th>company_name</th>\n",
              "      <th>address</th>\n",
              "      <th>city</th>\n",
              "      <th>county</th>\n",
              "      <th>postal</th>\n",
              "      <th>phone1</th>\n",
              "      <th>phone2</th>\n",
              "      <th>email</th>\n",
              "      <th>web</th>\n",
              "    </tr>\n",
              "  </thead>\n",
              "  <tbody>\n",
              "    <tr>\n",
              "      <th>0</th>\n",
              "      <td>Aleshia</td>\n",
              "      <td>Tomkiewicz</td>\n",
              "      <td>Alan D Rosenburg Cpa Pc</td>\n",
              "      <td>14 Taylor St</td>\n",
              "      <td>St. Stephens Ward</td>\n",
              "      <td>Kent</td>\n",
              "      <td>CT2 7PP</td>\n",
              "      <td>01835-703597</td>\n",
              "      <td>01944-369967</td>\n",
              "      <td>atomkiewicz@hotmail.com</td>\n",
              "      <td>http://www.alandrosenburgcpapc.co.uk</td>\n",
              "    </tr>\n",
              "    <tr>\n",
              "      <th>1</th>\n",
              "      <td>Evan</td>\n",
              "      <td>Zigomalas</td>\n",
              "      <td>Cap Gemini America</td>\n",
              "      <td>5 Binney St</td>\n",
              "      <td>Abbey Ward</td>\n",
              "      <td>Buckinghamshire</td>\n",
              "      <td>HP11 2AX</td>\n",
              "      <td>01937-864715</td>\n",
              "      <td>01714-737668</td>\n",
              "      <td>evan.zigomalas@gmail.com</td>\n",
              "      <td>http://www.capgeminiamerica.co.uk</td>\n",
              "    </tr>\n",
              "    <tr>\n",
              "      <th>2</th>\n",
              "      <td>France</td>\n",
              "      <td>Andrade</td>\n",
              "      <td>Elliott, John W Esq</td>\n",
              "      <td>8 Moor Place</td>\n",
              "      <td>East Southbourne and Tuckton W</td>\n",
              "      <td>Bournemouth</td>\n",
              "      <td>BH6 3BE</td>\n",
              "      <td>01347-368222</td>\n",
              "      <td>01935-821636</td>\n",
              "      <td>france.andrade@hotmail.com</td>\n",
              "      <td>http://www.elliottjohnwesq.co.uk</td>\n",
              "    </tr>\n",
              "    <tr>\n",
              "      <th>3</th>\n",
              "      <td>Ulysses</td>\n",
              "      <td>Mcwalters</td>\n",
              "      <td>Mcmahan, Ben L</td>\n",
              "      <td>505 Exeter Rd</td>\n",
              "      <td>Hawerby cum Beesby</td>\n",
              "      <td>Lincolnshire</td>\n",
              "      <td>DN36 5RP</td>\n",
              "      <td>01912-771311</td>\n",
              "      <td>01302-601380</td>\n",
              "      <td>ulysses@hotmail.com</td>\n",
              "      <td>http://www.mcmahanbenl.co.uk</td>\n",
              "    </tr>\n",
              "    <tr>\n",
              "      <th>4</th>\n",
              "      <td>Tyisha</td>\n",
              "      <td>Veness</td>\n",
              "      <td>Champagne Room</td>\n",
              "      <td>5396 Forth Street</td>\n",
              "      <td>Greets Green and Lyng Ward</td>\n",
              "      <td>West Midlands</td>\n",
              "      <td>B70 9DT</td>\n",
              "      <td>01547-429341</td>\n",
              "      <td>01290-367248</td>\n",
              "      <td>tyisha.veness@hotmail.com</td>\n",
              "      <td>http://www.champagneroom.co.uk</td>\n",
              "    </tr>\n",
              "  </tbody>\n",
              "</table>\n",
              "</div>"
            ],
            "text/plain": [
              "  first_name  ...                                   web\n",
              "0    Aleshia  ...  http://www.alandrosenburgcpapc.co.uk\n",
              "1       Evan  ...     http://www.capgeminiamerica.co.uk\n",
              "2     France  ...      http://www.elliottjohnwesq.co.uk\n",
              "3    Ulysses  ...          http://www.mcmahanbenl.co.uk\n",
              "4     Tyisha  ...        http://www.champagneroom.co.uk\n",
              "\n",
              "[5 rows x 11 columns]"
            ]
          },
          "metadata": {
            "tags": []
          },
          "execution_count": 11
        }
      ]
    },
    {
      "cell_type": "code",
      "metadata": {
        "id": "QjUjdhfLF5cq",
        "colab": {
          "base_uri": "https://localhost:8080/",
          "height": 411
        },
        "outputId": "84457b05-cca1-461c-e4ea-dd840fc6ff52"
      },
      "source": [
        "#first two columns\n",
        "data.iloc[:,0:2]"
      ],
      "execution_count": null,
      "outputs": [
        {
          "output_type": "execute_result",
          "data": {
            "text/html": [
              "<div>\n",
              "<style scoped>\n",
              "    .dataframe tbody tr th:only-of-type {\n",
              "        vertical-align: middle;\n",
              "    }\n",
              "\n",
              "    .dataframe tbody tr th {\n",
              "        vertical-align: top;\n",
              "    }\n",
              "\n",
              "    .dataframe thead th {\n",
              "        text-align: right;\n",
              "    }\n",
              "</style>\n",
              "<table border=\"1\" class=\"dataframe\">\n",
              "  <thead>\n",
              "    <tr style=\"text-align: right;\">\n",
              "      <th></th>\n",
              "      <th>first_name</th>\n",
              "      <th>last_name</th>\n",
              "    </tr>\n",
              "  </thead>\n",
              "  <tbody>\n",
              "    <tr>\n",
              "      <th>0</th>\n",
              "      <td>Aleshia</td>\n",
              "      <td>Tomkiewicz</td>\n",
              "    </tr>\n",
              "    <tr>\n",
              "      <th>1</th>\n",
              "      <td>Evan</td>\n",
              "      <td>Zigomalas</td>\n",
              "    </tr>\n",
              "    <tr>\n",
              "      <th>2</th>\n",
              "      <td>France</td>\n",
              "      <td>Andrade</td>\n",
              "    </tr>\n",
              "    <tr>\n",
              "      <th>3</th>\n",
              "      <td>Ulysses</td>\n",
              "      <td>Mcwalters</td>\n",
              "    </tr>\n",
              "    <tr>\n",
              "      <th>4</th>\n",
              "      <td>Tyisha</td>\n",
              "      <td>Veness</td>\n",
              "    </tr>\n",
              "    <tr>\n",
              "      <th>...</th>\n",
              "      <td>...</td>\n",
              "      <td>...</td>\n",
              "    </tr>\n",
              "    <tr>\n",
              "      <th>495</th>\n",
              "      <td>Avery</td>\n",
              "      <td>Veit</td>\n",
              "    </tr>\n",
              "    <tr>\n",
              "      <th>496</th>\n",
              "      <td>Reid</td>\n",
              "      <td>Euresti</td>\n",
              "    </tr>\n",
              "    <tr>\n",
              "      <th>497</th>\n",
              "      <td>Charlette</td>\n",
              "      <td>Brenning</td>\n",
              "    </tr>\n",
              "    <tr>\n",
              "      <th>498</th>\n",
              "      <td>Celestina</td>\n",
              "      <td>Keeny</td>\n",
              "    </tr>\n",
              "    <tr>\n",
              "      <th>499</th>\n",
              "      <td>Mi</td>\n",
              "      <td>Richan</td>\n",
              "    </tr>\n",
              "  </tbody>\n",
              "</table>\n",
              "<p>500 rows × 2 columns</p>\n",
              "</div>"
            ],
            "text/plain": [
              "    first_name   last_name\n",
              "0      Aleshia  Tomkiewicz\n",
              "1         Evan   Zigomalas\n",
              "2       France     Andrade\n",
              "3      Ulysses   Mcwalters\n",
              "4       Tyisha      Veness\n",
              "..         ...         ...\n",
              "495      Avery        Veit\n",
              "496       Reid     Euresti\n",
              "497  Charlette    Brenning\n",
              "498  Celestina       Keeny\n",
              "499         Mi      Richan\n",
              "\n",
              "[500 rows x 2 columns]"
            ]
          },
          "metadata": {
            "tags": []
          },
          "execution_count": 12
        }
      ]
    },
    {
      "cell_type": "code",
      "metadata": {
        "id": "_B8wkuDxF-QG",
        "colab": {
          "base_uri": "https://localhost:8080/",
          "height": 170
        },
        "outputId": "e99652ad-c4cc-46d3-b11f-521998adb6d7"
      },
      "source": [
        "data.iloc[[0,3,6,24],[0,5,6]]"
      ],
      "execution_count": null,
      "outputs": [
        {
          "output_type": "execute_result",
          "data": {
            "text/html": [
              "<div>\n",
              "<style scoped>\n",
              "    .dataframe tbody tr th:only-of-type {\n",
              "        vertical-align: middle;\n",
              "    }\n",
              "\n",
              "    .dataframe tbody tr th {\n",
              "        vertical-align: top;\n",
              "    }\n",
              "\n",
              "    .dataframe thead th {\n",
              "        text-align: right;\n",
              "    }\n",
              "</style>\n",
              "<table border=\"1\" class=\"dataframe\">\n",
              "  <thead>\n",
              "    <tr style=\"text-align: right;\">\n",
              "      <th></th>\n",
              "      <th>first_name</th>\n",
              "      <th>county</th>\n",
              "      <th>postal</th>\n",
              "    </tr>\n",
              "  </thead>\n",
              "  <tbody>\n",
              "    <tr>\n",
              "      <th>0</th>\n",
              "      <td>Aleshia</td>\n",
              "      <td>Kent</td>\n",
              "      <td>CT2 7PP</td>\n",
              "    </tr>\n",
              "    <tr>\n",
              "      <th>3</th>\n",
              "      <td>Ulysses</td>\n",
              "      <td>Lincolnshire</td>\n",
              "      <td>DN36 5RP</td>\n",
              "    </tr>\n",
              "    <tr>\n",
              "      <th>6</th>\n",
              "      <td>Marg</td>\n",
              "      <td>Southampton</td>\n",
              "      <td>SO14 3TY</td>\n",
              "    </tr>\n",
              "    <tr>\n",
              "      <th>24</th>\n",
              "      <td>Tess</td>\n",
              "      <td>West Sussex</td>\n",
              "      <td>PO19 1RH</td>\n",
              "    </tr>\n",
              "  </tbody>\n",
              "</table>\n",
              "</div>"
            ],
            "text/plain": [
              "   first_name        county    postal\n",
              "0     Aleshia          Kent   CT2 7PP\n",
              "3     Ulysses  Lincolnshire  DN36 5RP\n",
              "6        Marg   Southampton  SO14 3TY\n",
              "24       Tess   West Sussex  PO19 1RH"
            ]
          },
          "metadata": {
            "tags": []
          },
          "execution_count": 13
        }
      ]
    },
    {
      "cell_type": "code",
      "metadata": {
        "id": "-X3biF0CGn29",
        "colab": {
          "base_uri": "https://localhost:8080/",
          "height": 201
        },
        "outputId": "a286b94d-7d14-4054-a121-ee97a69b9793"
      },
      "source": [
        "data.iloc[0:5,5:8]"
      ],
      "execution_count": null,
      "outputs": [
        {
          "output_type": "execute_result",
          "data": {
            "text/html": [
              "<div>\n",
              "<style scoped>\n",
              "    .dataframe tbody tr th:only-of-type {\n",
              "        vertical-align: middle;\n",
              "    }\n",
              "\n",
              "    .dataframe tbody tr th {\n",
              "        vertical-align: top;\n",
              "    }\n",
              "\n",
              "    .dataframe thead th {\n",
              "        text-align: right;\n",
              "    }\n",
              "</style>\n",
              "<table border=\"1\" class=\"dataframe\">\n",
              "  <thead>\n",
              "    <tr style=\"text-align: right;\">\n",
              "      <th></th>\n",
              "      <th>county</th>\n",
              "      <th>postal</th>\n",
              "      <th>phone1</th>\n",
              "    </tr>\n",
              "  </thead>\n",
              "  <tbody>\n",
              "    <tr>\n",
              "      <th>0</th>\n",
              "      <td>Kent</td>\n",
              "      <td>CT2 7PP</td>\n",
              "      <td>01835-703597</td>\n",
              "    </tr>\n",
              "    <tr>\n",
              "      <th>1</th>\n",
              "      <td>Buckinghamshire</td>\n",
              "      <td>HP11 2AX</td>\n",
              "      <td>01937-864715</td>\n",
              "    </tr>\n",
              "    <tr>\n",
              "      <th>2</th>\n",
              "      <td>Bournemouth</td>\n",
              "      <td>BH6 3BE</td>\n",
              "      <td>01347-368222</td>\n",
              "    </tr>\n",
              "    <tr>\n",
              "      <th>3</th>\n",
              "      <td>Lincolnshire</td>\n",
              "      <td>DN36 5RP</td>\n",
              "      <td>01912-771311</td>\n",
              "    </tr>\n",
              "    <tr>\n",
              "      <th>4</th>\n",
              "      <td>West Midlands</td>\n",
              "      <td>B70 9DT</td>\n",
              "      <td>01547-429341</td>\n",
              "    </tr>\n",
              "  </tbody>\n",
              "</table>\n",
              "</div>"
            ],
            "text/plain": [
              "            county    postal        phone1\n",
              "0             Kent   CT2 7PP  01835-703597\n",
              "1  Buckinghamshire  HP11 2AX  01937-864715\n",
              "2      Bournemouth   BH6 3BE  01347-368222\n",
              "3     Lincolnshire  DN36 5RP  01912-771311\n",
              "4    West Midlands   B70 9DT  01547-429341"
            ]
          },
          "metadata": {
            "tags": []
          },
          "execution_count": 14
        }
      ]
    },
    {
      "cell_type": "code",
      "metadata": {
        "id": "rt9Wc_MfGtIY",
        "colab": {
          "base_uri": "https://localhost:8080/",
          "height": 314
        },
        "outputId": "ef072d67-ff8e-48e4-a6b4-34e0bd1103e7"
      },
      "source": [
        "data.set_index(\"last_name\",inplace=True)\n",
        "data.head()"
      ],
      "execution_count": null,
      "outputs": [
        {
          "output_type": "execute_result",
          "data": {
            "text/html": [
              "<div>\n",
              "<style scoped>\n",
              "    .dataframe tbody tr th:only-of-type {\n",
              "        vertical-align: middle;\n",
              "    }\n",
              "\n",
              "    .dataframe tbody tr th {\n",
              "        vertical-align: top;\n",
              "    }\n",
              "\n",
              "    .dataframe thead th {\n",
              "        text-align: right;\n",
              "    }\n",
              "</style>\n",
              "<table border=\"1\" class=\"dataframe\">\n",
              "  <thead>\n",
              "    <tr style=\"text-align: right;\">\n",
              "      <th></th>\n",
              "      <th>first_name</th>\n",
              "      <th>company_name</th>\n",
              "      <th>address</th>\n",
              "      <th>city</th>\n",
              "      <th>county</th>\n",
              "      <th>postal</th>\n",
              "      <th>phone1</th>\n",
              "      <th>phone2</th>\n",
              "      <th>email</th>\n",
              "      <th>web</th>\n",
              "    </tr>\n",
              "    <tr>\n",
              "      <th>last_name</th>\n",
              "      <th></th>\n",
              "      <th></th>\n",
              "      <th></th>\n",
              "      <th></th>\n",
              "      <th></th>\n",
              "      <th></th>\n",
              "      <th></th>\n",
              "      <th></th>\n",
              "      <th></th>\n",
              "      <th></th>\n",
              "    </tr>\n",
              "  </thead>\n",
              "  <tbody>\n",
              "    <tr>\n",
              "      <th>Tomkiewicz</th>\n",
              "      <td>Aleshia</td>\n",
              "      <td>Alan D Rosenburg Cpa Pc</td>\n",
              "      <td>14 Taylor St</td>\n",
              "      <td>St. Stephens Ward</td>\n",
              "      <td>Kent</td>\n",
              "      <td>CT2 7PP</td>\n",
              "      <td>01835-703597</td>\n",
              "      <td>01944-369967</td>\n",
              "      <td>atomkiewicz@hotmail.com</td>\n",
              "      <td>http://www.alandrosenburgcpapc.co.uk</td>\n",
              "    </tr>\n",
              "    <tr>\n",
              "      <th>Zigomalas</th>\n",
              "      <td>Evan</td>\n",
              "      <td>Cap Gemini America</td>\n",
              "      <td>5 Binney St</td>\n",
              "      <td>Abbey Ward</td>\n",
              "      <td>Buckinghamshire</td>\n",
              "      <td>HP11 2AX</td>\n",
              "      <td>01937-864715</td>\n",
              "      <td>01714-737668</td>\n",
              "      <td>evan.zigomalas@gmail.com</td>\n",
              "      <td>http://www.capgeminiamerica.co.uk</td>\n",
              "    </tr>\n",
              "    <tr>\n",
              "      <th>Andrade</th>\n",
              "      <td>France</td>\n",
              "      <td>Elliott, John W Esq</td>\n",
              "      <td>8 Moor Place</td>\n",
              "      <td>East Southbourne and Tuckton W</td>\n",
              "      <td>Bournemouth</td>\n",
              "      <td>BH6 3BE</td>\n",
              "      <td>01347-368222</td>\n",
              "      <td>01935-821636</td>\n",
              "      <td>france.andrade@hotmail.com</td>\n",
              "      <td>http://www.elliottjohnwesq.co.uk</td>\n",
              "    </tr>\n",
              "    <tr>\n",
              "      <th>Mcwalters</th>\n",
              "      <td>Ulysses</td>\n",
              "      <td>Mcmahan, Ben L</td>\n",
              "      <td>505 Exeter Rd</td>\n",
              "      <td>Hawerby cum Beesby</td>\n",
              "      <td>Lincolnshire</td>\n",
              "      <td>DN36 5RP</td>\n",
              "      <td>01912-771311</td>\n",
              "      <td>01302-601380</td>\n",
              "      <td>ulysses@hotmail.com</td>\n",
              "      <td>http://www.mcmahanbenl.co.uk</td>\n",
              "    </tr>\n",
              "    <tr>\n",
              "      <th>Veness</th>\n",
              "      <td>Tyisha</td>\n",
              "      <td>Champagne Room</td>\n",
              "      <td>5396 Forth Street</td>\n",
              "      <td>Greets Green and Lyng Ward</td>\n",
              "      <td>West Midlands</td>\n",
              "      <td>B70 9DT</td>\n",
              "      <td>01547-429341</td>\n",
              "      <td>01290-367248</td>\n",
              "      <td>tyisha.veness@hotmail.com</td>\n",
              "      <td>http://www.champagneroom.co.uk</td>\n",
              "    </tr>\n",
              "  </tbody>\n",
              "</table>\n",
              "</div>"
            ],
            "text/plain": [
              "           first_name  ...                                   web\n",
              "last_name              ...                                      \n",
              "Tomkiewicz    Aleshia  ...  http://www.alandrosenburgcpapc.co.uk\n",
              "Zigomalas        Evan  ...     http://www.capgeminiamerica.co.uk\n",
              "Andrade        France  ...      http://www.elliottjohnwesq.co.uk\n",
              "Mcwalters     Ulysses  ...          http://www.mcmahanbenl.co.uk\n",
              "Veness         Tyisha  ...        http://www.champagneroom.co.uk\n",
              "\n",
              "[5 rows x 10 columns]"
            ]
          },
          "metadata": {
            "tags": []
          },
          "execution_count": 17
        }
      ]
    },
    {
      "cell_type": "code",
      "metadata": {
        "id": "4QJ2nlzgHGrV",
        "colab": {
          "base_uri": "https://localhost:8080/",
          "height": 140
        },
        "outputId": "b37c36aa-f1f8-4530-a7a7-c275a544452f"
      },
      "source": [
        "#inclues the nth row/column as well\n",
        "data.loc[['Andrade', 'Veness'],'city':'email']"
      ],
      "execution_count": null,
      "outputs": [
        {
          "output_type": "execute_result",
          "data": {
            "text/html": [
              "<div>\n",
              "<style scoped>\n",
              "    .dataframe tbody tr th:only-of-type {\n",
              "        vertical-align: middle;\n",
              "    }\n",
              "\n",
              "    .dataframe tbody tr th {\n",
              "        vertical-align: top;\n",
              "    }\n",
              "\n",
              "    .dataframe thead th {\n",
              "        text-align: right;\n",
              "    }\n",
              "</style>\n",
              "<table border=\"1\" class=\"dataframe\">\n",
              "  <thead>\n",
              "    <tr style=\"text-align: right;\">\n",
              "      <th></th>\n",
              "      <th>city</th>\n",
              "      <th>county</th>\n",
              "      <th>postal</th>\n",
              "      <th>phone1</th>\n",
              "      <th>phone2</th>\n",
              "      <th>email</th>\n",
              "    </tr>\n",
              "    <tr>\n",
              "      <th>last_name</th>\n",
              "      <th></th>\n",
              "      <th></th>\n",
              "      <th></th>\n",
              "      <th></th>\n",
              "      <th></th>\n",
              "      <th></th>\n",
              "    </tr>\n",
              "  </thead>\n",
              "  <tbody>\n",
              "    <tr>\n",
              "      <th>Andrade</th>\n",
              "      <td>East Southbourne and Tuckton W</td>\n",
              "      <td>Bournemouth</td>\n",
              "      <td>BH6 3BE</td>\n",
              "      <td>01347-368222</td>\n",
              "      <td>01935-821636</td>\n",
              "      <td>france.andrade@hotmail.com</td>\n",
              "    </tr>\n",
              "    <tr>\n",
              "      <th>Veness</th>\n",
              "      <td>Greets Green and Lyng Ward</td>\n",
              "      <td>West Midlands</td>\n",
              "      <td>B70 9DT</td>\n",
              "      <td>01547-429341</td>\n",
              "      <td>01290-367248</td>\n",
              "      <td>tyisha.veness@hotmail.com</td>\n",
              "    </tr>\n",
              "  </tbody>\n",
              "</table>\n",
              "</div>"
            ],
            "text/plain": [
              "                                     city  ...                       email\n",
              "last_name                                  ...                            \n",
              "Andrade    East Southbourne and Tuckton W  ...  france.andrade@hotmail.com\n",
              "Veness         Greets Green and Lyng Ward  ...   tyisha.veness@hotmail.com\n",
              "\n",
              "[2 rows x 6 columns]"
            ]
          },
          "metadata": {
            "tags": []
          },
          "execution_count": 18
        }
      ]
    },
    {
      "cell_type": "code",
      "metadata": {
        "id": "qf9x6-CTHlte",
        "colab": {
          "base_uri": "https://localhost:8080/",
          "height": 170
        },
        "outputId": "b812d5cf-d740-4178-c6bb-2f87b6ccbc8b"
      },
      "source": [
        "\n",
        "data.loc['Andrade': 'Veness',['first_name','city','address']]"
      ],
      "execution_count": null,
      "outputs": [
        {
          "output_type": "execute_result",
          "data": {
            "text/html": [
              "<div>\n",
              "<style scoped>\n",
              "    .dataframe tbody tr th:only-of-type {\n",
              "        vertical-align: middle;\n",
              "    }\n",
              "\n",
              "    .dataframe tbody tr th {\n",
              "        vertical-align: top;\n",
              "    }\n",
              "\n",
              "    .dataframe thead th {\n",
              "        text-align: right;\n",
              "    }\n",
              "</style>\n",
              "<table border=\"1\" class=\"dataframe\">\n",
              "  <thead>\n",
              "    <tr style=\"text-align: right;\">\n",
              "      <th></th>\n",
              "      <th>first_name</th>\n",
              "      <th>city</th>\n",
              "      <th>address</th>\n",
              "    </tr>\n",
              "    <tr>\n",
              "      <th>last_name</th>\n",
              "      <th></th>\n",
              "      <th></th>\n",
              "      <th></th>\n",
              "    </tr>\n",
              "  </thead>\n",
              "  <tbody>\n",
              "    <tr>\n",
              "      <th>Andrade</th>\n",
              "      <td>France</td>\n",
              "      <td>East Southbourne and Tuckton W</td>\n",
              "      <td>8 Moor Place</td>\n",
              "    </tr>\n",
              "    <tr>\n",
              "      <th>Mcwalters</th>\n",
              "      <td>Ulysses</td>\n",
              "      <td>Hawerby cum Beesby</td>\n",
              "      <td>505 Exeter Rd</td>\n",
              "    </tr>\n",
              "    <tr>\n",
              "      <th>Veness</th>\n",
              "      <td>Tyisha</td>\n",
              "      <td>Greets Green and Lyng Ward</td>\n",
              "      <td>5396 Forth Street</td>\n",
              "    </tr>\n",
              "  </tbody>\n",
              "</table>\n",
              "</div>"
            ],
            "text/plain": [
              "          first_name                            city            address\n",
              "last_name                                                              \n",
              "Andrade       France  East Southbourne and Tuckton W       8 Moor Place\n",
              "Mcwalters    Ulysses              Hawerby cum Beesby      505 Exeter Rd\n",
              "Veness        Tyisha      Greets Green and Lyng Ward  5396 Forth Street"
            ]
          },
          "metadata": {
            "tags": []
          },
          "execution_count": 20
        }
      ]
    },
    {
      "cell_type": "code",
      "metadata": {
        "id": "yUMaK82sH2Ls",
        "colab": {
          "base_uri": "https://localhost:8080/",
          "height": 170
        },
        "outputId": "e0823517-ed56-4190-e5d0-765d280b69a1"
      },
      "source": [
        "data.loc[data['first_name']=='Antonio', 'city':'email']"
      ],
      "execution_count": null,
      "outputs": [
        {
          "output_type": "execute_result",
          "data": {
            "text/html": [
              "<div>\n",
              "<style scoped>\n",
              "    .dataframe tbody tr th:only-of-type {\n",
              "        vertical-align: middle;\n",
              "    }\n",
              "\n",
              "    .dataframe tbody tr th {\n",
              "        vertical-align: top;\n",
              "    }\n",
              "\n",
              "    .dataframe thead th {\n",
              "        text-align: right;\n",
              "    }\n",
              "</style>\n",
              "<table border=\"1\" class=\"dataframe\">\n",
              "  <thead>\n",
              "    <tr style=\"text-align: right;\">\n",
              "      <th></th>\n",
              "      <th>city</th>\n",
              "      <th>county</th>\n",
              "      <th>postal</th>\n",
              "      <th>phone1</th>\n",
              "      <th>phone2</th>\n",
              "      <th>email</th>\n",
              "    </tr>\n",
              "    <tr>\n",
              "      <th>last_name</th>\n",
              "      <th></th>\n",
              "      <th></th>\n",
              "      <th></th>\n",
              "      <th></th>\n",
              "      <th></th>\n",
              "      <th></th>\n",
              "    </tr>\n",
              "  </thead>\n",
              "  <tbody>\n",
              "    <tr>\n",
              "      <th>Villamarin</th>\n",
              "      <td>Little Parndon and Hare Street</td>\n",
              "      <td>Hertfordshire</td>\n",
              "      <td>CM20 2HT</td>\n",
              "      <td>01559-403415</td>\n",
              "      <td>01388-777812</td>\n",
              "      <td>antonio.villamarin@gmail.com</td>\n",
              "    </tr>\n",
              "    <tr>\n",
              "      <th>Glasford</th>\n",
              "      <td>Gaer Community</td>\n",
              "      <td>Newport</td>\n",
              "      <td>NP20 3DE</td>\n",
              "      <td>01463-409090</td>\n",
              "      <td>01242-318420</td>\n",
              "      <td>antonio_glasford@glasford.co.uk</td>\n",
              "    </tr>\n",
              "    <tr>\n",
              "      <th>Heilig</th>\n",
              "      <td>Ipplepen</td>\n",
              "      <td>Devon</td>\n",
              "      <td>TQ12 5LL</td>\n",
              "      <td>01324-171614</td>\n",
              "      <td>01442-946357</td>\n",
              "      <td>antonio.heilig@gmail.com</td>\n",
              "    </tr>\n",
              "  </tbody>\n",
              "</table>\n",
              "</div>"
            ],
            "text/plain": [
              "                                      city  ...                            email\n",
              "last_name                                   ...                                 \n",
              "Villamarin  Little Parndon and Hare Street  ...     antonio.villamarin@gmail.com\n",
              "Glasford                    Gaer Community  ...  antonio_glasford@glasford.co.uk\n",
              "Heilig                            Ipplepen  ...         antonio.heilig@gmail.com\n",
              "\n",
              "[3 rows x 6 columns]"
            ]
          },
          "metadata": {
            "tags": []
          },
          "execution_count": 21
        }
      ]
    },
    {
      "cell_type": "code",
      "metadata": {
        "id": "to2jOrC0I6Nm",
        "colab": {
          "base_uri": "https://localhost:8080/",
          "height": 110
        },
        "outputId": "0a07049f-6f02-4c25-de39-cbd36318ee38"
      },
      "source": [
        "data.loc[((data['county']=='Kent') & (data['first_name']=='Aleshia')),'city':'email']"
      ],
      "execution_count": null,
      "outputs": [
        {
          "output_type": "execute_result",
          "data": {
            "text/html": [
              "<div>\n",
              "<style scoped>\n",
              "    .dataframe tbody tr th:only-of-type {\n",
              "        vertical-align: middle;\n",
              "    }\n",
              "\n",
              "    .dataframe tbody tr th {\n",
              "        vertical-align: top;\n",
              "    }\n",
              "\n",
              "    .dataframe thead th {\n",
              "        text-align: right;\n",
              "    }\n",
              "</style>\n",
              "<table border=\"1\" class=\"dataframe\">\n",
              "  <thead>\n",
              "    <tr style=\"text-align: right;\">\n",
              "      <th></th>\n",
              "      <th>city</th>\n",
              "      <th>county</th>\n",
              "      <th>postal</th>\n",
              "      <th>phone1</th>\n",
              "      <th>phone2</th>\n",
              "      <th>email</th>\n",
              "    </tr>\n",
              "    <tr>\n",
              "      <th>last_name</th>\n",
              "      <th></th>\n",
              "      <th></th>\n",
              "      <th></th>\n",
              "      <th></th>\n",
              "      <th></th>\n",
              "      <th></th>\n",
              "    </tr>\n",
              "  </thead>\n",
              "  <tbody>\n",
              "    <tr>\n",
              "      <th>Tomkiewicz</th>\n",
              "      <td>St. Stephens Ward</td>\n",
              "      <td>Kent</td>\n",
              "      <td>CT2 7PP</td>\n",
              "      <td>01835-703597</td>\n",
              "      <td>01944-369967</td>\n",
              "      <td>atomkiewicz@hotmail.com</td>\n",
              "    </tr>\n",
              "  </tbody>\n",
              "</table>\n",
              "</div>"
            ],
            "text/plain": [
              "                         city county  ...        phone2                    email\n",
              "last_name                             ...                                       \n",
              "Tomkiewicz  St. Stephens Ward   Kent  ...  01944-369967  atomkiewicz@hotmail.com\n",
              "\n",
              "[1 rows x 6 columns]"
            ]
          },
          "metadata": {
            "tags": []
          },
          "execution_count": 26
        }
      ]
    },
    {
      "cell_type": "code",
      "metadata": {
        "id": "i4C7I585KGNh",
        "colab": {
          "base_uri": "https://localhost:8080/",
          "height": 607
        },
        "outputId": "85da58f8-7468-44e3-ad1e-bef47d1bbf8e"
      },
      "source": [
        "data.loc[data['email'].str.endswith(\"gmail.com\")]"
      ],
      "execution_count": null,
      "outputs": [
        {
          "output_type": "execute_result",
          "data": {
            "text/html": [
              "<div>\n",
              "<style scoped>\n",
              "    .dataframe tbody tr th:only-of-type {\n",
              "        vertical-align: middle;\n",
              "    }\n",
              "\n",
              "    .dataframe tbody tr th {\n",
              "        vertical-align: top;\n",
              "    }\n",
              "\n",
              "    .dataframe thead th {\n",
              "        text-align: right;\n",
              "    }\n",
              "</style>\n",
              "<table border=\"1\" class=\"dataframe\">\n",
              "  <thead>\n",
              "    <tr style=\"text-align: right;\">\n",
              "      <th></th>\n",
              "      <th>first_name</th>\n",
              "      <th>company_name</th>\n",
              "      <th>address</th>\n",
              "      <th>city</th>\n",
              "      <th>county</th>\n",
              "      <th>postal</th>\n",
              "      <th>phone1</th>\n",
              "      <th>phone2</th>\n",
              "      <th>email</th>\n",
              "      <th>web</th>\n",
              "    </tr>\n",
              "    <tr>\n",
              "      <th>last_name</th>\n",
              "      <th></th>\n",
              "      <th></th>\n",
              "      <th></th>\n",
              "      <th></th>\n",
              "      <th></th>\n",
              "      <th></th>\n",
              "      <th></th>\n",
              "      <th></th>\n",
              "      <th></th>\n",
              "      <th></th>\n",
              "    </tr>\n",
              "  </thead>\n",
              "  <tbody>\n",
              "    <tr>\n",
              "      <th>Zigomalas</th>\n",
              "      <td>Evan</td>\n",
              "      <td>Cap Gemini America</td>\n",
              "      <td>5 Binney St</td>\n",
              "      <td>Abbey Ward</td>\n",
              "      <td>Buckinghamshire</td>\n",
              "      <td>HP11 2AX</td>\n",
              "      <td>01937-864715</td>\n",
              "      <td>01714-737668</td>\n",
              "      <td>evan.zigomalas@gmail.com</td>\n",
              "      <td>http://www.capgeminiamerica.co.uk</td>\n",
              "    </tr>\n",
              "    <tr>\n",
              "      <th>Erm</th>\n",
              "      <td>Charlesetta</td>\n",
              "      <td>Cain, John M Esq</td>\n",
              "      <td>5 Hygeia St</td>\n",
              "      <td>Loundsley Green Ward</td>\n",
              "      <td>Derbyshire</td>\n",
              "      <td>S40 4LY</td>\n",
              "      <td>01276-816806</td>\n",
              "      <td>01517-624517</td>\n",
              "      <td>charlesetta_erm@gmail.com</td>\n",
              "      <td>http://www.cainjohnmesq.co.uk</td>\n",
              "    </tr>\n",
              "    <tr>\n",
              "      <th>Jaret</th>\n",
              "      <td>Corrinne</td>\n",
              "      <td>Sound Vision Corp</td>\n",
              "      <td>2150 Morley St</td>\n",
              "      <td>Dee Ward</td>\n",
              "      <td>Dumfries and Galloway</td>\n",
              "      <td>DG8 7DE</td>\n",
              "      <td>01625-932209</td>\n",
              "      <td>01642-322954</td>\n",
              "      <td>corrinne_jaret@gmail.com</td>\n",
              "      <td>http://www.soundvisioncorp.co.uk</td>\n",
              "    </tr>\n",
              "    <tr>\n",
              "      <th>Quarto</th>\n",
              "      <td>Karma</td>\n",
              "      <td>J C S Machinery</td>\n",
              "      <td>1 Birkett St</td>\n",
              "      <td>Shard End Ward</td>\n",
              "      <td>West Midlands</td>\n",
              "      <td>B33 0NH</td>\n",
              "      <td>01857-864722</td>\n",
              "      <td>01307-667811</td>\n",
              "      <td>kquarto@gmail.com</td>\n",
              "      <td>http://www.jcsmachinery.co.uk</td>\n",
              "    </tr>\n",
              "    <tr>\n",
              "      <th>Savidge</th>\n",
              "      <td>Milly</td>\n",
              "      <td>Bridgeway Plan For Health</td>\n",
              "      <td>129 Alexander Pope St</td>\n",
              "      <td>Franche Ward</td>\n",
              "      <td>Hereford and Worcester</td>\n",
              "      <td>DY11 9BW</td>\n",
              "      <td>01702-725589</td>\n",
              "      <td>01421-132652</td>\n",
              "      <td>milly@gmail.com</td>\n",
              "      <td>http://www.bridgewayplanforhealth.co.uk</td>\n",
              "    </tr>\n",
              "    <tr>\n",
              "      <th>...</th>\n",
              "      <td>...</td>\n",
              "      <td>...</td>\n",
              "      <td>...</td>\n",
              "      <td>...</td>\n",
              "      <td>...</td>\n",
              "      <td>...</td>\n",
              "      <td>...</td>\n",
              "      <td>...</td>\n",
              "      <td>...</td>\n",
              "      <td>...</td>\n",
              "    </tr>\n",
              "    <tr>\n",
              "      <th>Picciuto</th>\n",
              "      <td>Mel</td>\n",
              "      <td>Avante Limited</td>\n",
              "      <td>8598 Rumney Rd</td>\n",
              "      <td>Hylands Ward</td>\n",
              "      <td>Essex</td>\n",
              "      <td>RM11 1QL</td>\n",
              "      <td>01885-270480</td>\n",
              "      <td>01268-443299</td>\n",
              "      <td>mel.picciuto@gmail.com</td>\n",
              "      <td>http://www.avantelimited.co.uk</td>\n",
              "    </tr>\n",
              "    <tr>\n",
              "      <th>Machalek</th>\n",
              "      <td>Tijuana</td>\n",
              "      <td>Schwartz, Thomas E Esq</td>\n",
              "      <td>1149 Highfield Rd #996</td>\n",
              "      <td>Fareham South Ward</td>\n",
              "      <td>Hampshire</td>\n",
              "      <td>PO14 9JJ</td>\n",
              "      <td>01242-532395</td>\n",
              "      <td>01336-686264</td>\n",
              "      <td>tijuana.machalek@gmail.com</td>\n",
              "      <td>http://www.schwartzthomaseesq.co.uk</td>\n",
              "    </tr>\n",
              "    <tr>\n",
              "      <th>Dolloff</th>\n",
              "      <td>Derrick</td>\n",
              "      <td>Proto Tek Manufacturing</td>\n",
              "      <td>236 Blantyre Rd</td>\n",
              "      <td>Everton Ward</td>\n",
              "      <td>Merseyside</td>\n",
              "      <td>L6 2EN</td>\n",
              "      <td>01982-734773</td>\n",
              "      <td>01619-554437</td>\n",
              "      <td>derrick_dolloff@gmail.com</td>\n",
              "      <td>http://www.prototekmanufacturing.co.uk</td>\n",
              "    </tr>\n",
              "    <tr>\n",
              "      <th>Katie</th>\n",
              "      <td>Alesia</td>\n",
              "      <td>Nelsons Trmt &amp; Pest Cntrl Co</td>\n",
              "      <td>4 Covent Garden</td>\n",
              "      <td>Farnworth Ward</td>\n",
              "      <td>Greater Manchester</td>\n",
              "      <td>BL4 7AF</td>\n",
              "      <td>01333-436799</td>\n",
              "      <td>01240-614527</td>\n",
              "      <td>alesia_katie@gmail.com</td>\n",
              "      <td>http://www.nelsonstrmtpestcntrlco.co.uk</td>\n",
              "    </tr>\n",
              "    <tr>\n",
              "      <th>Keeny</th>\n",
              "      <td>Celestina</td>\n",
              "      <td>Bfg Federal Credit Union</td>\n",
              "      <td>9 Milton St</td>\n",
              "      <td>Consett North ED</td>\n",
              "      <td>County Durham</td>\n",
              "      <td>DH8 5LP</td>\n",
              "      <td>01877-379681</td>\n",
              "      <td>01600-463475</td>\n",
              "      <td>celestina_keeny@gmail.com</td>\n",
              "      <td>http://www.bfgfederalcreditunion.co.uk</td>\n",
              "    </tr>\n",
              "  </tbody>\n",
              "</table>\n",
              "<p>130 rows × 10 columns</p>\n",
              "</div>"
            ],
            "text/plain": [
              "            first_name  ...                                      web\n",
              "last_name               ...                                         \n",
              "Zigomalas         Evan  ...        http://www.capgeminiamerica.co.uk\n",
              "Erm        Charlesetta  ...            http://www.cainjohnmesq.co.uk\n",
              "Jaret         Corrinne  ...         http://www.soundvisioncorp.co.uk\n",
              "Quarto           Karma  ...            http://www.jcsmachinery.co.uk\n",
              "Savidge          Milly  ...  http://www.bridgewayplanforhealth.co.uk\n",
              "...                ...  ...                                      ...\n",
              "Picciuto           Mel  ...           http://www.avantelimited.co.uk\n",
              "Machalek       Tijuana  ...      http://www.schwartzthomaseesq.co.uk\n",
              "Dolloff        Derrick  ...   http://www.prototekmanufacturing.co.uk\n",
              "Katie           Alesia  ...  http://www.nelsonstrmtpestcntrlco.co.uk\n",
              "Keeny        Celestina  ...   http://www.bfgfederalcreditunion.co.uk\n",
              "\n",
              "[130 rows x 10 columns]"
            ]
          },
          "metadata": {
            "tags": []
          },
          "execution_count": 28
        }
      ]
    },
    {
      "cell_type": "code",
      "metadata": {
        "id": "zP8KIyp1KpK-",
        "colab": {
          "base_uri": "https://localhost:8080/",
          "height": 220
        },
        "outputId": "824a9791-f25c-415a-ccef-7ada8d6736a1"
      },
      "source": [
        "data.loc[data['first_name'].isin(['France', 'Tyisha', 'Eric'])]"
      ],
      "execution_count": null,
      "outputs": [
        {
          "output_type": "execute_result",
          "data": {
            "text/html": [
              "<div>\n",
              "<style scoped>\n",
              "    .dataframe tbody tr th:only-of-type {\n",
              "        vertical-align: middle;\n",
              "    }\n",
              "\n",
              "    .dataframe tbody tr th {\n",
              "        vertical-align: top;\n",
              "    }\n",
              "\n",
              "    .dataframe thead th {\n",
              "        text-align: right;\n",
              "    }\n",
              "</style>\n",
              "<table border=\"1\" class=\"dataframe\">\n",
              "  <thead>\n",
              "    <tr style=\"text-align: right;\">\n",
              "      <th></th>\n",
              "      <th>first_name</th>\n",
              "      <th>company_name</th>\n",
              "      <th>address</th>\n",
              "      <th>city</th>\n",
              "      <th>county</th>\n",
              "      <th>postal</th>\n",
              "      <th>phone1</th>\n",
              "      <th>phone2</th>\n",
              "      <th>email</th>\n",
              "      <th>web</th>\n",
              "    </tr>\n",
              "    <tr>\n",
              "      <th>last_name</th>\n",
              "      <th></th>\n",
              "      <th></th>\n",
              "      <th></th>\n",
              "      <th></th>\n",
              "      <th></th>\n",
              "      <th></th>\n",
              "      <th></th>\n",
              "      <th></th>\n",
              "      <th></th>\n",
              "      <th></th>\n",
              "    </tr>\n",
              "  </thead>\n",
              "  <tbody>\n",
              "    <tr>\n",
              "      <th>Andrade</th>\n",
              "      <td>France</td>\n",
              "      <td>Elliott, John W Esq</td>\n",
              "      <td>8 Moor Place</td>\n",
              "      <td>East Southbourne and Tuckton W</td>\n",
              "      <td>Bournemouth</td>\n",
              "      <td>BH6 3BE</td>\n",
              "      <td>01347-368222</td>\n",
              "      <td>01935-821636</td>\n",
              "      <td>france.andrade@hotmail.com</td>\n",
              "      <td>http://www.elliottjohnwesq.co.uk</td>\n",
              "    </tr>\n",
              "    <tr>\n",
              "      <th>Veness</th>\n",
              "      <td>Tyisha</td>\n",
              "      <td>Champagne Room</td>\n",
              "      <td>5396 Forth Street</td>\n",
              "      <td>Greets Green and Lyng Ward</td>\n",
              "      <td>West Midlands</td>\n",
              "      <td>B70 9DT</td>\n",
              "      <td>01547-429341</td>\n",
              "      <td>01290-367248</td>\n",
              "      <td>tyisha.veness@hotmail.com</td>\n",
              "      <td>http://www.champagneroom.co.uk</td>\n",
              "    </tr>\n",
              "    <tr>\n",
              "      <th>Rampy</th>\n",
              "      <td>Eric</td>\n",
              "      <td>Thompson, Michael C Esq</td>\n",
              "      <td>9472 Lind St</td>\n",
              "      <td>Desborough</td>\n",
              "      <td>Northamptonshire</td>\n",
              "      <td>NN14 2GH</td>\n",
              "      <td>01969-886290</td>\n",
              "      <td>01545-817375</td>\n",
              "      <td>erampy@rampy.co.uk</td>\n",
              "      <td>http://www.thompsonmichaelcesq.co.uk</td>\n",
              "    </tr>\n",
              "  </tbody>\n",
              "</table>\n",
              "</div>"
            ],
            "text/plain": [
              "          first_name  ...                                   web\n",
              "last_name             ...                                      \n",
              "Andrade       France  ...      http://www.elliottjohnwesq.co.uk\n",
              "Veness        Tyisha  ...        http://www.champagneroom.co.uk\n",
              "Rampy           Eric  ...  http://www.thompsonmichaelcesq.co.uk\n",
              "\n",
              "[3 rows x 10 columns]"
            ]
          },
          "metadata": {
            "tags": []
          },
          "execution_count": 29
        }
      ]
    },
    {
      "cell_type": "code",
      "metadata": {
        "id": "1_C1iJCwLx54",
        "colab": {
          "base_uri": "https://localhost:8080/",
          "height": 140
        },
        "outputId": "364d9158-6389-4138-fefa-73eb29e99cad"
      },
      "source": [
        "data.loc[data['email'].str.endswith(\"gmail.com\") & (data['first_name'] == 'Antonio')]"
      ],
      "execution_count": null,
      "outputs": [
        {
          "output_type": "execute_result",
          "data": {
            "text/html": [
              "<div>\n",
              "<style scoped>\n",
              "    .dataframe tbody tr th:only-of-type {\n",
              "        vertical-align: middle;\n",
              "    }\n",
              "\n",
              "    .dataframe tbody tr th {\n",
              "        vertical-align: top;\n",
              "    }\n",
              "\n",
              "    .dataframe thead th {\n",
              "        text-align: right;\n",
              "    }\n",
              "</style>\n",
              "<table border=\"1\" class=\"dataframe\">\n",
              "  <thead>\n",
              "    <tr style=\"text-align: right;\">\n",
              "      <th></th>\n",
              "      <th>first_name</th>\n",
              "      <th>company_name</th>\n",
              "      <th>address</th>\n",
              "      <th>city</th>\n",
              "      <th>county</th>\n",
              "      <th>postal</th>\n",
              "      <th>phone1</th>\n",
              "      <th>phone2</th>\n",
              "      <th>email</th>\n",
              "      <th>web</th>\n",
              "    </tr>\n",
              "    <tr>\n",
              "      <th>last_name</th>\n",
              "      <th></th>\n",
              "      <th></th>\n",
              "      <th></th>\n",
              "      <th></th>\n",
              "      <th></th>\n",
              "      <th></th>\n",
              "      <th></th>\n",
              "      <th></th>\n",
              "      <th></th>\n",
              "      <th></th>\n",
              "    </tr>\n",
              "  </thead>\n",
              "  <tbody>\n",
              "    <tr>\n",
              "      <th>Villamarin</th>\n",
              "      <td>Antonio</td>\n",
              "      <td>Combs Sheetmetal</td>\n",
              "      <td>353 Standish St #8264</td>\n",
              "      <td>Little Parndon and Hare Street</td>\n",
              "      <td>Hertfordshire</td>\n",
              "      <td>CM20 2HT</td>\n",
              "      <td>01559-403415</td>\n",
              "      <td>01388-777812</td>\n",
              "      <td>antonio.villamarin@gmail.com</td>\n",
              "      <td>http://www.combssheetmetal.co.uk</td>\n",
              "    </tr>\n",
              "    <tr>\n",
              "      <th>Heilig</th>\n",
              "      <td>Antonio</td>\n",
              "      <td>Radisson Suite Hotel</td>\n",
              "      <td>35 Elton St #3</td>\n",
              "      <td>Ipplepen</td>\n",
              "      <td>Devon</td>\n",
              "      <td>TQ12 5LL</td>\n",
              "      <td>01324-171614</td>\n",
              "      <td>01442-946357</td>\n",
              "      <td>antonio.heilig@gmail.com</td>\n",
              "      <td>http://www.radissonsuitehotel.co.uk</td>\n",
              "    </tr>\n",
              "  </tbody>\n",
              "</table>\n",
              "</div>"
            ],
            "text/plain": [
              "           first_name  ...                                  web\n",
              "last_name              ...                                     \n",
              "Villamarin    Antonio  ...     http://www.combssheetmetal.co.uk\n",
              "Heilig        Antonio  ...  http://www.radissonsuitehotel.co.uk\n",
              "\n",
              "[2 rows x 10 columns]"
            ]
          },
          "metadata": {
            "tags": []
          },
          "execution_count": 32
        }
      ]
    },
    {
      "cell_type": "code",
      "metadata": {
        "id": "P1RSXtMRMNVt",
        "colab": {
          "base_uri": "https://localhost:8080/",
          "height": 607
        },
        "outputId": "cadaf69e-cdd0-436d-9ae2-1d2f92527a24"
      },
      "source": [
        "data.loc[data['company_name'].apply(lambda x: len(x.split(' '))==4)]"
      ],
      "execution_count": null,
      "outputs": [
        {
          "output_type": "execute_result",
          "data": {
            "text/html": [
              "<div>\n",
              "<style scoped>\n",
              "    .dataframe tbody tr th:only-of-type {\n",
              "        vertical-align: middle;\n",
              "    }\n",
              "\n",
              "    .dataframe tbody tr th {\n",
              "        vertical-align: top;\n",
              "    }\n",
              "\n",
              "    .dataframe thead th {\n",
              "        text-align: right;\n",
              "    }\n",
              "</style>\n",
              "<table border=\"1\" class=\"dataframe\">\n",
              "  <thead>\n",
              "    <tr style=\"text-align: right;\">\n",
              "      <th></th>\n",
              "      <th>first_name</th>\n",
              "      <th>company_name</th>\n",
              "      <th>address</th>\n",
              "      <th>city</th>\n",
              "      <th>county</th>\n",
              "      <th>postal</th>\n",
              "      <th>phone1</th>\n",
              "      <th>phone2</th>\n",
              "      <th>email</th>\n",
              "      <th>web</th>\n",
              "    </tr>\n",
              "    <tr>\n",
              "      <th>last_name</th>\n",
              "      <th></th>\n",
              "      <th></th>\n",
              "      <th></th>\n",
              "      <th></th>\n",
              "      <th></th>\n",
              "      <th></th>\n",
              "      <th></th>\n",
              "      <th></th>\n",
              "      <th></th>\n",
              "      <th></th>\n",
              "    </tr>\n",
              "  </thead>\n",
              "  <tbody>\n",
              "    <tr>\n",
              "      <th>Andrade</th>\n",
              "      <td>France</td>\n",
              "      <td>Elliott, John W Esq</td>\n",
              "      <td>8 Moor Place</td>\n",
              "      <td>East Southbourne and Tuckton W</td>\n",
              "      <td>Bournemouth</td>\n",
              "      <td>BH6 3BE</td>\n",
              "      <td>01347-368222</td>\n",
              "      <td>01935-821636</td>\n",
              "      <td>france.andrade@hotmail.com</td>\n",
              "      <td>http://www.elliottjohnwesq.co.uk</td>\n",
              "    </tr>\n",
              "    <tr>\n",
              "      <th>Rampy</th>\n",
              "      <td>Eric</td>\n",
              "      <td>Thompson, Michael C Esq</td>\n",
              "      <td>9472 Lind St</td>\n",
              "      <td>Desborough</td>\n",
              "      <td>Northamptonshire</td>\n",
              "      <td>NN14 2GH</td>\n",
              "      <td>01969-886290</td>\n",
              "      <td>01545-817375</td>\n",
              "      <td>erampy@rampy.co.uk</td>\n",
              "      <td>http://www.thompsonmichaelcesq.co.uk</td>\n",
              "    </tr>\n",
              "    <tr>\n",
              "      <th>Erm</th>\n",
              "      <td>Charlesetta</td>\n",
              "      <td>Cain, John M Esq</td>\n",
              "      <td>5 Hygeia St</td>\n",
              "      <td>Loundsley Green Ward</td>\n",
              "      <td>Derbyshire</td>\n",
              "      <td>S40 4LY</td>\n",
              "      <td>01276-816806</td>\n",
              "      <td>01517-624517</td>\n",
              "      <td>charlesetta_erm@gmail.com</td>\n",
              "      <td>http://www.cainjohnmesq.co.uk</td>\n",
              "    </tr>\n",
              "    <tr>\n",
              "      <th>Throssell</th>\n",
              "      <td>Michell</td>\n",
              "      <td>Weiss Spirt &amp; Guyer</td>\n",
              "      <td>89 Noon St</td>\n",
              "      <td>Carbrooke</td>\n",
              "      <td>Norfolk</td>\n",
              "      <td>IP25 6JQ</td>\n",
              "      <td>01967-580851</td>\n",
              "      <td>01672-496478</td>\n",
              "      <td>mthrossell@throssell.co.uk</td>\n",
              "      <td>http://www.weissspirtguyer.co.uk</td>\n",
              "    </tr>\n",
              "    <tr>\n",
              "      <th>Kanne</th>\n",
              "      <td>Edgar</td>\n",
              "      <td>Crowan, Kenneth W Esq</td>\n",
              "      <td>99 Guthrie St</td>\n",
              "      <td>New Milton</td>\n",
              "      <td>Hampshire</td>\n",
              "      <td>BH25 5DF</td>\n",
              "      <td>01326-532337</td>\n",
              "      <td>01666-638176</td>\n",
              "      <td>edgar.kanne@yahoo.com</td>\n",
              "      <td>http://www.crowankennethwesq.co.uk</td>\n",
              "    </tr>\n",
              "    <tr>\n",
              "      <th>...</th>\n",
              "      <td>...</td>\n",
              "      <td>...</td>\n",
              "      <td>...</td>\n",
              "      <td>...</td>\n",
              "      <td>...</td>\n",
              "      <td>...</td>\n",
              "      <td>...</td>\n",
              "      <td>...</td>\n",
              "      <td>...</td>\n",
              "      <td>...</td>\n",
              "    </tr>\n",
              "    <tr>\n",
              "      <th>Alsaqri</th>\n",
              "      <td>Ahmad</td>\n",
              "      <td>Alliance Construction Co Inc</td>\n",
              "      <td>21 Pickwick St</td>\n",
              "      <td>Sutton cum Duckmanton</td>\n",
              "      <td>Derbyshire</td>\n",
              "      <td>S44 5DS</td>\n",
              "      <td>01567-555570</td>\n",
              "      <td>01852-550588</td>\n",
              "      <td>ahmad.alsaqri@yahoo.com</td>\n",
              "      <td>http://www.allianceconstructioncoinc.co.uk</td>\n",
              "    </tr>\n",
              "    <tr>\n",
              "      <th>Reibman</th>\n",
              "      <td>Jacquelyne</td>\n",
              "      <td>Great Clips For Hair</td>\n",
              "      <td>70 Lilly Rd</td>\n",
              "      <td>Shirley Ward</td>\n",
              "      <td>Greater London</td>\n",
              "      <td>CR0 7PT</td>\n",
              "      <td>01846-581451</td>\n",
              "      <td>01850-754504</td>\n",
              "      <td>jacquelyne_reibman@yahoo.com</td>\n",
              "      <td>http://www.greatclipsforhair.co.uk</td>\n",
              "    </tr>\n",
              "    <tr>\n",
              "      <th>Kono</th>\n",
              "      <td>Isabelle</td>\n",
              "      <td>Rock Springs Petroleum Equip</td>\n",
              "      <td>4920 Fazakerley Rd</td>\n",
              "      <td>Plymstock Dunstone Ward</td>\n",
              "      <td>Devon</td>\n",
              "      <td>PL9 8RD</td>\n",
              "      <td>01552-682601</td>\n",
              "      <td>01953-816728</td>\n",
              "      <td>isabelle.kono@yahoo.com</td>\n",
              "      <td>http://www.rockspringspetroleumequip.co.uk</td>\n",
              "    </tr>\n",
              "    <tr>\n",
              "      <th>Fiorino</th>\n",
              "      <td>Elbert</td>\n",
              "      <td>Donald, G Nelson Esq</td>\n",
              "      <td>726 Westmoreland Place</td>\n",
              "      <td>Ballochmyle Ward</td>\n",
              "      <td>East Ayrshire</td>\n",
              "      <td>KA5 6EL</td>\n",
              "      <td>01724-467889</td>\n",
              "      <td>01992-537553</td>\n",
              "      <td>elbert@hotmail.com</td>\n",
              "      <td>http://www.donaldgnelsonesq.co.uk</td>\n",
              "    </tr>\n",
              "    <tr>\n",
              "      <th>Keeny</th>\n",
              "      <td>Celestina</td>\n",
              "      <td>Bfg Federal Credit Union</td>\n",
              "      <td>9 Milton St</td>\n",
              "      <td>Consett North ED</td>\n",
              "      <td>County Durham</td>\n",
              "      <td>DH8 5LP</td>\n",
              "      <td>01877-379681</td>\n",
              "      <td>01600-463475</td>\n",
              "      <td>celestina_keeny@gmail.com</td>\n",
              "      <td>http://www.bfgfederalcreditunion.co.uk</td>\n",
              "    </tr>\n",
              "  </tbody>\n",
              "</table>\n",
              "<p>192 rows × 10 columns</p>\n",
              "</div>"
            ],
            "text/plain": [
              "            first_name  ...                                         web\n",
              "last_name               ...                                            \n",
              "Andrade         France  ...            http://www.elliottjohnwesq.co.uk\n",
              "Rampy             Eric  ...        http://www.thompsonmichaelcesq.co.uk\n",
              "Erm        Charlesetta  ...               http://www.cainjohnmesq.co.uk\n",
              "Throssell      Michell  ...            http://www.weissspirtguyer.co.uk\n",
              "Kanne            Edgar  ...          http://www.crowankennethwesq.co.uk\n",
              "...                ...  ...                                         ...\n",
              "Alsaqri          Ahmad  ...  http://www.allianceconstructioncoinc.co.uk\n",
              "Reibman     Jacquelyne  ...          http://www.greatclipsforhair.co.uk\n",
              "Kono          Isabelle  ...  http://www.rockspringspetroleumequip.co.uk\n",
              "Fiorino         Elbert  ...           http://www.donaldgnelsonesq.co.uk\n",
              "Keeny        Celestina  ...      http://www.bfgfederalcreditunion.co.uk\n",
              "\n",
              "[192 rows x 10 columns]"
            ]
          },
          "metadata": {
            "tags": []
          },
          "execution_count": 35
        }
      ]
    },
    {
      "cell_type": "code",
      "metadata": {
        "id": "n1W1EOxpNwEO"
      },
      "source": [
        "data.loc[data['county']=='Kent',['first_name']] = \"Dheeraj\""
      ],
      "execution_count": null,
      "outputs": []
    },
    {
      "cell_type": "code",
      "metadata": {
        "id": "_Wpc_lRQPGlS",
        "colab": {
          "base_uri": "https://localhost:8080/",
          "height": 1000
        },
        "outputId": "eabe8146-bdc0-4f3c-d8e1-6616dca3fddf"
      },
      "source": [
        "data.loc[((data['county']=='Kent') & (data['first_name']=='Dheeraj'))]"
      ],
      "execution_count": null,
      "outputs": [
        {
          "output_type": "execute_result",
          "data": {
            "text/html": [
              "<div>\n",
              "<style scoped>\n",
              "    .dataframe tbody tr th:only-of-type {\n",
              "        vertical-align: middle;\n",
              "    }\n",
              "\n",
              "    .dataframe tbody tr th {\n",
              "        vertical-align: top;\n",
              "    }\n",
              "\n",
              "    .dataframe thead th {\n",
              "        text-align: right;\n",
              "    }\n",
              "</style>\n",
              "<table border=\"1\" class=\"dataframe\">\n",
              "  <thead>\n",
              "    <tr style=\"text-align: right;\">\n",
              "      <th></th>\n",
              "      <th>first_name</th>\n",
              "      <th>company_name</th>\n",
              "      <th>address</th>\n",
              "      <th>city</th>\n",
              "      <th>county</th>\n",
              "      <th>postal</th>\n",
              "      <th>phone1</th>\n",
              "      <th>phone2</th>\n",
              "      <th>email</th>\n",
              "      <th>web</th>\n",
              "    </tr>\n",
              "    <tr>\n",
              "      <th>last_name</th>\n",
              "      <th></th>\n",
              "      <th></th>\n",
              "      <th></th>\n",
              "      <th></th>\n",
              "      <th></th>\n",
              "      <th></th>\n",
              "      <th></th>\n",
              "      <th></th>\n",
              "      <th></th>\n",
              "      <th></th>\n",
              "    </tr>\n",
              "  </thead>\n",
              "  <tbody>\n",
              "    <tr>\n",
              "      <th>Tomkiewicz</th>\n",
              "      <td>Dheeraj</td>\n",
              "      <td>Alan D Rosenburg Cpa Pc</td>\n",
              "      <td>14 Taylor St</td>\n",
              "      <td>St. Stephens Ward</td>\n",
              "      <td>Kent</td>\n",
              "      <td>CT2 7PP</td>\n",
              "      <td>01835-703597</td>\n",
              "      <td>01944-369967</td>\n",
              "      <td>atomkiewicz@hotmail.com</td>\n",
              "      <td>http://www.alandrosenburgcpapc.co.uk</td>\n",
              "    </tr>\n",
              "    <tr>\n",
              "      <th>Writer</th>\n",
              "      <td>Dheeraj</td>\n",
              "      <td>K &amp; R Associates Inc</td>\n",
              "      <td>620 Northampton St</td>\n",
              "      <td>Wilmington</td>\n",
              "      <td>Kent</td>\n",
              "      <td>DA2 7PP</td>\n",
              "      <td>01630-202053</td>\n",
              "      <td>01687-879391</td>\n",
              "      <td>fernanda@writer.co.uk</td>\n",
              "      <td>http://www.krassociatesinc.co.uk</td>\n",
              "    </tr>\n",
              "    <tr>\n",
              "      <th>Thurm</th>\n",
              "      <td>Dheeraj</td>\n",
              "      <td>Burgess Steel Products Corp</td>\n",
              "      <td>9 Horatio St</td>\n",
              "      <td>Ruckinge</td>\n",
              "      <td>Kent</td>\n",
              "      <td>TN26 2PN</td>\n",
              "      <td>01686-306597</td>\n",
              "      <td>01970-890023</td>\n",
              "      <td>bthurm@yahoo.com</td>\n",
              "      <td>http://www.burgesssteelproductscorp.co.uk</td>\n",
              "    </tr>\n",
              "    <tr>\n",
              "      <th>Dease</th>\n",
              "      <td>Dheeraj</td>\n",
              "      <td>Sunderland Publishing Co</td>\n",
              "      <td>94 Enid St</td>\n",
              "      <td>Birchington</td>\n",
              "      <td>Kent</td>\n",
              "      <td>CT7 9BG</td>\n",
              "      <td>01333-642646</td>\n",
              "      <td>01419-231768</td>\n",
              "      <td>pdease@gmail.com</td>\n",
              "      <td>http://www.sunderlandpublishingco.co.uk</td>\n",
              "    </tr>\n",
              "    <tr>\n",
              "      <th>Crete</th>\n",
              "      <td>Dheeraj</td>\n",
              "      <td>M D &amp; W Railway</td>\n",
              "      <td>4 Peach St #5112</td>\n",
              "      <td>Halstead</td>\n",
              "      <td>Kent</td>\n",
              "      <td>TN14 7EF</td>\n",
              "      <td>01375-820236</td>\n",
              "      <td>01268-175772</td>\n",
              "      <td>luke.crete@crete.co.uk</td>\n",
              "      <td>http://www.mdwrailway.co.uk</td>\n",
              "    </tr>\n",
              "    <tr>\n",
              "      <th>Yurich</th>\n",
              "      <td>Dheeraj</td>\n",
              "      <td>Blaineco Structural Movers</td>\n",
              "      <td>666 Moor Place</td>\n",
              "      <td>Shepway South Ward</td>\n",
              "      <td>Kent</td>\n",
              "      <td>ME15 8ST</td>\n",
              "      <td>01780-380120</td>\n",
              "      <td>01494-202350</td>\n",
              "      <td>cheryll_yurich@yurich.co.uk</td>\n",
              "      <td>http://www.blainecostructuralmovers.co.uk</td>\n",
              "    </tr>\n",
              "    <tr>\n",
              "      <th>Wendorf</th>\n",
              "      <td>Dheeraj</td>\n",
              "      <td>Russell, Amelia Mosley Esq</td>\n",
              "      <td>8830 Antonio St</td>\n",
              "      <td>Gillingham North Ward</td>\n",
              "      <td>Kent</td>\n",
              "      <td>ME7 1DZ</td>\n",
              "      <td>01220-653456</td>\n",
              "      <td>01420-489285</td>\n",
              "      <td>galen.wendorf@wendorf.co.uk</td>\n",
              "      <td>http://www.russellameliamosleyesq.co.uk</td>\n",
              "    </tr>\n",
              "    <tr>\n",
              "      <th>Puskarich</th>\n",
              "      <td>Dheeraj</td>\n",
              "      <td>Drubner, Norman S Esq</td>\n",
              "      <td>9302 Ismay St #6</td>\n",
              "      <td>Tenterden</td>\n",
              "      <td>Kent</td>\n",
              "      <td>TN30 6JP</td>\n",
              "      <td>01506-152661</td>\n",
              "      <td>01686-258819</td>\n",
              "      <td>thad_puskarich@puskarich.co.uk</td>\n",
              "      <td>http://www.drubnernormansesq.co.uk</td>\n",
              "    </tr>\n",
              "    <tr>\n",
              "      <th>Geschke</th>\n",
              "      <td>Dheeraj</td>\n",
              "      <td>Levy Security Consultants Ltd</td>\n",
              "      <td>5 Garfield St #9</td>\n",
              "      <td>Milton Regis Ward</td>\n",
              "      <td>Kent</td>\n",
              "      <td>ME10 2EJ</td>\n",
              "      <td>01404-425588</td>\n",
              "      <td>01902-692529</td>\n",
              "      <td>gabriele@geschke.co.uk</td>\n",
              "      <td>http://www.levysecurityconsultantsltd.co.uk</td>\n",
              "    </tr>\n",
              "    <tr>\n",
              "      <th>Handsaker</th>\n",
              "      <td>Dheeraj</td>\n",
              "      <td>Shirleys Print Shoppe</td>\n",
              "      <td>2 Cherry Lane</td>\n",
              "      <td>Strood South Ward</td>\n",
              "      <td>Kent</td>\n",
              "      <td>ME2 2NJ</td>\n",
              "      <td>01793-443665</td>\n",
              "      <td>01964-984369</td>\n",
              "      <td>jordan_handsaker@gmail.com</td>\n",
              "      <td>http://www.shirleysprintshoppe.co.uk</td>\n",
              "    </tr>\n",
              "    <tr>\n",
              "      <th>Dubberly</th>\n",
              "      <td>Dheeraj</td>\n",
              "      <td>L &amp; M Industrial Chemicals Inc</td>\n",
              "      <td>1 Lower Burlington St</td>\n",
              "      <td>Northfleet South Ward</td>\n",
              "      <td>Kent</td>\n",
              "      <td>DA11 8RN</td>\n",
              "      <td>01974-720949</td>\n",
              "      <td>01910-745476</td>\n",
              "      <td>madalyn.dubberly@gmail.com</td>\n",
              "      <td>http://www.lmindustrialchemicalsinc.co.uk</td>\n",
              "    </tr>\n",
              "    <tr>\n",
              "      <th>Shadd</th>\n",
              "      <td>Dheeraj</td>\n",
              "      <td>Pigeon Falls State Bank</td>\n",
              "      <td>8 Bigham Rd</td>\n",
              "      <td>Deal</td>\n",
              "      <td>Kent</td>\n",
              "      <td>CT14 9QJ</td>\n",
              "      <td>01950-708083</td>\n",
              "      <td>01295-412046</td>\n",
              "      <td>maia_shadd@gmail.com</td>\n",
              "      <td>http://www.pigeonfallsstatebank.co.uk</td>\n",
              "    </tr>\n",
              "    <tr>\n",
              "      <th>Sheneman</th>\n",
              "      <td>Dheeraj</td>\n",
              "      <td>Jones, Brigham P Esq</td>\n",
              "      <td>845 Atherton St</td>\n",
              "      <td>Tatsfield</td>\n",
              "      <td>Kent</td>\n",
              "      <td>TN16 2AR</td>\n",
              "      <td>01455-958797</td>\n",
              "      <td>01732-922087</td>\n",
              "      <td>christoper@gmail.com</td>\n",
              "      <td>http://www.jonesbrighampesq.co.uk</td>\n",
              "    </tr>\n",
              "    <tr>\n",
              "      <th>Colamarino</th>\n",
              "      <td>Dheeraj</td>\n",
              "      <td>Proctor &amp; Associates Co</td>\n",
              "      <td>150 Margaret Rd</td>\n",
              "      <td>Kings Hill</td>\n",
              "      <td>Kent</td>\n",
              "      <td>ME19 4DT</td>\n",
              "      <td>01879-572287</td>\n",
              "      <td>01708-292140</td>\n",
              "      <td>melda.colamarino@colamarino.co.uk</td>\n",
              "      <td>http://www.proctorassociatesco.co.uk</td>\n",
              "    </tr>\n",
              "    <tr>\n",
              "      <th>Mercik</th>\n",
              "      <td>Dheeraj</td>\n",
              "      <td>Lee, Stan Dvm</td>\n",
              "      <td>7 St Edmonds Rd</td>\n",
              "      <td>Nonington</td>\n",
              "      <td>Kent</td>\n",
              "      <td>CT15 4HH</td>\n",
              "      <td>01539-784239</td>\n",
              "      <td>01550-347724</td>\n",
              "      <td>elden_mercik@mercik.co.uk</td>\n",
              "      <td>http://www.leestandvm.co.uk</td>\n",
              "    </tr>\n",
              "    <tr>\n",
              "      <th>Flori</th>\n",
              "      <td>Dheeraj</td>\n",
              "      <td>Marine Safety International</td>\n",
              "      <td>4 Cochrane St</td>\n",
              "      <td>Iwade</td>\n",
              "      <td>Kent</td>\n",
              "      <td>ME9 8UJ</td>\n",
              "      <td>01235-935599</td>\n",
              "      <td>01583-844244</td>\n",
              "      <td>pearlie_flori@gmail.com</td>\n",
              "      <td>http://www.marinesafetyinternational.co.uk</td>\n",
              "    </tr>\n",
              "    <tr>\n",
              "      <th>Maricle</th>\n",
              "      <td>Dheeraj</td>\n",
              "      <td>Garton, Jeffrey P Esq</td>\n",
              "      <td>59 Charles St</td>\n",
              "      <td>Victoria Ward</td>\n",
              "      <td>Kent</td>\n",
              "      <td>TN23 4GF</td>\n",
              "      <td>01642-202972</td>\n",
              "      <td>01806-219415</td>\n",
              "      <td>dusti@gmail.com</td>\n",
              "      <td>http://www.gartonjeffreypesq.co.uk</td>\n",
              "    </tr>\n",
              "    <tr>\n",
              "      <th>Kernagis</th>\n",
              "      <td>Dheeraj</td>\n",
              "      <td>Digital Solutions Inc</td>\n",
              "      <td>8 Hinton St #8241</td>\n",
              "      <td>Stowting</td>\n",
              "      <td>Kent</td>\n",
              "      <td>TN25 6BQ</td>\n",
              "      <td>01504-620944</td>\n",
              "      <td>01685-678054</td>\n",
              "      <td>gerald_kernagis@kernagis.co.uk</td>\n",
              "      <td>http://www.digitalsolutionsinc.co.uk</td>\n",
              "    </tr>\n",
              "    <tr>\n",
              "      <th>Leadbeater</th>\n",
              "      <td>Dheeraj</td>\n",
              "      <td>Murray Whisnant Architects</td>\n",
              "      <td>10 Carisbrooke St</td>\n",
              "      <td>Shorne</td>\n",
              "      <td>Kent</td>\n",
              "      <td>DA12 3ED</td>\n",
              "      <td>01706-546951</td>\n",
              "      <td>01356-906646</td>\n",
              "      <td>stefania_leadbeater@hotmail.com</td>\n",
              "      <td>http://www.murraywhisnantarchitects.co.uk</td>\n",
              "    </tr>\n",
              "    <tr>\n",
              "      <th>Farrin</th>\n",
              "      <td>Dheeraj</td>\n",
              "      <td>Dering, James E Esq</td>\n",
              "      <td>7 Varthen St</td>\n",
              "      <td>Town Ward</td>\n",
              "      <td>Kent</td>\n",
              "      <td>DA1 2DL</td>\n",
              "      <td>01407-775572</td>\n",
              "      <td>01879-963638</td>\n",
              "      <td>paul.farrin@farrin.co.uk</td>\n",
              "      <td>http://www.deringjameseesq.co.uk</td>\n",
              "    </tr>\n",
              "    <tr>\n",
              "      <th>Humeniuk</th>\n",
              "      <td>Dheeraj</td>\n",
              "      <td>Guldstrand Engineering Inc</td>\n",
              "      <td>8822 Trafalgar St</td>\n",
              "      <td>Yalding</td>\n",
              "      <td>Kent</td>\n",
              "      <td>ME18 6JE</td>\n",
              "      <td>01721-747819</td>\n",
              "      <td>01381-985978</td>\n",
              "      <td>vhumeniuk@gmail.com</td>\n",
              "      <td>http://www.guldstrandengineeringinc.co.uk</td>\n",
              "    </tr>\n",
              "    <tr>\n",
              "      <th>Tischner</th>\n",
              "      <td>Dheeraj</td>\n",
              "      <td>Male Power Ltd</td>\n",
              "      <td>650 Goring St</td>\n",
              "      <td>Rainham South Ward</td>\n",
              "      <td>Kent</td>\n",
              "      <td>ME8 9PN</td>\n",
              "      <td>01373-594236</td>\n",
              "      <td>01698-785700</td>\n",
              "      <td>altha@hotmail.com</td>\n",
              "      <td>http://www.malepowerltd.co.uk</td>\n",
              "    </tr>\n",
              "  </tbody>\n",
              "</table>\n",
              "</div>"
            ],
            "text/plain": [
              "           first_name  ...                                          web\n",
              "last_name              ...                                             \n",
              "Tomkiewicz    Dheeraj  ...         http://www.alandrosenburgcpapc.co.uk\n",
              "Writer        Dheeraj  ...             http://www.krassociatesinc.co.uk\n",
              "Thurm         Dheeraj  ...    http://www.burgesssteelproductscorp.co.uk\n",
              "Dease         Dheeraj  ...      http://www.sunderlandpublishingco.co.uk\n",
              "Crete         Dheeraj  ...                  http://www.mdwrailway.co.uk\n",
              "Yurich        Dheeraj  ...    http://www.blainecostructuralmovers.co.uk\n",
              "Wendorf       Dheeraj  ...      http://www.russellameliamosleyesq.co.uk\n",
              "Puskarich     Dheeraj  ...           http://www.drubnernormansesq.co.uk\n",
              "Geschke       Dheeraj  ...  http://www.levysecurityconsultantsltd.co.uk\n",
              "Handsaker     Dheeraj  ...         http://www.shirleysprintshoppe.co.uk\n",
              "Dubberly      Dheeraj  ...    http://www.lmindustrialchemicalsinc.co.uk\n",
              "Shadd         Dheeraj  ...        http://www.pigeonfallsstatebank.co.uk\n",
              "Sheneman      Dheeraj  ...            http://www.jonesbrighampesq.co.uk\n",
              "Colamarino    Dheeraj  ...         http://www.proctorassociatesco.co.uk\n",
              "Mercik        Dheeraj  ...                  http://www.leestandvm.co.uk\n",
              "Flori         Dheeraj  ...   http://www.marinesafetyinternational.co.uk\n",
              "Maricle       Dheeraj  ...           http://www.gartonjeffreypesq.co.uk\n",
              "Kernagis      Dheeraj  ...         http://www.digitalsolutionsinc.co.uk\n",
              "Leadbeater    Dheeraj  ...    http://www.murraywhisnantarchitects.co.uk\n",
              "Farrin        Dheeraj  ...             http://www.deringjameseesq.co.uk\n",
              "Humeniuk      Dheeraj  ...    http://www.guldstrandengineeringinc.co.uk\n",
              "Tischner      Dheeraj  ...                http://www.malepowerltd.co.uk\n",
              "\n",
              "[22 rows x 10 columns]"
            ]
          },
          "metadata": {
            "tags": []
          },
          "execution_count": 37
        }
      ]
    },
    {
      "cell_type": "code",
      "metadata": {
        "id": "vCsFdPB5PQUi"
      },
      "source": [
        "data.loc[(data['first_name']=='Dheeraj'), ['company_name','city']] = ['Chennai', 'Student']"
      ],
      "execution_count": null,
      "outputs": []
    },
    {
      "cell_type": "code",
      "metadata": {
        "id": "Ud-YlpGwPnGa",
        "colab": {
          "base_uri": "https://localhost:8080/",
          "height": 749
        },
        "outputId": "29ad7539-799c-4703-ed99-a6df0bcde52b"
      },
      "source": [
        "data.loc[(data['first_name']=='Dheeraj')]"
      ],
      "execution_count": null,
      "outputs": [
        {
          "output_type": "execute_result",
          "data": {
            "text/html": [
              "<div>\n",
              "<style scoped>\n",
              "    .dataframe tbody tr th:only-of-type {\n",
              "        vertical-align: middle;\n",
              "    }\n",
              "\n",
              "    .dataframe tbody tr th {\n",
              "        vertical-align: top;\n",
              "    }\n",
              "\n",
              "    .dataframe thead th {\n",
              "        text-align: right;\n",
              "    }\n",
              "</style>\n",
              "<table border=\"1\" class=\"dataframe\">\n",
              "  <thead>\n",
              "    <tr style=\"text-align: right;\">\n",
              "      <th></th>\n",
              "      <th>first_name</th>\n",
              "      <th>company_name</th>\n",
              "      <th>address</th>\n",
              "      <th>city</th>\n",
              "      <th>county</th>\n",
              "      <th>postal</th>\n",
              "      <th>phone1</th>\n",
              "      <th>phone2</th>\n",
              "      <th>email</th>\n",
              "      <th>web</th>\n",
              "    </tr>\n",
              "    <tr>\n",
              "      <th>last_name</th>\n",
              "      <th></th>\n",
              "      <th></th>\n",
              "      <th></th>\n",
              "      <th></th>\n",
              "      <th></th>\n",
              "      <th></th>\n",
              "      <th></th>\n",
              "      <th></th>\n",
              "      <th></th>\n",
              "      <th></th>\n",
              "    </tr>\n",
              "  </thead>\n",
              "  <tbody>\n",
              "    <tr>\n",
              "      <th>Tomkiewicz</th>\n",
              "      <td>Dheeraj</td>\n",
              "      <td>Chennai</td>\n",
              "      <td>14 Taylor St</td>\n",
              "      <td>Student</td>\n",
              "      <td>Kent</td>\n",
              "      <td>CT2 7PP</td>\n",
              "      <td>01835-703597</td>\n",
              "      <td>01944-369967</td>\n",
              "      <td>atomkiewicz@hotmail.com</td>\n",
              "      <td>http://www.alandrosenburgcpapc.co.uk</td>\n",
              "    </tr>\n",
              "    <tr>\n",
              "      <th>Writer</th>\n",
              "      <td>Dheeraj</td>\n",
              "      <td>Chennai</td>\n",
              "      <td>620 Northampton St</td>\n",
              "      <td>Student</td>\n",
              "      <td>Kent</td>\n",
              "      <td>DA2 7PP</td>\n",
              "      <td>01630-202053</td>\n",
              "      <td>01687-879391</td>\n",
              "      <td>fernanda@writer.co.uk</td>\n",
              "      <td>http://www.krassociatesinc.co.uk</td>\n",
              "    </tr>\n",
              "    <tr>\n",
              "      <th>Thurm</th>\n",
              "      <td>Dheeraj</td>\n",
              "      <td>Chennai</td>\n",
              "      <td>9 Horatio St</td>\n",
              "      <td>Student</td>\n",
              "      <td>Kent</td>\n",
              "      <td>TN26 2PN</td>\n",
              "      <td>01686-306597</td>\n",
              "      <td>01970-890023</td>\n",
              "      <td>bthurm@yahoo.com</td>\n",
              "      <td>http://www.burgesssteelproductscorp.co.uk</td>\n",
              "    </tr>\n",
              "    <tr>\n",
              "      <th>Dease</th>\n",
              "      <td>Dheeraj</td>\n",
              "      <td>Chennai</td>\n",
              "      <td>94 Enid St</td>\n",
              "      <td>Student</td>\n",
              "      <td>Kent</td>\n",
              "      <td>CT7 9BG</td>\n",
              "      <td>01333-642646</td>\n",
              "      <td>01419-231768</td>\n",
              "      <td>pdease@gmail.com</td>\n",
              "      <td>http://www.sunderlandpublishingco.co.uk</td>\n",
              "    </tr>\n",
              "    <tr>\n",
              "      <th>Crete</th>\n",
              "      <td>Dheeraj</td>\n",
              "      <td>Chennai</td>\n",
              "      <td>4 Peach St #5112</td>\n",
              "      <td>Student</td>\n",
              "      <td>Kent</td>\n",
              "      <td>TN14 7EF</td>\n",
              "      <td>01375-820236</td>\n",
              "      <td>01268-175772</td>\n",
              "      <td>luke.crete@crete.co.uk</td>\n",
              "      <td>http://www.mdwrailway.co.uk</td>\n",
              "    </tr>\n",
              "    <tr>\n",
              "      <th>Yurich</th>\n",
              "      <td>Dheeraj</td>\n",
              "      <td>Chennai</td>\n",
              "      <td>666 Moor Place</td>\n",
              "      <td>Student</td>\n",
              "      <td>Kent</td>\n",
              "      <td>ME15 8ST</td>\n",
              "      <td>01780-380120</td>\n",
              "      <td>01494-202350</td>\n",
              "      <td>cheryll_yurich@yurich.co.uk</td>\n",
              "      <td>http://www.blainecostructuralmovers.co.uk</td>\n",
              "    </tr>\n",
              "    <tr>\n",
              "      <th>Wendorf</th>\n",
              "      <td>Dheeraj</td>\n",
              "      <td>Chennai</td>\n",
              "      <td>8830 Antonio St</td>\n",
              "      <td>Student</td>\n",
              "      <td>Kent</td>\n",
              "      <td>ME7 1DZ</td>\n",
              "      <td>01220-653456</td>\n",
              "      <td>01420-489285</td>\n",
              "      <td>galen.wendorf@wendorf.co.uk</td>\n",
              "      <td>http://www.russellameliamosleyesq.co.uk</td>\n",
              "    </tr>\n",
              "    <tr>\n",
              "      <th>Puskarich</th>\n",
              "      <td>Dheeraj</td>\n",
              "      <td>Chennai</td>\n",
              "      <td>9302 Ismay St #6</td>\n",
              "      <td>Student</td>\n",
              "      <td>Kent</td>\n",
              "      <td>TN30 6JP</td>\n",
              "      <td>01506-152661</td>\n",
              "      <td>01686-258819</td>\n",
              "      <td>thad_puskarich@puskarich.co.uk</td>\n",
              "      <td>http://www.drubnernormansesq.co.uk</td>\n",
              "    </tr>\n",
              "    <tr>\n",
              "      <th>Geschke</th>\n",
              "      <td>Dheeraj</td>\n",
              "      <td>Chennai</td>\n",
              "      <td>5 Garfield St #9</td>\n",
              "      <td>Student</td>\n",
              "      <td>Kent</td>\n",
              "      <td>ME10 2EJ</td>\n",
              "      <td>01404-425588</td>\n",
              "      <td>01902-692529</td>\n",
              "      <td>gabriele@geschke.co.uk</td>\n",
              "      <td>http://www.levysecurityconsultantsltd.co.uk</td>\n",
              "    </tr>\n",
              "    <tr>\n",
              "      <th>Handsaker</th>\n",
              "      <td>Dheeraj</td>\n",
              "      <td>Chennai</td>\n",
              "      <td>2 Cherry Lane</td>\n",
              "      <td>Student</td>\n",
              "      <td>Kent</td>\n",
              "      <td>ME2 2NJ</td>\n",
              "      <td>01793-443665</td>\n",
              "      <td>01964-984369</td>\n",
              "      <td>jordan_handsaker@gmail.com</td>\n",
              "      <td>http://www.shirleysprintshoppe.co.uk</td>\n",
              "    </tr>\n",
              "    <tr>\n",
              "      <th>Dubberly</th>\n",
              "      <td>Dheeraj</td>\n",
              "      <td>Chennai</td>\n",
              "      <td>1 Lower Burlington St</td>\n",
              "      <td>Student</td>\n",
              "      <td>Kent</td>\n",
              "      <td>DA11 8RN</td>\n",
              "      <td>01974-720949</td>\n",
              "      <td>01910-745476</td>\n",
              "      <td>madalyn.dubberly@gmail.com</td>\n",
              "      <td>http://www.lmindustrialchemicalsinc.co.uk</td>\n",
              "    </tr>\n",
              "    <tr>\n",
              "      <th>Shadd</th>\n",
              "      <td>Dheeraj</td>\n",
              "      <td>Chennai</td>\n",
              "      <td>8 Bigham Rd</td>\n",
              "      <td>Student</td>\n",
              "      <td>Kent</td>\n",
              "      <td>CT14 9QJ</td>\n",
              "      <td>01950-708083</td>\n",
              "      <td>01295-412046</td>\n",
              "      <td>maia_shadd@gmail.com</td>\n",
              "      <td>http://www.pigeonfallsstatebank.co.uk</td>\n",
              "    </tr>\n",
              "    <tr>\n",
              "      <th>Sheneman</th>\n",
              "      <td>Dheeraj</td>\n",
              "      <td>Chennai</td>\n",
              "      <td>845 Atherton St</td>\n",
              "      <td>Student</td>\n",
              "      <td>Kent</td>\n",
              "      <td>TN16 2AR</td>\n",
              "      <td>01455-958797</td>\n",
              "      <td>01732-922087</td>\n",
              "      <td>christoper@gmail.com</td>\n",
              "      <td>http://www.jonesbrighampesq.co.uk</td>\n",
              "    </tr>\n",
              "    <tr>\n",
              "      <th>Colamarino</th>\n",
              "      <td>Dheeraj</td>\n",
              "      <td>Chennai</td>\n",
              "      <td>150 Margaret Rd</td>\n",
              "      <td>Student</td>\n",
              "      <td>Kent</td>\n",
              "      <td>ME19 4DT</td>\n",
              "      <td>01879-572287</td>\n",
              "      <td>01708-292140</td>\n",
              "      <td>melda.colamarino@colamarino.co.uk</td>\n",
              "      <td>http://www.proctorassociatesco.co.uk</td>\n",
              "    </tr>\n",
              "    <tr>\n",
              "      <th>Mercik</th>\n",
              "      <td>Dheeraj</td>\n",
              "      <td>Chennai</td>\n",
              "      <td>7 St Edmonds Rd</td>\n",
              "      <td>Student</td>\n",
              "      <td>Kent</td>\n",
              "      <td>CT15 4HH</td>\n",
              "      <td>01539-784239</td>\n",
              "      <td>01550-347724</td>\n",
              "      <td>elden_mercik@mercik.co.uk</td>\n",
              "      <td>http://www.leestandvm.co.uk</td>\n",
              "    </tr>\n",
              "    <tr>\n",
              "      <th>Flori</th>\n",
              "      <td>Dheeraj</td>\n",
              "      <td>Chennai</td>\n",
              "      <td>4 Cochrane St</td>\n",
              "      <td>Student</td>\n",
              "      <td>Kent</td>\n",
              "      <td>ME9 8UJ</td>\n",
              "      <td>01235-935599</td>\n",
              "      <td>01583-844244</td>\n",
              "      <td>pearlie_flori@gmail.com</td>\n",
              "      <td>http://www.marinesafetyinternational.co.uk</td>\n",
              "    </tr>\n",
              "    <tr>\n",
              "      <th>Maricle</th>\n",
              "      <td>Dheeraj</td>\n",
              "      <td>Chennai</td>\n",
              "      <td>59 Charles St</td>\n",
              "      <td>Student</td>\n",
              "      <td>Kent</td>\n",
              "      <td>TN23 4GF</td>\n",
              "      <td>01642-202972</td>\n",
              "      <td>01806-219415</td>\n",
              "      <td>dusti@gmail.com</td>\n",
              "      <td>http://www.gartonjeffreypesq.co.uk</td>\n",
              "    </tr>\n",
              "    <tr>\n",
              "      <th>Kernagis</th>\n",
              "      <td>Dheeraj</td>\n",
              "      <td>Chennai</td>\n",
              "      <td>8 Hinton St #8241</td>\n",
              "      <td>Student</td>\n",
              "      <td>Kent</td>\n",
              "      <td>TN25 6BQ</td>\n",
              "      <td>01504-620944</td>\n",
              "      <td>01685-678054</td>\n",
              "      <td>gerald_kernagis@kernagis.co.uk</td>\n",
              "      <td>http://www.digitalsolutionsinc.co.uk</td>\n",
              "    </tr>\n",
              "    <tr>\n",
              "      <th>Leadbeater</th>\n",
              "      <td>Dheeraj</td>\n",
              "      <td>Chennai</td>\n",
              "      <td>10 Carisbrooke St</td>\n",
              "      <td>Student</td>\n",
              "      <td>Kent</td>\n",
              "      <td>DA12 3ED</td>\n",
              "      <td>01706-546951</td>\n",
              "      <td>01356-906646</td>\n",
              "      <td>stefania_leadbeater@hotmail.com</td>\n",
              "      <td>http://www.murraywhisnantarchitects.co.uk</td>\n",
              "    </tr>\n",
              "    <tr>\n",
              "      <th>Farrin</th>\n",
              "      <td>Dheeraj</td>\n",
              "      <td>Chennai</td>\n",
              "      <td>7 Varthen St</td>\n",
              "      <td>Student</td>\n",
              "      <td>Kent</td>\n",
              "      <td>DA1 2DL</td>\n",
              "      <td>01407-775572</td>\n",
              "      <td>01879-963638</td>\n",
              "      <td>paul.farrin@farrin.co.uk</td>\n",
              "      <td>http://www.deringjameseesq.co.uk</td>\n",
              "    </tr>\n",
              "    <tr>\n",
              "      <th>Humeniuk</th>\n",
              "      <td>Dheeraj</td>\n",
              "      <td>Chennai</td>\n",
              "      <td>8822 Trafalgar St</td>\n",
              "      <td>Student</td>\n",
              "      <td>Kent</td>\n",
              "      <td>ME18 6JE</td>\n",
              "      <td>01721-747819</td>\n",
              "      <td>01381-985978</td>\n",
              "      <td>vhumeniuk@gmail.com</td>\n",
              "      <td>http://www.guldstrandengineeringinc.co.uk</td>\n",
              "    </tr>\n",
              "    <tr>\n",
              "      <th>Tischner</th>\n",
              "      <td>Dheeraj</td>\n",
              "      <td>Chennai</td>\n",
              "      <td>650 Goring St</td>\n",
              "      <td>Student</td>\n",
              "      <td>Kent</td>\n",
              "      <td>ME8 9PN</td>\n",
              "      <td>01373-594236</td>\n",
              "      <td>01698-785700</td>\n",
              "      <td>altha@hotmail.com</td>\n",
              "      <td>http://www.malepowerltd.co.uk</td>\n",
              "    </tr>\n",
              "  </tbody>\n",
              "</table>\n",
              "</div>"
            ],
            "text/plain": [
              "           first_name  ...                                          web\n",
              "last_name              ...                                             \n",
              "Tomkiewicz    Dheeraj  ...         http://www.alandrosenburgcpapc.co.uk\n",
              "Writer        Dheeraj  ...             http://www.krassociatesinc.co.uk\n",
              "Thurm         Dheeraj  ...    http://www.burgesssteelproductscorp.co.uk\n",
              "Dease         Dheeraj  ...      http://www.sunderlandpublishingco.co.uk\n",
              "Crete         Dheeraj  ...                  http://www.mdwrailway.co.uk\n",
              "Yurich        Dheeraj  ...    http://www.blainecostructuralmovers.co.uk\n",
              "Wendorf       Dheeraj  ...      http://www.russellameliamosleyesq.co.uk\n",
              "Puskarich     Dheeraj  ...           http://www.drubnernormansesq.co.uk\n",
              "Geschke       Dheeraj  ...  http://www.levysecurityconsultantsltd.co.uk\n",
              "Handsaker     Dheeraj  ...         http://www.shirleysprintshoppe.co.uk\n",
              "Dubberly      Dheeraj  ...    http://www.lmindustrialchemicalsinc.co.uk\n",
              "Shadd         Dheeraj  ...        http://www.pigeonfallsstatebank.co.uk\n",
              "Sheneman      Dheeraj  ...            http://www.jonesbrighampesq.co.uk\n",
              "Colamarino    Dheeraj  ...         http://www.proctorassociatesco.co.uk\n",
              "Mercik        Dheeraj  ...                  http://www.leestandvm.co.uk\n",
              "Flori         Dheeraj  ...   http://www.marinesafetyinternational.co.uk\n",
              "Maricle       Dheeraj  ...           http://www.gartonjeffreypesq.co.uk\n",
              "Kernagis      Dheeraj  ...         http://www.digitalsolutionsinc.co.uk\n",
              "Leadbeater    Dheeraj  ...    http://www.murraywhisnantarchitects.co.uk\n",
              "Farrin        Dheeraj  ...             http://www.deringjameseesq.co.uk\n",
              "Humeniuk      Dheeraj  ...    http://www.guldstrandengineeringinc.co.uk\n",
              "Tischner      Dheeraj  ...                http://www.malepowerltd.co.uk\n",
              "\n",
              "[22 rows x 10 columns]"
            ]
          },
          "metadata": {
            "tags": []
          },
          "execution_count": 40
        }
      ]
    },
    {
      "cell_type": "code",
      "metadata": {
        "id": "sgO2eBOEP0co"
      },
      "source": [
        "df = pd.read_csv('https://raw.githubusercontent.com/fivethirtyeight/data/master/cabinet-turnover/cabinet-turnover.csv')"
      ],
      "execution_count": null,
      "outputs": []
    },
    {
      "cell_type": "code",
      "metadata": {
        "id": "hRJPLLwvQgIm",
        "colab": {
          "base_uri": "https://localhost:8080/",
          "height": 201
        },
        "outputId": "7271ecb7-e7aa-462d-a45a-a16da418ccc4"
      },
      "source": [
        "df.head()"
      ],
      "execution_count": null,
      "outputs": [
        {
          "output_type": "execute_result",
          "data": {
            "text/html": [
              "<div>\n",
              "<style scoped>\n",
              "    .dataframe tbody tr th:only-of-type {\n",
              "        vertical-align: middle;\n",
              "    }\n",
              "\n",
              "    .dataframe tbody tr th {\n",
              "        vertical-align: top;\n",
              "    }\n",
              "\n",
              "    .dataframe thead th {\n",
              "        text-align: right;\n",
              "    }\n",
              "</style>\n",
              "<table border=\"1\" class=\"dataframe\">\n",
              "  <thead>\n",
              "    <tr style=\"text-align: right;\">\n",
              "      <th></th>\n",
              "      <th>president</th>\n",
              "      <th>position</th>\n",
              "      <th>appointee</th>\n",
              "      <th>start</th>\n",
              "      <th>end</th>\n",
              "      <th>length</th>\n",
              "      <th>days</th>\n",
              "    </tr>\n",
              "  </thead>\n",
              "  <tbody>\n",
              "    <tr>\n",
              "      <th>0</th>\n",
              "      <td>Carter</td>\n",
              "      <td>OMB Director</td>\n",
              "      <td>Bert Lance</td>\n",
              "      <td>1/21/77</td>\n",
              "      <td>9/23/77</td>\n",
              "      <td>245</td>\n",
              "      <td>247.0</td>\n",
              "    </tr>\n",
              "    <tr>\n",
              "      <th>1</th>\n",
              "      <td>Carter</td>\n",
              "      <td>Secretary of Transportation</td>\n",
              "      <td>Brock Adams</td>\n",
              "      <td>1/23/77</td>\n",
              "      <td>7/20/79</td>\n",
              "      <td>908</td>\n",
              "      <td>912.0</td>\n",
              "    </tr>\n",
              "    <tr>\n",
              "      <th>2</th>\n",
              "      <td>Carter</td>\n",
              "      <td>Secretary of Health, Education &amp; Welfare</td>\n",
              "      <td>Joseph Califano Jr.</td>\n",
              "      <td>1/25/77</td>\n",
              "      <td>8/3/79</td>\n",
              "      <td>920</td>\n",
              "      <td>926.0</td>\n",
              "    </tr>\n",
              "    <tr>\n",
              "      <th>3</th>\n",
              "      <td>Carter</td>\n",
              "      <td>Secretary of Housing &amp; Urban Development</td>\n",
              "      <td>Patricia Harris</td>\n",
              "      <td>1/23/77</td>\n",
              "      <td>8/3/79</td>\n",
              "      <td>922</td>\n",
              "      <td>926.0</td>\n",
              "    </tr>\n",
              "    <tr>\n",
              "      <th>4</th>\n",
              "      <td>Carter</td>\n",
              "      <td>Secretary of the Treasury</td>\n",
              "      <td>W. Michael Blumenthal</td>\n",
              "      <td>1/23/77</td>\n",
              "      <td>8/4/79</td>\n",
              "      <td>923</td>\n",
              "      <td>927.0</td>\n",
              "    </tr>\n",
              "  </tbody>\n",
              "</table>\n",
              "</div>"
            ],
            "text/plain": [
              "  president                                  position  ... length   days\n",
              "0    Carter                              OMB Director  ...    245  247.0\n",
              "1    Carter               Secretary of Transportation  ...    908  912.0\n",
              "2    Carter  Secretary of Health, Education & Welfare  ...    920  926.0\n",
              "3    Carter  Secretary of Housing & Urban Development  ...    922  926.0\n",
              "4    Carter                 Secretary of the Treasury  ...    923  927.0\n",
              "\n",
              "[5 rows x 7 columns]"
            ]
          },
          "metadata": {
            "tags": []
          },
          "execution_count": 42
        }
      ]
    },
    {
      "cell_type": "code",
      "metadata": {
        "id": "9PAiZLl-QnDh",
        "colab": {
          "base_uri": "https://localhost:8080/",
          "height": 150
        },
        "outputId": "80fec63d-a0c5-4291-9b66-10c781364cbb"
      },
      "source": [
        "df.dtypes"
      ],
      "execution_count": null,
      "outputs": [
        {
          "output_type": "execute_result",
          "data": {
            "text/plain": [
              "president     object\n",
              "position      object\n",
              "appointee     object\n",
              "start         object\n",
              "end           object\n",
              "length        object\n",
              "days         float64\n",
              "dtype: object"
            ]
          },
          "metadata": {
            "tags": []
          },
          "execution_count": 43
        }
      ]
    },
    {
      "cell_type": "code",
      "metadata": {
        "id": "dZHDVdKBQoFg",
        "colab": {
          "base_uri": "https://localhost:8080/",
          "height": 34
        },
        "outputId": "aa7d8097-878d-4b35-a6a7-92ee114f9606"
      },
      "source": [
        "df.shape"
      ],
      "execution_count": null,
      "outputs": [
        {
          "output_type": "execute_result",
          "data": {
            "text/plain": [
              "(312, 7)"
            ]
          },
          "metadata": {
            "tags": []
          },
          "execution_count": 44
        }
      ]
    },
    {
      "cell_type": "code",
      "metadata": {
        "id": "xlA8rp5xQqbG",
        "colab": {
          "base_uri": "https://localhost:8080/",
          "height": 249
        },
        "outputId": "0c4d8979-fe7d-4863-f11c-441067c96c90"
      },
      "source": [
        "df.info()"
      ],
      "execution_count": null,
      "outputs": [
        {
          "output_type": "stream",
          "text": [
            "<class 'pandas.core.frame.DataFrame'>\n",
            "RangeIndex: 312 entries, 0 to 311\n",
            "Data columns (total 7 columns):\n",
            " #   Column     Non-Null Count  Dtype  \n",
            "---  ------     --------------  -----  \n",
            " 0   president  312 non-null    object \n",
            " 1   position   312 non-null    object \n",
            " 2   appointee  312 non-null    object \n",
            " 3   start      312 non-null    object \n",
            " 4   end        312 non-null    object \n",
            " 5   length     294 non-null    object \n",
            " 6   days       288 non-null    float64\n",
            "dtypes: float64(1), object(6)\n",
            "memory usage: 17.2+ KB\n"
          ],
          "name": "stdout"
        }
      ]
    },
    {
      "cell_type": "code",
      "metadata": {
        "id": "P3DICxnAQ3Ge",
        "colab": {
          "base_uri": "https://localhost:8080/",
          "height": 201
        },
        "outputId": "4805adba-a26f-49b8-97eb-d71daebebfb0"
      },
      "source": [
        "df.head()"
      ],
      "execution_count": null,
      "outputs": [
        {
          "output_type": "execute_result",
          "data": {
            "text/html": [
              "<div>\n",
              "<style scoped>\n",
              "    .dataframe tbody tr th:only-of-type {\n",
              "        vertical-align: middle;\n",
              "    }\n",
              "\n",
              "    .dataframe tbody tr th {\n",
              "        vertical-align: top;\n",
              "    }\n",
              "\n",
              "    .dataframe thead th {\n",
              "        text-align: right;\n",
              "    }\n",
              "</style>\n",
              "<table border=\"1\" class=\"dataframe\">\n",
              "  <thead>\n",
              "    <tr style=\"text-align: right;\">\n",
              "      <th></th>\n",
              "      <th>president</th>\n",
              "      <th>position</th>\n",
              "      <th>appointee</th>\n",
              "      <th>start</th>\n",
              "      <th>end</th>\n",
              "      <th>length</th>\n",
              "      <th>days</th>\n",
              "    </tr>\n",
              "  </thead>\n",
              "  <tbody>\n",
              "    <tr>\n",
              "      <th>0</th>\n",
              "      <td>Carter</td>\n",
              "      <td>OMB Director</td>\n",
              "      <td>Bert Lance</td>\n",
              "      <td>1/21/77</td>\n",
              "      <td>9/23/77</td>\n",
              "      <td>245</td>\n",
              "      <td>247.0</td>\n",
              "    </tr>\n",
              "    <tr>\n",
              "      <th>1</th>\n",
              "      <td>Carter</td>\n",
              "      <td>Secretary of Transportation</td>\n",
              "      <td>Brock Adams</td>\n",
              "      <td>1/23/77</td>\n",
              "      <td>7/20/79</td>\n",
              "      <td>908</td>\n",
              "      <td>912.0</td>\n",
              "    </tr>\n",
              "    <tr>\n",
              "      <th>2</th>\n",
              "      <td>Carter</td>\n",
              "      <td>Secretary of Health, Education &amp; Welfare</td>\n",
              "      <td>Joseph Califano Jr.</td>\n",
              "      <td>1/25/77</td>\n",
              "      <td>8/3/79</td>\n",
              "      <td>920</td>\n",
              "      <td>926.0</td>\n",
              "    </tr>\n",
              "    <tr>\n",
              "      <th>3</th>\n",
              "      <td>Carter</td>\n",
              "      <td>Secretary of Housing &amp; Urban Development</td>\n",
              "      <td>Patricia Harris</td>\n",
              "      <td>1/23/77</td>\n",
              "      <td>8/3/79</td>\n",
              "      <td>922</td>\n",
              "      <td>926.0</td>\n",
              "    </tr>\n",
              "    <tr>\n",
              "      <th>4</th>\n",
              "      <td>Carter</td>\n",
              "      <td>Secretary of the Treasury</td>\n",
              "      <td>W. Michael Blumenthal</td>\n",
              "      <td>1/23/77</td>\n",
              "      <td>8/4/79</td>\n",
              "      <td>923</td>\n",
              "      <td>927.0</td>\n",
              "    </tr>\n",
              "  </tbody>\n",
              "</table>\n",
              "</div>"
            ],
            "text/plain": [
              "  president                                  position  ... length   days\n",
              "0    Carter                              OMB Director  ...    245  247.0\n",
              "1    Carter               Secretary of Transportation  ...    908  912.0\n",
              "2    Carter  Secretary of Health, Education & Welfare  ...    920  926.0\n",
              "3    Carter  Secretary of Housing & Urban Development  ...    922  926.0\n",
              "4    Carter                 Secretary of the Treasury  ...    923  927.0\n",
              "\n",
              "[5 rows x 7 columns]"
            ]
          },
          "metadata": {
            "tags": []
          },
          "execution_count": 46
        }
      ]
    },
    {
      "cell_type": "code",
      "metadata": {
        "id": "5Odc6hTEQ7wa",
        "colab": {
          "base_uri": "https://localhost:8080/",
          "height": 34
        },
        "outputId": "d2a6e93c-3ac5-4af7-92ef-7ec170657266"
      },
      "source": [
        "df['president'].nunique()"
      ],
      "execution_count": null,
      "outputs": [
        {
          "output_type": "execute_result",
          "data": {
            "text/plain": [
              "7"
            ]
          },
          "metadata": {
            "tags": []
          },
          "execution_count": 51
        }
      ]
    },
    {
      "cell_type": "code",
      "metadata": {
        "id": "C7Nu6mh0RFMM",
        "colab": {
          "base_uri": "https://localhost:8080/",
          "height": 411
        },
        "outputId": "d1a5dfd9-40c7-4ec6-844d-0aff5503d2de"
      },
      "source": [
        "#OMb directors in the period of clinton, number of presidents, and secretaries\n",
        "df.loc[df.position.str.contains(\"Secretary\")]"
      ],
      "execution_count": null,
      "outputs": [
        {
          "output_type": "execute_result",
          "data": {
            "text/html": [
              "<div>\n",
              "<style scoped>\n",
              "    .dataframe tbody tr th:only-of-type {\n",
              "        vertical-align: middle;\n",
              "    }\n",
              "\n",
              "    .dataframe tbody tr th {\n",
              "        vertical-align: top;\n",
              "    }\n",
              "\n",
              "    .dataframe thead th {\n",
              "        text-align: right;\n",
              "    }\n",
              "</style>\n",
              "<table border=\"1\" class=\"dataframe\">\n",
              "  <thead>\n",
              "    <tr style=\"text-align: right;\">\n",
              "      <th></th>\n",
              "      <th>president</th>\n",
              "      <th>position</th>\n",
              "      <th>appointee</th>\n",
              "      <th>start</th>\n",
              "      <th>end</th>\n",
              "      <th>length</th>\n",
              "      <th>days</th>\n",
              "    </tr>\n",
              "  </thead>\n",
              "  <tbody>\n",
              "    <tr>\n",
              "      <th>1</th>\n",
              "      <td>Carter</td>\n",
              "      <td>Secretary of Transportation</td>\n",
              "      <td>Brock Adams</td>\n",
              "      <td>1/23/77</td>\n",
              "      <td>7/20/79</td>\n",
              "      <td>908</td>\n",
              "      <td>912.0</td>\n",
              "    </tr>\n",
              "    <tr>\n",
              "      <th>2</th>\n",
              "      <td>Carter</td>\n",
              "      <td>Secretary of Health, Education &amp; Welfare</td>\n",
              "      <td>Joseph Califano Jr.</td>\n",
              "      <td>1/25/77</td>\n",
              "      <td>8/3/79</td>\n",
              "      <td>920</td>\n",
              "      <td>926.0</td>\n",
              "    </tr>\n",
              "    <tr>\n",
              "      <th>3</th>\n",
              "      <td>Carter</td>\n",
              "      <td>Secretary of Housing &amp; Urban Development</td>\n",
              "      <td>Patricia Harris</td>\n",
              "      <td>1/23/77</td>\n",
              "      <td>8/3/79</td>\n",
              "      <td>922</td>\n",
              "      <td>926.0</td>\n",
              "    </tr>\n",
              "    <tr>\n",
              "      <th>4</th>\n",
              "      <td>Carter</td>\n",
              "      <td>Secretary of the Treasury</td>\n",
              "      <td>W. Michael Blumenthal</td>\n",
              "      <td>1/23/77</td>\n",
              "      <td>8/4/79</td>\n",
              "      <td>923</td>\n",
              "      <td>927.0</td>\n",
              "    </tr>\n",
              "    <tr>\n",
              "      <th>7</th>\n",
              "      <td>Carter</td>\n",
              "      <td>Secretary of Energy</td>\n",
              "      <td>James Schlesinger</td>\n",
              "      <td>8/6/77</td>\n",
              "      <td>8/23/79</td>\n",
              "      <td>747</td>\n",
              "      <td>946.0</td>\n",
              "    </tr>\n",
              "    <tr>\n",
              "      <th>...</th>\n",
              "      <td>...</td>\n",
              "      <td>...</td>\n",
              "      <td>...</td>\n",
              "      <td>...</td>\n",
              "      <td>...</td>\n",
              "      <td>...</td>\n",
              "      <td>...</td>\n",
              "    </tr>\n",
              "    <tr>\n",
              "      <th>305</th>\n",
              "      <td>Trump</td>\n",
              "      <td>Secretary of Labor</td>\n",
              "      <td>Alexander Acosta</td>\n",
              "      <td>4/28/17</td>\n",
              "      <td>Still in office</td>\n",
              "      <td>NaN</td>\n",
              "      <td>NaN</td>\n",
              "    </tr>\n",
              "    <tr>\n",
              "      <th>307</th>\n",
              "      <td>Trump</td>\n",
              "      <td>Secretary of Homeland Security</td>\n",
              "      <td>Kirstjen Nielsen</td>\n",
              "      <td>12/6/17</td>\n",
              "      <td>Still in office</td>\n",
              "      <td>NaN</td>\n",
              "      <td>NaN</td>\n",
              "    </tr>\n",
              "    <tr>\n",
              "      <th>308</th>\n",
              "      <td>Trump</td>\n",
              "      <td>Secretary of Health &amp; Human Services</td>\n",
              "      <td>Alex Azar</td>\n",
              "      <td>1/29/18</td>\n",
              "      <td>Still in office</td>\n",
              "      <td>NaN</td>\n",
              "      <td>NaN</td>\n",
              "    </tr>\n",
              "    <tr>\n",
              "      <th>309</th>\n",
              "      <td>Trump</td>\n",
              "      <td>Secretary of State</td>\n",
              "      <td>Mike Pompeo</td>\n",
              "      <td>4/26/18</td>\n",
              "      <td>Still in office</td>\n",
              "      <td>NaN</td>\n",
              "      <td>NaN</td>\n",
              "    </tr>\n",
              "    <tr>\n",
              "      <th>311</th>\n",
              "      <td>Trump</td>\n",
              "      <td>Secretary of Veterans Affairs</td>\n",
              "      <td>Robert Wilkie</td>\n",
              "      <td>7/30/18</td>\n",
              "      <td>Still in office</td>\n",
              "      <td>NaN</td>\n",
              "      <td>NaN</td>\n",
              "    </tr>\n",
              "  </tbody>\n",
              "</table>\n",
              "<p>175 rows × 7 columns</p>\n",
              "</div>"
            ],
            "text/plain": [
              "    president                                  position  ... length   days\n",
              "1      Carter               Secretary of Transportation  ...    908  912.0\n",
              "2      Carter  Secretary of Health, Education & Welfare  ...    920  926.0\n",
              "3      Carter  Secretary of Housing & Urban Development  ...    922  926.0\n",
              "4      Carter                 Secretary of the Treasury  ...    923  927.0\n",
              "7      Carter                       Secretary of Energy  ...    747  946.0\n",
              "..        ...                                       ...  ...    ...    ...\n",
              "305     Trump                        Secretary of Labor  ...    NaN    NaN\n",
              "307     Trump            Secretary of Homeland Security  ...    NaN    NaN\n",
              "308     Trump      Secretary of Health & Human Services  ...    NaN    NaN\n",
              "309     Trump                        Secretary of State  ...    NaN    NaN\n",
              "311     Trump             Secretary of Veterans Affairs  ...    NaN    NaN\n",
              "\n",
              "[175 rows x 7 columns]"
            ]
          },
          "metadata": {
            "tags": []
          },
          "execution_count": 52
        }
      ]
    },
    {
      "cell_type": "code",
      "metadata": {
        "id": "PtX8GB45R2d1",
        "colab": {
          "base_uri": "https://localhost:8080/",
          "height": 100
        },
        "outputId": "7ac8a4c8-f7de-48e2-9a52-b4ae8b006048"
      },
      "source": [
        "df.loc[(df['president']=='Clinton') & (df.position.str.contains(\"OMB Director\"))]['appointee']"
      ],
      "execution_count": null,
      "outputs": [
        {
          "output_type": "execute_result",
          "data": {
            "text/plain": [
              "122    Leon Panetta\n",
              "129    Alice Rivlin\n",
              "142    Frank Raines\n",
              "151        Jack Lew\n",
              "Name: appointee, dtype: object"
            ]
          },
          "metadata": {
            "tags": []
          },
          "execution_count": 59
        }
      ]
    },
    {
      "cell_type": "code",
      "metadata": {
        "id": "3nEiOcEuSBjI"
      },
      "source": [
        "df2 = pd.read_csv('https://raw.githubusercontent.com/akki8087/Big-Mart-Sales/master/Train.csv')"
      ],
      "execution_count": null,
      "outputs": []
    },
    {
      "cell_type": "code",
      "metadata": {
        "id": "y6DcQqPITDar",
        "colab": {
          "base_uri": "https://localhost:8080/",
          "height": 283
        },
        "outputId": "b3b7a558-149c-44dd-8a10-7da83d7aef0d"
      },
      "source": [
        "df2.head()"
      ],
      "execution_count": null,
      "outputs": [
        {
          "output_type": "execute_result",
          "data": {
            "text/html": [
              "<div>\n",
              "<style scoped>\n",
              "    .dataframe tbody tr th:only-of-type {\n",
              "        vertical-align: middle;\n",
              "    }\n",
              "\n",
              "    .dataframe tbody tr th {\n",
              "        vertical-align: top;\n",
              "    }\n",
              "\n",
              "    .dataframe thead th {\n",
              "        text-align: right;\n",
              "    }\n",
              "</style>\n",
              "<table border=\"1\" class=\"dataframe\">\n",
              "  <thead>\n",
              "    <tr style=\"text-align: right;\">\n",
              "      <th></th>\n",
              "      <th>Item_Identifier</th>\n",
              "      <th>Item_Weight</th>\n",
              "      <th>Item_Fat_Content</th>\n",
              "      <th>Item_Visibility</th>\n",
              "      <th>Item_Type</th>\n",
              "      <th>Item_MRP</th>\n",
              "      <th>Outlet_Identifier</th>\n",
              "      <th>Outlet_Establishment_Year</th>\n",
              "      <th>Outlet_Size</th>\n",
              "      <th>Outlet_Location_Type</th>\n",
              "      <th>Outlet_Type</th>\n",
              "      <th>Item_Outlet_Sales</th>\n",
              "    </tr>\n",
              "  </thead>\n",
              "  <tbody>\n",
              "    <tr>\n",
              "      <th>0</th>\n",
              "      <td>FDA15</td>\n",
              "      <td>9.30</td>\n",
              "      <td>Low Fat</td>\n",
              "      <td>0.016047</td>\n",
              "      <td>Dairy</td>\n",
              "      <td>249.8092</td>\n",
              "      <td>OUT049</td>\n",
              "      <td>1999</td>\n",
              "      <td>Medium</td>\n",
              "      <td>Tier 1</td>\n",
              "      <td>Supermarket Type1</td>\n",
              "      <td>3735.1380</td>\n",
              "    </tr>\n",
              "    <tr>\n",
              "      <th>1</th>\n",
              "      <td>DRC01</td>\n",
              "      <td>5.92</td>\n",
              "      <td>Regular</td>\n",
              "      <td>0.019278</td>\n",
              "      <td>Soft Drinks</td>\n",
              "      <td>48.2692</td>\n",
              "      <td>OUT018</td>\n",
              "      <td>2009</td>\n",
              "      <td>Medium</td>\n",
              "      <td>Tier 3</td>\n",
              "      <td>Supermarket Type2</td>\n",
              "      <td>443.4228</td>\n",
              "    </tr>\n",
              "    <tr>\n",
              "      <th>2</th>\n",
              "      <td>FDN15</td>\n",
              "      <td>17.50</td>\n",
              "      <td>Low Fat</td>\n",
              "      <td>0.016760</td>\n",
              "      <td>Meat</td>\n",
              "      <td>141.6180</td>\n",
              "      <td>OUT049</td>\n",
              "      <td>1999</td>\n",
              "      <td>Medium</td>\n",
              "      <td>Tier 1</td>\n",
              "      <td>Supermarket Type1</td>\n",
              "      <td>2097.2700</td>\n",
              "    </tr>\n",
              "    <tr>\n",
              "      <th>3</th>\n",
              "      <td>FDX07</td>\n",
              "      <td>19.20</td>\n",
              "      <td>Regular</td>\n",
              "      <td>0.000000</td>\n",
              "      <td>Fruits and Vegetables</td>\n",
              "      <td>182.0950</td>\n",
              "      <td>OUT010</td>\n",
              "      <td>1998</td>\n",
              "      <td>NaN</td>\n",
              "      <td>Tier 3</td>\n",
              "      <td>Grocery Store</td>\n",
              "      <td>732.3800</td>\n",
              "    </tr>\n",
              "    <tr>\n",
              "      <th>4</th>\n",
              "      <td>NCD19</td>\n",
              "      <td>8.93</td>\n",
              "      <td>Low Fat</td>\n",
              "      <td>0.000000</td>\n",
              "      <td>Household</td>\n",
              "      <td>53.8614</td>\n",
              "      <td>OUT013</td>\n",
              "      <td>1987</td>\n",
              "      <td>High</td>\n",
              "      <td>Tier 3</td>\n",
              "      <td>Supermarket Type1</td>\n",
              "      <td>994.7052</td>\n",
              "    </tr>\n",
              "  </tbody>\n",
              "</table>\n",
              "</div>"
            ],
            "text/plain": [
              "  Item_Identifier  Item_Weight  ...        Outlet_Type  Item_Outlet_Sales\n",
              "0           FDA15         9.30  ...  Supermarket Type1          3735.1380\n",
              "1           DRC01         5.92  ...  Supermarket Type2           443.4228\n",
              "2           FDN15        17.50  ...  Supermarket Type1          2097.2700\n",
              "3           FDX07        19.20  ...      Grocery Store           732.3800\n",
              "4           NCD19         8.93  ...  Supermarket Type1           994.7052\n",
              "\n",
              "[5 rows x 12 columns]"
            ]
          },
          "metadata": {
            "tags": []
          },
          "execution_count": 68
        }
      ]
    },
    {
      "cell_type": "code",
      "metadata": {
        "id": "9VB6glAcTHGq",
        "colab": {
          "base_uri": "https://localhost:8080/",
          "height": 331
        },
        "outputId": "2fd30f7e-9e7c-4397-bc1c-f9e265264ce1"
      },
      "source": [
        "df2.info()"
      ],
      "execution_count": null,
      "outputs": [
        {
          "output_type": "stream",
          "text": [
            "<class 'pandas.core.frame.DataFrame'>\n",
            "RangeIndex: 8523 entries, 0 to 8522\n",
            "Data columns (total 12 columns):\n",
            " #   Column                     Non-Null Count  Dtype  \n",
            "---  ------                     --------------  -----  \n",
            " 0   Item_Identifier            8523 non-null   object \n",
            " 1   Item_Weight                7060 non-null   float64\n",
            " 2   Item_Fat_Content           8523 non-null   object \n",
            " 3   Item_Visibility            8523 non-null   float64\n",
            " 4   Item_Type                  8523 non-null   object \n",
            " 5   Item_MRP                   8523 non-null   float64\n",
            " 6   Outlet_Identifier          8523 non-null   object \n",
            " 7   Outlet_Establishment_Year  8523 non-null   int64  \n",
            " 8   Outlet_Size                6113 non-null   object \n",
            " 9   Outlet_Location_Type       8523 non-null   object \n",
            " 10  Outlet_Type                8523 non-null   object \n",
            " 11  Item_Outlet_Sales          8523 non-null   float64\n",
            "dtypes: float64(4), int64(1), object(7)\n",
            "memory usage: 799.2+ KB\n"
          ],
          "name": "stdout"
        }
      ]
    },
    {
      "cell_type": "code",
      "metadata": {
        "id": "XproMT-zTI0I",
        "colab": {
          "base_uri": "https://localhost:8080/",
          "height": 232
        },
        "outputId": "6da79fa6-f05a-444e-9b3b-e26cdb4ea76d"
      },
      "source": [
        "df2.apply(lambda x: x[0])"
      ],
      "execution_count": null,
      "outputs": [
        {
          "output_type": "execute_result",
          "data": {
            "text/plain": [
              "Item_Identifier                          FDA15\n",
              "Item_Weight                                9.3\n",
              "Item_Fat_Content                       Low Fat\n",
              "Item_Visibility                      0.0160473\n",
              "Item_Type                                Dairy\n",
              "Item_MRP                               249.809\n",
              "Outlet_Identifier                       OUT049\n",
              "Outlet_Establishment_Year                 1999\n",
              "Outlet_Size                             Medium\n",
              "Outlet_Location_Type                    Tier 1\n",
              "Outlet_Type                  Supermarket Type1\n",
              "Item_Outlet_Sales                      3735.14\n",
              "dtype: object"
            ]
          },
          "metadata": {
            "tags": []
          },
          "execution_count": 71
        }
      ]
    },
    {
      "cell_type": "code",
      "metadata": {
        "id": "ZW1apmwHT5ZA",
        "colab": {
          "base_uri": "https://localhost:8080/",
          "height": 216
        },
        "outputId": "7704511a-9f47-427e-881f-3dbc6d507631"
      },
      "source": [
        "df2.apply(lambda x: x[0],axis=1)"
      ],
      "execution_count": null,
      "outputs": [
        {
          "output_type": "execute_result",
          "data": {
            "text/plain": [
              "0       FDA15\n",
              "1       DRC01\n",
              "2       FDN15\n",
              "3       FDX07\n",
              "4       NCD19\n",
              "        ...  \n",
              "8518    FDF22\n",
              "8519    FDS36\n",
              "8520    NCJ29\n",
              "8521    FDN46\n",
              "8522    DRG01\n",
              "Length: 8523, dtype: object"
            ]
          },
          "metadata": {
            "tags": []
          },
          "execution_count": 72
        }
      ]
    },
    {
      "cell_type": "code",
      "metadata": {
        "id": "LPkQSVThT-cG"
      },
      "source": [
        "def clip_price(price):\n",
        "  if price>200:\n",
        "    price=200\n",
        "  return price"
      ],
      "execution_count": null,
      "outputs": []
    },
    {
      "cell_type": "code",
      "metadata": {
        "id": "DSYoFHdjURui",
        "colab": {
          "base_uri": "https://localhost:8080/",
          "height": 116
        },
        "outputId": "a73e559e-3f81-4650-b395-fccb5036b4f4"
      },
      "source": [
        "df2['Item_MRP'][:5]"
      ],
      "execution_count": null,
      "outputs": [
        {
          "output_type": "execute_result",
          "data": {
            "text/plain": [
              "0    249.8092\n",
              "1     48.2692\n",
              "2    141.6180\n",
              "3    182.0950\n",
              "4     53.8614\n",
              "Name: Item_MRP, dtype: float64"
            ]
          },
          "metadata": {
            "tags": []
          },
          "execution_count": 74
        }
      ]
    },
    {
      "cell_type": "code",
      "metadata": {
        "id": "3lOmUHgOUVvL"
      },
      "source": [
        "df2['Item_MRP']=df2['Item_MRP'].apply(lambda x: clip_price(x))[:5]"
      ],
      "execution_count": null,
      "outputs": []
    },
    {
      "cell_type": "code",
      "metadata": {
        "id": "bR-oV9xXUlRK"
      },
      "source": [
        "df2['Item_MRP']=df2['Item_MRP'].apply(clip_price)"
      ],
      "execution_count": null,
      "outputs": []
    },
    {
      "cell_type": "code",
      "metadata": {
        "id": "8Q6bF6PvUmAA",
        "colab": {
          "base_uri": "https://localhost:8080/",
          "height": 596
        },
        "outputId": "a995b6ff-e524-42cd-aee4-4b0e201becf4"
      },
      "source": [
        "df2"
      ],
      "execution_count": null,
      "outputs": [
        {
          "output_type": "execute_result",
          "data": {
            "text/html": [
              "<div>\n",
              "<style scoped>\n",
              "    .dataframe tbody tr th:only-of-type {\n",
              "        vertical-align: middle;\n",
              "    }\n",
              "\n",
              "    .dataframe tbody tr th {\n",
              "        vertical-align: top;\n",
              "    }\n",
              "\n",
              "    .dataframe thead th {\n",
              "        text-align: right;\n",
              "    }\n",
              "</style>\n",
              "<table border=\"1\" class=\"dataframe\">\n",
              "  <thead>\n",
              "    <tr style=\"text-align: right;\">\n",
              "      <th></th>\n",
              "      <th>Item_Identifier</th>\n",
              "      <th>Item_Weight</th>\n",
              "      <th>Item_Fat_Content</th>\n",
              "      <th>Item_Visibility</th>\n",
              "      <th>Item_Type</th>\n",
              "      <th>Item_MRP</th>\n",
              "      <th>Outlet_Identifier</th>\n",
              "      <th>Outlet_Establishment_Year</th>\n",
              "      <th>Outlet_Size</th>\n",
              "      <th>Outlet_Location_Type</th>\n",
              "      <th>Outlet_Type</th>\n",
              "      <th>Item_Outlet_Sales</th>\n",
              "    </tr>\n",
              "  </thead>\n",
              "  <tbody>\n",
              "    <tr>\n",
              "      <th>0</th>\n",
              "      <td>FDA15</td>\n",
              "      <td>9.300</td>\n",
              "      <td>Low Fat</td>\n",
              "      <td>0.016047</td>\n",
              "      <td>Dairy</td>\n",
              "      <td>200.0000</td>\n",
              "      <td>OUT049</td>\n",
              "      <td>1999</td>\n",
              "      <td>Medium</td>\n",
              "      <td>Tier 1</td>\n",
              "      <td>Supermarket Type1</td>\n",
              "      <td>3735.1380</td>\n",
              "    </tr>\n",
              "    <tr>\n",
              "      <th>1</th>\n",
              "      <td>DRC01</td>\n",
              "      <td>5.920</td>\n",
              "      <td>Regular</td>\n",
              "      <td>0.019278</td>\n",
              "      <td>Soft Drinks</td>\n",
              "      <td>48.2692</td>\n",
              "      <td>OUT018</td>\n",
              "      <td>2009</td>\n",
              "      <td>Medium</td>\n",
              "      <td>Tier 3</td>\n",
              "      <td>Supermarket Type2</td>\n",
              "      <td>443.4228</td>\n",
              "    </tr>\n",
              "    <tr>\n",
              "      <th>2</th>\n",
              "      <td>FDN15</td>\n",
              "      <td>17.500</td>\n",
              "      <td>Low Fat</td>\n",
              "      <td>0.016760</td>\n",
              "      <td>Meat</td>\n",
              "      <td>141.6180</td>\n",
              "      <td>OUT049</td>\n",
              "      <td>1999</td>\n",
              "      <td>Medium</td>\n",
              "      <td>Tier 1</td>\n",
              "      <td>Supermarket Type1</td>\n",
              "      <td>2097.2700</td>\n",
              "    </tr>\n",
              "    <tr>\n",
              "      <th>3</th>\n",
              "      <td>FDX07</td>\n",
              "      <td>19.200</td>\n",
              "      <td>Regular</td>\n",
              "      <td>0.000000</td>\n",
              "      <td>Fruits and Vegetables</td>\n",
              "      <td>182.0950</td>\n",
              "      <td>OUT010</td>\n",
              "      <td>1998</td>\n",
              "      <td>NaN</td>\n",
              "      <td>Tier 3</td>\n",
              "      <td>Grocery Store</td>\n",
              "      <td>732.3800</td>\n",
              "    </tr>\n",
              "    <tr>\n",
              "      <th>4</th>\n",
              "      <td>NCD19</td>\n",
              "      <td>8.930</td>\n",
              "      <td>Low Fat</td>\n",
              "      <td>0.000000</td>\n",
              "      <td>Household</td>\n",
              "      <td>53.8614</td>\n",
              "      <td>OUT013</td>\n",
              "      <td>1987</td>\n",
              "      <td>High</td>\n",
              "      <td>Tier 3</td>\n",
              "      <td>Supermarket Type1</td>\n",
              "      <td>994.7052</td>\n",
              "    </tr>\n",
              "    <tr>\n",
              "      <th>...</th>\n",
              "      <td>...</td>\n",
              "      <td>...</td>\n",
              "      <td>...</td>\n",
              "      <td>...</td>\n",
              "      <td>...</td>\n",
              "      <td>...</td>\n",
              "      <td>...</td>\n",
              "      <td>...</td>\n",
              "      <td>...</td>\n",
              "      <td>...</td>\n",
              "      <td>...</td>\n",
              "      <td>...</td>\n",
              "    </tr>\n",
              "    <tr>\n",
              "      <th>8518</th>\n",
              "      <td>FDF22</td>\n",
              "      <td>6.865</td>\n",
              "      <td>Low Fat</td>\n",
              "      <td>0.056783</td>\n",
              "      <td>Snack Foods</td>\n",
              "      <td>200.0000</td>\n",
              "      <td>OUT013</td>\n",
              "      <td>1987</td>\n",
              "      <td>High</td>\n",
              "      <td>Tier 3</td>\n",
              "      <td>Supermarket Type1</td>\n",
              "      <td>2778.3834</td>\n",
              "    </tr>\n",
              "    <tr>\n",
              "      <th>8519</th>\n",
              "      <td>FDS36</td>\n",
              "      <td>8.380</td>\n",
              "      <td>Regular</td>\n",
              "      <td>0.046982</td>\n",
              "      <td>Baking Goods</td>\n",
              "      <td>108.1570</td>\n",
              "      <td>OUT045</td>\n",
              "      <td>2002</td>\n",
              "      <td>NaN</td>\n",
              "      <td>Tier 2</td>\n",
              "      <td>Supermarket Type1</td>\n",
              "      <td>549.2850</td>\n",
              "    </tr>\n",
              "    <tr>\n",
              "      <th>8520</th>\n",
              "      <td>NCJ29</td>\n",
              "      <td>10.600</td>\n",
              "      <td>Low Fat</td>\n",
              "      <td>0.035186</td>\n",
              "      <td>Health and Hygiene</td>\n",
              "      <td>85.1224</td>\n",
              "      <td>OUT035</td>\n",
              "      <td>2004</td>\n",
              "      <td>Small</td>\n",
              "      <td>Tier 2</td>\n",
              "      <td>Supermarket Type1</td>\n",
              "      <td>1193.1136</td>\n",
              "    </tr>\n",
              "    <tr>\n",
              "      <th>8521</th>\n",
              "      <td>FDN46</td>\n",
              "      <td>7.210</td>\n",
              "      <td>Regular</td>\n",
              "      <td>0.145221</td>\n",
              "      <td>Snack Foods</td>\n",
              "      <td>103.1332</td>\n",
              "      <td>OUT018</td>\n",
              "      <td>2009</td>\n",
              "      <td>Medium</td>\n",
              "      <td>Tier 3</td>\n",
              "      <td>Supermarket Type2</td>\n",
              "      <td>1845.5976</td>\n",
              "    </tr>\n",
              "    <tr>\n",
              "      <th>8522</th>\n",
              "      <td>DRG01</td>\n",
              "      <td>14.800</td>\n",
              "      <td>Low Fat</td>\n",
              "      <td>0.044878</td>\n",
              "      <td>Soft Drinks</td>\n",
              "      <td>75.4670</td>\n",
              "      <td>OUT046</td>\n",
              "      <td>1997</td>\n",
              "      <td>Small</td>\n",
              "      <td>Tier 1</td>\n",
              "      <td>Supermarket Type1</td>\n",
              "      <td>765.6700</td>\n",
              "    </tr>\n",
              "  </tbody>\n",
              "</table>\n",
              "<p>8523 rows × 12 columns</p>\n",
              "</div>"
            ],
            "text/plain": [
              "     Item_Identifier  Item_Weight  ...        Outlet_Type  Item_Outlet_Sales\n",
              "0              FDA15        9.300  ...  Supermarket Type1          3735.1380\n",
              "1              DRC01        5.920  ...  Supermarket Type2           443.4228\n",
              "2              FDN15       17.500  ...  Supermarket Type1          2097.2700\n",
              "3              FDX07       19.200  ...      Grocery Store           732.3800\n",
              "4              NCD19        8.930  ...  Supermarket Type1           994.7052\n",
              "...              ...          ...  ...                ...                ...\n",
              "8518           FDF22        6.865  ...  Supermarket Type1          2778.3834\n",
              "8519           FDS36        8.380  ...  Supermarket Type1           549.2850\n",
              "8520           NCJ29       10.600  ...  Supermarket Type1          1193.1136\n",
              "8521           FDN46        7.210  ...  Supermarket Type2          1845.5976\n",
              "8522           DRG01       14.800  ...  Supermarket Type1           765.6700\n",
              "\n",
              "[8523 rows x 12 columns]"
            ]
          },
          "metadata": {
            "tags": []
          },
          "execution_count": 81
        }
      ]
    },
    {
      "cell_type": "code",
      "metadata": {
        "id": "T15RFJWJVTlV"
      },
      "source": [
        "def label_encode(city):\n",
        "  if city=='Tier 1':\n",
        "    label = 0\n",
        "  elif city=='Tier 2':\n",
        "    label = 1\n",
        "  else:\n",
        "    label = 2\n",
        "  return label"
      ],
      "execution_count": null,
      "outputs": []
    },
    {
      "cell_type": "code",
      "metadata": {
        "id": "U-INT8jBWR3b",
        "colab": {
          "base_uri": "https://localhost:8080/",
          "height": 116
        },
        "outputId": "ff83fe9c-00d8-456c-e3cd-428adb389fe7"
      },
      "source": [
        "df2['Outlet_Location_Type'][:5]"
      ],
      "execution_count": null,
      "outputs": [
        {
          "output_type": "execute_result",
          "data": {
            "text/plain": [
              "0    Tier 1\n",
              "1    Tier 3\n",
              "2    Tier 1\n",
              "3    Tier 3\n",
              "4    Tier 3\n",
              "Name: Outlet_Location_Type, dtype: object"
            ]
          },
          "metadata": {
            "tags": []
          },
          "execution_count": 84
        }
      ]
    },
    {
      "cell_type": "code",
      "metadata": {
        "id": "MEekoyn1WYgR"
      },
      "source": [
        "df2['Outlet_Location_Type']=df2['Outlet_Location_Type'].apply(label_encode)"
      ],
      "execution_count": null,
      "outputs": []
    },
    {
      "cell_type": "code",
      "metadata": {
        "id": "Ni0BL_aNWjcu",
        "colab": {
          "base_uri": "https://localhost:8080/",
          "height": 116
        },
        "outputId": "2ee98088-d57d-4c97-c895-b85d52296489"
      },
      "source": [
        "df2['Outlet_Location_Type'][:5]"
      ],
      "execution_count": null,
      "outputs": [
        {
          "output_type": "execute_result",
          "data": {
            "text/plain": [
              "0    0\n",
              "1    2\n",
              "2    0\n",
              "3    2\n",
              "4    2\n",
              "Name: Outlet_Location_Type, dtype: int64"
            ]
          },
          "metadata": {
            "tags": []
          },
          "execution_count": 86
        }
      ]
    },
    {
      "cell_type": "code",
      "metadata": {
        "id": "_3iaqGVSWkYZ"
      },
      "source": [
        "df3 = pd.read_html('https://www.contextures.com/xlSampleData01.html', header = 0)"
      ],
      "execution_count": null,
      "outputs": []
    },
    {
      "cell_type": "code",
      "metadata": {
        "id": "kthWtG23XQWw",
        "colab": {
          "base_uri": "https://localhost:8080/",
          "height": 34
        },
        "outputId": "f45ce83e-7b32-4168-978a-b1d43348559b"
      },
      "source": [
        "len(df3)"
      ],
      "execution_count": null,
      "outputs": [
        {
          "output_type": "execute_result",
          "data": {
            "text/plain": [
              "1"
            ]
          },
          "metadata": {
            "tags": []
          },
          "execution_count": 96
        }
      ]
    },
    {
      "cell_type": "code",
      "metadata": {
        "id": "YnWzHLVkX4dk"
      },
      "source": [
        "df4 = df3[0]"
      ],
      "execution_count": null,
      "outputs": []
    },
    {
      "cell_type": "code",
      "metadata": {
        "id": "JFp8kEs7X9Uu",
        "colab": {
          "base_uri": "https://localhost:8080/",
          "height": 249
        },
        "outputId": "a9eeef10-3727-4763-f2bb-2d49da379119"
      },
      "source": [
        "df4.info()"
      ],
      "execution_count": null,
      "outputs": [
        {
          "output_type": "stream",
          "text": [
            "<class 'pandas.core.frame.DataFrame'>\n",
            "RangeIndex: 44 entries, 0 to 43\n",
            "Data columns (total 7 columns):\n",
            " #   Column  Non-Null Count  Dtype \n",
            "---  ------  --------------  ----- \n",
            " 0   0       44 non-null     object\n",
            " 1   1       44 non-null     object\n",
            " 2   2       44 non-null     object\n",
            " 3   3       44 non-null     object\n",
            " 4   4       44 non-null     object\n",
            " 5   5       44 non-null     object\n",
            " 6   6       44 non-null     object\n",
            "dtypes: object(7)\n",
            "memory usage: 2.5+ KB\n"
          ],
          "name": "stdout"
        }
      ]
    },
    {
      "cell_type": "code",
      "metadata": {
        "id": "wZazTkC6X-p7",
        "colab": {
          "base_uri": "https://localhost:8080/",
          "height": 201
        },
        "outputId": "7a85e272-d8e0-42b7-c6c5-640443d66732"
      },
      "source": [
        "df4.head()"
      ],
      "execution_count": null,
      "outputs": [
        {
          "output_type": "execute_result",
          "data": {
            "text/html": [
              "<div>\n",
              "<style scoped>\n",
              "    .dataframe tbody tr th:only-of-type {\n",
              "        vertical-align: middle;\n",
              "    }\n",
              "\n",
              "    .dataframe tbody tr th {\n",
              "        vertical-align: top;\n",
              "    }\n",
              "\n",
              "    .dataframe thead th {\n",
              "        text-align: right;\n",
              "    }\n",
              "</style>\n",
              "<table border=\"1\" class=\"dataframe\">\n",
              "  <thead>\n",
              "    <tr style=\"text-align: right;\">\n",
              "      <th></th>\n",
              "      <th>OrderDate</th>\n",
              "      <th>Region</th>\n",
              "      <th>Rep</th>\n",
              "      <th>Item</th>\n",
              "      <th>Units</th>\n",
              "      <th>UnitCost</th>\n",
              "      <th>Total</th>\n",
              "    </tr>\n",
              "  </thead>\n",
              "  <tbody>\n",
              "    <tr>\n",
              "      <th>0</th>\n",
              "      <td>1/6/2019</td>\n",
              "      <td>East</td>\n",
              "      <td>Jones</td>\n",
              "      <td>Pencil</td>\n",
              "      <td>95</td>\n",
              "      <td>1.99</td>\n",
              "      <td>189.05</td>\n",
              "    </tr>\n",
              "    <tr>\n",
              "      <th>1</th>\n",
              "      <td>1/23/2019</td>\n",
              "      <td>Central</td>\n",
              "      <td>Kivell</td>\n",
              "      <td>Binder</td>\n",
              "      <td>50</td>\n",
              "      <td>19.99</td>\n",
              "      <td>999.50</td>\n",
              "    </tr>\n",
              "    <tr>\n",
              "      <th>2</th>\n",
              "      <td>2/9/2019</td>\n",
              "      <td>Central</td>\n",
              "      <td>Jardine</td>\n",
              "      <td>Pencil</td>\n",
              "      <td>36</td>\n",
              "      <td>4.99</td>\n",
              "      <td>179.64</td>\n",
              "    </tr>\n",
              "    <tr>\n",
              "      <th>3</th>\n",
              "      <td>2/26/2019</td>\n",
              "      <td>Central</td>\n",
              "      <td>Gill</td>\n",
              "      <td>Pen</td>\n",
              "      <td>27</td>\n",
              "      <td>19.99</td>\n",
              "      <td>539.73</td>\n",
              "    </tr>\n",
              "    <tr>\n",
              "      <th>4</th>\n",
              "      <td>3/15/2019</td>\n",
              "      <td>West</td>\n",
              "      <td>Sorvino</td>\n",
              "      <td>Pencil</td>\n",
              "      <td>56</td>\n",
              "      <td>2.99</td>\n",
              "      <td>167.44</td>\n",
              "    </tr>\n",
              "  </tbody>\n",
              "</table>\n",
              "</div>"
            ],
            "text/plain": [
              "   OrderDate   Region      Rep    Item  Units  UnitCost   Total\n",
              "0   1/6/2019     East    Jones  Pencil     95      1.99  189.05\n",
              "1  1/23/2019  Central   Kivell  Binder     50     19.99  999.50\n",
              "2   2/9/2019  Central  Jardine  Pencil     36      4.99  179.64\n",
              "3  2/26/2019  Central     Gill     Pen     27     19.99  539.73\n",
              "4  3/15/2019     West  Sorvino  Pencil     56      2.99  167.44"
            ]
          },
          "metadata": {
            "tags": []
          },
          "execution_count": 98
        }
      ]
    },
    {
      "cell_type": "code",
      "metadata": {
        "id": "LGiuaVEoYAIr",
        "colab": {
          "base_uri": "https://localhost:8080/",
          "height": 34
        },
        "outputId": "5b098115-bb95-4ab7-d413-69b75d081923"
      },
      "source": [
        "len(df4[df4['Item'] == 'Pencil'])"
      ],
      "execution_count": null,
      "outputs": [
        {
          "output_type": "execute_result",
          "data": {
            "text/plain": [
              "13"
            ]
          },
          "metadata": {
            "tags": []
          },
          "execution_count": 103
        }
      ]
    },
    {
      "cell_type": "code",
      "metadata": {
        "id": "VpstVZ5XYRvv",
        "colab": {
          "base_uri": "https://localhost:8080/",
          "height": 292
        },
        "outputId": "425185f6-5574-40b4-f3df-4b9bb60919a2"
      },
      "source": [
        "df4.describe()"
      ],
      "execution_count": null,
      "outputs": [
        {
          "output_type": "execute_result",
          "data": {
            "text/html": [
              "<div>\n",
              "<style scoped>\n",
              "    .dataframe tbody tr th:only-of-type {\n",
              "        vertical-align: middle;\n",
              "    }\n",
              "\n",
              "    .dataframe tbody tr th {\n",
              "        vertical-align: top;\n",
              "    }\n",
              "\n",
              "    .dataframe thead th {\n",
              "        text-align: right;\n",
              "    }\n",
              "</style>\n",
              "<table border=\"1\" class=\"dataframe\">\n",
              "  <thead>\n",
              "    <tr style=\"text-align: right;\">\n",
              "      <th></th>\n",
              "      <th>Units</th>\n",
              "      <th>UnitCost</th>\n",
              "      <th>Total</th>\n",
              "    </tr>\n",
              "  </thead>\n",
              "  <tbody>\n",
              "    <tr>\n",
              "      <th>count</th>\n",
              "      <td>43.000000</td>\n",
              "      <td>43.000000</td>\n",
              "      <td>43.000000</td>\n",
              "    </tr>\n",
              "    <tr>\n",
              "      <th>mean</th>\n",
              "      <td>49.325581</td>\n",
              "      <td>20.308605</td>\n",
              "      <td>456.462326</td>\n",
              "    </tr>\n",
              "    <tr>\n",
              "      <th>std</th>\n",
              "      <td>30.078248</td>\n",
              "      <td>47.345118</td>\n",
              "      <td>447.022104</td>\n",
              "    </tr>\n",
              "    <tr>\n",
              "      <th>min</th>\n",
              "      <td>2.000000</td>\n",
              "      <td>1.290000</td>\n",
              "      <td>9.030000</td>\n",
              "    </tr>\n",
              "    <tr>\n",
              "      <th>25%</th>\n",
              "      <td>27.500000</td>\n",
              "      <td>3.990000</td>\n",
              "      <td>144.590000</td>\n",
              "    </tr>\n",
              "    <tr>\n",
              "      <th>50%</th>\n",
              "      <td>53.000000</td>\n",
              "      <td>4.990000</td>\n",
              "      <td>299.400000</td>\n",
              "    </tr>\n",
              "    <tr>\n",
              "      <th>75%</th>\n",
              "      <td>74.500000</td>\n",
              "      <td>17.990000</td>\n",
              "      <td>600.180000</td>\n",
              "    </tr>\n",
              "    <tr>\n",
              "      <th>max</th>\n",
              "      <td>96.000000</td>\n",
              "      <td>275.000000</td>\n",
              "      <td>1879.060000</td>\n",
              "    </tr>\n",
              "  </tbody>\n",
              "</table>\n",
              "</div>"
            ],
            "text/plain": [
              "           Units    UnitCost        Total\n",
              "count  43.000000   43.000000    43.000000\n",
              "mean   49.325581   20.308605   456.462326\n",
              "std    30.078248   47.345118   447.022104\n",
              "min     2.000000    1.290000     9.030000\n",
              "25%    27.500000    3.990000   144.590000\n",
              "50%    53.000000    4.990000   299.400000\n",
              "75%    74.500000   17.990000   600.180000\n",
              "max    96.000000  275.000000  1879.060000"
            ]
          },
          "metadata": {
            "tags": []
          },
          "execution_count": 104
        }
      ]
    },
    {
      "cell_type": "code",
      "metadata": {
        "id": "jZ6GlMLVYpjH"
      },
      "source": [
        "df3 = pd.read_html('https://www.espncricinfo.com/india/content/player/253802.html', header = 0, index_col=0)"
      ],
      "execution_count": null,
      "outputs": []
    },
    {
      "cell_type": "code",
      "metadata": {
        "id": "iGo7rsc_Y0O7",
        "colab": {
          "base_uri": "https://localhost:8080/",
          "height": 201
        },
        "outputId": "99ea2555-585e-4d8a-b900-33fbf828557c"
      },
      "source": [
        "df3[0].head()"
      ],
      "execution_count": null,
      "outputs": [
        {
          "output_type": "execute_result",
          "data": {
            "text/html": [
              "<div>\n",
              "<style scoped>\n",
              "    .dataframe tbody tr th:only-of-type {\n",
              "        vertical-align: middle;\n",
              "    }\n",
              "\n",
              "    .dataframe tbody tr th {\n",
              "        vertical-align: top;\n",
              "    }\n",
              "\n",
              "    .dataframe thead th {\n",
              "        text-align: right;\n",
              "    }\n",
              "</style>\n",
              "<table border=\"1\" class=\"dataframe\">\n",
              "  <thead>\n",
              "    <tr style=\"text-align: right;\">\n",
              "      <th></th>\n",
              "      <th>Mat</th>\n",
              "      <th>Inns</th>\n",
              "      <th>NO</th>\n",
              "      <th>Runs</th>\n",
              "      <th>HS</th>\n",
              "      <th>Ave</th>\n",
              "      <th>BF</th>\n",
              "      <th>SR</th>\n",
              "      <th>100</th>\n",
              "      <th>50</th>\n",
              "      <th>4s</th>\n",
              "      <th>6s</th>\n",
              "      <th>Ct</th>\n",
              "      <th>St</th>\n",
              "    </tr>\n",
              "  </thead>\n",
              "  <tbody>\n",
              "    <tr>\n",
              "      <th>Tests</th>\n",
              "      <td>86</td>\n",
              "      <td>145</td>\n",
              "      <td>10</td>\n",
              "      <td>7240</td>\n",
              "      <td>254*</td>\n",
              "      <td>53.62</td>\n",
              "      <td>12552</td>\n",
              "      <td>57.68</td>\n",
              "      <td>27</td>\n",
              "      <td>22</td>\n",
              "      <td>811</td>\n",
              "      <td>22</td>\n",
              "      <td>82</td>\n",
              "      <td>0</td>\n",
              "    </tr>\n",
              "    <tr>\n",
              "      <th>ODIs</th>\n",
              "      <td>248</td>\n",
              "      <td>239</td>\n",
              "      <td>39</td>\n",
              "      <td>11867</td>\n",
              "      <td>183</td>\n",
              "      <td>59.33</td>\n",
              "      <td>12726</td>\n",
              "      <td>93.25</td>\n",
              "      <td>43</td>\n",
              "      <td>58</td>\n",
              "      <td>1116</td>\n",
              "      <td>121</td>\n",
              "      <td>128</td>\n",
              "      <td>0</td>\n",
              "    </tr>\n",
              "    <tr>\n",
              "      <th>T20Is</th>\n",
              "      <td>82</td>\n",
              "      <td>76</td>\n",
              "      <td>21</td>\n",
              "      <td>2794</td>\n",
              "      <td>94*</td>\n",
              "      <td>50.80</td>\n",
              "      <td>2021</td>\n",
              "      <td>138.24</td>\n",
              "      <td>0</td>\n",
              "      <td>24</td>\n",
              "      <td>258</td>\n",
              "      <td>76</td>\n",
              "      <td>41</td>\n",
              "      <td>0</td>\n",
              "    </tr>\n",
              "    <tr>\n",
              "      <th>First-class</th>\n",
              "      <td>118</td>\n",
              "      <td>193</td>\n",
              "      <td>17</td>\n",
              "      <td>9489</td>\n",
              "      <td>254*</td>\n",
              "      <td>53.91</td>\n",
              "      <td>16455</td>\n",
              "      <td>57.66</td>\n",
              "      <td>34</td>\n",
              "      <td>30</td>\n",
              "      <td>1124</td>\n",
              "      <td>37</td>\n",
              "      <td>113</td>\n",
              "      <td>0</td>\n",
              "    </tr>\n",
              "    <tr>\n",
              "      <th>List A</th>\n",
              "      <td>282</td>\n",
              "      <td>272</td>\n",
              "      <td>42</td>\n",
              "      <td>13309</td>\n",
              "      <td>183</td>\n",
              "      <td>57.86</td>\n",
              "      <td>14262</td>\n",
              "      <td>93.31</td>\n",
              "      <td>47</td>\n",
              "      <td>66</td>\n",
              "      <td>1280</td>\n",
              "      <td>145</td>\n",
              "      <td>146</td>\n",
              "      <td>0</td>\n",
              "    </tr>\n",
              "  </tbody>\n",
              "</table>\n",
              "</div>"
            ],
            "text/plain": [
              "             Mat  Inns  NO   Runs    HS    Ave  ...  100  50    4s   6s   Ct  St\n",
              "Tests         86   145  10   7240  254*  53.62  ...   27  22   811   22   82   0\n",
              "ODIs         248   239  39  11867   183  59.33  ...   43  58  1116  121  128   0\n",
              "T20Is         82    76  21   2794   94*  50.80  ...    0  24   258   76   41   0\n",
              "First-class  118   193  17   9489  254*  53.91  ...   34  30  1124   37  113   0\n",
              "List A       282   272  42  13309   183  57.86  ...   47  66  1280  145  146   0\n",
              "\n",
              "[5 rows x 14 columns]"
            ]
          },
          "metadata": {
            "tags": []
          },
          "execution_count": 128
        }
      ]
    },
    {
      "cell_type": "code",
      "metadata": {
        "id": "x6Hf6g_cY1kI"
      },
      "source": [
        "df4 = df3[0]"
      ],
      "execution_count": null,
      "outputs": []
    },
    {
      "cell_type": "code",
      "metadata": {
        "id": "UyvFmNtCY_LA",
        "colab": {
          "base_uri": "https://localhost:8080/",
          "height": 34
        },
        "outputId": "b98ea54f-f2d8-4d3b-d23e-d8f78fa7c793"
      },
      "source": [
        "df4['4s'].sum()"
      ],
      "execution_count": null,
      "outputs": [
        {
          "output_type": "execute_result",
          "data": {
            "text/plain": [
              "5397"
            ]
          },
          "metadata": {
            "tags": []
          },
          "execution_count": 130
        }
      ]
    },
    {
      "cell_type": "markdown",
      "metadata": {
        "id": "j4WbZNFYk7gq"
      },
      "source": [
        "##Missing values"
      ]
    },
    {
      "cell_type": "code",
      "metadata": {
        "id": "xx9QVGwMZCUI"
      },
      "source": [
        "df5 = pd.read_csv('https://raw.githubusercontent.com/dataoptimal/posts/master/data%20cleaning%20with%20python%20and%20pandas/property%20data.csv')"
      ],
      "execution_count": null,
      "outputs": []
    },
    {
      "cell_type": "code",
      "metadata": {
        "id": "jAPlMoQkbnYP",
        "colab": {
          "base_uri": "https://localhost:8080/",
          "height": 323
        },
        "outputId": "cca9b633-7f91-4a47-9ad7-1c99b27531dc"
      },
      "source": [
        "df5"
      ],
      "execution_count": null,
      "outputs": [
        {
          "output_type": "execute_result",
          "data": {
            "text/html": [
              "<div>\n",
              "<style scoped>\n",
              "    .dataframe tbody tr th:only-of-type {\n",
              "        vertical-align: middle;\n",
              "    }\n",
              "\n",
              "    .dataframe tbody tr th {\n",
              "        vertical-align: top;\n",
              "    }\n",
              "\n",
              "    .dataframe thead th {\n",
              "        text-align: right;\n",
              "    }\n",
              "</style>\n",
              "<table border=\"1\" class=\"dataframe\">\n",
              "  <thead>\n",
              "    <tr style=\"text-align: right;\">\n",
              "      <th></th>\n",
              "      <th>PID</th>\n",
              "      <th>ST_NUM</th>\n",
              "      <th>ST_NAME</th>\n",
              "      <th>OWN_OCCUPIED</th>\n",
              "      <th>NUM_BEDROOMS</th>\n",
              "      <th>NUM_BATH</th>\n",
              "      <th>SQ_FT</th>\n",
              "    </tr>\n",
              "  </thead>\n",
              "  <tbody>\n",
              "    <tr>\n",
              "      <th>0</th>\n",
              "      <td>100001000.0</td>\n",
              "      <td>104.0</td>\n",
              "      <td>PUTNAM</td>\n",
              "      <td>Y</td>\n",
              "      <td>3</td>\n",
              "      <td>1</td>\n",
              "      <td>1000</td>\n",
              "    </tr>\n",
              "    <tr>\n",
              "      <th>1</th>\n",
              "      <td>100002000.0</td>\n",
              "      <td>197.0</td>\n",
              "      <td>LEXINGTON</td>\n",
              "      <td>N</td>\n",
              "      <td>3</td>\n",
              "      <td>1.5</td>\n",
              "      <td>--</td>\n",
              "    </tr>\n",
              "    <tr>\n",
              "      <th>2</th>\n",
              "      <td>100003000.0</td>\n",
              "      <td>NaN</td>\n",
              "      <td>LEXINGTON</td>\n",
              "      <td>N</td>\n",
              "      <td>NaN</td>\n",
              "      <td>1</td>\n",
              "      <td>850</td>\n",
              "    </tr>\n",
              "    <tr>\n",
              "      <th>3</th>\n",
              "      <td>100004000.0</td>\n",
              "      <td>201.0</td>\n",
              "      <td>BERKELEY</td>\n",
              "      <td>12</td>\n",
              "      <td>1</td>\n",
              "      <td>NaN</td>\n",
              "      <td>700</td>\n",
              "    </tr>\n",
              "    <tr>\n",
              "      <th>4</th>\n",
              "      <td>NaN</td>\n",
              "      <td>203.0</td>\n",
              "      <td>BERKELEY</td>\n",
              "      <td>Y</td>\n",
              "      <td>3</td>\n",
              "      <td>2</td>\n",
              "      <td>1600</td>\n",
              "    </tr>\n",
              "    <tr>\n",
              "      <th>5</th>\n",
              "      <td>100006000.0</td>\n",
              "      <td>207.0</td>\n",
              "      <td>BERKELEY</td>\n",
              "      <td>Y</td>\n",
              "      <td>NaN</td>\n",
              "      <td>1</td>\n",
              "      <td>800</td>\n",
              "    </tr>\n",
              "    <tr>\n",
              "      <th>6</th>\n",
              "      <td>100007000.0</td>\n",
              "      <td>NaN</td>\n",
              "      <td>WASHINGTON</td>\n",
              "      <td>NaN</td>\n",
              "      <td>2</td>\n",
              "      <td>HURLEY</td>\n",
              "      <td>950</td>\n",
              "    </tr>\n",
              "    <tr>\n",
              "      <th>7</th>\n",
              "      <td>100008000.0</td>\n",
              "      <td>213.0</td>\n",
              "      <td>TREMONT</td>\n",
              "      <td>Y</td>\n",
              "      <td>1</td>\n",
              "      <td>1</td>\n",
              "      <td>NaN</td>\n",
              "    </tr>\n",
              "    <tr>\n",
              "      <th>8</th>\n",
              "      <td>100009000.0</td>\n",
              "      <td>215.0</td>\n",
              "      <td>TREMONT</td>\n",
              "      <td>Y</td>\n",
              "      <td>na</td>\n",
              "      <td>2</td>\n",
              "      <td>1800</td>\n",
              "    </tr>\n",
              "  </tbody>\n",
              "</table>\n",
              "</div>"
            ],
            "text/plain": [
              "           PID  ST_NUM     ST_NAME OWN_OCCUPIED NUM_BEDROOMS NUM_BATH SQ_FT\n",
              "0  100001000.0   104.0      PUTNAM            Y            3        1  1000\n",
              "1  100002000.0   197.0   LEXINGTON            N            3      1.5    --\n",
              "2  100003000.0     NaN   LEXINGTON            N          NaN        1   850\n",
              "3  100004000.0   201.0    BERKELEY           12            1      NaN   700\n",
              "4          NaN   203.0    BERKELEY            Y            3        2  1600\n",
              "5  100006000.0   207.0    BERKELEY            Y          NaN        1   800\n",
              "6  100007000.0     NaN  WASHINGTON          NaN            2   HURLEY   950\n",
              "7  100008000.0   213.0     TREMONT            Y            1        1   NaN\n",
              "8  100009000.0   215.0     TREMONT            Y           na        2  1800"
            ]
          },
          "metadata": {
            "tags": []
          },
          "execution_count": 116
        }
      ]
    },
    {
      "cell_type": "code",
      "metadata": {
        "id": "R2LKMQ_6bonX",
        "colab": {
          "base_uri": "https://localhost:8080/",
          "height": 150
        },
        "outputId": "48dd212d-41dd-43c1-b385-9507ea1adf4a"
      },
      "source": [
        "df5.dtypes"
      ],
      "execution_count": null,
      "outputs": [
        {
          "output_type": "execute_result",
          "data": {
            "text/plain": [
              "PID             float64\n",
              "ST_NUM          float64\n",
              "ST_NAME          object\n",
              "OWN_OCCUPIED     object\n",
              "NUM_BEDROOMS     object\n",
              "NUM_BATH         object\n",
              "SQ_FT            object\n",
              "dtype: object"
            ]
          },
          "metadata": {
            "tags": []
          },
          "execution_count": 112
        }
      ]
    },
    {
      "cell_type": "code",
      "metadata": {
        "id": "Dhde4fSSbqlp",
        "colab": {
          "base_uri": "https://localhost:8080/",
          "height": 183
        },
        "outputId": "6da92231-bfb4-4537-ab05-fd1dae8cd3fa"
      },
      "source": [
        "df5['ST_NUM'].isnull()"
      ],
      "execution_count": null,
      "outputs": [
        {
          "output_type": "execute_result",
          "data": {
            "text/plain": [
              "0    False\n",
              "1    False\n",
              "2     True\n",
              "3    False\n",
              "4    False\n",
              "5    False\n",
              "6     True\n",
              "7    False\n",
              "8    False\n",
              "Name: ST_NUM, dtype: bool"
            ]
          },
          "metadata": {
            "tags": []
          },
          "execution_count": 114
        }
      ]
    },
    {
      "cell_type": "code",
      "metadata": {
        "id": "HPVJR7PXdLdC",
        "colab": {
          "base_uri": "https://localhost:8080/",
          "height": 183
        },
        "outputId": "95cfab89-6a0d-4379-f77b-eb0284c45144"
      },
      "source": [
        "df5['SQ_FT'].isnull()"
      ],
      "execution_count": null,
      "outputs": [
        {
          "output_type": "execute_result",
          "data": {
            "text/plain": [
              "0    False\n",
              "1    False\n",
              "2    False\n",
              "3    False\n",
              "4    False\n",
              "5    False\n",
              "6    False\n",
              "7     True\n",
              "8    False\n",
              "Name: SQ_FT, dtype: bool"
            ]
          },
          "metadata": {
            "tags": []
          },
          "execution_count": 115
        }
      ]
    },
    {
      "cell_type": "code",
      "metadata": {
        "id": "1-JTgMysdX9r",
        "colab": {
          "base_uri": "https://localhost:8080/",
          "height": 323
        },
        "outputId": "455f6095-a37a-4911-d636-6b26a93c1e02"
      },
      "source": [
        "missing_values=['--','na','n/a']\n",
        "df6 = pd.read_csv('https://raw.githubusercontent.com/dataoptimal/posts/master/data%20cleaning%20with%20python%20and%20pandas/property%20data.csv', na_values=missing_values)\n",
        "df6"
      ],
      "execution_count": null,
      "outputs": [
        {
          "output_type": "execute_result",
          "data": {
            "text/html": [
              "<div>\n",
              "<style scoped>\n",
              "    .dataframe tbody tr th:only-of-type {\n",
              "        vertical-align: middle;\n",
              "    }\n",
              "\n",
              "    .dataframe tbody tr th {\n",
              "        vertical-align: top;\n",
              "    }\n",
              "\n",
              "    .dataframe thead th {\n",
              "        text-align: right;\n",
              "    }\n",
              "</style>\n",
              "<table border=\"1\" class=\"dataframe\">\n",
              "  <thead>\n",
              "    <tr style=\"text-align: right;\">\n",
              "      <th></th>\n",
              "      <th>PID</th>\n",
              "      <th>ST_NUM</th>\n",
              "      <th>ST_NAME</th>\n",
              "      <th>OWN_OCCUPIED</th>\n",
              "      <th>NUM_BEDROOMS</th>\n",
              "      <th>NUM_BATH</th>\n",
              "      <th>SQ_FT</th>\n",
              "    </tr>\n",
              "  </thead>\n",
              "  <tbody>\n",
              "    <tr>\n",
              "      <th>0</th>\n",
              "      <td>100001000.0</td>\n",
              "      <td>104.0</td>\n",
              "      <td>PUTNAM</td>\n",
              "      <td>Y</td>\n",
              "      <td>3.0</td>\n",
              "      <td>1</td>\n",
              "      <td>1000.0</td>\n",
              "    </tr>\n",
              "    <tr>\n",
              "      <th>1</th>\n",
              "      <td>100002000.0</td>\n",
              "      <td>197.0</td>\n",
              "      <td>LEXINGTON</td>\n",
              "      <td>N</td>\n",
              "      <td>3.0</td>\n",
              "      <td>1.5</td>\n",
              "      <td>NaN</td>\n",
              "    </tr>\n",
              "    <tr>\n",
              "      <th>2</th>\n",
              "      <td>100003000.0</td>\n",
              "      <td>NaN</td>\n",
              "      <td>LEXINGTON</td>\n",
              "      <td>N</td>\n",
              "      <td>NaN</td>\n",
              "      <td>1</td>\n",
              "      <td>850.0</td>\n",
              "    </tr>\n",
              "    <tr>\n",
              "      <th>3</th>\n",
              "      <td>100004000.0</td>\n",
              "      <td>201.0</td>\n",
              "      <td>BERKELEY</td>\n",
              "      <td>12</td>\n",
              "      <td>1.0</td>\n",
              "      <td>NaN</td>\n",
              "      <td>700.0</td>\n",
              "    </tr>\n",
              "    <tr>\n",
              "      <th>4</th>\n",
              "      <td>NaN</td>\n",
              "      <td>203.0</td>\n",
              "      <td>BERKELEY</td>\n",
              "      <td>Y</td>\n",
              "      <td>3.0</td>\n",
              "      <td>2</td>\n",
              "      <td>1600.0</td>\n",
              "    </tr>\n",
              "    <tr>\n",
              "      <th>5</th>\n",
              "      <td>100006000.0</td>\n",
              "      <td>207.0</td>\n",
              "      <td>BERKELEY</td>\n",
              "      <td>Y</td>\n",
              "      <td>NaN</td>\n",
              "      <td>1</td>\n",
              "      <td>800.0</td>\n",
              "    </tr>\n",
              "    <tr>\n",
              "      <th>6</th>\n",
              "      <td>100007000.0</td>\n",
              "      <td>NaN</td>\n",
              "      <td>WASHINGTON</td>\n",
              "      <td>NaN</td>\n",
              "      <td>2.0</td>\n",
              "      <td>HURLEY</td>\n",
              "      <td>950.0</td>\n",
              "    </tr>\n",
              "    <tr>\n",
              "      <th>7</th>\n",
              "      <td>100008000.0</td>\n",
              "      <td>213.0</td>\n",
              "      <td>TREMONT</td>\n",
              "      <td>Y</td>\n",
              "      <td>1.0</td>\n",
              "      <td>1</td>\n",
              "      <td>NaN</td>\n",
              "    </tr>\n",
              "    <tr>\n",
              "      <th>8</th>\n",
              "      <td>100009000.0</td>\n",
              "      <td>215.0</td>\n",
              "      <td>TREMONT</td>\n",
              "      <td>Y</td>\n",
              "      <td>NaN</td>\n",
              "      <td>2</td>\n",
              "      <td>1800.0</td>\n",
              "    </tr>\n",
              "  </tbody>\n",
              "</table>\n",
              "</div>"
            ],
            "text/plain": [
              "           PID  ST_NUM     ST_NAME OWN_OCCUPIED  NUM_BEDROOMS NUM_BATH   SQ_FT\n",
              "0  100001000.0   104.0      PUTNAM            Y           3.0        1  1000.0\n",
              "1  100002000.0   197.0   LEXINGTON            N           3.0      1.5     NaN\n",
              "2  100003000.0     NaN   LEXINGTON            N           NaN        1   850.0\n",
              "3  100004000.0   201.0    BERKELEY           12           1.0      NaN   700.0\n",
              "4          NaN   203.0    BERKELEY            Y           3.0        2  1600.0\n",
              "5  100006000.0   207.0    BERKELEY            Y           NaN        1   800.0\n",
              "6  100007000.0     NaN  WASHINGTON          NaN           2.0   HURLEY   950.0\n",
              "7  100008000.0   213.0     TREMONT            Y           1.0        1     NaN\n",
              "8  100009000.0   215.0     TREMONT            Y           NaN        2  1800.0"
            ]
          },
          "metadata": {
            "tags": []
          },
          "execution_count": 123
        }
      ]
    },
    {
      "cell_type": "code",
      "metadata": {
        "id": "GDPh9WoSdkqT",
        "colab": {
          "base_uri": "https://localhost:8080/",
          "height": 150
        },
        "outputId": "cb66e110-c40f-49f5-aaaf-9dcc903773e7"
      },
      "source": [
        "df6.dtypes"
      ],
      "execution_count": null,
      "outputs": [
        {
          "output_type": "execute_result",
          "data": {
            "text/plain": [
              "PID             float64\n",
              "ST_NUM          float64\n",
              "ST_NAME          object\n",
              "OWN_OCCUPIED     object\n",
              "NUM_BEDROOMS    float64\n",
              "NUM_BATH         object\n",
              "SQ_FT           float64\n",
              "dtype: object"
            ]
          },
          "metadata": {
            "tags": []
          },
          "execution_count": 124
        }
      ]
    },
    {
      "cell_type": "code",
      "metadata": {
        "id": "tLx33_XieTR4",
        "colab": {
          "base_uri": "https://localhost:8080/",
          "height": 183
        },
        "outputId": "9e091acd-e6ba-46d4-a5e0-6e992dbc2801"
      },
      "source": [
        "df6['SQ_FT'].isnull()"
      ],
      "execution_count": null,
      "outputs": [
        {
          "output_type": "execute_result",
          "data": {
            "text/plain": [
              "0    False\n",
              "1     True\n",
              "2    False\n",
              "3    False\n",
              "4    False\n",
              "5    False\n",
              "6    False\n",
              "7     True\n",
              "8    False\n",
              "Name: SQ_FT, dtype: bool"
            ]
          },
          "metadata": {
            "tags": []
          },
          "execution_count": 126
        }
      ]
    },
    {
      "cell_type": "code",
      "metadata": {
        "id": "b_gbiwUDeiY8"
      },
      "source": [
        ""
      ],
      "execution_count": null,
      "outputs": []
    }
  ]
}