{
  "nbformat": 4,
  "nbformat_minor": 0,
  "metadata": {
    "colab": {
      "name": "Hypothesis testing.ipynb",
      "provenance": [],
      "authorship_tag": "ABX9TyMhl3d98ff7Rt0VejjVwb/7",
      "include_colab_link": true
    },
    "kernelspec": {
      "name": "python3",
      "display_name": "Python 3"
    }
  },
  "cells": [
    {
      "cell_type": "markdown",
      "metadata": {
        "id": "view-in-github",
        "colab_type": "text"
      },
      "source": [
        "<a href=\"https://colab.research.google.com/github/ColdCoffee21/Foundations-of-Data-Science/blob/master/Hypothesis_testing.ipynb\" target=\"_parent\"><img src=\"https://colab.research.google.com/assets/colab-badge.svg\" alt=\"Open In Colab\"/></a>"
      ]
    },
    {
      "cell_type": "markdown",
      "metadata": {
        "id": "D8ttEiETqjBP"
      },
      "source": [
        "#Hypothesis testing"
      ]
    },
    {
      "cell_type": "code",
      "metadata": {
        "id": "j6YHoqNjqe7h"
      },
      "source": [
        "import numpy as np\n",
        "import pandas as pd\n",
        "import scipy.stats as st"
      ],
      "execution_count": null,
      "outputs": []
    },
    {
      "cell_type": "code",
      "metadata": {
        "id": "F75zszQEqoYS",
        "colab": {
          "base_uri": "https://localhost:8080/"
        },
        "outputId": "2645a629-82d4-499d-df3a-f47400cfeaa2"
      },
      "source": [
        "z_critical = st.norm.ppf(0.10)\n",
        "z_critical"
      ],
      "execution_count": null,
      "outputs": [
        {
          "output_type": "execute_result",
          "data": {
            "text/plain": [
              "-1.2815515655446004"
            ]
          },
          "metadata": {
            "tags": []
          },
          "execution_count": 2
        }
      ]
    },
    {
      "cell_type": "code",
      "metadata": {
        "id": "AZwuWWyzrn77",
        "colab": {
          "base_uri": "https://localhost:8080/"
        },
        "outputId": "36679fe7-c91a-41f8-ce73-d8e9353bcc78"
      },
      "source": [
        "z_critical = abs(st.norm.ppf(0.10))\n",
        "z_critical"
      ],
      "execution_count": null,
      "outputs": [
        {
          "output_type": "execute_result",
          "data": {
            "text/plain": [
              "1.2815515655446004"
            ]
          },
          "metadata": {
            "tags": []
          },
          "execution_count": 3
        }
      ]
    },
    {
      "cell_type": "code",
      "metadata": {
        "id": "UWGq5fQ-rqne",
        "colab": {
          "base_uri": "https://localhost:8080/"
        },
        "outputId": "e4cc1157-4383-4e33-e871-d95e7e12ba05"
      },
      "source": [
        "z_critical = st.norm.ppf(0.05)\n",
        "z_critical"
      ],
      "execution_count": null,
      "outputs": [
        {
          "output_type": "execute_result",
          "data": {
            "text/plain": [
              "-1.6448536269514729"
            ]
          },
          "metadata": {
            "tags": []
          },
          "execution_count": 5
        }
      ]
    },
    {
      "cell_type": "code",
      "metadata": {
        "id": "nD1ch30SsFuB",
        "colab": {
          "base_uri": "https://localhost:8080/"
        },
        "outputId": "f390543a-4253-42e7-d268-5918bcd919c8"
      },
      "source": [
        "z_critical = abs(st.norm.ppf(0.10/2))\n",
        "z_critical"
      ],
      "execution_count": null,
      "outputs": [
        {
          "output_type": "execute_result",
          "data": {
            "text/plain": [
              "1.6448536269514729"
            ]
          },
          "metadata": {
            "tags": []
          },
          "execution_count": 6
        }
      ]
    },
    {
      "cell_type": "code",
      "metadata": {
        "id": "v9d9RjI-tNu6",
        "colab": {
          "base_uri": "https://localhost:8080/"
        },
        "outputId": "d338d9fd-9da0-4fb6-b7e6-06d282396e29"
      },
      "source": [
        "z_critical = abs(st.norm.ppf(0.01/2))\n",
        "z_critical"
      ],
      "execution_count": null,
      "outputs": [
        {
          "output_type": "execute_result",
          "data": {
            "text/plain": [
              "2.575829303548901"
            ]
          },
          "metadata": {
            "tags": []
          },
          "execution_count": 7
        }
      ]
    },
    {
      "cell_type": "code",
      "metadata": {
        "id": "4HBNf02ctWA8",
        "colab": {
          "base_uri": "https://localhost:8080/"
        },
        "outputId": "2c5a4814-e55e-4b90-8389-976cead487aa"
      },
      "source": [
        "p_val = (1- st.norm.cdf(2.28))\n",
        "p_val"
      ],
      "execution_count": null,
      "outputs": [
        {
          "output_type": "execute_result",
          "data": {
            "text/plain": [
              "0.011303844238552796"
            ]
          },
          "metadata": {
            "tags": []
          },
          "execution_count": 8
        }
      ]
    },
    {
      "cell_type": "code",
      "metadata": {
        "id": "-MUvgr7vt44Q",
        "colab": {
          "base_uri": "https://localhost:8080/"
        },
        "outputId": "60bb87b3-a1c3-41de-e4e9-ac7948eee5dd"
      },
      "source": [
        "p_val = (1- st.norm.cdf(1.89))\n",
        "p_val"
      ],
      "execution_count": null,
      "outputs": [
        {
          "output_type": "execute_result",
          "data": {
            "text/plain": [
              "0.029378980040409397"
            ]
          },
          "metadata": {
            "tags": []
          },
          "execution_count": 11
        }
      ]
    },
    {
      "cell_type": "markdown",
      "metadata": {
        "id": "SOU3Ut4Pw1Uy"
      },
      "source": [
        "##Q1. using z test"
      ]
    },
    {
      "cell_type": "code",
      "metadata": {
        "id": "xJFVTJLGwJ0Q"
      },
      "source": [
        "alpha = 0.05\n",
        "n = 30\n",
        "xbar = 48.6\n",
        "mu = 46\n",
        "sigma = 4.2"
      ],
      "execution_count": null,
      "outputs": []
    },
    {
      "cell_type": "code",
      "metadata": {
        "id": "NBjQLvH0t_70",
        "colab": {
          "base_uri": "https://localhost:8080/"
        },
        "outputId": "534e785c-fb7a-4f30-9a8c-92dab4901e3c"
      },
      "source": [
        "z_critical = abs(st.norm.ppf(alpha))\n",
        "z_critical"
      ],
      "execution_count": null,
      "outputs": [
        {
          "output_type": "execute_result",
          "data": {
            "text/plain": [
              "1.6448536269514729"
            ]
          },
          "metadata": {
            "tags": []
          },
          "execution_count": 13
        }
      ]
    },
    {
      "cell_type": "code",
      "metadata": {
        "id": "Uv51biv7wUNX",
        "colab": {
          "base_uri": "https://localhost:8080/"
        },
        "outputId": "956868ce-7865-464b-b01a-5f480905fd12"
      },
      "source": [
        "z = (xbar-mu)/(sigma/np.sqrt(n))\n",
        "z"
      ],
      "execution_count": null,
      "outputs": [
        {
          "output_type": "execute_result",
          "data": {
            "text/plain": [
              "3.3906634512224585"
            ]
          },
          "metadata": {
            "tags": []
          },
          "execution_count": 15
        }
      ]
    },
    {
      "cell_type": "code",
      "metadata": {
        "id": "E3HW64Kwwbl3",
        "colab": {
          "base_uri": "https://localhost:8080/"
        },
        "outputId": "cf317570-f5c4-4fda-93b3-d28ea38f2cbe"
      },
      "source": [
        "if (z<z_critical):\n",
        "  print(\"accept null hypothesis\")\n",
        "else:\n",
        "    print(\"reject null hypothesis\")"
      ],
      "execution_count": null,
      "outputs": [
        {
          "output_type": "stream",
          "text": [
            "reject null hypothesis\n"
          ],
          "name": "stdout"
        }
      ]
    },
    {
      "cell_type": "markdown",
      "metadata": {
        "id": "pJm6SDWkw5vf"
      },
      "source": [
        "##Q2. using p test"
      ]
    },
    {
      "cell_type": "code",
      "metadata": {
        "id": "m89NqpSnw4_Y"
      },
      "source": [
        "# Ho: mu = 8\n",
        "# H1: mu !=  8"
      ],
      "execution_count": null,
      "outputs": []
    },
    {
      "cell_type": "code",
      "metadata": {
        "id": "-P0uRjeYwoEO"
      },
      "source": [
        "n = 32\n",
        "mu = 8\n",
        "xbar = 8.2\n",
        "sigma = 0.6\n",
        "alpha = 0.05"
      ],
      "execution_count": null,
      "outputs": []
    },
    {
      "cell_type": "code",
      "metadata": {
        "id": "gYYCaPqQxQ49",
        "colab": {
          "base_uri": "https://localhost:8080/"
        },
        "outputId": "24965e97-2691-443c-ad35-4be7a3838887"
      },
      "source": [
        "z = (xbar-mu)/(sigma/np.sqrt(n))\n",
        "z"
      ],
      "execution_count": null,
      "outputs": [
        {
          "output_type": "execute_result",
          "data": {
            "text/plain": [
              "1.8856180831641203"
            ]
          },
          "metadata": {
            "tags": []
          },
          "execution_count": 18
        }
      ]
    },
    {
      "cell_type": "code",
      "metadata": {
        "id": "W6by4X8UxTVv",
        "colab": {
          "base_uri": "https://localhost:8080/"
        },
        "outputId": "f4ec1733-fb17-408f-f0f8-dff2a781d61d"
      },
      "source": [
        "p_val = (1- st.norm.cdf(z)) * 2\n",
        "p_val"
      ],
      "execution_count": null,
      "outputs": [
        {
          "output_type": "execute_result",
          "data": {
            "text/plain": [
              "0.0593464387919207"
            ]
          },
          "metadata": {
            "tags": []
          },
          "execution_count": 20
        }
      ]
    },
    {
      "cell_type": "code",
      "metadata": {
        "id": "Q4JiuTZWxXAK",
        "colab": {
          "base_uri": "https://localhost:8080/"
        },
        "outputId": "5a67f12e-a9b3-4bc1-9df2-d86e3e7cf9ac"
      },
      "source": [
        "if (p_val>alpha):\n",
        "  print(\"accept null hypothesis\")\n",
        "else:\n",
        "    print(\"reject null hypothesis\")"
      ],
      "execution_count": null,
      "outputs": [
        {
          "output_type": "stream",
          "text": [
            "accept null hypothesis\n"
          ],
          "name": "stdout"
        }
      ]
    },
    {
      "cell_type": "markdown",
      "metadata": {
        "id": "3Pliu89JyAxA"
      },
      "source": [
        "##Q2. using t test"
      ]
    },
    {
      "cell_type": "code",
      "metadata": {
        "id": "DPQLxTXKygqS"
      },
      "source": [
        "# Ho: mu = 16.3\n",
        "# H1: mu !=  16.3"
      ],
      "execution_count": null,
      "outputs": []
    },
    {
      "cell_type": "code",
      "metadata": {
        "id": "03slmnxgxvzr"
      },
      "source": [
        "n = 10\n",
        "mu = 16.3\n",
        "xbar = 17.7\n",
        "deg_of_freedom = n-1\n",
        "s = 1.9\n",
        "alpha = 0.05"
      ],
      "execution_count": null,
      "outputs": []
    },
    {
      "cell_type": "code",
      "metadata": {
        "id": "7eKxYOcwyhwX",
        "colab": {
          "base_uri": "https://localhost:8080/"
        },
        "outputId": "a2ff1e9f-98c8-46df-fd59-6f41a0d15e9e"
      },
      "source": [
        "t = (xbar-mu)/(s/np.sqrt(n))\n",
        "t"
      ],
      "execution_count": null,
      "outputs": [
        {
          "output_type": "execute_result",
          "data": {
            "text/plain": [
              "2.3300993285451197"
            ]
          },
          "metadata": {
            "tags": []
          },
          "execution_count": 23
        }
      ]
    },
    {
      "cell_type": "code",
      "metadata": {
        "id": "pLDW-LCbypux",
        "colab": {
          "base_uri": "https://localhost:8080/"
        },
        "outputId": "5052b71c-45ea-4d04-df1e-2ab9ed1aca8e"
      },
      "source": [
        "t_critical = st.t.ppf(alpha/2, deg_of_freedom)\n",
        "t_critical"
      ],
      "execution_count": null,
      "outputs": [
        {
          "output_type": "execute_result",
          "data": {
            "text/plain": [
              "-2.262157162740992"
            ]
          },
          "metadata": {
            "tags": []
          },
          "execution_count": 24
        }
      ]
    },
    {
      "cell_type": "code",
      "metadata": {
        "id": "LDX5S3ekyzwZ",
        "colab": {
          "base_uri": "https://localhost:8080/"
        },
        "outputId": "1eccd9a0-3f85-4039-dbc8-3053eb6e60ac"
      },
      "source": [
        "if (abs((t))>abs(t_critical)):\n",
        "  print(\"accept null hypothesis\")\n",
        "else:\n",
        "    print(\"reject null hypothesis\")"
      ],
      "execution_count": null,
      "outputs": [
        {
          "output_type": "stream",
          "text": [
            "accept null hypothesis\n"
          ],
          "name": "stdout"
        }
      ]
    },
    {
      "cell_type": "markdown",
      "metadata": {
        "id": "2TeMthKQy6p1"
      },
      "source": [
        "##Q3. using p test"
      ]
    },
    {
      "cell_type": "code",
      "metadata": {
        "id": "ZhtON3XLzLAz"
      },
      "source": [
        "# Ho: mu = 36.7\n",
        "# H1: mu >  36.7"
      ],
      "execution_count": null,
      "outputs": []
    },
    {
      "cell_type": "code",
      "metadata": {
        "id": "6yh6UaAoy56j"
      },
      "source": [
        "n = 15\n",
        "mu = 36.7\n",
        "xbar = 40.6\n",
        "deg_of_freedom = n-1\n",
        "s = 6\n",
        "alpha = 0.05"
      ],
      "execution_count": null,
      "outputs": []
    },
    {
      "cell_type": "code",
      "metadata": {
        "id": "ezh30zE9zKV8",
        "colab": {
          "base_uri": "https://localhost:8080/"
        },
        "outputId": "9407e545-18ef-4a48-8cd5-91912bf63fb9"
      },
      "source": [
        "t = (xbar-mu)/(s/np.sqrt(n))\n",
        "t"
      ],
      "execution_count": null,
      "outputs": [
        {
          "output_type": "execute_result",
          "data": {
            "text/plain": [
              "2.51743917503482"
            ]
          },
          "metadata": {
            "tags": []
          },
          "execution_count": 28
        }
      ]
    },
    {
      "cell_type": "code",
      "metadata": {
        "id": "AgRPm_e8zSII",
        "colab": {
          "base_uri": "https://localhost:8080/"
        },
        "outputId": "36da811d-0adb-457c-b6c7-92f6df0922bd"
      },
      "source": [
        "p_val = (1- st.t.cdf(abs(t),deg_of_freedom)) \n",
        "p_val"
      ],
      "execution_count": null,
      "outputs": [
        {
          "output_type": "execute_result",
          "data": {
            "text/plain": [
              "0.012311189053656801"
            ]
          },
          "metadata": {
            "tags": []
          },
          "execution_count": 30
        }
      ]
    },
    {
      "cell_type": "code",
      "metadata": {
        "id": "BjYJ108rzcjM"
      },
      "source": [
        ""
      ],
      "execution_count": null,
      "outputs": []
    },
    {
      "cell_type": "markdown",
      "metadata": {
        "id": "zxqxkh2nzwFO"
      },
      "source": [
        "##Q4. using chi test"
      ]
    },
    {
      "cell_type": "code",
      "metadata": {
        "id": "NEZY50rHzyWJ"
      },
      "source": [
        ""
      ],
      "execution_count": null,
      "outputs": []
    },
    {
      "cell_type": "markdown",
      "metadata": {
        "id": "DO2f0dTv_KPj"
      },
      "source": [
        "#Correlations"
      ]
    },
    {
      "cell_type": "code",
      "metadata": {
        "id": "kRbOLAUN_Mdp",
        "colab": {
          "base_uri": "https://localhost:8080/"
        },
        "outputId": "f7e2ac84-f45c-4594-c7a5-c0474ac94e92"
      },
      "source": [
        "f_test = np.array([153,144,162,149,127,118,158,153])\n",
        "fin_test = np.array([145,140,145,170,145,175,170,160])\n",
        "np.corrcoef(f_test, fin_test)"
      ],
      "execution_count": null,
      "outputs": [
        {
          "output_type": "execute_result",
          "data": {
            "text/plain": [
              "array([[ 1.        , -0.20133329],\n",
              "       [-0.20133329,  1.        ]])"
            ]
          },
          "metadata": {
            "tags": []
          },
          "execution_count": 9
        }
      ]
    },
    {
      "cell_type": "code",
      "metadata": {
        "id": "T1ALD-f9_kry",
        "colab": {
          "base_uri": "https://localhost:8080/",
          "height": 110
        },
        "outputId": "84c9784b-4480-4b07-dfbb-b5c504f57a24"
      },
      "source": [
        "x=[153,144,162,149,127,118,158,153]\n",
        "y=[145,140,145,170,145,175,170,160]\n",
        "df=pd.DataFrame({'x':x,'y':y})\n",
        "df.corr()"
      ],
      "execution_count": null,
      "outputs": [
        {
          "output_type": "execute_result",
          "data": {
            "text/html": [
              "<div>\n",
              "<style scoped>\n",
              "    .dataframe tbody tr th:only-of-type {\n",
              "        vertical-align: middle;\n",
              "    }\n",
              "\n",
              "    .dataframe tbody tr th {\n",
              "        vertical-align: top;\n",
              "    }\n",
              "\n",
              "    .dataframe thead th {\n",
              "        text-align: right;\n",
              "    }\n",
              "</style>\n",
              "<table border=\"1\" class=\"dataframe\">\n",
              "  <thead>\n",
              "    <tr style=\"text-align: right;\">\n",
              "      <th></th>\n",
              "      <th>x</th>\n",
              "      <th>y</th>\n",
              "    </tr>\n",
              "  </thead>\n",
              "  <tbody>\n",
              "    <tr>\n",
              "      <th>x</th>\n",
              "      <td>1.000000</td>\n",
              "      <td>-0.201333</td>\n",
              "    </tr>\n",
              "    <tr>\n",
              "      <th>y</th>\n",
              "      <td>-0.201333</td>\n",
              "      <td>1.000000</td>\n",
              "    </tr>\n",
              "  </tbody>\n",
              "</table>\n",
              "</div>"
            ],
            "text/plain": [
              "          x         y\n",
              "x  1.000000 -0.201333\n",
              "y -0.201333  1.000000"
            ]
          },
          "metadata": {
            "tags": []
          },
          "execution_count": 11
        }
      ]
    },
    {
      "cell_type": "code",
      "metadata": {
        "id": "OlA3RL33AcIS",
        "colab": {
          "base_uri": "https://localhost:8080/",
          "height": 201
        },
        "outputId": "e05cbc6f-9a9d-491c-af8e-dcbc947205e1"
      },
      "source": [
        "#importing all the libraries needed\n",
        "import seaborn as sns\n",
        "import matplotlib.pyplot as plt\n",
        "\n",
        "tips_df = sns.load_dataset('tips')\n",
        "tips_df.head()"
      ],
      "execution_count": null,
      "outputs": [
        {
          "output_type": "execute_result",
          "data": {
            "text/html": [
              "<div>\n",
              "<style scoped>\n",
              "    .dataframe tbody tr th:only-of-type {\n",
              "        vertical-align: middle;\n",
              "    }\n",
              "\n",
              "    .dataframe tbody tr th {\n",
              "        vertical-align: top;\n",
              "    }\n",
              "\n",
              "    .dataframe thead th {\n",
              "        text-align: right;\n",
              "    }\n",
              "</style>\n",
              "<table border=\"1\" class=\"dataframe\">\n",
              "  <thead>\n",
              "    <tr style=\"text-align: right;\">\n",
              "      <th></th>\n",
              "      <th>total_bill</th>\n",
              "      <th>tip</th>\n",
              "      <th>sex</th>\n",
              "      <th>smoker</th>\n",
              "      <th>day</th>\n",
              "      <th>time</th>\n",
              "      <th>size</th>\n",
              "    </tr>\n",
              "  </thead>\n",
              "  <tbody>\n",
              "    <tr>\n",
              "      <th>0</th>\n",
              "      <td>16.99</td>\n",
              "      <td>1.01</td>\n",
              "      <td>Female</td>\n",
              "      <td>No</td>\n",
              "      <td>Sun</td>\n",
              "      <td>Dinner</td>\n",
              "      <td>2</td>\n",
              "    </tr>\n",
              "    <tr>\n",
              "      <th>1</th>\n",
              "      <td>10.34</td>\n",
              "      <td>1.66</td>\n",
              "      <td>Male</td>\n",
              "      <td>No</td>\n",
              "      <td>Sun</td>\n",
              "      <td>Dinner</td>\n",
              "      <td>3</td>\n",
              "    </tr>\n",
              "    <tr>\n",
              "      <th>2</th>\n",
              "      <td>21.01</td>\n",
              "      <td>3.50</td>\n",
              "      <td>Male</td>\n",
              "      <td>No</td>\n",
              "      <td>Sun</td>\n",
              "      <td>Dinner</td>\n",
              "      <td>3</td>\n",
              "    </tr>\n",
              "    <tr>\n",
              "      <th>3</th>\n",
              "      <td>23.68</td>\n",
              "      <td>3.31</td>\n",
              "      <td>Male</td>\n",
              "      <td>No</td>\n",
              "      <td>Sun</td>\n",
              "      <td>Dinner</td>\n",
              "      <td>2</td>\n",
              "    </tr>\n",
              "    <tr>\n",
              "      <th>4</th>\n",
              "      <td>24.59</td>\n",
              "      <td>3.61</td>\n",
              "      <td>Female</td>\n",
              "      <td>No</td>\n",
              "      <td>Sun</td>\n",
              "      <td>Dinner</td>\n",
              "      <td>4</td>\n",
              "    </tr>\n",
              "  </tbody>\n",
              "</table>\n",
              "</div>"
            ],
            "text/plain": [
              "   total_bill   tip     sex smoker  day    time  size\n",
              "0       16.99  1.01  Female     No  Sun  Dinner     2\n",
              "1       10.34  1.66    Male     No  Sun  Dinner     3\n",
              "2       21.01  3.50    Male     No  Sun  Dinner     3\n",
              "3       23.68  3.31    Male     No  Sun  Dinner     2\n",
              "4       24.59  3.61  Female     No  Sun  Dinner     4"
            ]
          },
          "metadata": {
            "tags": []
          },
          "execution_count": 2
        }
      ]
    },
    {
      "cell_type": "code",
      "metadata": {
        "id": "du7fA8-IAiMR",
        "colab": {
          "base_uri": "https://localhost:8080/",
          "height": 286
        },
        "outputId": "ca40df2f-5522-48ef-97ff-f439ba48aea8"
      },
      "source": [
        "sns.heatmap(tips_df.corr(),annot=True)"
      ],
      "execution_count": null,
      "outputs": [
        {
          "output_type": "execute_result",
          "data": {
            "text/plain": [
              "<matplotlib.axes._subplots.AxesSubplot at 0x7f7ee3dcf978>"
            ]
          },
          "metadata": {
            "tags": []
          },
          "execution_count": 14
        },
        {
          "output_type": "display_data",
          "data": {
            "image/png": "[encoded data removed]",
            "text/plain": [
              "<Figure size 432x288 with 2 Axes>"
            ]
          },
          "metadata": {
            "tags": [],
            "needs_background": "light"
          }
        }
      ]
    },
    {
      "cell_type": "code",
      "metadata": {
        "id": "yB_rkLvmAp_C",
        "colab": {
          "base_uri": "https://localhost:8080/",
          "height": 140
        },
        "outputId": "4d22f560-6b37-489f-f8e2-0474a2282d04"
      },
      "source": [
        "tips_df.corr()"
      ],
      "execution_count": null,
      "outputs": [
        {
          "output_type": "execute_result",
          "data": {
            "text/html": [
              "<div>\n",
              "<style scoped>\n",
              "    .dataframe tbody tr th:only-of-type {\n",
              "        vertical-align: middle;\n",
              "    }\n",
              "\n",
              "    .dataframe tbody tr th {\n",
              "        vertical-align: top;\n",
              "    }\n",
              "\n",
              "    .dataframe thead th {\n",
              "        text-align: right;\n",
              "    }\n",
              "</style>\n",
              "<table border=\"1\" class=\"dataframe\">\n",
              "  <thead>\n",
              "    <tr style=\"text-align: right;\">\n",
              "      <th></th>\n",
              "      <th>total_bill</th>\n",
              "      <th>tip</th>\n",
              "      <th>size</th>\n",
              "    </tr>\n",
              "  </thead>\n",
              "  <tbody>\n",
              "    <tr>\n",
              "      <th>total_bill</th>\n",
              "      <td>1.000000</td>\n",
              "      <td>0.675734</td>\n",
              "      <td>0.598315</td>\n",
              "    </tr>\n",
              "    <tr>\n",
              "      <th>tip</th>\n",
              "      <td>0.675734</td>\n",
              "      <td>1.000000</td>\n",
              "      <td>0.489299</td>\n",
              "    </tr>\n",
              "    <tr>\n",
              "      <th>size</th>\n",
              "      <td>0.598315</td>\n",
              "      <td>0.489299</td>\n",
              "      <td>1.000000</td>\n",
              "    </tr>\n",
              "  </tbody>\n",
              "</table>\n",
              "</div>"
            ],
            "text/plain": [
              "            total_bill       tip      size\n",
              "total_bill    1.000000  0.675734  0.598315\n",
              "tip           0.675734  1.000000  0.489299\n",
              "size          0.598315  0.489299  1.000000"
            ]
          },
          "metadata": {
            "tags": []
          },
          "execution_count": 15
        }
      ]
    }
  ]
}