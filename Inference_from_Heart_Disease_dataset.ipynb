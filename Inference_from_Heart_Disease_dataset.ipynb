{
  "nbformat": 4,
  "nbformat_minor": 0,
  "metadata": {
    "kernelspec": {
      "display_name": "Python 3",
      "language": "python",
      "name": "python3"
    },
    "language_info": {
      "codemirror_mode": {
        "name": "ipython",
        "version": 3
      },
      "file_extension": ".py",
      "mimetype": "text/x-python",
      "name": "python",
      "nbconvert_exporter": "python",
      "pygments_lexer": "ipython3",
      "version": "3.8.5"
    },
    "colab": {
      "name": "Inference from Heart Disease dataset.ipynb",
      "provenance": [],
      "include_colab_link": true
    }
  },
  "cells": [
    {
      "cell_type": "markdown",
      "metadata": {
        "id": "view-in-github",
        "colab_type": "text"
      },
      "source": [
        "<a href=\"https://colab.research.google.com/github/ColdCoffee21/Foundations-of-Data-Science/blob/master/Inference_from_Heart_Disease_dataset.ipynb\" target=\"_parent\"><img src=\"https://colab.research.google.com/assets/colab-badge.svg\" alt=\"Open In Colab\"/></a>"
      ]
    },
    {
      "cell_type": "code",
      "metadata": {
        "id": "vS5COXClyuKr"
      },
      "source": [
        "import numpy as np\n",
        "import pandas as pd\n",
        "import matplotlib.pyplot as plt"
      ],
      "execution_count": null,
      "outputs": []
    },
    {
      "cell_type": "markdown",
      "metadata": {
        "id": "_meCqrTtyuKw"
      },
      "source": [
        "## 1. Load the Heart Disease dataset"
      ]
    },
    {
      "cell_type": "code",
      "metadata": {
        "id": "Aj5oyj-JyuKx"
      },
      "source": [
        "df = pd.read_csv(r\"C:\\Users\\dheer\\Documents\\6th Sem\\POML\\Codes\\heart.csv\")"
      ],
      "execution_count": null,
      "outputs": []
    },
    {
      "cell_type": "code",
      "metadata": {
        "id": "KMbNVux8yuKy",
        "outputId": "8b8c280e-4f5a-4048-a7a5-c88e6680e211"
      },
      "source": [
        "df"
      ],
      "execution_count": null,
      "outputs": [
        {
          "output_type": "execute_result",
          "data": {
            "text/html": [
              "<div>\n",
              "<style scoped>\n",
              "    .dataframe tbody tr th:only-of-type {\n",
              "        vertical-align: middle;\n",
              "    }\n",
              "\n",
              "    .dataframe tbody tr th {\n",
              "        vertical-align: top;\n",
              "    }\n",
              "\n",
              "    .dataframe thead th {\n",
              "        text-align: right;\n",
              "    }\n",
              "</style>\n",
              "<table border=\"1\" class=\"dataframe\">\n",
              "  <thead>\n",
              "    <tr style=\"text-align: right;\">\n",
              "      <th></th>\n",
              "      <th>age</th>\n",
              "      <th>sex</th>\n",
              "      <th>cp</th>\n",
              "      <th>trestbps</th>\n",
              "      <th>chol</th>\n",
              "      <th>fbs</th>\n",
              "      <th>restecg</th>\n",
              "      <th>thalach</th>\n",
              "      <th>exang</th>\n",
              "      <th>oldpeak</th>\n",
              "      <th>slope</th>\n",
              "      <th>ca</th>\n",
              "      <th>thal</th>\n",
              "      <th>target</th>\n",
              "    </tr>\n",
              "  </thead>\n",
              "  <tbody>\n",
              "    <tr>\n",
              "      <th>0</th>\n",
              "      <td>63</td>\n",
              "      <td>1</td>\n",
              "      <td>3</td>\n",
              "      <td>145</td>\n",
              "      <td>233</td>\n",
              "      <td>1</td>\n",
              "      <td>0</td>\n",
              "      <td>150</td>\n",
              "      <td>0</td>\n",
              "      <td>2.3</td>\n",
              "      <td>0</td>\n",
              "      <td>0</td>\n",
              "      <td>1</td>\n",
              "      <td>1</td>\n",
              "    </tr>\n",
              "    <tr>\n",
              "      <th>1</th>\n",
              "      <td>37</td>\n",
              "      <td>1</td>\n",
              "      <td>2</td>\n",
              "      <td>130</td>\n",
              "      <td>250</td>\n",
              "      <td>0</td>\n",
              "      <td>1</td>\n",
              "      <td>187</td>\n",
              "      <td>0</td>\n",
              "      <td>3.5</td>\n",
              "      <td>0</td>\n",
              "      <td>0</td>\n",
              "      <td>2</td>\n",
              "      <td>1</td>\n",
              "    </tr>\n",
              "    <tr>\n",
              "      <th>2</th>\n",
              "      <td>41</td>\n",
              "      <td>0</td>\n",
              "      <td>1</td>\n",
              "      <td>130</td>\n",
              "      <td>204</td>\n",
              "      <td>0</td>\n",
              "      <td>0</td>\n",
              "      <td>172</td>\n",
              "      <td>0</td>\n",
              "      <td>1.4</td>\n",
              "      <td>2</td>\n",
              "      <td>0</td>\n",
              "      <td>2</td>\n",
              "      <td>1</td>\n",
              "    </tr>\n",
              "    <tr>\n",
              "      <th>3</th>\n",
              "      <td>56</td>\n",
              "      <td>1</td>\n",
              "      <td>1</td>\n",
              "      <td>120</td>\n",
              "      <td>236</td>\n",
              "      <td>0</td>\n",
              "      <td>1</td>\n",
              "      <td>178</td>\n",
              "      <td>0</td>\n",
              "      <td>0.8</td>\n",
              "      <td>2</td>\n",
              "      <td>0</td>\n",
              "      <td>2</td>\n",
              "      <td>1</td>\n",
              "    </tr>\n",
              "    <tr>\n",
              "      <th>4</th>\n",
              "      <td>57</td>\n",
              "      <td>0</td>\n",
              "      <td>0</td>\n",
              "      <td>120</td>\n",
              "      <td>354</td>\n",
              "      <td>0</td>\n",
              "      <td>1</td>\n",
              "      <td>163</td>\n",
              "      <td>1</td>\n",
              "      <td>0.6</td>\n",
              "      <td>2</td>\n",
              "      <td>0</td>\n",
              "      <td>2</td>\n",
              "      <td>1</td>\n",
              "    </tr>\n",
              "    <tr>\n",
              "      <th>...</th>\n",
              "      <td>...</td>\n",
              "      <td>...</td>\n",
              "      <td>...</td>\n",
              "      <td>...</td>\n",
              "      <td>...</td>\n",
              "      <td>...</td>\n",
              "      <td>...</td>\n",
              "      <td>...</td>\n",
              "      <td>...</td>\n",
              "      <td>...</td>\n",
              "      <td>...</td>\n",
              "      <td>...</td>\n",
              "      <td>...</td>\n",
              "      <td>...</td>\n",
              "    </tr>\n",
              "    <tr>\n",
              "      <th>298</th>\n",
              "      <td>57</td>\n",
              "      <td>0</td>\n",
              "      <td>0</td>\n",
              "      <td>140</td>\n",
              "      <td>241</td>\n",
              "      <td>0</td>\n",
              "      <td>1</td>\n",
              "      <td>123</td>\n",
              "      <td>1</td>\n",
              "      <td>0.2</td>\n",
              "      <td>1</td>\n",
              "      <td>0</td>\n",
              "      <td>3</td>\n",
              "      <td>0</td>\n",
              "    </tr>\n",
              "    <tr>\n",
              "      <th>299</th>\n",
              "      <td>45</td>\n",
              "      <td>1</td>\n",
              "      <td>3</td>\n",
              "      <td>110</td>\n",
              "      <td>264</td>\n",
              "      <td>0</td>\n",
              "      <td>1</td>\n",
              "      <td>132</td>\n",
              "      <td>0</td>\n",
              "      <td>1.2</td>\n",
              "      <td>1</td>\n",
              "      <td>0</td>\n",
              "      <td>3</td>\n",
              "      <td>0</td>\n",
              "    </tr>\n",
              "    <tr>\n",
              "      <th>300</th>\n",
              "      <td>68</td>\n",
              "      <td>1</td>\n",
              "      <td>0</td>\n",
              "      <td>144</td>\n",
              "      <td>193</td>\n",
              "      <td>1</td>\n",
              "      <td>1</td>\n",
              "      <td>141</td>\n",
              "      <td>0</td>\n",
              "      <td>3.4</td>\n",
              "      <td>1</td>\n",
              "      <td>2</td>\n",
              "      <td>3</td>\n",
              "      <td>0</td>\n",
              "    </tr>\n",
              "    <tr>\n",
              "      <th>301</th>\n",
              "      <td>57</td>\n",
              "      <td>1</td>\n",
              "      <td>0</td>\n",
              "      <td>130</td>\n",
              "      <td>131</td>\n",
              "      <td>0</td>\n",
              "      <td>1</td>\n",
              "      <td>115</td>\n",
              "      <td>1</td>\n",
              "      <td>1.2</td>\n",
              "      <td>1</td>\n",
              "      <td>1</td>\n",
              "      <td>3</td>\n",
              "      <td>0</td>\n",
              "    </tr>\n",
              "    <tr>\n",
              "      <th>302</th>\n",
              "      <td>57</td>\n",
              "      <td>0</td>\n",
              "      <td>1</td>\n",
              "      <td>130</td>\n",
              "      <td>236</td>\n",
              "      <td>0</td>\n",
              "      <td>0</td>\n",
              "      <td>174</td>\n",
              "      <td>0</td>\n",
              "      <td>0.0</td>\n",
              "      <td>1</td>\n",
              "      <td>1</td>\n",
              "      <td>2</td>\n",
              "      <td>0</td>\n",
              "    </tr>\n",
              "  </tbody>\n",
              "</table>\n",
              "<p>303 rows × 14 columns</p>\n",
              "</div>"
            ],
            "text/plain": [
              "     age  sex  cp  trestbps  chol  fbs  restecg  thalach  exang  oldpeak  \\\n",
              "0     63    1   3       145   233    1        0      150      0      2.3   \n",
              "1     37    1   2       130   250    0        1      187      0      3.5   \n",
              "2     41    0   1       130   204    0        0      172      0      1.4   \n",
              "3     56    1   1       120   236    0        1      178      0      0.8   \n",
              "4     57    0   0       120   354    0        1      163      1      0.6   \n",
              "..   ...  ...  ..       ...   ...  ...      ...      ...    ...      ...   \n",
              "298   57    0   0       140   241    0        1      123      1      0.2   \n",
              "299   45    1   3       110   264    0        1      132      0      1.2   \n",
              "300   68    1   0       144   193    1        1      141      0      3.4   \n",
              "301   57    1   0       130   131    0        1      115      1      1.2   \n",
              "302   57    0   1       130   236    0        0      174      0      0.0   \n",
              "\n",
              "     slope  ca  thal  target  \n",
              "0        0   0     1       1  \n",
              "1        0   0     2       1  \n",
              "2        2   0     2       1  \n",
              "3        2   0     2       1  \n",
              "4        2   0     2       1  \n",
              "..     ...  ..   ...     ...  \n",
              "298      1   0     3       0  \n",
              "299      1   0     3       0  \n",
              "300      1   2     3       0  \n",
              "301      1   1     3       0  \n",
              "302      1   1     2       0  \n",
              "\n",
              "[303 rows x 14 columns]"
            ]
          },
          "metadata": {
            "tags": []
          },
          "execution_count": 8
        }
      ]
    },
    {
      "cell_type": "code",
      "metadata": {
        "id": "F5S_GFYhyuKz",
        "outputId": "ae1c5283-fb2b-4c75-e389-cbdd54dbe995"
      },
      "source": [
        "df.isnull().sum().sum()"
      ],
      "execution_count": null,
      "outputs": [
        {
          "output_type": "execute_result",
          "data": {
            "text/plain": [
              "0"
            ]
          },
          "metadata": {
            "tags": []
          },
          "execution_count": 9
        }
      ]
    },
    {
      "cell_type": "markdown",
      "metadata": {
        "id": "aCOJRSaSyuK0"
      },
      "source": [
        "## 2. Therefore the dataset does not have missing values. Therefore, deleting random cells"
      ]
    },
    {
      "cell_type": "code",
      "metadata": {
        "id": "LJwEOLEXyuK1"
      },
      "source": [
        "for col in df.columns:\n",
        "    if(col != \"target\"):\n",
        "        df.loc[df.sample(frac=0.03).index, col] = np.nan"
      ],
      "execution_count": null,
      "outputs": []
    },
    {
      "cell_type": "code",
      "metadata": {
        "id": "9f7x5Pd6yuK1",
        "outputId": "42097b75-30b2-4e01-c38b-81c9620d4e44"
      },
      "source": [
        "df.isnull().sum()"
      ],
      "execution_count": null,
      "outputs": [
        {
          "output_type": "execute_result",
          "data": {
            "text/plain": [
              "age         9\n",
              "sex         9\n",
              "cp          9\n",
              "trestbps    9\n",
              "chol        9\n",
              "fbs         9\n",
              "restecg     9\n",
              "thalach     9\n",
              "exang       9\n",
              "oldpeak     9\n",
              "slope       9\n",
              "ca          9\n",
              "thal        9\n",
              "target      0\n",
              "dtype: int64"
            ]
          },
          "metadata": {
            "tags": []
          },
          "execution_count": 11
        }
      ]
    },
    {
      "cell_type": "code",
      "metadata": {
        "id": "FElJnnQtyuK1",
        "outputId": "07cf5d38-4b51-44a4-976f-7d931c52a588"
      },
      "source": [
        "df"
      ],
      "execution_count": null,
      "outputs": [
        {
          "output_type": "execute_result",
          "data": {
            "text/html": [
              "<div>\n",
              "<style scoped>\n",
              "    .dataframe tbody tr th:only-of-type {\n",
              "        vertical-align: middle;\n",
              "    }\n",
              "\n",
              "    .dataframe tbody tr th {\n",
              "        vertical-align: top;\n",
              "    }\n",
              "\n",
              "    .dataframe thead th {\n",
              "        text-align: right;\n",
              "    }\n",
              "</style>\n",
              "<table border=\"1\" class=\"dataframe\">\n",
              "  <thead>\n",
              "    <tr style=\"text-align: right;\">\n",
              "      <th></th>\n",
              "      <th>age</th>\n",
              "      <th>sex</th>\n",
              "      <th>cp</th>\n",
              "      <th>trestbps</th>\n",
              "      <th>chol</th>\n",
              "      <th>fbs</th>\n",
              "      <th>restecg</th>\n",
              "      <th>thalach</th>\n",
              "      <th>exang</th>\n",
              "      <th>oldpeak</th>\n",
              "      <th>slope</th>\n",
              "      <th>ca</th>\n",
              "      <th>thal</th>\n",
              "      <th>target</th>\n",
              "    </tr>\n",
              "  </thead>\n",
              "  <tbody>\n",
              "    <tr>\n",
              "      <th>0</th>\n",
              "      <td>63.0</td>\n",
              "      <td>1.0</td>\n",
              "      <td>3.0</td>\n",
              "      <td>145.0</td>\n",
              "      <td>233.0</td>\n",
              "      <td>1.0</td>\n",
              "      <td>0.0</td>\n",
              "      <td>150.0</td>\n",
              "      <td>0.0</td>\n",
              "      <td>2.3</td>\n",
              "      <td>0.0</td>\n",
              "      <td>0.0</td>\n",
              "      <td>1.0</td>\n",
              "      <td>1</td>\n",
              "    </tr>\n",
              "    <tr>\n",
              "      <th>1</th>\n",
              "      <td>37.0</td>\n",
              "      <td>1.0</td>\n",
              "      <td>2.0</td>\n",
              "      <td>130.0</td>\n",
              "      <td>250.0</td>\n",
              "      <td>0.0</td>\n",
              "      <td>NaN</td>\n",
              "      <td>187.0</td>\n",
              "      <td>0.0</td>\n",
              "      <td>3.5</td>\n",
              "      <td>0.0</td>\n",
              "      <td>0.0</td>\n",
              "      <td>2.0</td>\n",
              "      <td>1</td>\n",
              "    </tr>\n",
              "    <tr>\n",
              "      <th>2</th>\n",
              "      <td>41.0</td>\n",
              "      <td>0.0</td>\n",
              "      <td>1.0</td>\n",
              "      <td>130.0</td>\n",
              "      <td>204.0</td>\n",
              "      <td>0.0</td>\n",
              "      <td>0.0</td>\n",
              "      <td>172.0</td>\n",
              "      <td>0.0</td>\n",
              "      <td>1.4</td>\n",
              "      <td>2.0</td>\n",
              "      <td>0.0</td>\n",
              "      <td>2.0</td>\n",
              "      <td>1</td>\n",
              "    </tr>\n",
              "    <tr>\n",
              "      <th>3</th>\n",
              "      <td>56.0</td>\n",
              "      <td>1.0</td>\n",
              "      <td>1.0</td>\n",
              "      <td>120.0</td>\n",
              "      <td>236.0</td>\n",
              "      <td>0.0</td>\n",
              "      <td>1.0</td>\n",
              "      <td>178.0</td>\n",
              "      <td>0.0</td>\n",
              "      <td>0.8</td>\n",
              "      <td>2.0</td>\n",
              "      <td>0.0</td>\n",
              "      <td>2.0</td>\n",
              "      <td>1</td>\n",
              "    </tr>\n",
              "    <tr>\n",
              "      <th>4</th>\n",
              "      <td>57.0</td>\n",
              "      <td>0.0</td>\n",
              "      <td>0.0</td>\n",
              "      <td>120.0</td>\n",
              "      <td>NaN</td>\n",
              "      <td>0.0</td>\n",
              "      <td>1.0</td>\n",
              "      <td>163.0</td>\n",
              "      <td>1.0</td>\n",
              "      <td>0.6</td>\n",
              "      <td>2.0</td>\n",
              "      <td>0.0</td>\n",
              "      <td>2.0</td>\n",
              "      <td>1</td>\n",
              "    </tr>\n",
              "    <tr>\n",
              "      <th>...</th>\n",
              "      <td>...</td>\n",
              "      <td>...</td>\n",
              "      <td>...</td>\n",
              "      <td>...</td>\n",
              "      <td>...</td>\n",
              "      <td>...</td>\n",
              "      <td>...</td>\n",
              "      <td>...</td>\n",
              "      <td>...</td>\n",
              "      <td>...</td>\n",
              "      <td>...</td>\n",
              "      <td>...</td>\n",
              "      <td>...</td>\n",
              "      <td>...</td>\n",
              "    </tr>\n",
              "    <tr>\n",
              "      <th>298</th>\n",
              "      <td>57.0</td>\n",
              "      <td>0.0</td>\n",
              "      <td>0.0</td>\n",
              "      <td>140.0</td>\n",
              "      <td>241.0</td>\n",
              "      <td>0.0</td>\n",
              "      <td>1.0</td>\n",
              "      <td>123.0</td>\n",
              "      <td>1.0</td>\n",
              "      <td>0.2</td>\n",
              "      <td>1.0</td>\n",
              "      <td>0.0</td>\n",
              "      <td>3.0</td>\n",
              "      <td>0</td>\n",
              "    </tr>\n",
              "    <tr>\n",
              "      <th>299</th>\n",
              "      <td>45.0</td>\n",
              "      <td>1.0</td>\n",
              "      <td>3.0</td>\n",
              "      <td>110.0</td>\n",
              "      <td>264.0</td>\n",
              "      <td>0.0</td>\n",
              "      <td>1.0</td>\n",
              "      <td>132.0</td>\n",
              "      <td>0.0</td>\n",
              "      <td>1.2</td>\n",
              "      <td>1.0</td>\n",
              "      <td>0.0</td>\n",
              "      <td>3.0</td>\n",
              "      <td>0</td>\n",
              "    </tr>\n",
              "    <tr>\n",
              "      <th>300</th>\n",
              "      <td>68.0</td>\n",
              "      <td>1.0</td>\n",
              "      <td>0.0</td>\n",
              "      <td>144.0</td>\n",
              "      <td>193.0</td>\n",
              "      <td>1.0</td>\n",
              "      <td>1.0</td>\n",
              "      <td>141.0</td>\n",
              "      <td>0.0</td>\n",
              "      <td>3.4</td>\n",
              "      <td>1.0</td>\n",
              "      <td>2.0</td>\n",
              "      <td>3.0</td>\n",
              "      <td>0</td>\n",
              "    </tr>\n",
              "    <tr>\n",
              "      <th>301</th>\n",
              "      <td>57.0</td>\n",
              "      <td>1.0</td>\n",
              "      <td>0.0</td>\n",
              "      <td>130.0</td>\n",
              "      <td>131.0</td>\n",
              "      <td>0.0</td>\n",
              "      <td>1.0</td>\n",
              "      <td>115.0</td>\n",
              "      <td>1.0</td>\n",
              "      <td>1.2</td>\n",
              "      <td>1.0</td>\n",
              "      <td>1.0</td>\n",
              "      <td>3.0</td>\n",
              "      <td>0</td>\n",
              "    </tr>\n",
              "    <tr>\n",
              "      <th>302</th>\n",
              "      <td>57.0</td>\n",
              "      <td>0.0</td>\n",
              "      <td>1.0</td>\n",
              "      <td>130.0</td>\n",
              "      <td>236.0</td>\n",
              "      <td>0.0</td>\n",
              "      <td>0.0</td>\n",
              "      <td>174.0</td>\n",
              "      <td>0.0</td>\n",
              "      <td>0.0</td>\n",
              "      <td>1.0</td>\n",
              "      <td>1.0</td>\n",
              "      <td>NaN</td>\n",
              "      <td>0</td>\n",
              "    </tr>\n",
              "  </tbody>\n",
              "</table>\n",
              "<p>303 rows × 14 columns</p>\n",
              "</div>"
            ],
            "text/plain": [
              "      age  sex   cp  trestbps   chol  fbs  restecg  thalach  exang  oldpeak  \\\n",
              "0    63.0  1.0  3.0     145.0  233.0  1.0      0.0    150.0    0.0      2.3   \n",
              "1    37.0  1.0  2.0     130.0  250.0  0.0      NaN    187.0    0.0      3.5   \n",
              "2    41.0  0.0  1.0     130.0  204.0  0.0      0.0    172.0    0.0      1.4   \n",
              "3    56.0  1.0  1.0     120.0  236.0  0.0      1.0    178.0    0.0      0.8   \n",
              "4    57.0  0.0  0.0     120.0    NaN  0.0      1.0    163.0    1.0      0.6   \n",
              "..    ...  ...  ...       ...    ...  ...      ...      ...    ...      ...   \n",
              "298  57.0  0.0  0.0     140.0  241.0  0.0      1.0    123.0    1.0      0.2   \n",
              "299  45.0  1.0  3.0     110.0  264.0  0.0      1.0    132.0    0.0      1.2   \n",
              "300  68.0  1.0  0.0     144.0  193.0  1.0      1.0    141.0    0.0      3.4   \n",
              "301  57.0  1.0  0.0     130.0  131.0  0.0      1.0    115.0    1.0      1.2   \n",
              "302  57.0  0.0  1.0     130.0  236.0  0.0      0.0    174.0    0.0      0.0   \n",
              "\n",
              "     slope   ca  thal  target  \n",
              "0      0.0  0.0   1.0       1  \n",
              "1      0.0  0.0   2.0       1  \n",
              "2      2.0  0.0   2.0       1  \n",
              "3      2.0  0.0   2.0       1  \n",
              "4      2.0  0.0   2.0       1  \n",
              "..     ...  ...   ...     ...  \n",
              "298    1.0  0.0   3.0       0  \n",
              "299    1.0  0.0   3.0       0  \n",
              "300    1.0  2.0   3.0       0  \n",
              "301    1.0  1.0   3.0       0  \n",
              "302    1.0  1.0   NaN       0  \n",
              "\n",
              "[303 rows x 14 columns]"
            ]
          },
          "metadata": {
            "tags": []
          },
          "execution_count": 12
        }
      ]
    },
    {
      "cell_type": "markdown",
      "metadata": {
        "id": "DreC5JqbyuK1"
      },
      "source": [
        "## Now there are randomly null values in the dataset"
      ]
    },
    {
      "cell_type": "markdown",
      "metadata": {
        "id": "20DyfJf7yuK3"
      },
      "source": [
        "## 3. Fill the missing values with the mode"
      ]
    },
    {
      "cell_type": "code",
      "metadata": {
        "id": "xzjBQ99_yuK3"
      },
      "source": [
        "df.fillna(df.median(), inplace=True)"
      ],
      "execution_count": null,
      "outputs": []
    },
    {
      "cell_type": "code",
      "metadata": {
        "id": "P7PGor02yuK4",
        "outputId": "cec8ba7d-2b08-4f54-b674-5da863488eb8"
      },
      "source": [
        "df.isnull().sum()"
      ],
      "execution_count": null,
      "outputs": [
        {
          "output_type": "execute_result",
          "data": {
            "text/plain": [
              "age         0\n",
              "sex         0\n",
              "cp          0\n",
              "trestbps    0\n",
              "chol        0\n",
              "fbs         0\n",
              "restecg     0\n",
              "thalach     0\n",
              "exang       0\n",
              "oldpeak     0\n",
              "slope       0\n",
              "ca          0\n",
              "thal        0\n",
              "target      0\n",
              "dtype: int64"
            ]
          },
          "metadata": {
            "tags": []
          },
          "execution_count": 14
        }
      ]
    },
    {
      "cell_type": "code",
      "metadata": {
        "id": "aSArWztTyuK4",
        "outputId": "7d7095bc-8b5a-4885-90cc-c78502c4eba5"
      },
      "source": [
        "df"
      ],
      "execution_count": null,
      "outputs": [
        {
          "output_type": "execute_result",
          "data": {
            "text/html": [
              "<div>\n",
              "<style scoped>\n",
              "    .dataframe tbody tr th:only-of-type {\n",
              "        vertical-align: middle;\n",
              "    }\n",
              "\n",
              "    .dataframe tbody tr th {\n",
              "        vertical-align: top;\n",
              "    }\n",
              "\n",
              "    .dataframe thead th {\n",
              "        text-align: right;\n",
              "    }\n",
              "</style>\n",
              "<table border=\"1\" class=\"dataframe\">\n",
              "  <thead>\n",
              "    <tr style=\"text-align: right;\">\n",
              "      <th></th>\n",
              "      <th>age</th>\n",
              "      <th>sex</th>\n",
              "      <th>cp</th>\n",
              "      <th>trestbps</th>\n",
              "      <th>chol</th>\n",
              "      <th>fbs</th>\n",
              "      <th>restecg</th>\n",
              "      <th>thalach</th>\n",
              "      <th>exang</th>\n",
              "      <th>oldpeak</th>\n",
              "      <th>slope</th>\n",
              "      <th>ca</th>\n",
              "      <th>thal</th>\n",
              "      <th>target</th>\n",
              "    </tr>\n",
              "  </thead>\n",
              "  <tbody>\n",
              "    <tr>\n",
              "      <th>0</th>\n",
              "      <td>63.0</td>\n",
              "      <td>1.0</td>\n",
              "      <td>3.0</td>\n",
              "      <td>145.0</td>\n",
              "      <td>233.0</td>\n",
              "      <td>1.0</td>\n",
              "      <td>0.0</td>\n",
              "      <td>150.0</td>\n",
              "      <td>0.0</td>\n",
              "      <td>2.3</td>\n",
              "      <td>0.0</td>\n",
              "      <td>0.0</td>\n",
              "      <td>1.0</td>\n",
              "      <td>1</td>\n",
              "    </tr>\n",
              "    <tr>\n",
              "      <th>1</th>\n",
              "      <td>37.0</td>\n",
              "      <td>1.0</td>\n",
              "      <td>2.0</td>\n",
              "      <td>130.0</td>\n",
              "      <td>250.0</td>\n",
              "      <td>0.0</td>\n",
              "      <td>1.0</td>\n",
              "      <td>187.0</td>\n",
              "      <td>0.0</td>\n",
              "      <td>3.5</td>\n",
              "      <td>0.0</td>\n",
              "      <td>0.0</td>\n",
              "      <td>2.0</td>\n",
              "      <td>1</td>\n",
              "    </tr>\n",
              "    <tr>\n",
              "      <th>2</th>\n",
              "      <td>41.0</td>\n",
              "      <td>0.0</td>\n",
              "      <td>1.0</td>\n",
              "      <td>130.0</td>\n",
              "      <td>204.0</td>\n",
              "      <td>0.0</td>\n",
              "      <td>0.0</td>\n",
              "      <td>172.0</td>\n",
              "      <td>0.0</td>\n",
              "      <td>1.4</td>\n",
              "      <td>2.0</td>\n",
              "      <td>0.0</td>\n",
              "      <td>2.0</td>\n",
              "      <td>1</td>\n",
              "    </tr>\n",
              "    <tr>\n",
              "      <th>3</th>\n",
              "      <td>56.0</td>\n",
              "      <td>1.0</td>\n",
              "      <td>1.0</td>\n",
              "      <td>120.0</td>\n",
              "      <td>236.0</td>\n",
              "      <td>0.0</td>\n",
              "      <td>1.0</td>\n",
              "      <td>178.0</td>\n",
              "      <td>0.0</td>\n",
              "      <td>0.8</td>\n",
              "      <td>2.0</td>\n",
              "      <td>0.0</td>\n",
              "      <td>2.0</td>\n",
              "      <td>1</td>\n",
              "    </tr>\n",
              "    <tr>\n",
              "      <th>4</th>\n",
              "      <td>57.0</td>\n",
              "      <td>0.0</td>\n",
              "      <td>0.0</td>\n",
              "      <td>120.0</td>\n",
              "      <td>240.0</td>\n",
              "      <td>0.0</td>\n",
              "      <td>1.0</td>\n",
              "      <td>163.0</td>\n",
              "      <td>1.0</td>\n",
              "      <td>0.6</td>\n",
              "      <td>2.0</td>\n",
              "      <td>0.0</td>\n",
              "      <td>2.0</td>\n",
              "      <td>1</td>\n",
              "    </tr>\n",
              "    <tr>\n",
              "      <th>...</th>\n",
              "      <td>...</td>\n",
              "      <td>...</td>\n",
              "      <td>...</td>\n",
              "      <td>...</td>\n",
              "      <td>...</td>\n",
              "      <td>...</td>\n",
              "      <td>...</td>\n",
              "      <td>...</td>\n",
              "      <td>...</td>\n",
              "      <td>...</td>\n",
              "      <td>...</td>\n",
              "      <td>...</td>\n",
              "      <td>...</td>\n",
              "      <td>...</td>\n",
              "    </tr>\n",
              "    <tr>\n",
              "      <th>298</th>\n",
              "      <td>57.0</td>\n",
              "      <td>0.0</td>\n",
              "      <td>0.0</td>\n",
              "      <td>140.0</td>\n",
              "      <td>241.0</td>\n",
              "      <td>0.0</td>\n",
              "      <td>1.0</td>\n",
              "      <td>123.0</td>\n",
              "      <td>1.0</td>\n",
              "      <td>0.2</td>\n",
              "      <td>1.0</td>\n",
              "      <td>0.0</td>\n",
              "      <td>3.0</td>\n",
              "      <td>0</td>\n",
              "    </tr>\n",
              "    <tr>\n",
              "      <th>299</th>\n",
              "      <td>45.0</td>\n",
              "      <td>1.0</td>\n",
              "      <td>3.0</td>\n",
              "      <td>110.0</td>\n",
              "      <td>264.0</td>\n",
              "      <td>0.0</td>\n",
              "      <td>1.0</td>\n",
              "      <td>132.0</td>\n",
              "      <td>0.0</td>\n",
              "      <td>1.2</td>\n",
              "      <td>1.0</td>\n",
              "      <td>0.0</td>\n",
              "      <td>3.0</td>\n",
              "      <td>0</td>\n",
              "    </tr>\n",
              "    <tr>\n",
              "      <th>300</th>\n",
              "      <td>68.0</td>\n",
              "      <td>1.0</td>\n",
              "      <td>0.0</td>\n",
              "      <td>144.0</td>\n",
              "      <td>193.0</td>\n",
              "      <td>1.0</td>\n",
              "      <td>1.0</td>\n",
              "      <td>141.0</td>\n",
              "      <td>0.0</td>\n",
              "      <td>3.4</td>\n",
              "      <td>1.0</td>\n",
              "      <td>2.0</td>\n",
              "      <td>3.0</td>\n",
              "      <td>0</td>\n",
              "    </tr>\n",
              "    <tr>\n",
              "      <th>301</th>\n",
              "      <td>57.0</td>\n",
              "      <td>1.0</td>\n",
              "      <td>0.0</td>\n",
              "      <td>130.0</td>\n",
              "      <td>131.0</td>\n",
              "      <td>0.0</td>\n",
              "      <td>1.0</td>\n",
              "      <td>115.0</td>\n",
              "      <td>1.0</td>\n",
              "      <td>1.2</td>\n",
              "      <td>1.0</td>\n",
              "      <td>1.0</td>\n",
              "      <td>3.0</td>\n",
              "      <td>0</td>\n",
              "    </tr>\n",
              "    <tr>\n",
              "      <th>302</th>\n",
              "      <td>57.0</td>\n",
              "      <td>0.0</td>\n",
              "      <td>1.0</td>\n",
              "      <td>130.0</td>\n",
              "      <td>236.0</td>\n",
              "      <td>0.0</td>\n",
              "      <td>0.0</td>\n",
              "      <td>174.0</td>\n",
              "      <td>0.0</td>\n",
              "      <td>0.0</td>\n",
              "      <td>1.0</td>\n",
              "      <td>1.0</td>\n",
              "      <td>2.0</td>\n",
              "      <td>0</td>\n",
              "    </tr>\n",
              "  </tbody>\n",
              "</table>\n",
              "<p>303 rows × 14 columns</p>\n",
              "</div>"
            ],
            "text/plain": [
              "      age  sex   cp  trestbps   chol  fbs  restecg  thalach  exang  oldpeak  \\\n",
              "0    63.0  1.0  3.0     145.0  233.0  1.0      0.0    150.0    0.0      2.3   \n",
              "1    37.0  1.0  2.0     130.0  250.0  0.0      1.0    187.0    0.0      3.5   \n",
              "2    41.0  0.0  1.0     130.0  204.0  0.0      0.0    172.0    0.0      1.4   \n",
              "3    56.0  1.0  1.0     120.0  236.0  0.0      1.0    178.0    0.0      0.8   \n",
              "4    57.0  0.0  0.0     120.0  240.0  0.0      1.0    163.0    1.0      0.6   \n",
              "..    ...  ...  ...       ...    ...  ...      ...      ...    ...      ...   \n",
              "298  57.0  0.0  0.0     140.0  241.0  0.0      1.0    123.0    1.0      0.2   \n",
              "299  45.0  1.0  3.0     110.0  264.0  0.0      1.0    132.0    0.0      1.2   \n",
              "300  68.0  1.0  0.0     144.0  193.0  1.0      1.0    141.0    0.0      3.4   \n",
              "301  57.0  1.0  0.0     130.0  131.0  0.0      1.0    115.0    1.0      1.2   \n",
              "302  57.0  0.0  1.0     130.0  236.0  0.0      0.0    174.0    0.0      0.0   \n",
              "\n",
              "     slope   ca  thal  target  \n",
              "0      0.0  0.0   1.0       1  \n",
              "1      0.0  0.0   2.0       1  \n",
              "2      2.0  0.0   2.0       1  \n",
              "3      2.0  0.0   2.0       1  \n",
              "4      2.0  0.0   2.0       1  \n",
              "..     ...  ...   ...     ...  \n",
              "298    1.0  0.0   3.0       0  \n",
              "299    1.0  0.0   3.0       0  \n",
              "300    1.0  2.0   3.0       0  \n",
              "301    1.0  1.0   3.0       0  \n",
              "302    1.0  1.0   2.0       0  \n",
              "\n",
              "[303 rows x 14 columns]"
            ]
          },
          "metadata": {
            "tags": []
          },
          "execution_count": 15
        }
      ]
    },
    {
      "cell_type": "markdown",
      "metadata": {
        "id": "zXb4avRiyuK4"
      },
      "source": [
        "## 4.Compute the following statistics of all the features:"
      ]
    },
    {
      "cell_type": "markdown",
      "metadata": {
        "id": "_UAq1PeHyuK4"
      },
      "source": [
        "### i) Mean"
      ]
    },
    {
      "cell_type": "code",
      "metadata": {
        "id": "CMdyg9PuyuK4",
        "outputId": "8dc2e1e3-bea0-4dc5-febf-34e1c31726a1"
      },
      "source": [
        "df.mean()"
      ],
      "execution_count": null,
      "outputs": [
        {
          "output_type": "execute_result",
          "data": {
            "text/plain": [
              "age          54.607261\n",
              "sex           0.693069\n",
              "cp            0.963696\n",
              "trestbps    131.805281\n",
              "chol        245.686469\n",
              "fbs           0.148515\n",
              "restecg       0.541254\n",
              "thalach     149.772277\n",
              "exang         0.320132\n",
              "oldpeak       1.033333\n",
              "slope         1.386139\n",
              "ca            0.712871\n",
              "thal          2.300330\n",
              "target        0.544554\n",
              "dtype: float64"
            ]
          },
          "metadata": {
            "tags": []
          },
          "execution_count": 16
        }
      ]
    },
    {
      "cell_type": "markdown",
      "metadata": {
        "id": "f89mGWnVyuK5"
      },
      "source": [
        "### ii) Median"
      ]
    },
    {
      "cell_type": "code",
      "metadata": {
        "id": "6yrTr9S4yuK5",
        "outputId": "a0db31bd-0053-41ce-cccf-c162c646b620"
      },
      "source": [
        "df.median()"
      ],
      "execution_count": null,
      "outputs": [
        {
          "output_type": "execute_result",
          "data": {
            "text/plain": [
              "age          56.0\n",
              "sex           1.0\n",
              "cp            1.0\n",
              "trestbps    130.0\n",
              "chol        240.0\n",
              "fbs           0.0\n",
              "restecg       1.0\n",
              "thalach     153.0\n",
              "exang         0.0\n",
              "oldpeak       0.8\n",
              "slope         1.0\n",
              "ca            0.0\n",
              "thal          2.0\n",
              "target        1.0\n",
              "dtype: float64"
            ]
          },
          "metadata": {
            "tags": []
          },
          "execution_count": 17
        }
      ]
    },
    {
      "cell_type": "markdown",
      "metadata": {
        "id": "G-9BJ5LVyuK5"
      },
      "source": [
        "### iii) Mode"
      ]
    },
    {
      "cell_type": "code",
      "metadata": {
        "id": "ybKdnDQRyuK6",
        "outputId": "71a145d0-e802-48d0-abab-a79a1de3ccbf"
      },
      "source": [
        "df.mode()"
      ],
      "execution_count": null,
      "outputs": [
        {
          "output_type": "execute_result",
          "data": {
            "text/html": [
              "<div>\n",
              "<style scoped>\n",
              "    .dataframe tbody tr th:only-of-type {\n",
              "        vertical-align: middle;\n",
              "    }\n",
              "\n",
              "    .dataframe tbody tr th {\n",
              "        vertical-align: top;\n",
              "    }\n",
              "\n",
              "    .dataframe thead th {\n",
              "        text-align: right;\n",
              "    }\n",
              "</style>\n",
              "<table border=\"1\" class=\"dataframe\">\n",
              "  <thead>\n",
              "    <tr style=\"text-align: right;\">\n",
              "      <th></th>\n",
              "      <th>age</th>\n",
              "      <th>sex</th>\n",
              "      <th>cp</th>\n",
              "      <th>trestbps</th>\n",
              "      <th>chol</th>\n",
              "      <th>fbs</th>\n",
              "      <th>restecg</th>\n",
              "      <th>thalach</th>\n",
              "      <th>exang</th>\n",
              "      <th>oldpeak</th>\n",
              "      <th>slope</th>\n",
              "      <th>ca</th>\n",
              "      <th>thal</th>\n",
              "      <th>target</th>\n",
              "    </tr>\n",
              "  </thead>\n",
              "  <tbody>\n",
              "    <tr>\n",
              "      <th>0</th>\n",
              "      <td>56.0</td>\n",
              "      <td>1.0</td>\n",
              "      <td>0.0</td>\n",
              "      <td>130.0</td>\n",
              "      <td>240.0</td>\n",
              "      <td>0.0</td>\n",
              "      <td>1.0</td>\n",
              "      <td>153.0</td>\n",
              "      <td>0.0</td>\n",
              "      <td>0.0</td>\n",
              "      <td>1.0</td>\n",
              "      <td>0.0</td>\n",
              "      <td>2.0</td>\n",
              "      <td>1</td>\n",
              "    </tr>\n",
              "  </tbody>\n",
              "</table>\n",
              "</div>"
            ],
            "text/plain": [
              "    age  sex   cp  trestbps   chol  fbs  restecg  thalach  exang  oldpeak  \\\n",
              "0  56.0  1.0  0.0     130.0  240.0  0.0      1.0    153.0    0.0      0.0   \n",
              "\n",
              "   slope   ca  thal  target  \n",
              "0    1.0  0.0   2.0       1  "
            ]
          },
          "metadata": {
            "tags": []
          },
          "execution_count": 18
        }
      ]
    },
    {
      "cell_type": "markdown",
      "metadata": {
        "id": "Y_qjYDLqyuK7"
      },
      "source": [
        "### iv) Range"
      ]
    },
    {
      "cell_type": "code",
      "metadata": {
        "id": "SoT0EMo9yuK7",
        "outputId": "441ae2ca-3d1f-4fd1-fb49-c72b5926842a"
      },
      "source": [
        "df.max() - df.min()"
      ],
      "execution_count": null,
      "outputs": [
        {
          "output_type": "execute_result",
          "data": {
            "text/plain": [
              "age          48.0\n",
              "sex           1.0\n",
              "cp            3.0\n",
              "trestbps    106.0\n",
              "chol        438.0\n",
              "fbs           1.0\n",
              "restecg       2.0\n",
              "thalach     131.0\n",
              "exang         1.0\n",
              "oldpeak       6.2\n",
              "slope         2.0\n",
              "ca            4.0\n",
              "thal          3.0\n",
              "target        1.0\n",
              "dtype: float64"
            ]
          },
          "metadata": {
            "tags": []
          },
          "execution_count": 19
        }
      ]
    },
    {
      "cell_type": "markdown",
      "metadata": {
        "id": "XnQC59NryuK7"
      },
      "source": [
        "### v) Inter quartile Range"
      ]
    },
    {
      "cell_type": "code",
      "metadata": {
        "id": "w3H4qavSyuK7",
        "outputId": "4a12da9c-4001-49ec-ecfc-c5c7f87b318f"
      },
      "source": [
        "df.quantile(.75) - df.quantile(.25) "
      ],
      "execution_count": null,
      "outputs": [
        {
          "output_type": "execute_result",
          "data": {
            "text/plain": [
              "age         13.0\n",
              "sex          1.0\n",
              "cp           2.0\n",
              "trestbps    20.0\n",
              "chol        61.5\n",
              "fbs          0.0\n",
              "restecg      1.0\n",
              "thalach     29.5\n",
              "exang        1.0\n",
              "oldpeak      1.6\n",
              "slope        1.0\n",
              "ca           1.0\n",
              "thal         1.0\n",
              "target       1.0\n",
              "dtype: float64"
            ]
          },
          "metadata": {
            "tags": []
          },
          "execution_count": 20
        }
      ]
    },
    {
      "cell_type": "markdown",
      "metadata": {
        "id": "z_5nuGlqyuK8"
      },
      "source": [
        "### vi) Standard Deviation"
      ]
    },
    {
      "cell_type": "code",
      "metadata": {
        "id": "ma7_HvnWyuK8",
        "outputId": "7e033972-d47a-4e95-a773-cbf66dfc1ec0"
      },
      "source": [
        "df.std()"
      ],
      "execution_count": null,
      "outputs": [
        {
          "output_type": "execute_result",
          "data": {
            "text/plain": [
              "age          8.844174\n",
              "sex          0.461983\n",
              "cp           1.014140\n",
              "trestbps    17.347396\n",
              "chol        50.771766\n",
              "fbs          0.356198\n",
              "restecg      0.524986\n",
              "thalach     22.643456\n",
              "exang        0.467299\n",
              "oldpeak      1.148528\n",
              "slope        0.603033\n",
              "ca           1.019706\n",
              "thal         0.602616\n",
              "target       0.498835\n",
              "dtype: float64"
            ]
          },
          "metadata": {
            "tags": []
          },
          "execution_count": 21
        }
      ]
    },
    {
      "cell_type": "markdown",
      "metadata": {
        "id": "45haDMLfyuK8"
      },
      "source": [
        "## 5.Partition  the given dataset into mutually exclusive and exhaustive subsets of records based on the class labels"
      ]
    },
    {
      "cell_type": "code",
      "metadata": {
        "id": "vfrFdzrgyuK8",
        "outputId": "af461695-97de-4569-e0d3-6e80d39a97df"
      },
      "source": [
        "df['target'].unique()"
      ],
      "execution_count": null,
      "outputs": [
        {
          "output_type": "execute_result",
          "data": {
            "text/plain": [
              "array([1, 0], dtype=int64)"
            ]
          },
          "metadata": {
            "tags": []
          },
          "execution_count": 22
        }
      ]
    },
    {
      "cell_type": "markdown",
      "metadata": {
        "id": "FL-wXCG8yuK8"
      },
      "source": [
        "### So we will partition the dataset into two partitions, D0 and D1"
      ]
    },
    {
      "cell_type": "code",
      "metadata": {
        "id": "TfJz1M7-yuK8"
      },
      "source": [
        "d0 = df[df['target'] == 0]\n",
        "d1 = df[df['target'] == 1]"
      ],
      "execution_count": null,
      "outputs": []
    },
    {
      "cell_type": "code",
      "metadata": {
        "id": "oe2i3GfqyuK9",
        "outputId": "11eaf738-a321-486b-d7f7-3a5897a21183"
      },
      "source": [
        "d0"
      ],
      "execution_count": null,
      "outputs": [
        {
          "output_type": "execute_result",
          "data": {
            "text/html": [
              "<div>\n",
              "<style scoped>\n",
              "    .dataframe tbody tr th:only-of-type {\n",
              "        vertical-align: middle;\n",
              "    }\n",
              "\n",
              "    .dataframe tbody tr th {\n",
              "        vertical-align: top;\n",
              "    }\n",
              "\n",
              "    .dataframe thead th {\n",
              "        text-align: right;\n",
              "    }\n",
              "</style>\n",
              "<table border=\"1\" class=\"dataframe\">\n",
              "  <thead>\n",
              "    <tr style=\"text-align: right;\">\n",
              "      <th></th>\n",
              "      <th>age</th>\n",
              "      <th>sex</th>\n",
              "      <th>cp</th>\n",
              "      <th>trestbps</th>\n",
              "      <th>chol</th>\n",
              "      <th>fbs</th>\n",
              "      <th>restecg</th>\n",
              "      <th>thalach</th>\n",
              "      <th>exang</th>\n",
              "      <th>oldpeak</th>\n",
              "      <th>slope</th>\n",
              "      <th>ca</th>\n",
              "      <th>thal</th>\n",
              "      <th>target</th>\n",
              "    </tr>\n",
              "  </thead>\n",
              "  <tbody>\n",
              "    <tr>\n",
              "      <th>165</th>\n",
              "      <td>67.0</td>\n",
              "      <td>1.0</td>\n",
              "      <td>0.0</td>\n",
              "      <td>160.0</td>\n",
              "      <td>286.0</td>\n",
              "      <td>0.0</td>\n",
              "      <td>0.0</td>\n",
              "      <td>108.0</td>\n",
              "      <td>1.0</td>\n",
              "      <td>1.5</td>\n",
              "      <td>1.0</td>\n",
              "      <td>3.0</td>\n",
              "      <td>2.0</td>\n",
              "      <td>0</td>\n",
              "    </tr>\n",
              "    <tr>\n",
              "      <th>166</th>\n",
              "      <td>67.0</td>\n",
              "      <td>1.0</td>\n",
              "      <td>0.0</td>\n",
              "      <td>120.0</td>\n",
              "      <td>229.0</td>\n",
              "      <td>0.0</td>\n",
              "      <td>0.0</td>\n",
              "      <td>129.0</td>\n",
              "      <td>1.0</td>\n",
              "      <td>2.6</td>\n",
              "      <td>1.0</td>\n",
              "      <td>2.0</td>\n",
              "      <td>3.0</td>\n",
              "      <td>0</td>\n",
              "    </tr>\n",
              "    <tr>\n",
              "      <th>167</th>\n",
              "      <td>62.0</td>\n",
              "      <td>0.0</td>\n",
              "      <td>0.0</td>\n",
              "      <td>140.0</td>\n",
              "      <td>268.0</td>\n",
              "      <td>0.0</td>\n",
              "      <td>0.0</td>\n",
              "      <td>160.0</td>\n",
              "      <td>0.0</td>\n",
              "      <td>3.6</td>\n",
              "      <td>0.0</td>\n",
              "      <td>2.0</td>\n",
              "      <td>2.0</td>\n",
              "      <td>0</td>\n",
              "    </tr>\n",
              "    <tr>\n",
              "      <th>168</th>\n",
              "      <td>63.0</td>\n",
              "      <td>1.0</td>\n",
              "      <td>0.0</td>\n",
              "      <td>130.0</td>\n",
              "      <td>254.0</td>\n",
              "      <td>0.0</td>\n",
              "      <td>0.0</td>\n",
              "      <td>147.0</td>\n",
              "      <td>0.0</td>\n",
              "      <td>1.4</td>\n",
              "      <td>1.0</td>\n",
              "      <td>1.0</td>\n",
              "      <td>2.0</td>\n",
              "      <td>0</td>\n",
              "    </tr>\n",
              "    <tr>\n",
              "      <th>169</th>\n",
              "      <td>53.0</td>\n",
              "      <td>1.0</td>\n",
              "      <td>0.0</td>\n",
              "      <td>140.0</td>\n",
              "      <td>203.0</td>\n",
              "      <td>1.0</td>\n",
              "      <td>1.0</td>\n",
              "      <td>155.0</td>\n",
              "      <td>1.0</td>\n",
              "      <td>3.1</td>\n",
              "      <td>0.0</td>\n",
              "      <td>0.0</td>\n",
              "      <td>3.0</td>\n",
              "      <td>0</td>\n",
              "    </tr>\n",
              "    <tr>\n",
              "      <th>...</th>\n",
              "      <td>...</td>\n",
              "      <td>...</td>\n",
              "      <td>...</td>\n",
              "      <td>...</td>\n",
              "      <td>...</td>\n",
              "      <td>...</td>\n",
              "      <td>...</td>\n",
              "      <td>...</td>\n",
              "      <td>...</td>\n",
              "      <td>...</td>\n",
              "      <td>...</td>\n",
              "      <td>...</td>\n",
              "      <td>...</td>\n",
              "      <td>...</td>\n",
              "    </tr>\n",
              "    <tr>\n",
              "      <th>298</th>\n",
              "      <td>57.0</td>\n",
              "      <td>0.0</td>\n",
              "      <td>0.0</td>\n",
              "      <td>140.0</td>\n",
              "      <td>241.0</td>\n",
              "      <td>0.0</td>\n",
              "      <td>1.0</td>\n",
              "      <td>123.0</td>\n",
              "      <td>1.0</td>\n",
              "      <td>0.2</td>\n",
              "      <td>1.0</td>\n",
              "      <td>0.0</td>\n",
              "      <td>3.0</td>\n",
              "      <td>0</td>\n",
              "    </tr>\n",
              "    <tr>\n",
              "      <th>299</th>\n",
              "      <td>45.0</td>\n",
              "      <td>1.0</td>\n",
              "      <td>3.0</td>\n",
              "      <td>110.0</td>\n",
              "      <td>264.0</td>\n",
              "      <td>0.0</td>\n",
              "      <td>1.0</td>\n",
              "      <td>132.0</td>\n",
              "      <td>0.0</td>\n",
              "      <td>1.2</td>\n",
              "      <td>1.0</td>\n",
              "      <td>0.0</td>\n",
              "      <td>3.0</td>\n",
              "      <td>0</td>\n",
              "    </tr>\n",
              "    <tr>\n",
              "      <th>300</th>\n",
              "      <td>68.0</td>\n",
              "      <td>1.0</td>\n",
              "      <td>0.0</td>\n",
              "      <td>144.0</td>\n",
              "      <td>193.0</td>\n",
              "      <td>1.0</td>\n",
              "      <td>1.0</td>\n",
              "      <td>141.0</td>\n",
              "      <td>0.0</td>\n",
              "      <td>3.4</td>\n",
              "      <td>1.0</td>\n",
              "      <td>2.0</td>\n",
              "      <td>3.0</td>\n",
              "      <td>0</td>\n",
              "    </tr>\n",
              "    <tr>\n",
              "      <th>301</th>\n",
              "      <td>57.0</td>\n",
              "      <td>1.0</td>\n",
              "      <td>0.0</td>\n",
              "      <td>130.0</td>\n",
              "      <td>131.0</td>\n",
              "      <td>0.0</td>\n",
              "      <td>1.0</td>\n",
              "      <td>115.0</td>\n",
              "      <td>1.0</td>\n",
              "      <td>1.2</td>\n",
              "      <td>1.0</td>\n",
              "      <td>1.0</td>\n",
              "      <td>3.0</td>\n",
              "      <td>0</td>\n",
              "    </tr>\n",
              "    <tr>\n",
              "      <th>302</th>\n",
              "      <td>57.0</td>\n",
              "      <td>0.0</td>\n",
              "      <td>1.0</td>\n",
              "      <td>130.0</td>\n",
              "      <td>236.0</td>\n",
              "      <td>0.0</td>\n",
              "      <td>0.0</td>\n",
              "      <td>174.0</td>\n",
              "      <td>0.0</td>\n",
              "      <td>0.0</td>\n",
              "      <td>1.0</td>\n",
              "      <td>1.0</td>\n",
              "      <td>2.0</td>\n",
              "      <td>0</td>\n",
              "    </tr>\n",
              "  </tbody>\n",
              "</table>\n",
              "<p>138 rows × 14 columns</p>\n",
              "</div>"
            ],
            "text/plain": [
              "      age  sex   cp  trestbps   chol  fbs  restecg  thalach  exang  oldpeak  \\\n",
              "165  67.0  1.0  0.0     160.0  286.0  0.0      0.0    108.0    1.0      1.5   \n",
              "166  67.0  1.0  0.0     120.0  229.0  0.0      0.0    129.0    1.0      2.6   \n",
              "167  62.0  0.0  0.0     140.0  268.0  0.0      0.0    160.0    0.0      3.6   \n",
              "168  63.0  1.0  0.0     130.0  254.0  0.0      0.0    147.0    0.0      1.4   \n",
              "169  53.0  1.0  0.0     140.0  203.0  1.0      1.0    155.0    1.0      3.1   \n",
              "..    ...  ...  ...       ...    ...  ...      ...      ...    ...      ...   \n",
              "298  57.0  0.0  0.0     140.0  241.0  0.0      1.0    123.0    1.0      0.2   \n",
              "299  45.0  1.0  3.0     110.0  264.0  0.0      1.0    132.0    0.0      1.2   \n",
              "300  68.0  1.0  0.0     144.0  193.0  1.0      1.0    141.0    0.0      3.4   \n",
              "301  57.0  1.0  0.0     130.0  131.0  0.0      1.0    115.0    1.0      1.2   \n",
              "302  57.0  0.0  1.0     130.0  236.0  0.0      0.0    174.0    0.0      0.0   \n",
              "\n",
              "     slope   ca  thal  target  \n",
              "165    1.0  3.0   2.0       0  \n",
              "166    1.0  2.0   3.0       0  \n",
              "167    0.0  2.0   2.0       0  \n",
              "168    1.0  1.0   2.0       0  \n",
              "169    0.0  0.0   3.0       0  \n",
              "..     ...  ...   ...     ...  \n",
              "298    1.0  0.0   3.0       0  \n",
              "299    1.0  0.0   3.0       0  \n",
              "300    1.0  2.0   3.0       0  \n",
              "301    1.0  1.0   3.0       0  \n",
              "302    1.0  1.0   2.0       0  \n",
              "\n",
              "[138 rows x 14 columns]"
            ]
          },
          "metadata": {
            "tags": []
          },
          "execution_count": 24
        }
      ]
    },
    {
      "cell_type": "code",
      "metadata": {
        "id": "65sn_68-yuK9",
        "outputId": "92c52dfe-46da-4df2-e5d7-a6eb4b4dfc77"
      },
      "source": [
        "d0['target'].unique()"
      ],
      "execution_count": null,
      "outputs": [
        {
          "output_type": "execute_result",
          "data": {
            "text/plain": [
              "array([0], dtype=int64)"
            ]
          },
          "metadata": {
            "tags": []
          },
          "execution_count": 25
        }
      ]
    },
    {
      "cell_type": "code",
      "metadata": {
        "id": "8iWSHgh3yuK9",
        "outputId": "b74d0707-2d0a-470a-d6af-ab8ff6950c2d"
      },
      "source": [
        "d1['target'].unique()"
      ],
      "execution_count": null,
      "outputs": [
        {
          "output_type": "execute_result",
          "data": {
            "text/plain": [
              "array([1], dtype=int64)"
            ]
          },
          "metadata": {
            "tags": []
          },
          "execution_count": 26
        }
      ]
    },
    {
      "cell_type": "markdown",
      "metadata": {
        "id": "Vwqeahs2yuK-"
      },
      "source": [
        "## 6.Compute the following statistics (as in 4) of all the features of all the partitions created in step-5:"
      ]
    },
    {
      "cell_type": "markdown",
      "metadata": {
        "id": "ULjs56gkyuK-"
      },
      "source": [
        "### For d0"
      ]
    },
    {
      "cell_type": "code",
      "metadata": {
        "id": "SIqDGqUQyuK-",
        "outputId": "cb8e20ec-e350-467d-88a9-77c9711706e3"
      },
      "source": [
        "d0.mean()"
      ],
      "execution_count": null,
      "outputs": [
        {
          "output_type": "execute_result",
          "data": {
            "text/plain": [
              "age          56.746377\n",
              "sex           0.826087\n",
              "cp            0.500000\n",
              "trestbps    134.427536\n",
              "chol        250.528986\n",
              "fbs           0.159420\n",
              "restecg       0.463768\n",
              "thalach     139.797101\n",
              "exang         0.543478\n",
              "oldpeak       1.562319\n",
              "slope         1.166667\n",
              "ca            1.137681\n",
              "thal          2.514493\n",
              "target        0.000000\n",
              "dtype: float64"
            ]
          },
          "metadata": {
            "tags": []
          },
          "execution_count": 27
        }
      ]
    },
    {
      "cell_type": "code",
      "metadata": {
        "id": "_9ni2aHcyuK-",
        "outputId": "8c6bf50d-9a39-4ea3-b366-6dcf06c2404d"
      },
      "source": [
        "d0.median()"
      ],
      "execution_count": null,
      "outputs": [
        {
          "output_type": "execute_result",
          "data": {
            "text/plain": [
              "age          58.0\n",
              "sex           1.0\n",
              "cp            0.0\n",
              "trestbps    130.0\n",
              "chol        249.0\n",
              "fbs           0.0\n",
              "restecg       0.0\n",
              "thalach     143.0\n",
              "exang         1.0\n",
              "oldpeak       1.2\n",
              "slope         1.0\n",
              "ca            1.0\n",
              "thal          3.0\n",
              "target        0.0\n",
              "dtype: float64"
            ]
          },
          "metadata": {
            "tags": []
          },
          "execution_count": 28
        }
      ]
    },
    {
      "cell_type": "code",
      "metadata": {
        "id": "nCIcatSAyuK-",
        "outputId": "3fbaaa95-9910-42f0-9619-920a8612055a"
      },
      "source": [
        "d0.mode()"
      ],
      "execution_count": null,
      "outputs": [
        {
          "output_type": "execute_result",
          "data": {
            "text/html": [
              "<div>\n",
              "<style scoped>\n",
              "    .dataframe tbody tr th:only-of-type {\n",
              "        vertical-align: middle;\n",
              "    }\n",
              "\n",
              "    .dataframe tbody tr th {\n",
              "        vertical-align: top;\n",
              "    }\n",
              "\n",
              "    .dataframe thead th {\n",
              "        text-align: right;\n",
              "    }\n",
              "</style>\n",
              "<table border=\"1\" class=\"dataframe\">\n",
              "  <thead>\n",
              "    <tr style=\"text-align: right;\">\n",
              "      <th></th>\n",
              "      <th>age</th>\n",
              "      <th>sex</th>\n",
              "      <th>cp</th>\n",
              "      <th>trestbps</th>\n",
              "      <th>chol</th>\n",
              "      <th>fbs</th>\n",
              "      <th>restecg</th>\n",
              "      <th>thalach</th>\n",
              "      <th>exang</th>\n",
              "      <th>oldpeak</th>\n",
              "      <th>slope</th>\n",
              "      <th>ca</th>\n",
              "      <th>thal</th>\n",
              "      <th>target</th>\n",
              "    </tr>\n",
              "  </thead>\n",
              "  <tbody>\n",
              "    <tr>\n",
              "      <th>0</th>\n",
              "      <td>58.0</td>\n",
              "      <td>1.0</td>\n",
              "      <td>0.0</td>\n",
              "      <td>130.0</td>\n",
              "      <td>212.0</td>\n",
              "      <td>0.0</td>\n",
              "      <td>0.0</td>\n",
              "      <td>132.0</td>\n",
              "      <td>1.0</td>\n",
              "      <td>0.0</td>\n",
              "      <td>1.0</td>\n",
              "      <td>0.0</td>\n",
              "      <td>3.0</td>\n",
              "      <td>0.0</td>\n",
              "    </tr>\n",
              "    <tr>\n",
              "      <th>1</th>\n",
              "      <td>NaN</td>\n",
              "      <td>NaN</td>\n",
              "      <td>NaN</td>\n",
              "      <td>NaN</td>\n",
              "      <td>254.0</td>\n",
              "      <td>NaN</td>\n",
              "      <td>NaN</td>\n",
              "      <td>NaN</td>\n",
              "      <td>NaN</td>\n",
              "      <td>NaN</td>\n",
              "      <td>NaN</td>\n",
              "      <td>NaN</td>\n",
              "      <td>NaN</td>\n",
              "      <td>NaN</td>\n",
              "    </tr>\n",
              "    <tr>\n",
              "      <th>2</th>\n",
              "      <td>NaN</td>\n",
              "      <td>NaN</td>\n",
              "      <td>NaN</td>\n",
              "      <td>NaN</td>\n",
              "      <td>282.0</td>\n",
              "      <td>NaN</td>\n",
              "      <td>NaN</td>\n",
              "      <td>NaN</td>\n",
              "      <td>NaN</td>\n",
              "      <td>NaN</td>\n",
              "      <td>NaN</td>\n",
              "      <td>NaN</td>\n",
              "      <td>NaN</td>\n",
              "      <td>NaN</td>\n",
              "    </tr>\n",
              "  </tbody>\n",
              "</table>\n",
              "</div>"
            ],
            "text/plain": [
              "    age  sex   cp  trestbps   chol  fbs  restecg  thalach  exang  oldpeak  \\\n",
              "0  58.0  1.0  0.0     130.0  212.0  0.0      0.0    132.0    1.0      0.0   \n",
              "1   NaN  NaN  NaN       NaN  254.0  NaN      NaN      NaN    NaN      NaN   \n",
              "2   NaN  NaN  NaN       NaN  282.0  NaN      NaN      NaN    NaN      NaN   \n",
              "\n",
              "   slope   ca  thal  target  \n",
              "0    1.0  0.0   3.0     0.0  \n",
              "1    NaN  NaN   NaN     NaN  \n",
              "2    NaN  NaN   NaN     NaN  "
            ]
          },
          "metadata": {
            "tags": []
          },
          "execution_count": 29
        }
      ]
    },
    {
      "cell_type": "code",
      "metadata": {
        "id": "i-Q4JcDjyuK_",
        "outputId": "efc52b5b-46d3-4496-db58-8dbffcec4879"
      },
      "source": [
        "d0.max() - d0.min()"
      ],
      "execution_count": null,
      "outputs": [
        {
          "output_type": "execute_result",
          "data": {
            "text/plain": [
              "age          42.0\n",
              "sex           1.0\n",
              "cp            3.0\n",
              "trestbps    100.0\n",
              "chol        278.0\n",
              "fbs           1.0\n",
              "restecg       2.0\n",
              "thalach     124.0\n",
              "exang         1.0\n",
              "oldpeak       6.2\n",
              "slope         2.0\n",
              "ca            4.0\n",
              "thal          3.0\n",
              "target        0.0\n",
              "dtype: float64"
            ]
          },
          "metadata": {
            "tags": []
          },
          "execution_count": 30
        }
      ]
    },
    {
      "cell_type": "code",
      "metadata": {
        "id": "W5GztmK1yuK_",
        "outputId": "b1819980-d867-4c61-a0bd-dd2bae1b8f00"
      },
      "source": [
        "d0.quantile(.75) - d0.quantile(.25) "
      ],
      "execution_count": null,
      "outputs": [
        {
          "output_type": "execute_result",
          "data": {
            "text/plain": [
              "age          9.750\n",
              "sex          0.000\n",
              "cp           1.000\n",
              "trestbps    24.250\n",
              "chol        64.750\n",
              "fbs          0.000\n",
              "restecg      1.000\n",
              "thalach     31.000\n",
              "exang        1.000\n",
              "oldpeak      1.875\n",
              "slope        0.000\n",
              "ca           2.000\n",
              "thal         1.000\n",
              "target       0.000\n",
              "dtype: float64"
            ]
          },
          "metadata": {
            "tags": []
          },
          "execution_count": 31
        }
      ]
    },
    {
      "cell_type": "code",
      "metadata": {
        "id": "1uXIlTC2yuLA",
        "outputId": "c10ab75c-5dbe-4027-8120-188180a982e5"
      },
      "source": [
        "d0.std()"
      ],
      "execution_count": null,
      "outputs": [
        {
          "output_type": "execute_result",
          "data": {
            "text/plain": [
              "age          7.744140\n",
              "sex          0.380416\n",
              "cp           0.906183\n",
              "trestbps    18.579043\n",
              "chol        48.530853\n",
              "fbs          0.367401\n",
              "restecg      0.542492\n",
              "thalach     22.556712\n",
              "exang        0.499921\n",
              "oldpeak      1.289497\n",
              "slope        0.548167\n",
              "ca           1.047709\n",
              "thal         0.685997\n",
              "target       0.000000\n",
              "dtype: float64"
            ]
          },
          "metadata": {
            "tags": []
          },
          "execution_count": 32
        }
      ]
    },
    {
      "cell_type": "markdown",
      "metadata": {
        "id": "xO5IOOH8yuLA"
      },
      "source": [
        "### For d1"
      ]
    },
    {
      "cell_type": "code",
      "metadata": {
        "id": "nQ1ag9y2yuLA",
        "outputId": "0327f0c0-cf5d-4a9f-c97a-8b71bb128ac5"
      },
      "source": [
        "d1.mean()"
      ],
      "execution_count": null,
      "outputs": [
        {
          "output_type": "execute_result",
          "data": {
            "text/plain": [
              "age          52.818182\n",
              "sex           0.581818\n",
              "cp            1.351515\n",
              "trestbps    129.612121\n",
              "chol        241.636364\n",
              "fbs           0.139394\n",
              "restecg       0.606061\n",
              "thalach     158.115152\n",
              "exang         0.133333\n",
              "oldpeak       0.590909\n",
              "slope         1.569697\n",
              "ca            0.357576\n",
              "thal          2.121212\n",
              "target        1.000000\n",
              "dtype: float64"
            ]
          },
          "metadata": {
            "tags": []
          },
          "execution_count": 33
        }
      ]
    },
    {
      "cell_type": "code",
      "metadata": {
        "id": "evpEJeLjyuLA",
        "outputId": "cf62315c-c2ad-41c4-f176-7a4a15d4de64"
      },
      "source": [
        "d1.median()"
      ],
      "execution_count": null,
      "outputs": [
        {
          "output_type": "execute_result",
          "data": {
            "text/plain": [
              "age          53.0\n",
              "sex           1.0\n",
              "cp            1.0\n",
              "trestbps    130.0\n",
              "chol        236.0\n",
              "fbs           0.0\n",
              "restecg       1.0\n",
              "thalach     160.0\n",
              "exang         0.0\n",
              "oldpeak       0.2\n",
              "slope         2.0\n",
              "ca            0.0\n",
              "thal          2.0\n",
              "target        1.0\n",
              "dtype: float64"
            ]
          },
          "metadata": {
            "tags": []
          },
          "execution_count": 34
        }
      ]
    },
    {
      "cell_type": "code",
      "metadata": {
        "id": "7AuEufxmyuLB",
        "outputId": "bef58e96-d885-49bb-df8e-b465d341618d"
      },
      "source": [
        "d1.mode()"
      ],
      "execution_count": null,
      "outputs": [
        {
          "output_type": "execute_result",
          "data": {
            "text/html": [
              "<div>\n",
              "<style scoped>\n",
              "    .dataframe tbody tr th:only-of-type {\n",
              "        vertical-align: middle;\n",
              "    }\n",
              "\n",
              "    .dataframe tbody tr th {\n",
              "        vertical-align: top;\n",
              "    }\n",
              "\n",
              "    .dataframe thead th {\n",
              "        text-align: right;\n",
              "    }\n",
              "</style>\n",
              "<table border=\"1\" class=\"dataframe\">\n",
              "  <thead>\n",
              "    <tr style=\"text-align: right;\">\n",
              "      <th></th>\n",
              "      <th>age</th>\n",
              "      <th>sex</th>\n",
              "      <th>cp</th>\n",
              "      <th>trestbps</th>\n",
              "      <th>chol</th>\n",
              "      <th>fbs</th>\n",
              "      <th>restecg</th>\n",
              "      <th>thalach</th>\n",
              "      <th>exang</th>\n",
              "      <th>oldpeak</th>\n",
              "      <th>slope</th>\n",
              "      <th>ca</th>\n",
              "      <th>thal</th>\n",
              "      <th>target</th>\n",
              "    </tr>\n",
              "  </thead>\n",
              "  <tbody>\n",
              "    <tr>\n",
              "      <th>0</th>\n",
              "      <td>56.0</td>\n",
              "      <td>1.0</td>\n",
              "      <td>2.0</td>\n",
              "      <td>130.0</td>\n",
              "      <td>240.0</td>\n",
              "      <td>0.0</td>\n",
              "      <td>1.0</td>\n",
              "      <td>162.0</td>\n",
              "      <td>0.0</td>\n",
              "      <td>0.0</td>\n",
              "      <td>2.0</td>\n",
              "      <td>0.0</td>\n",
              "      <td>2.0</td>\n",
              "      <td>1</td>\n",
              "    </tr>\n",
              "  </tbody>\n",
              "</table>\n",
              "</div>"
            ],
            "text/plain": [
              "    age  sex   cp  trestbps   chol  fbs  restecg  thalach  exang  oldpeak  \\\n",
              "0  56.0  1.0  2.0     130.0  240.0  0.0      1.0    162.0    0.0      0.0   \n",
              "\n",
              "   slope   ca  thal  target  \n",
              "0    2.0  0.0   2.0       1  "
            ]
          },
          "metadata": {
            "tags": []
          },
          "execution_count": 35
        }
      ]
    },
    {
      "cell_type": "code",
      "metadata": {
        "id": "kP50fk6NyuLB",
        "outputId": "ecafec3b-2c9c-4a9f-9dfa-7dacebfc5cf1"
      },
      "source": [
        "d1.max() - d1.min()"
      ],
      "execution_count": null,
      "outputs": [
        {
          "output_type": "execute_result",
          "data": {
            "text/plain": [
              "age          47.0\n",
              "sex           1.0\n",
              "cp            3.0\n",
              "trestbps     86.0\n",
              "chol        438.0\n",
              "fbs           1.0\n",
              "restecg       2.0\n",
              "thalach     106.0\n",
              "exang         1.0\n",
              "oldpeak       4.2\n",
              "slope         2.0\n",
              "ca            4.0\n",
              "thal          3.0\n",
              "target        0.0\n",
              "dtype: float64"
            ]
          },
          "metadata": {
            "tags": []
          },
          "execution_count": 36
        }
      ]
    },
    {
      "cell_type": "code",
      "metadata": {
        "id": "lCYcf4MuyuLB",
        "outputId": "7d9a1d59-c08b-4294-e8fd-a98bccce8358"
      },
      "source": [
        "d1.quantile(.75) - d1.quantile(.25) "
      ],
      "execution_count": null,
      "outputs": [
        {
          "output_type": "execute_result",
          "data": {
            "text/plain": [
              "age         14.0\n",
              "sex          1.0\n",
              "cp           1.0\n",
              "trestbps    20.0\n",
              "chol        56.0\n",
              "fbs          0.0\n",
              "restecg      1.0\n",
              "thalach     23.0\n",
              "exang        0.0\n",
              "oldpeak      1.0\n",
              "slope        1.0\n",
              "ca           0.0\n",
              "thal         0.0\n",
              "target       0.0\n",
              "dtype: float64"
            ]
          },
          "metadata": {
            "tags": []
          },
          "execution_count": 37
        }
      ]
    },
    {
      "cell_type": "code",
      "metadata": {
        "id": "0My2gPVuyuLB",
        "outputId": "0de05cb9-cc02-49f6-9c5a-4cb6d14ea952"
      },
      "source": [
        "d1.std()"
      ],
      "execution_count": null,
      "outputs": [
        {
          "output_type": "execute_result",
          "data": {
            "text/plain": [
              "age          9.320364\n",
              "sex          0.494762\n",
              "cp           0.935780\n",
              "trestbps    15.974289\n",
              "chol        52.375065\n",
              "fbs          0.347412\n",
              "restecg      0.502396\n",
              "thalach     19.114675\n",
              "exang        0.340969\n",
              "oldpeak      0.779526\n",
              "slope        0.586684\n",
              "ca           0.847892\n",
              "thal         0.452471\n",
              "target       0.000000\n",
              "dtype: float64"
            ]
          },
          "metadata": {
            "tags": []
          },
          "execution_count": 38
        }
      ]
    },
    {
      "cell_type": "markdown",
      "metadata": {
        "id": "PU6a1faRyuLB"
      },
      "source": [
        "## 7. Give your comments or inference by comparing the statistics obtained in step-4 and 6."
      ]
    },
    {
      "cell_type": "markdown",
      "metadata": {
        "id": "cIgmjC6CyuLC"
      },
      "source": [
        "Comparision of the partitions and the whole dataset has been done below for the various features and statistical measures respectively."
      ]
    },
    {
      "cell_type": "code",
      "metadata": {
        "id": "QuYBeKokyuLC",
        "outputId": "045c0ed3-d186-4afc-9dc3-1a0d6cd3a0f9"
      },
      "source": [
        "for tmp in df.columns:\n",
        "    if(d1.mean()[tmp] > d0.mean()[tmp]):\n",
        "        print(\"partition 1 has higher average\", tmp)\n",
        "    else:\n",
        "        print(\"partition 0 has higher average\", tmp)\n",
        "    if (d1.median()[tmp] > d0.median()[tmp]):\n",
        "        print(\"partition 1 has higher median for\", tmp)\n",
        "    else:\n",
        "        print(\"partition 0 has higher median for\", tmp)\n",
        "    if (d1.std()[tmp] > d0.std()[tmp]):\n",
        "        print(\"partition 1 has higher std for\", tmp)\n",
        "    else:\n",
        "        print(\"partition 0 has higher std for\", tmp)\n",
        "print(\"\")"
      ],
      "execution_count": null,
      "outputs": [
        {
          "output_type": "stream",
          "text": [
            "partition 0 has higher average age\n",
            "partition 0 has higher median for age\n",
            "partition 1 has higher std for age\n",
            "partition 0 has higher average sex\n",
            "partition 0 has higher median for sex\n",
            "partition 1 has higher std for sex\n",
            "partition 1 has higher average cp\n",
            "partition 1 has higher median for cp\n",
            "partition 1 has higher std for cp\n",
            "partition 0 has higher average trestbps\n",
            "partition 0 has higher median for trestbps\n",
            "partition 0 has higher std for trestbps\n",
            "partition 0 has higher average chol\n",
            "partition 0 has higher median for chol\n",
            "partition 1 has higher std for chol\n",
            "partition 0 has higher average fbs\n",
            "partition 0 has higher median for fbs\n",
            "partition 0 has higher std for fbs\n",
            "partition 1 has higher average restecg\n",
            "partition 1 has higher median for restecg\n",
            "partition 0 has higher std for restecg\n",
            "partition 1 has higher average thalach\n",
            "partition 1 has higher median for thalach\n",
            "partition 0 has higher std for thalach\n",
            "partition 0 has higher average exang\n",
            "partition 0 has higher median for exang\n",
            "partition 0 has higher std for exang\n",
            "partition 0 has higher average oldpeak\n",
            "partition 0 has higher median for oldpeak\n",
            "partition 0 has higher std for oldpeak\n",
            "partition 1 has higher average slope\n",
            "partition 1 has higher median for slope\n",
            "partition 1 has higher std for slope\n",
            "partition 0 has higher average ca\n",
            "partition 0 has higher median for ca\n",
            "partition 0 has higher std for ca\n",
            "partition 0 has higher average thal\n",
            "partition 0 has higher median for thal\n",
            "partition 0 has higher std for thal\n",
            "partition 1 has higher average target\n",
            "partition 1 has higher median for target\n",
            "partition 0 has higher std for target\n",
            "\n"
          ],
          "name": "stdout"
        }
      ]
    },
    {
      "cell_type": "code",
      "metadata": {
        "id": "xvGKbKoByuLC",
        "outputId": "f085bed6-3347-43e6-a92b-90cd91fcf711"
      },
      "source": [
        "for tmp in df.columns:\n",
        "    if(d1.mean()[tmp] > df.mean()[tmp]):\n",
        "        print(\"partition 1 has higher average\", tmp)\n",
        "    else:\n",
        "        print(\"The whole dataset has higher average\", tmp)\n",
        "    if (d1.median()[tmp] > df.median()[tmp]):\n",
        "        print(\"partition 1 has higher median for\", tmp)\n",
        "    else:\n",
        "        print(\"The whole dataset has higher median for\", tmp)\n",
        "    if (d1.std()[tmp] > df.std()[tmp]):\n",
        "        print(\"partition 1 has higher std for\", tmp)\n",
        "    else:\n",
        "        print(\"The whole dataset has higher std for\", tmp)\n",
        "print(\"\")"
      ],
      "execution_count": null,
      "outputs": [
        {
          "output_type": "stream",
          "text": [
            "The whole dataset has higher average age\n",
            "The whole dataset has higher median for age\n",
            "partition 1 has higher std for age\n",
            "The whole dataset has higher average sex\n",
            "The whole dataset has higher median for sex\n",
            "partition 1 has higher std for sex\n",
            "partition 1 has higher average cp\n",
            "The whole dataset has higher median for cp\n",
            "The whole dataset has higher std for cp\n",
            "The whole dataset has higher average trestbps\n",
            "The whole dataset has higher median for trestbps\n",
            "The whole dataset has higher std for trestbps\n",
            "The whole dataset has higher average chol\n",
            "The whole dataset has higher median for chol\n",
            "partition 1 has higher std for chol\n",
            "The whole dataset has higher average fbs\n",
            "The whole dataset has higher median for fbs\n",
            "The whole dataset has higher std for fbs\n",
            "partition 1 has higher average restecg\n",
            "The whole dataset has higher median for restecg\n",
            "The whole dataset has higher std for restecg\n",
            "partition 1 has higher average thalach\n",
            "partition 1 has higher median for thalach\n",
            "The whole dataset has higher std for thalach\n",
            "The whole dataset has higher average exang\n",
            "The whole dataset has higher median for exang\n",
            "The whole dataset has higher std for exang\n",
            "The whole dataset has higher average oldpeak\n",
            "The whole dataset has higher median for oldpeak\n",
            "The whole dataset has higher std for oldpeak\n",
            "partition 1 has higher average slope\n",
            "partition 1 has higher median for slope\n",
            "The whole dataset has higher std for slope\n",
            "The whole dataset has higher average ca\n",
            "The whole dataset has higher median for ca\n",
            "The whole dataset has higher std for ca\n",
            "The whole dataset has higher average thal\n",
            "The whole dataset has higher median for thal\n",
            "The whole dataset has higher std for thal\n",
            "partition 1 has higher average target\n",
            "The whole dataset has higher median for target\n",
            "The whole dataset has higher std for target\n",
            "\n"
          ],
          "name": "stdout"
        }
      ]
    },
    {
      "cell_type": "code",
      "metadata": {
        "id": "1Y05a8H8yuLC",
        "outputId": "3d4ca1a3-29a0-4082-eda4-0dc067973c8c"
      },
      "source": [
        "for tmp in df.columns:\n",
        "    if(d0.mean()[tmp] > df.mean()[tmp]):\n",
        "        print(\"partition 1 has higher average\", tmp)\n",
        "    else:\n",
        "        print(\"The whole dataset has higher average\", tmp)\n",
        "    if (d0.median()[tmp] > df.median()[tmp]):\n",
        "        print(\"partition 1 has higher median for\", tmp)\n",
        "    else:\n",
        "        print(\"The whole dataset has higher median for\", tmp)\n",
        "    if (d0.std()[tmp] > df.std()[tmp]):\n",
        "        print(\"partition 1 has higher std for\", tmp)\n",
        "    else:\n",
        "        print(\"The whole dataset has higher std for\", tmp)\n",
        "print(\"\")"
      ],
      "execution_count": null,
      "outputs": [
        {
          "output_type": "stream",
          "text": [
            "partition 1 has higher average age\n",
            "partition 1 has higher median for age\n",
            "The whole dataset has higher std for age\n",
            "partition 1 has higher average sex\n",
            "The whole dataset has higher median for sex\n",
            "The whole dataset has higher std for sex\n",
            "The whole dataset has higher average cp\n",
            "The whole dataset has higher median for cp\n",
            "The whole dataset has higher std for cp\n",
            "partition 1 has higher average trestbps\n",
            "The whole dataset has higher median for trestbps\n",
            "partition 1 has higher std for trestbps\n",
            "partition 1 has higher average chol\n",
            "partition 1 has higher median for chol\n",
            "The whole dataset has higher std for chol\n",
            "partition 1 has higher average fbs\n",
            "The whole dataset has higher median for fbs\n",
            "partition 1 has higher std for fbs\n",
            "The whole dataset has higher average restecg\n",
            "The whole dataset has higher median for restecg\n",
            "partition 1 has higher std for restecg\n",
            "The whole dataset has higher average thalach\n",
            "The whole dataset has higher median for thalach\n",
            "The whole dataset has higher std for thalach\n",
            "partition 1 has higher average exang\n",
            "partition 1 has higher median for exang\n",
            "partition 1 has higher std for exang\n",
            "partition 1 has higher average oldpeak\n",
            "partition 1 has higher median for oldpeak\n",
            "partition 1 has higher std for oldpeak\n",
            "The whole dataset has higher average slope\n",
            "The whole dataset has higher median for slope\n",
            "The whole dataset has higher std for slope\n",
            "partition 1 has higher average ca\n",
            "partition 1 has higher median for ca\n",
            "partition 1 has higher std for ca\n",
            "partition 1 has higher average thal\n",
            "partition 1 has higher median for thal\n",
            "partition 1 has higher std for thal\n",
            "The whole dataset has higher average target\n",
            "The whole dataset has higher median for target\n",
            "The whole dataset has higher std for target\n",
            "\n"
          ],
          "name": "stdout"
        }
      ]
    },
    {
      "cell_type": "markdown",
      "metadata": {
        "id": "Kcq6hI_hyuLI"
      },
      "source": [
        "## 8. Construct a line plots using the plot style ‘ggplot’"
      ]
    },
    {
      "cell_type": "markdown",
      "metadata": {
        "id": "MGSi-s5uyuLI"
      },
      "source": [
        "### 9. Use appropriate X axis, y axis labels, title, and Legend (bottom right) for the graph generated"
      ]
    },
    {
      "cell_type": "markdown",
      "metadata": {
        "id": "tSpxyx_SyuLI"
      },
      "source": [
        "### 10. Give your inferences from plots constructed in step-8"
      ]
    },
    {
      "cell_type": "code",
      "metadata": {
        "id": "fDfDo6S3yuLJ"
      },
      "source": [
        "import seaborn as sns"
      ],
      "execution_count": null,
      "outputs": []
    },
    {
      "cell_type": "code",
      "metadata": {
        "id": "UdmCvooAyuLK"
      },
      "source": [
        "plt.style.use('ggplot')"
      ],
      "execution_count": null,
      "outputs": []
    },
    {
      "cell_type": "markdown",
      "metadata": {
        "id": "EaJje0e8yuLK"
      },
      "source": [
        "### Attribute definition to help infer from the plots \n",
        "\n",
        "Chest-pain type: displays the type of chest-pain experienced by the individual using the following format :\n",
        "1 = typical angina\n",
        "2 = atypical angina\n",
        "3 = non — anginal pain\n",
        "4 = asymptotic\n",
        "\n",
        "Age: displays the age of the individual.\n",
        "\n",
        "Serum Cholestrol: displays the serum cholesterol in mg/dl (unit)\n",
        "\n",
        "Thal : displays the thalassemia :\n",
        "1 = normal\n",
        "2 = fixed defect\n",
        "3 = reversible defect\n",
        "\n",
        "Sex: displays the gender of the individual using the following format :\n",
        "1 = male\n",
        "0 = female"
      ]
    },
    {
      "cell_type": "markdown",
      "metadata": {
        "id": "qtVjxArTyuLK"
      },
      "source": [
        "#### Age vs CP"
      ]
    },
    {
      "cell_type": "code",
      "metadata": {
        "id": "tGkVf3nUyuLK",
        "outputId": "764f1111-eb47-48d9-d5aa-257594651d66"
      },
      "source": [
        "#plt.figure(figsize = (20,6))\n",
        "sns.barplot(x=df.cp, y=df.age,data=df, hue = df['target'])\n",
        "plt.title(\"Age vs Chest Pain\")\n",
        "plt.legend(loc =\"lower right\")\n",
        "plt.show()"
      ],
      "execution_count": null,
      "outputs": [
        {
          "output_type": "display_data",
          "data": {
            "image/png": "[encoded data removed]",
            "text/plain": [
              "<Figure size 432x288 with 1 Axes>"
            ]
          },
          "metadata": {
            "tags": []
          }
        }
      ]
    },
    {
      "cell_type": "markdown",
      "metadata": {
        "id": "tsdo8_DvyuLK"
      },
      "source": [
        "### For chest pain types 0,1 and 2 heart disease diagnosed patients are younger while for chest pain type 3 diagnosed patients are older."
      ]
    },
    {
      "cell_type": "markdown",
      "metadata": {
        "id": "QKVoJgeFyuLK"
      },
      "source": [
        "#### CP vs chol"
      ]
    },
    {
      "cell_type": "code",
      "metadata": {
        "id": "QfZ5tdUFyuLK",
        "outputId": "df4482e0-f7f6-4764-90ef-c34bd9f63361"
      },
      "source": [
        "sns.barplot(x=df.cp, y=df.chol,data=df, hue = df['target'])\n",
        "plt.title(\"Chest pain vs cholestrol\")\n",
        "plt.legend(loc =\"lower right\")\n",
        "plt.show()"
      ],
      "execution_count": null,
      "outputs": [
        {
          "output_type": "display_data",
          "data": {
            "image/png": "[encoded data removed]",
            "text/plain": [
              "<Figure size 432x288 with 1 Axes>"
            ]
          },
          "metadata": {
            "tags": []
          }
        }
      ]
    },
    {
      "cell_type": "markdown",
      "metadata": {
        "id": "pqaA36V4yuLK"
      },
      "source": [
        "### For chest pain types 0,1 and 3 diagnosed patients have lesser cholestrol while for chest pain type 2 cholestrol is higher for diagnosed patients."
      ]
    },
    {
      "cell_type": "markdown",
      "metadata": {
        "id": "tgwRbkQayuLK"
      },
      "source": [
        "#### Age vs thal"
      ]
    },
    {
      "cell_type": "code",
      "metadata": {
        "id": "VqqAOaUFyuLL",
        "outputId": "014f2a5b-17f2-4ecc-b6c9-3ef8c8f376ff"
      },
      "source": [
        "#plt.figure(figsize = (20,6))\n",
        "sns.barplot(y=df.age, x=df.thal,data=df,hue = df['target'])\n",
        "plt.title(\"Age vs thalassaemia\")\n",
        "plt.legend(loc =\"lower right\")\n",
        "plt.show()"
      ],
      "execution_count": null,
      "outputs": [
        {
          "output_type": "display_data",
          "data": {
            "image/png": "[encoded data removed]",
            "text/plain": [
              "<Figure size 432x288 with 1 Axes>"
            ]
          },
          "metadata": {
            "tags": []
          }
        }
      ]
    },
    {
      "cell_type": "markdown",
      "metadata": {
        "id": "RcoeFmiEyuLM"
      },
      "source": [
        "### Here, we can infer that\n",
        "#### thal type 0 occurs at avg age of 52 for both diagnosed and undiagnosed patients\n",
        "#### thal type 1 occurs at avg age of 55 for both diagnosed and undiagnosed patients, with a higher variance of maximum on diagnosed patients.\n",
        "#### thal type 2 occurs at avg age of 50-60 for both diagnosed and undiagnosed patients where undiagnosed patients have an highest avg age of 60.\n",
        "#### thal type 3 occurs at avg age of 55 for both diagnosed and undiagnosed patients where it is almost equal."
      ]
    },
    {
      "cell_type": "markdown",
      "metadata": {
        "id": "Dw6JPAWnyuLM"
      },
      "source": [
        "#### Sex vs CP"
      ]
    },
    {
      "cell_type": "code",
      "metadata": {
        "id": "0NlImDPnyuLM",
        "outputId": "a0f81ffe-c044-4566-b088-fe7be2489995"
      },
      "source": [
        "sns.barplot(x=df.sex, y=df.cp,data=df,hue = df['target'])\n",
        "plt.title(\"Sex vs Chest pain\")\n",
        "plt.legend(loc =\"lower right\")\n",
        "plt.show()"
      ],
      "execution_count": null,
      "outputs": [
        {
          "output_type": "display_data",
          "data": {
            "image/png": "[encoded data removed]",
            "text/plain": [
              "<Figure size 432x288 with 1 Axes>"
            ]
          },
          "metadata": {
            "tags": []
          }
        }
      ]
    },
    {
      "cell_type": "markdown",
      "metadata": {
        "id": "1sqJq9ynyuLM"
      },
      "source": [
        "### Diagnosed males and females have cp type 1 and higher, which is increasing levels of angina. Undiagnosed males and females mostly have cp type 0, which is asymptomatic"
      ]
    },
    {
      "cell_type": "code",
      "metadata": {
        "id": "KmqG9VYfyuLM"
      },
      "source": [
        ""
      ],
      "execution_count": null,
      "outputs": []
    }
  ]
}