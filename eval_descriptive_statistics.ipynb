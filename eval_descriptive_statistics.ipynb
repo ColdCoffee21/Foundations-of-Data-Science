{
  "nbformat": 4,
  "nbformat_minor": 0,
  "metadata": {
    "colab": {
      "name": "eval -descriptive_statistics.ipynb",
      "provenance": [],
      "collapsed_sections": [],
      "include_colab_link": true
    },
    "kernelspec": {
      "display_name": "Python 3",
      "language": "python",
      "name": "python3"
    },
    "language_info": {
      "codemirror_mode": {
        "name": "ipython",
        "version": 3
      },
      "file_extension": ".py",
      "mimetype": "text/x-python",
      "name": "python",
      "nbconvert_exporter": "python",
      "pygments_lexer": "ipython3",
      "version": "3.7.7"
    }
  },
  "cells": [
    {
      "cell_type": "markdown",
      "metadata": {
        "id": "view-in-github",
        "colab_type": "text"
      },
      "source": [
        "<a href=\"https://colab.research.google.com/github/ColdCoffee21/Foundations-of-Data-Science/blob/master/eval_descriptive_statistics.ipynb\" target=\"_parent\"><img src=\"https://colab.research.google.com/assets/colab-badge.svg\" alt=\"Open In Colab\"/></a>"
      ]
    },
    {
      "cell_type": "markdown",
      "metadata": {
        "id": "OPt4O_lBhYFP"
      },
      "source": [
        "# 0. Import the data"
      ]
    },
    {
      "cell_type": "code",
      "metadata": {
        "id": "MKq3bMIp5hZk"
      },
      "source": [
        "data={'Refinery Location':['Baytown','Baton Rouge','Texas City','Lake Charles','Whiting','Beaumont','Philadelphia','Pascagoula','Deer Park','Wood River','Port Arthur'],'Company':['Texas ExxonMobil','Louisiana ExxonMobil','Texas BP','Louisiana Citgo','Indiana BP','Texas ExxonMobil','Pennsylvania Sunoco','Mississippi Chevron','Texas partnership','Illinois WRB','Texas Premcor'],'Capacity':['567,000','503,000','467,720','429,500','410,000','348,500','335,000','330,000','329,800','306,000','289,000']}"
      ],
      "execution_count": null,
      "outputs": []
    },
    {
      "cell_type": "code",
      "metadata": {
        "id": "NM0w6-CoZyBo"
      },
      "source": [
        "import numpy as np\n",
        "import pandas as pd\n",
        "import matplotlib as mpl\n",
        "import matplotlib.pyplot as plt\n",
        "import seaborn as sns\n",
        "%matplotlib inline"
      ],
      "execution_count": null,
      "outputs": []
    },
    {
      "cell_type": "markdown",
      "metadata": {
        "id": "Z90L6VCAYqF4"
      },
      "source": [
        "# create data frame"
      ]
    },
    {
      "cell_type": "code",
      "metadata": {
        "id": "D2f3cDwRYqF5",
        "colab": {
          "base_uri": "https://localhost:8080/",
          "height": 383
        },
        "outputId": "f67f32b0-7e56-4b2e-9adc-4f4e9ca0c873"
      },
      "source": [
        "# write your code here\n",
        "df = pd.DataFrame(data)\n",
        "df['Capacity']= df['Capacity'].str.replace(r'\\D', '').astype('float')\n",
        "df"
      ],
      "execution_count": null,
      "outputs": [
        {
          "output_type": "execute_result",
          "data": {
            "text/html": [
              "<div>\n",
              "<style scoped>\n",
              "    .dataframe tbody tr th:only-of-type {\n",
              "        vertical-align: middle;\n",
              "    }\n",
              "\n",
              "    .dataframe tbody tr th {\n",
              "        vertical-align: top;\n",
              "    }\n",
              "\n",
              "    .dataframe thead th {\n",
              "        text-align: right;\n",
              "    }\n",
              "</style>\n",
              "<table border=\"1\" class=\"dataframe\">\n",
              "  <thead>\n",
              "    <tr style=\"text-align: right;\">\n",
              "      <th></th>\n",
              "      <th>Refinery Location</th>\n",
              "      <th>Company</th>\n",
              "      <th>Capacity</th>\n",
              "    </tr>\n",
              "  </thead>\n",
              "  <tbody>\n",
              "    <tr>\n",
              "      <th>0</th>\n",
              "      <td>Baytown</td>\n",
              "      <td>Texas ExxonMobil</td>\n",
              "      <td>567000.0</td>\n",
              "    </tr>\n",
              "    <tr>\n",
              "      <th>1</th>\n",
              "      <td>Baton Rouge</td>\n",
              "      <td>Louisiana ExxonMobil</td>\n",
              "      <td>503000.0</td>\n",
              "    </tr>\n",
              "    <tr>\n",
              "      <th>2</th>\n",
              "      <td>Texas City</td>\n",
              "      <td>Texas BP</td>\n",
              "      <td>467720.0</td>\n",
              "    </tr>\n",
              "    <tr>\n",
              "      <th>3</th>\n",
              "      <td>Lake Charles</td>\n",
              "      <td>Louisiana Citgo</td>\n",
              "      <td>429500.0</td>\n",
              "    </tr>\n",
              "    <tr>\n",
              "      <th>4</th>\n",
              "      <td>Whiting</td>\n",
              "      <td>Indiana BP</td>\n",
              "      <td>410000.0</td>\n",
              "    </tr>\n",
              "    <tr>\n",
              "      <th>5</th>\n",
              "      <td>Beaumont</td>\n",
              "      <td>Texas ExxonMobil</td>\n",
              "      <td>348500.0</td>\n",
              "    </tr>\n",
              "    <tr>\n",
              "      <th>6</th>\n",
              "      <td>Philadelphia</td>\n",
              "      <td>Pennsylvania Sunoco</td>\n",
              "      <td>335000.0</td>\n",
              "    </tr>\n",
              "    <tr>\n",
              "      <th>7</th>\n",
              "      <td>Pascagoula</td>\n",
              "      <td>Mississippi Chevron</td>\n",
              "      <td>330000.0</td>\n",
              "    </tr>\n",
              "    <tr>\n",
              "      <th>8</th>\n",
              "      <td>Deer Park</td>\n",
              "      <td>Texas partnership</td>\n",
              "      <td>329800.0</td>\n",
              "    </tr>\n",
              "    <tr>\n",
              "      <th>9</th>\n",
              "      <td>Wood River</td>\n",
              "      <td>Illinois WRB</td>\n",
              "      <td>306000.0</td>\n",
              "    </tr>\n",
              "    <tr>\n",
              "      <th>10</th>\n",
              "      <td>Port Arthur</td>\n",
              "      <td>Texas Premcor</td>\n",
              "      <td>289000.0</td>\n",
              "    </tr>\n",
              "  </tbody>\n",
              "</table>\n",
              "</div>"
            ],
            "text/plain": [
              "   Refinery Location               Company  Capacity\n",
              "0            Baytown      Texas ExxonMobil  567000.0\n",
              "1        Baton Rouge  Louisiana ExxonMobil  503000.0\n",
              "2         Texas City              Texas BP  467720.0\n",
              "3       Lake Charles       Louisiana Citgo  429500.0\n",
              "4            Whiting            Indiana BP  410000.0\n",
              "5           Beaumont      Texas ExxonMobil  348500.0\n",
              "6       Philadelphia   Pennsylvania Sunoco  335000.0\n",
              "7         Pascagoula   Mississippi Chevron  330000.0\n",
              "8          Deer Park     Texas partnership  329800.0\n",
              "9         Wood River          Illinois WRB  306000.0\n",
              "10       Port Arthur         Texas Premcor  289000.0"
            ]
          },
          "metadata": {
            "tags": []
          },
          "execution_count": 16
        }
      ]
    },
    {
      "cell_type": "markdown",
      "metadata": {
        "id": "2J5LfkWfYFMG"
      },
      "source": [
        "# 1. What are the values of the mean and the median? Compare the answers and state which you prefer as a measure of location for these data and why. 1 decimal place"
      ]
    },
    {
      "cell_type": "code",
      "metadata": {
        "id": "H4WZtsYnYtvQ",
        "colab": {
          "base_uri": "https://localhost:8080/",
          "height": 34
        },
        "outputId": "9a085075-d50f-4061-c26a-0c54d7b7813e"
      },
      "source": [
        "def mean_val():\n",
        "  # write your code here\n",
        "  return df.Capacity.mean() # write your code here\n",
        "mean_val()"
      ],
      "execution_count": null,
      "outputs": [
        {
          "output_type": "execute_result",
          "data": {
            "text/plain": [
              "392320.0"
            ]
          },
          "metadata": {
            "tags": []
          },
          "execution_count": 56
        }
      ]
    },
    {
      "cell_type": "code",
      "metadata": {
        "id": "NUOU0KIYYJrc",
        "colab": {
          "base_uri": "https://localhost:8080/",
          "height": 34
        },
        "outputId": "bc9d833b-4f99-4161-ac0c-067a2726db7d"
      },
      "source": [
        "def median_val():\n",
        "    # write your code here\n",
        "    return df.Capacity.median() # write your code here\n",
        "median_val()"
      ],
      "execution_count": null,
      "outputs": [
        {
          "output_type": "execute_result",
          "data": {
            "text/plain": [
              "348500.0"
            ]
          },
          "metadata": {
            "tags": []
          },
          "execution_count": 55
        }
      ]
    },
    {
      "cell_type": "markdown",
      "metadata": {
        "id": "AOkWufd5heYU"
      },
      "source": [
        "## Why??\n",
        "Since mean and median are different, we infer that the data is skewed in nature. More specifically right skewed, therefore we prefer the median. The mean is more affected by the skewed area."
      ]
    },
    {
      "cell_type": "markdown",
      "metadata": {
        "id": "t_E7cMfrZP1N"
      },
      "source": [
        "# 2. What are the values of the range and interquartile range? How do they differ? 1 decimal place"
      ]
    },
    {
      "cell_type": "code",
      "metadata": {
        "id": "PKQj99lOZF7f",
        "colab": {
          "base_uri": "https://localhost:8080/",
          "height": 34
        },
        "outputId": "c58ce354-e5bf-41af-eae9-7e87623d7e44"
      },
      "source": [
        "def range_val():\n",
        "  # write your code here\n",
        "  return df.Capacity.max() - df.Capacity.min()\n",
        "range_val()"
      ],
      "execution_count": null,
      "outputs": [
        {
          "output_type": "execute_result",
          "data": {
            "text/plain": [
              "278000.0"
            ]
          },
          "metadata": {
            "tags": []
          },
          "execution_count": 24
        }
      ]
    },
    {
      "cell_type": "code",
      "metadata": {
        "id": "g0fpFU_mZYZ0",
        "colab": {
          "base_uri": "https://localhost:8080/",
          "height": 34
        },
        "outputId": "0fb3249c-e6c6-4b3c-9597-5b6fd9504769"
      },
      "source": [
        "\n",
        "def iqr_val():\n",
        "  # write your code here\n",
        "  return  df.Capacity.quantile(.75) - df.Capacity.quantile(.25)\n",
        "iqr_val()"
      ],
      "execution_count": null,
      "outputs": [
        {
          "output_type": "execute_result",
          "data": {
            "text/plain": [
              "118710.0"
            ]
          },
          "metadata": {
            "tags": []
          },
          "execution_count": 59
        }
      ]
    },
    {
      "cell_type": "markdown",
      "metadata": {
        "id": "aQNsuotiZ751"
      },
      "source": [
        "# 3. What are the values of variance (1 decimal place) and standard deviation(round off to 1 decimal places) for these data?"
      ]
    },
    {
      "cell_type": "code",
      "metadata": {
        "id": "S24qSzhGZeOR",
        "colab": {
          "base_uri": "https://localhost:8080/",
          "height": 34
        },
        "outputId": "080d7be4-fa8a-4104-ea20-c8e89414a13a"
      },
      "source": [
        "def std_val():\n",
        "    # write your code here\n",
        "    return round(df.Capacity.std(),1)\n",
        "std_val()"
      ],
      "execution_count": null,
      "outputs": [
        {
          "output_type": "execute_result",
          "data": {
            "text/plain": [
              "90148.6"
            ]
          },
          "metadata": {
            "tags": []
          },
          "execution_count": 44
        }
      ]
    },
    {
      "cell_type": "code",
      "metadata": {
        "id": "Yog613pmaB69",
        "colab": {
          "base_uri": "https://localhost:8080/",
          "height": 34
        },
        "outputId": "71893df9-40bb-4fb5-e6e5-5ff7804c89a4"
      },
      "source": [
        "def variance_val():\n",
        "    # write your code here\n",
        "    return round(df.Capacity.var(),1)\n",
        "variance_val()"
      ],
      "execution_count": null,
      "outputs": [
        {
          "output_type": "execute_result",
          "data": {
            "text/plain": [
              "8126773200.0"
            ]
          },
          "metadata": {
            "tags": []
          },
          "execution_count": 27
        }
      ]
    },
    {
      "cell_type": "markdown",
      "metadata": {
        "id": "Hfo_HwxzbwIw"
      },
      "source": [
        "# 4. What is the z score for Pascagoula,Mississippi? What is the z score for Texas City,Texas? Interpret these z scores. Round off to 2 decimal places"
      ]
    },
    {
      "cell_type": "code",
      "metadata": {
        "id": "MAmH7yxlaJO2",
        "colab": {
          "base_uri": "https://localhost:8080/",
          "height": 34
        },
        "outputId": "ab1e120e-04bc-4838-839e-b6ad7be657d6"
      },
      "source": [
        "def z_miss():\n",
        "  # write your code here\n",
        "  return round((df.loc[(df[\"Refinery Location\"]==\"Pascagoula\") & (df[\"Company\"]==\"Mississippi Chevron\")].Capacity-df.Capacity.mean())/df.Capacity.std(),2).values[0]\n",
        "z_miss()"
      ],
      "execution_count": null,
      "outputs": [
        {
          "output_type": "execute_result",
          "data": {
            "text/plain": [
              "-0.69"
            ]
          },
          "metadata": {
            "tags": []
          },
          "execution_count": 42
        }
      ]
    },
    {
      "cell_type": "code",
      "metadata": {
        "id": "5XuIJY-7b2Ho",
        "colab": {
          "base_uri": "https://localhost:8080/",
          "height": 34
        },
        "outputId": "897bed20-bb62-458a-b607-afcc59d5e7f1"
      },
      "source": [
        "def z_texas():\n",
        "  # write your code here\n",
        "  return round((df.loc[(df[\"Refinery Location\"]==\"Texas City\")].Capacity-df.Capacity.mean())/df.Capacity.std(),2).values[0]\n",
        "z_texas()"
      ],
      "execution_count": null,
      "outputs": [
        {
          "output_type": "execute_result",
          "data": {
            "text/plain": [
              "0.84"
            ]
          },
          "metadata": {
            "tags": []
          },
          "execution_count": 43
        }
      ]
    },
    {
      "cell_type": "markdown",
      "metadata": {
        "id": "2-PFl1qacR51"
      },
      "source": [
        "# 5. Calculate the Pearsonian coefficient of skewness and kurtosis and comment on the skewness and kurtosis of this distribution. Round off to 2 decimal places"
      ]
    },
    {
      "cell_type": "code",
      "metadata": {
        "id": "RehuBE8ScJJH",
        "colab": {
          "base_uri": "https://localhost:8080/",
          "height": 34
        },
        "outputId": "40293229-adbf-419b-b46e-c092a6a08204"
      },
      "source": [
        "def skew_val():\n",
        "    # write your code here\n",
        "    return round(df.Capacity.skew(),2) #Right, moderatley skewed\n",
        "skew_val()"
      ],
      "execution_count": null,
      "outputs": [
        {
          "output_type": "execute_result",
          "data": {
            "text/plain": [
              "0.78"
            ]
          },
          "metadata": {
            "tags": []
          },
          "execution_count": 30
        }
      ]
    },
    {
      "cell_type": "code",
      "metadata": {
        "id": "owEwgUqOgVux",
        "colab": {
          "base_uri": "https://localhost:8080/",
          "height": 34
        },
        "outputId": "6614f55c-ef4c-4f2a-a2f4-8e2336d0765b"
      },
      "source": [
        "def kurtosis_val():\n",
        "    # write your code here\n",
        "    return round(df.Capacity.kurtosis(),2) #Light tailed distribution\n",
        "kurtosis_val()"
      ],
      "execution_count": null,
      "outputs": [
        {
          "output_type": "execute_result",
          "data": {
            "text/plain": [
              "-0.48"
            ]
          },
          "metadata": {
            "tags": []
          },
          "execution_count": 31
        }
      ]
    },
    {
      "cell_type": "markdown",
      "metadata": {
        "id": "9Gc6rpnRgR5d"
      },
      "source": [
        "# 6. Assume normal distribution probabilty that the capacity is less than 330000 . Round off to 2 decimal places"
      ]
    },
    {
      "cell_type": "code",
      "metadata": {
        "id": "zcuZWSYGepO6",
        "colab": {
          "base_uri": "https://localhost:8080/",
          "height": 34
        },
        "outputId": "fff6cdec-e4bd-46cb-c8a8-a50ba2a54e79"
      },
      "source": [
        "import scipy.stats as st\n",
        "def probability_val():\n",
        "  # write your code here\n",
        "  stdev =df['Capacity'].std()\n",
        "  mn =df['Capacity'].mean()\n",
        "  z =(330000-mn)/stdev\n",
        "  return round(st.norm.cdf(z),2)# write your code here\n",
        "probability_val()"
      ],
      "execution_count": null,
      "outputs": [
        {
          "output_type": "execute_result",
          "data": {
            "text/plain": [
              "0.24"
            ]
          },
          "metadata": {
            "tags": []
          },
          "execution_count": 41
        }
      ]
    },
    {
      "cell_type": "markdown",
      "metadata": {
        "id": "3ltdFTEQmE2z"
      },
      "source": [
        "\n",
        "---\n",
        "\n",
        "# Times to travel to school (Question 7 to 10)\n",
        "Twenty students from a statistics class each collected a random sample of times on how long it took students to get to class from their homes. All the sample sizes were 30. The resulting means and standard deviations are listed.\n",
        "\n",
        "```\n",
        "means = [22, 31, 18, 27, 20, 17, 26, 34, 23, 29, 27, 24, 14, 29, 37, 23, 26, 21, 30, 29]\n",
        "stdevs = [3.7, 4.6, 2.4, 1.9, 3, 2.8, 1.9, 4.2, 2.6, 2.1, 1.4, 2.2, 3.1, 2.4, 2.8, 2.7, 1.8, 2, 2.2, 2.8]\n",
        "```"
      ]
    },
    {
      "cell_type": "markdown",
      "metadata": {
        "id": "EdAUUg-1awTq"
      },
      "source": [
        "# Using the above information, construct a dataframe named 'tt' in the code block below. Apart from the row index, the dataframe should have two columns namely 'means' and 'stdevs'. Also, use this dataframe to answer the following questions.\n"
      ]
    },
    {
      "cell_type": "code",
      "metadata": {
        "id": "v1F3YiV3jV69",
        "colab": {
          "base_uri": "https://localhost:8080/",
          "height": 657
        },
        "outputId": "a098e488-a2bf-41bc-e6d4-dcccaca6cef9"
      },
      "source": [
        "# write your code here\n",
        "data2 = {'means':  [22, 31, 18, 27, 20, 17, 26, 34, 23, 29, 27, 24, 14, 29, 37, 23, 26, 21, 30, 29],\n",
        "        'stdevs': [3.7, 4.6, 2.4, 1.9, 3, 2.8, 1.9, 4.2, 2.6, 2.1, 1.4, 2.2, 3.1, 2.4, 2.8, 2.7, 1.8, 2, 2.2, 2.8] }\n",
        "tt = pd.DataFrame(data2, columns = ['means', 'stdevs'])\n",
        "tt"
      ],
      "execution_count": null,
      "outputs": [
        {
          "output_type": "execute_result",
          "data": {
            "text/html": [
              "<div>\n",
              "<style scoped>\n",
              "    .dataframe tbody tr th:only-of-type {\n",
              "        vertical-align: middle;\n",
              "    }\n",
              "\n",
              "    .dataframe tbody tr th {\n",
              "        vertical-align: top;\n",
              "    }\n",
              "\n",
              "    .dataframe thead th {\n",
              "        text-align: right;\n",
              "    }\n",
              "</style>\n",
              "<table border=\"1\" class=\"dataframe\">\n",
              "  <thead>\n",
              "    <tr style=\"text-align: right;\">\n",
              "      <th></th>\n",
              "      <th>means</th>\n",
              "      <th>stdevs</th>\n",
              "    </tr>\n",
              "  </thead>\n",
              "  <tbody>\n",
              "    <tr>\n",
              "      <th>0</th>\n",
              "      <td>22</td>\n",
              "      <td>3.7</td>\n",
              "    </tr>\n",
              "    <tr>\n",
              "      <th>1</th>\n",
              "      <td>31</td>\n",
              "      <td>4.6</td>\n",
              "    </tr>\n",
              "    <tr>\n",
              "      <th>2</th>\n",
              "      <td>18</td>\n",
              "      <td>2.4</td>\n",
              "    </tr>\n",
              "    <tr>\n",
              "      <th>3</th>\n",
              "      <td>27</td>\n",
              "      <td>1.9</td>\n",
              "    </tr>\n",
              "    <tr>\n",
              "      <th>4</th>\n",
              "      <td>20</td>\n",
              "      <td>3.0</td>\n",
              "    </tr>\n",
              "    <tr>\n",
              "      <th>5</th>\n",
              "      <td>17</td>\n",
              "      <td>2.8</td>\n",
              "    </tr>\n",
              "    <tr>\n",
              "      <th>6</th>\n",
              "      <td>26</td>\n",
              "      <td>1.9</td>\n",
              "    </tr>\n",
              "    <tr>\n",
              "      <th>7</th>\n",
              "      <td>34</td>\n",
              "      <td>4.2</td>\n",
              "    </tr>\n",
              "    <tr>\n",
              "      <th>8</th>\n",
              "      <td>23</td>\n",
              "      <td>2.6</td>\n",
              "    </tr>\n",
              "    <tr>\n",
              "      <th>9</th>\n",
              "      <td>29</td>\n",
              "      <td>2.1</td>\n",
              "    </tr>\n",
              "    <tr>\n",
              "      <th>10</th>\n",
              "      <td>27</td>\n",
              "      <td>1.4</td>\n",
              "    </tr>\n",
              "    <tr>\n",
              "      <th>11</th>\n",
              "      <td>24</td>\n",
              "      <td>2.2</td>\n",
              "    </tr>\n",
              "    <tr>\n",
              "      <th>12</th>\n",
              "      <td>14</td>\n",
              "      <td>3.1</td>\n",
              "    </tr>\n",
              "    <tr>\n",
              "      <th>13</th>\n",
              "      <td>29</td>\n",
              "      <td>2.4</td>\n",
              "    </tr>\n",
              "    <tr>\n",
              "      <th>14</th>\n",
              "      <td>37</td>\n",
              "      <td>2.8</td>\n",
              "    </tr>\n",
              "    <tr>\n",
              "      <th>15</th>\n",
              "      <td>23</td>\n",
              "      <td>2.7</td>\n",
              "    </tr>\n",
              "    <tr>\n",
              "      <th>16</th>\n",
              "      <td>26</td>\n",
              "      <td>1.8</td>\n",
              "    </tr>\n",
              "    <tr>\n",
              "      <th>17</th>\n",
              "      <td>21</td>\n",
              "      <td>2.0</td>\n",
              "    </tr>\n",
              "    <tr>\n",
              "      <th>18</th>\n",
              "      <td>30</td>\n",
              "      <td>2.2</td>\n",
              "    </tr>\n",
              "    <tr>\n",
              "      <th>19</th>\n",
              "      <td>29</td>\n",
              "      <td>2.8</td>\n",
              "    </tr>\n",
              "  </tbody>\n",
              "</table>\n",
              "</div>"
            ],
            "text/plain": [
              "    means  stdevs\n",
              "0      22     3.7\n",
              "1      31     4.6\n",
              "2      18     2.4\n",
              "3      27     1.9\n",
              "4      20     3.0\n",
              "5      17     2.8\n",
              "6      26     1.9\n",
              "7      34     4.2\n",
              "8      23     2.6\n",
              "9      29     2.1\n",
              "10     27     1.4\n",
              "11     24     2.2\n",
              "12     14     3.1\n",
              "13     29     2.4\n",
              "14     37     2.8\n",
              "15     23     2.7\n",
              "16     26     1.8\n",
              "17     21     2.0\n",
              "18     30     2.2\n",
              "19     29     2.8"
            ]
          },
          "metadata": {
            "tags": []
          },
          "execution_count": 45
        }
      ]
    },
    {
      "cell_type": "markdown",
      "metadata": {
        "id": "fAqMqV4cd4W6"
      },
      "source": [
        "# 7. From the values in the dataframe, use pandas functions to print a good estimate for the population mean and standard deviation. Display as a tuple\n"
      ]
    },
    {
      "cell_type": "code",
      "metadata": {
        "id": "HTxxKdyLirpi",
        "colab": {
          "base_uri": "https://localhost:8080/",
          "height": 34
        },
        "outputId": "ad9b4706-0de2-4498-8657-111003971ac1"
      },
      "source": [
        "def estimate_mean_std():\n",
        "    # write your code here\n",
        "    return (round(tt.means.mean(),2), round(tt.stdevs.mean()* np.sqrt(len(tt)),2))\n",
        "estimate_mean_std()"
      ],
      "execution_count": null,
      "outputs": [
        {
          "output_type": "execute_result",
          "data": {
            "text/plain": [
              "(25.35, 11.76)"
            ]
          },
          "metadata": {
            "tags": []
          },
          "execution_count": 46
        }
      ]
    },
    {
      "cell_type": "markdown",
      "metadata": {
        "id": "iZIIRfOBiucS"
      },
      "source": [
        "# 8. Calculate the mean and standard deviation of the means.  Display as a tuple. 2 decimal places\n"
      ]
    },
    {
      "cell_type": "code",
      "metadata": {
        "id": "XNRwm9M0zraG",
        "colab": {
          "base_uri": "https://localhost:8080/",
          "height": 34
        },
        "outputId": "1405244e-42bc-488c-d67e-65738800e650"
      },
      "source": [
        "def mean_stdev():\n",
        "    # write your code here\n",
        "    return (round(tt['means'].mean(),2),round(tt['means'].std(),2))\n",
        "mean_stdev()"
      ],
      "execution_count": null,
      "outputs": [
        {
          "output_type": "execute_result",
          "data": {
            "text/plain": [
              "(25.35, 5.78)"
            ]
          },
          "metadata": {
            "tags": []
          },
          "execution_count": 47
        }
      ]
    },
    {
      "cell_type": "markdown",
      "metadata": {
        "id": "z7fnBRE4zr-t"
      },
      "source": [
        "# 9. Check the sampling error for students 3, 7, and 14 (Indices 2, 6 and 13).  Display as a tuple"
      ]
    },
    {
      "cell_type": "code",
      "metadata": {
        "id": "ahhinaWG09bh",
        "colab": {
          "base_uri": "https://localhost:8080/",
          "height": 34
        },
        "outputId": "415f41d5-6c00-4cbc-a9c6-386013478a17"
      },
      "source": [
        "def error_val():\n",
        "    mean=tt['means'].values\n",
        "    m=tt['means'].mean()\n",
        "    return (round((mean[2]-m)/m,2),round((mean[6]-m)/m,2),round((mean[13]-m)/m,2))\n",
        "error_val()"
      ],
      "execution_count": null,
      "outputs": [
        {
          "output_type": "execute_result",
          "data": {
            "text/plain": [
              "(-0.29, 0.03, 0.14)"
            ]
          },
          "metadata": {
            "tags": []
          },
          "execution_count": 60
        }
      ]
    },
    {
      "cell_type": "markdown",
      "metadata": {
        "id": "L30dA40g2MhM"
      },
      "source": [
        "# 10. Compare the standard deviation of the sample of the 20 means. Is that equal to the standard deviation from student 3 divided by the square root of the sample size? How about for student 7, or 14? (Indices 2, 6 and 13). Print \"True\" or \"False\" boolean value for comparison done for each student.  Display as a tuple\n"
      ]
    },
    {
      "cell_type": "code",
      "metadata": {
        "id": "AtKpc8Sx2kMp",
        "colab": {
          "base_uri": "https://localhost:8080/",
          "height": 34
        },
        "outputId": "a95c6899-3b04-481e-9bc9-07ec380d798a"
      },
      "source": [
        "import math\n",
        "def compare_val():\n",
        "    std=tt['means'].std()\n",
        "    std1=tt['means'][2]/math.sqrt(20)\n",
        "    std2=tt['means'][6]/math.sqrt(20)\n",
        "    std3=tt['means'][13]/math.sqrt(20)\n",
        "    er1=std-std1\n",
        "    if(er1==0):\n",
        "        er1=True\n",
        "    else:\n",
        "        er1=False\n",
        "    er2=std-std2\n",
        "    if(er2==0):\n",
        "        er2=True\n",
        "    else:\n",
        "        er2=False\n",
        "    er3=std-std3\n",
        "    if(er3==0):\n",
        "        er3=True\n",
        "    else:\n",
        "        er3=False\n",
        "    return (er1,er2,er3)\n",
        "compare_val()"
      ],
      "execution_count": null,
      "outputs": [
        {
          "output_type": "execute_result",
          "data": {
            "text/plain": [
              "(False, False, False)"
            ]
          },
          "metadata": {
            "tags": []
          },
          "execution_count": 48
        }
      ]
    },
    {
      "cell_type": "code",
      "metadata": {
        "id": "2zU_vW28YqHy"
      },
      "source": [
        ""
      ],
      "execution_count": null,
      "outputs": []
    }
  ]
}